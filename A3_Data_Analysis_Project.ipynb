{
  "nbformat": 4,
  "nbformat_minor": 0,
  "metadata": {
    "colab": {
      "name": "A3_Data_Analysis_Project.ipynb",
      "provenance": [],
      "collapsed_sections": [
        "JNY9mbJ4kNPM",
        "8M518cD-kNPQ",
        "OxgCukNXkNPR",
        "urx4WEyvkNPU",
        "pEsk08fUkNPV",
        "pVnJ1UGLkNPY",
        "oI-yq6ARkNPZ"
      ],
      "include_colab_link": true
    },
    "kernelspec": {
      "display_name": "Python 3",
      "language": "python",
      "name": "python3"
    },
    "language_info": {
      "codemirror_mode": {
        "name": "ipython",
        "version": 3
      },
      "file_extension": ".py",
      "mimetype": "text/x-python",
      "name": "python",
      "nbconvert_exporter": "python",
      "pygments_lexer": "ipython3",
      "version": "3.7.8"
    }
  },
  "cells": [
    {
      "cell_type": "markdown",
      "metadata": {
        "id": "view-in-github",
        "colab_type": "text"
      },
      "source": [
        "<a href=\"https://colab.research.google.com/github/buthaina279/P4DS/blob/main/A3_Data_Analysis_Project.ipynb\" target=\"_parent\"><img src=\"https://colab.research.google.com/assets/colab-badge.svg\" alt=\"Open In Colab\"/></a>"
      ]
    },
    {
      "cell_type": "markdown",
      "metadata": {
        "id": "zwn_eG62kNO3"
      },
      "source": [
        "## P4DS: Assignment 3 (Autumn 2020)\n",
        "\n",
        "# Data Analysis Project\n",
        "\n",
        "#### Notebook template design: Brandon Bennett (2020/11/3)\n",
        "\n",
        "# _Project Title_\n",
        "\n",
        "\n",
        "### Project participants:\n",
        "\n",
        "* A. Student (astudent@leeds.ac.uk)\n",
        "* B. Student (bstudent@leeds.ac.uk)\n",
        "* C. Student (cstudent@leeds.ac.uk)"
      ]
    },
    {
      "cell_type": "markdown",
      "metadata": {
        "id": "7sDbgy2VkNO-"
      },
      "source": [
        "# Project Requirements\n",
        "_PLEASE DELETE THIS WHOLE CELL BEFORE SUBMITTING YOUR PROJECT_\n",
        "\n",
        "The purpose of this assignment is to develop your skills\n",
        "in organising and presenting a Data Science project.\n",
        "\n",
        "Since, most of the marks will be awarded for organisation\n",
        "and presentation, it is suggested that you do not initially attempt\n",
        "anything too complicated. However, once you have managed\n",
        "to get a basic pipeline working that fits the guidelines, \n",
        "you are encouraged to extend and elaborate your analysis.\n",
        "\n",
        "Your project should entirely contained within this template file.\n",
        "You should keep the basic structure indicated below. To facilitate\n",
        "grading according to the marking scheme.\n",
        "\n",
        "You _may_ import any module that is provided with Anaconda3 Python.\n",
        "\n",
        "\n",
        "### Marking Scheme\n",
        "\n",
        "The marking scheme  is as follows:\n",
        "\n",
        "* Project Plan:\n",
        "    * Description of data to be used (10)\n",
        "    * Overview of Project Aims  (5)\n",
        "    * Design  (5)\n",
        "    \n",
        "* Program Code: (15)<br>\n",
        "    Code should be laid out in steps with explanations\n",
        "    and intemediate output with comments. \n",
        "    You should ensure that the steps do not require\n",
        "    a large amout of processing time.\n",
        "\n",
        "* Project Outcome:\n",
        "    * Explanation of Results (10)<br>\n",
        "        This should include a qualitative describtion\n",
        "        of the results as well as key figures and tables\n",
        "        of results.\n",
        "    * Results visualisation (10)<br>\n",
        "        This should be graphical representations of the\n",
        "        results with brief explanations (ordinary tables will be\n",
        "        graded as part of the explanation of results)\n",
        "    * Conclusion (5)\n",
        "\n",
        "### Data Resources\n",
        "\n",
        "You can use any data you like. Many useful resources are available.\n",
        "As a starting point you could look at the following:\n",
        "\n",
        "* [scikit-learn](https://scikit-learn.org/stable/tutorial/basic/tutorial.html)\n",
        "\n",
        "* [sklearn.datasets](https://scikit-learn.org/stable/datasets/#general-dataset-api)\n",
        "\n",
        "* [Kaggle](https://www.kaggle.com/)\n",
        "\n",
        "### Using this Notebook Template\n",
        "Please use this notebook as a template for your project file.\n",
        "In the following cells of the notebook, _italic text_ giving explanations\n",
        "and examples should be either deleted, or, in most cases, replaced by appropriate text describing your project. \n",
        "Text that is not in italic (which is mostly headings) should\n",
        "be left as it is. __Your project report notebook should the same overall\n",
        "structure as this templete notebook.__\n",
        "An exception to this is the current markup cell describing the project\n",
        "requiements. You should delete this before submitting your notebook."
      ]
    },
    {
      "cell_type": "markdown",
      "metadata": {
        "id": "A-y90VdXkNPB"
      },
      "source": [
        "# Project Plan\n",
        "\n",
        "## The Data (10 marks)\n",
        "The dataset used in this project is: Airline Passenger Satisfaction\n",
        "https://www.kaggle.com/teejmahal20/airline-passenger-satisfaction\n",
        "\n",
        "The dataset contains an airline passenger satisfaction survey. The dataset has 6 feature columns containing personal information about each customer ( ID , gender , age , customer type , type of travel, class ), while there are other three ones containing information about each flight ( Departure Delay in Minutes , Arrival Delay in Minutes, Flight distance).\n",
        "\n",
        "The rest of columns are feature columns containing survey entries where customers rated thier experience in their flight based on a scale of 1 to 5, except the column \"satisfaction\" which is a binary target column and has only two values, the customer is either satisfied or dissatisfied or neutral.\n",
        "\n",
        "###Number of surveys:\n",
        "\n",
        "* in the data for training: 103904\n",
        "\n",
        "* in the data for testing: 25975\n",
        "\n",
        "###Number of attributes : \n",
        "the dataset has 24 attributes\n",
        "\n",
        "Discription of the attributes:\n",
        "\n",
        "1 - Gender: Gender of the passengers (Female, Male)\n",
        "\n",
        "2 - Customer Type: The customer type (Loyal customer, disloyal customer)\n",
        "\n",
        "3 - Age: The actual age of the passengers\n",
        "\n",
        "4 - Type of Travel: Purpose of the flight of the passengers (Personal Travel, Business Travel)\n",
        "\n",
        "5 - Class: Travel class in the plane of the passengers (Business, Eco, Eco Plus)\n",
        "\n",
        "6 - Flight distance: The flight distance of this journey\n",
        "\n",
        "7 - Inflight wifi service: Satisfaction level of the inflight wifi service (0:Not Applicable;1-5)\n",
        "\n",
        "8 - Departure/Arrival time convenient: Satisfaction level of Departure/Arrival time convenient\n",
        "\n",
        "9 - Ease of Online booking: Satisfaction level of online booking\n",
        "\n",
        "10 - Gate location: Satisfaction level of Gate location\n",
        "\n",
        "11 - Food and drink: Satisfaction level of Food and drink\n",
        "\n",
        "12 - Online boarding: Satisfaction level of online boarding\n",
        "\n",
        "13 - Seat comfort: Satisfaction level of Seat comfort\n",
        "\n",
        "14 - Inflight entertainment: Satisfaction level of inflight entertainment\n",
        "\n",
        "15 - On-board service: Satisfaction level of On-board service\n",
        "\n",
        "16 - Leg room service: Satisfaction level of Leg room service\n",
        "\n",
        "17 - Baggage handling: Satisfaction level of baggage handling\n",
        "\n",
        "18 - Check-in service: Satisfaction level of Check-in service\n",
        "\n",
        "19 - Inflight service: Satisfaction level of inflight service\n",
        "\n",
        "20 - Cleanliness: Satisfaction level of Cleanliness\n",
        "\n",
        "21 - Departure Delay in Minutes: Minutes delayed when departure\n",
        "\n",
        "22 - Arrival Delay in Minutes: Minutes delayed when Arrival\n",
        "\n",
        "23 - Satisfaction: Airline satisfaction level(Satisfaction, neutral or dissatisfaction)\n",
        "\n",
        "24 - Database ID of each passenger\n",
        "\n",
        "\n",
        "_Here you should describe the data indluding details of:\n",
        "where it comes from, what data it contains, is it accurate._\n",
        "\n",
        "_It can be just one dataset or several that can be combined\n",
        "somehow._\n",
        "\n",
        "_There are 10 marks for this, so a fairly detailed description\n",
        "of the data is expected (around 300-400 words)_\n",
        "\n",
        "\n",
        "\n",
        "## Project Aim and Objectives (5 marks)\n",
        "\n",
        "_Here you should describe the general aim of your project in\n",
        "around 200-300 words._\n",
        "\n",
        "_This can can be anything from classifying items according to\n",
        "their characteristic features (which mushrooms are poisonous?) \n",
        "to simulating an evolving process (will the rabbits eat all\n",
        "the carrots or get eaten by the foxes?)_\n",
        "\n",
        "_Here some ideas of general types of processing functionality\n",
        "that you could implement:_\n",
        "\n",
        "* _Classification: separate data items into classes according\n",
        "  to their charactersitics (can be either a definite or a\n",
        "  statistical kind of classification)_\n",
        "* _Corellation: find correspondences between different attributes within\n",
        "  a dataset_\n",
        "* _Search: find solutions matching some criteria_\n",
        "* _Visualisation: find informative ways to\n",
        "  display the structure of a large and/or complex dataset_\n",
        "* _Query Answering: create a system that enables one to retrieve information by evaluating some form of query representation_\n",
        "* _Simulation: model the evolution of a complex process_\n",
        "\n",
        "### Specific Objective(s)\n",
        "\n",
        "_You should chose and list __up to 3__ specific objectives. \n",
        "There should be <b>at least one\n",
        "per person doing the project</b>. There is no need\n",
        "for  the objectives them to be completely different. \n",
        "They could be different\n",
        "stages of the processing requirements, or different processing\n",
        "functions that the system  provides. Or just\n",
        "different aspects of data analysis that will be conducted.\n",
        "Typically, it is expected that there would be one objective\n",
        "per person, but you may do more._\n",
        "\n",
        "* __Objective 1:__ Explore the datasets and investigate how the other features could influence the rank of passengers’ satisfaction.\n",
        "* __Objective 2:__ Clean and prepare the datasets to obtain better accuracy.\n",
        "* __Objective 3:__ Predict and classify the “Satisfaction” variable using the K-NN algorithm.\n",
        "\n",
        "## System Design (5 marks)\n",
        "\n",
        "_Describe your code in terms of the\n",
        "following two sections._\n",
        "\n",
        "### Architecture\n",
        "The following diagram illustrates the architecture of the system design.\n",
        "\n",
        "ADD DIAGRAM\n",
        "\n",
        "\n",
        "The previous stages start from reading the data for both test and train datasets. Then in the step of exploratory data analysis, investigate the distribution of the different attributes and explore the relationship between each variable and the target variable, which is “Satisfaction”. Next, clean the data from the uninformative columns, the missing values and outliers. After that, prepare the data for the modelling stage by normalising all the columns to be in the same range (0-1). Then, the k-nearest neighbours (k-NN) algorithm is used in the modelling stage to predict the “Satisfaction” column. Finally, analysing the results to obtain clear insights.\n",
        "  \n",
        "### Processing Modules and Algorithms\n",
        "\n",
        "_Briefly list and describe the most significant computational components of your system and the algorithms you will use to implement them. \n",
        "This could include things like:_\n",
        "\n",
        "* _cleaning the data by removing outliers_\n",
        "* _combining different datasets_\n",
        "* _converting samples to a special representaion (such as feature vectors)_\n",
        "* _constructing a special data-structure (such as a decision tree)_\n",
        "* _running some kind of analysis_\n",
        "\n",
        "_Your list can be presented in similar form to the one just given, \n",
        "but should include a brief\n",
        "but more specific description of the components and/or algorithms.\n",
        "Probably three or four components is sufficient for most projects, but\n",
        "you may want to have more._"
      ]
    },
    {
      "cell_type": "markdown",
      "metadata": {
        "id": "0Dteap9pkNPC"
      },
      "source": [
        "# Program Code (15 marks)\n",
        "\n",
        "_Your code should be divided into relatively short cells, with brief\n",
        "explanation in markup cells between._\n",
        "\n",
        "_As noted in the assigment overview, it is not necessary that your coding be\n",
        "super complex in order to get a good mark. Although there is a mark for\n",
        "the coding achievement, it is only a quarter of the total._\n",
        "\n",
        "_The suggested length of the code is about 200 lines for a 1 person project or 300\n",
        "for a 2 or 3 person project. You should not use more than 500 lines of code._\n",
        "\n",
        "_You should divide the code in accordance with the specification of modules and/or\n",
        "algoriths you gave in the previous section. Complex modules should be further\n",
        "divided into several code cells._\n",
        "\n",
        "Please note the following about your code:\n",
        "* <b><i>You may import any packages/modules you wish to use for your project.</i></b>\n",
        "\n",
        "\n",
        "* <b><i>You should submit your notebook in a state where all cells have been\n",
        "    executed and are displaying the output that you wish to present for grading.</i></b>\n",
        "    <br>\n",
        "    (We will not normally run your code, unless for some reason we wish to check\n",
        "    that the code functionality matches the given description.)"
      ]
    },
    {
      "cell_type": "markdown",
      "metadata": {
        "id": "-YU3RnBXkNPD"
      },
      "source": [
        "#### _Brief Explanation of following code cell_\n",
        "\n",
        "_Below is a silly example of some trivial data. Replace this markup cell and the one below with somthing more interesting. And go on adding more until you have \n",
        "achieved your objectives (at least to some extent)._"
      ]
    },
    {
      "cell_type": "markdown",
      "metadata": {
        "id": "jB7JKPZyCLdk"
      },
      "source": [
        "##Import packages and read datasets"
      ]
    },
    {
      "cell_type": "code",
      "metadata": {
        "id": "CiSU_H7G8UXs"
      },
      "source": [
        "from google.colab import drive\n",
        "import pandas as pd\n",
        "import seaborn as sns\n",
        "import matplotlib.pyplot as plt\n",
        "import numpy as np\n",
        "from sklearn.model_selection import train_test_split\n",
        "from sklearn.preprocessing import LabelEncoder, MinMaxScaler\n",
        "from sklearn.neighbors import KNeighborsClassifier\n",
        "from sklearn import metrics"
      ],
      "execution_count": null,
      "outputs": []
    },
    {
      "cell_type": "code",
      "metadata": {
        "colab": {
          "base_uri": "https://localhost:8080/"
        },
        "id": "y1qEwvEl8fov",
        "outputId": "4b1a68d4-8cbb-47c9-86f6-68f81bf158c9"
      },
      "source": [
        "# Connect Google Drive to Colab\n",
        "drive.mount('/content/drive')"
      ],
      "execution_count": null,
      "outputs": [
        {
          "name": "stdout",
          "output_type": "stream",
          "text": [
            "Mounted at /content/drive\n"
          ]
        }
      ]
    },
    {
      "cell_type": "code",
      "metadata": {
        "id": "NwTwrI-H9_Lt"
      },
      "source": [
        "#Ab\n",
        "!cp drive/MyDrive/Programming4DS/train.csv .\n",
        "!cp drive/MyDrive/Programming4DS/test.csv .\n",
        "\n",
        "#Ma\n",
        "#!cp drive/MyDrive/pds/train.csv .\n",
        "#!cp drive/MyDrive/pds/test.csv .\n",
        "\n",
        "#Bu\n",
        "#!cp drive/MyDrive/Programming4DS/Summative_AS/AS3/train.csv .\n",
        "#!cp drive/MyDrive/Programming4DS/Summative_AS/AS3/test.csv ."
      ],
      "execution_count": null,
      "outputs": []
    },
    {
      "cell_type": "markdown",
      "metadata": {
        "id": "ubPCfrjFBhKY"
      },
      "source": [
        "**Read train and test datasets as panadas dataframe**"
      ]
    },
    {
      "cell_type": "code",
      "metadata": {
        "id": "4Z86cdrV-RuC"
      },
      "source": [
        "airline_train = pd.read_csv(\"train.csv\")\n",
        "airline_test = pd.read_csv(\"test.csv\")"
      ],
      "execution_count": null,
      "outputs": []
    },
    {
      "cell_type": "code",
      "metadata": {
        "colab": {
          "base_uri": "https://localhost:8080/",
          "height": 360
        },
        "id": "lmzY0vA9EETP",
        "outputId": "7e87f540-7cf8-49e4-c852-cfe5eab2b54e"
      },
      "source": [
        "airline_train.head()"
      ],
      "execution_count": null,
      "outputs": [
        {
          "data": {
            "text/html": [
              "<div>\n",
              "<style scoped>\n",
              "    .dataframe tbody tr th:only-of-type {\n",
              "        vertical-align: middle;\n",
              "    }\n",
              "\n",
              "    .dataframe tbody tr th {\n",
              "        vertical-align: top;\n",
              "    }\n",
              "\n",
              "    .dataframe thead th {\n",
              "        text-align: right;\n",
              "    }\n",
              "</style>\n",
              "<table border=\"1\" class=\"dataframe\">\n",
              "  <thead>\n",
              "    <tr style=\"text-align: right;\">\n",
              "      <th></th>\n",
              "      <th>Unnamed: 0</th>\n",
              "      <th>id</th>\n",
              "      <th>Gender</th>\n",
              "      <th>Customer Type</th>\n",
              "      <th>Age</th>\n",
              "      <th>Type of Travel</th>\n",
              "      <th>Class</th>\n",
              "      <th>Flight Distance</th>\n",
              "      <th>Inflight wifi service</th>\n",
              "      <th>Departure/Arrival time convenient</th>\n",
              "      <th>Ease of Online booking</th>\n",
              "      <th>Gate location</th>\n",
              "      <th>Food and drink</th>\n",
              "      <th>Online boarding</th>\n",
              "      <th>Seat comfort</th>\n",
              "      <th>Inflight entertainment</th>\n",
              "      <th>On-board service</th>\n",
              "      <th>Leg room service</th>\n",
              "      <th>Baggage handling</th>\n",
              "      <th>Checkin service</th>\n",
              "      <th>Inflight service</th>\n",
              "      <th>Cleanliness</th>\n",
              "      <th>Departure Delay in Minutes</th>\n",
              "      <th>Arrival Delay in Minutes</th>\n",
              "      <th>satisfaction</th>\n",
              "    </tr>\n",
              "  </thead>\n",
              "  <tbody>\n",
              "    <tr>\n",
              "      <th>0</th>\n",
              "      <td>0</td>\n",
              "      <td>70172</td>\n",
              "      <td>Male</td>\n",
              "      <td>Loyal Customer</td>\n",
              "      <td>13</td>\n",
              "      <td>Personal Travel</td>\n",
              "      <td>Eco Plus</td>\n",
              "      <td>460</td>\n",
              "      <td>3</td>\n",
              "      <td>4</td>\n",
              "      <td>3</td>\n",
              "      <td>1</td>\n",
              "      <td>5</td>\n",
              "      <td>3</td>\n",
              "      <td>5</td>\n",
              "      <td>5</td>\n",
              "      <td>4</td>\n",
              "      <td>3</td>\n",
              "      <td>4</td>\n",
              "      <td>4</td>\n",
              "      <td>5</td>\n",
              "      <td>5</td>\n",
              "      <td>25</td>\n",
              "      <td>18.0</td>\n",
              "      <td>neutral or dissatisfied</td>\n",
              "    </tr>\n",
              "    <tr>\n",
              "      <th>1</th>\n",
              "      <td>1</td>\n",
              "      <td>5047</td>\n",
              "      <td>Male</td>\n",
              "      <td>disloyal Customer</td>\n",
              "      <td>25</td>\n",
              "      <td>Business travel</td>\n",
              "      <td>Business</td>\n",
              "      <td>235</td>\n",
              "      <td>3</td>\n",
              "      <td>2</td>\n",
              "      <td>3</td>\n",
              "      <td>3</td>\n",
              "      <td>1</td>\n",
              "      <td>3</td>\n",
              "      <td>1</td>\n",
              "      <td>1</td>\n",
              "      <td>1</td>\n",
              "      <td>5</td>\n",
              "      <td>3</td>\n",
              "      <td>1</td>\n",
              "      <td>4</td>\n",
              "      <td>1</td>\n",
              "      <td>1</td>\n",
              "      <td>6.0</td>\n",
              "      <td>neutral or dissatisfied</td>\n",
              "    </tr>\n",
              "    <tr>\n",
              "      <th>2</th>\n",
              "      <td>2</td>\n",
              "      <td>110028</td>\n",
              "      <td>Female</td>\n",
              "      <td>Loyal Customer</td>\n",
              "      <td>26</td>\n",
              "      <td>Business travel</td>\n",
              "      <td>Business</td>\n",
              "      <td>1142</td>\n",
              "      <td>2</td>\n",
              "      <td>2</td>\n",
              "      <td>2</td>\n",
              "      <td>2</td>\n",
              "      <td>5</td>\n",
              "      <td>5</td>\n",
              "      <td>5</td>\n",
              "      <td>5</td>\n",
              "      <td>4</td>\n",
              "      <td>3</td>\n",
              "      <td>4</td>\n",
              "      <td>4</td>\n",
              "      <td>4</td>\n",
              "      <td>5</td>\n",
              "      <td>0</td>\n",
              "      <td>0.0</td>\n",
              "      <td>satisfied</td>\n",
              "    </tr>\n",
              "    <tr>\n",
              "      <th>3</th>\n",
              "      <td>3</td>\n",
              "      <td>24026</td>\n",
              "      <td>Female</td>\n",
              "      <td>Loyal Customer</td>\n",
              "      <td>25</td>\n",
              "      <td>Business travel</td>\n",
              "      <td>Business</td>\n",
              "      <td>562</td>\n",
              "      <td>2</td>\n",
              "      <td>5</td>\n",
              "      <td>5</td>\n",
              "      <td>5</td>\n",
              "      <td>2</td>\n",
              "      <td>2</td>\n",
              "      <td>2</td>\n",
              "      <td>2</td>\n",
              "      <td>2</td>\n",
              "      <td>5</td>\n",
              "      <td>3</td>\n",
              "      <td>1</td>\n",
              "      <td>4</td>\n",
              "      <td>2</td>\n",
              "      <td>11</td>\n",
              "      <td>9.0</td>\n",
              "      <td>neutral or dissatisfied</td>\n",
              "    </tr>\n",
              "    <tr>\n",
              "      <th>4</th>\n",
              "      <td>4</td>\n",
              "      <td>119299</td>\n",
              "      <td>Male</td>\n",
              "      <td>Loyal Customer</td>\n",
              "      <td>61</td>\n",
              "      <td>Business travel</td>\n",
              "      <td>Business</td>\n",
              "      <td>214</td>\n",
              "      <td>3</td>\n",
              "      <td>3</td>\n",
              "      <td>3</td>\n",
              "      <td>3</td>\n",
              "      <td>4</td>\n",
              "      <td>5</td>\n",
              "      <td>5</td>\n",
              "      <td>3</td>\n",
              "      <td>3</td>\n",
              "      <td>4</td>\n",
              "      <td>4</td>\n",
              "      <td>3</td>\n",
              "      <td>3</td>\n",
              "      <td>3</td>\n",
              "      <td>0</td>\n",
              "      <td>0.0</td>\n",
              "      <td>satisfied</td>\n",
              "    </tr>\n",
              "  </tbody>\n",
              "</table>\n",
              "</div>"
            ],
            "text/plain": [
              "   Unnamed: 0      id  ... Arrival Delay in Minutes             satisfaction\n",
              "0           0   70172  ...                     18.0  neutral or dissatisfied\n",
              "1           1    5047  ...                      6.0  neutral or dissatisfied\n",
              "2           2  110028  ...                      0.0                satisfied\n",
              "3           3   24026  ...                      9.0  neutral or dissatisfied\n",
              "4           4  119299  ...                      0.0                satisfied\n",
              "\n",
              "[5 rows x 25 columns]"
            ]
          },
          "execution_count": 37,
          "metadata": {},
          "output_type": "execute_result"
        }
      ]
    },
    {
      "cell_type": "code",
      "metadata": {
        "colab": {
          "base_uri": "https://localhost:8080/"
        },
        "id": "j-4NgGbOhTn_",
        "outputId": "a425eda1-b521-4000-f35b-168d63a8b06f"
      },
      "source": [
        "airline_train.info()"
      ],
      "execution_count": null,
      "outputs": [
        {
          "name": "stdout",
          "output_type": "stream",
          "text": [
            "<class 'pandas.core.frame.DataFrame'>\n",
            "RangeIndex: 103904 entries, 0 to 103903\n",
            "Data columns (total 25 columns):\n",
            " #   Column                             Non-Null Count   Dtype  \n",
            "---  ------                             --------------   -----  \n",
            " 0   Unnamed: 0                         103904 non-null  int64  \n",
            " 1   id                                 103904 non-null  int64  \n",
            " 2   Gender                             103904 non-null  object \n",
            " 3   Customer Type                      103904 non-null  object \n",
            " 4   Age                                103904 non-null  int64  \n",
            " 5   Type of Travel                     103904 non-null  object \n",
            " 6   Class                              103904 non-null  object \n",
            " 7   Flight Distance                    103904 non-null  int64  \n",
            " 8   Inflight wifi service              103904 non-null  int64  \n",
            " 9   Departure/Arrival time convenient  103904 non-null  int64  \n",
            " 10  Ease of Online booking             103904 non-null  int64  \n",
            " 11  Gate location                      103904 non-null  int64  \n",
            " 12  Food and drink                     103904 non-null  int64  \n",
            " 13  Online boarding                    103904 non-null  int64  \n",
            " 14  Seat comfort                       103904 non-null  int64  \n",
            " 15  Inflight entertainment             103904 non-null  int64  \n",
            " 16  On-board service                   103904 non-null  int64  \n",
            " 17  Leg room service                   103904 non-null  int64  \n",
            " 18  Baggage handling                   103904 non-null  int64  \n",
            " 19  Checkin service                    103904 non-null  int64  \n",
            " 20  Inflight service                   103904 non-null  int64  \n",
            " 21  Cleanliness                        103904 non-null  int64  \n",
            " 22  Departure Delay in Minutes         103904 non-null  int64  \n",
            " 23  Arrival Delay in Minutes           103594 non-null  float64\n",
            " 24  satisfaction                       103904 non-null  object \n",
            "dtypes: float64(1), int64(19), object(5)\n",
            "memory usage: 19.8+ MB\n"
          ]
        }
      ]
    },
    {
      "cell_type": "code",
      "metadata": {
        "colab": {
          "base_uri": "https://localhost:8080/"
        },
        "id": "b82D3tl-hj0C",
        "outputId": "99260c60-0e0a-46f3-9299-96e47b04ce05"
      },
      "source": [
        "airline_train.shape"
      ],
      "execution_count": null,
      "outputs": [
        {
          "data": {
            "text/plain": [
              "(103904, 25)"
            ]
          },
          "execution_count": 97,
          "metadata": {},
          "output_type": "execute_result"
        }
      ]
    },
    {
      "cell_type": "code",
      "metadata": {
        "colab": {
          "base_uri": "https://localhost:8080/"
        },
        "id": "nv1rMDoZhqw2",
        "outputId": "5f9c9a05-e18c-439c-b8d9-2edaaf76e5f5"
      },
      "source": [
        "airline_test.shape"
      ],
      "execution_count": null,
      "outputs": [
        {
          "data": {
            "text/plain": [
              "(25976, 25)"
            ]
          },
          "execution_count": 96,
          "metadata": {},
          "output_type": "execute_result"
        }
      ]
    },
    {
      "cell_type": "markdown",
      "metadata": {
        "id": "6NrGI0yb4NV6"
      },
      "source": [
        "### Data Exploring:\n",
        "here are some graphs showing analysis of some features. "
      ]
    },
    {
      "cell_type": "code",
      "metadata": {
        "id": "27fk0KCJ-tYa"
      },
      "source": [
        "def create_plot_train_test(df_column , order):\n",
        "   \n",
        "    plt.figure(figsize = (9, 4))\n",
        "    \n",
        "    plt.subplot(121)\n",
        "    plt.title(\"In Airline train data\")\n",
        "    sns.countplot(data = airline_train, x = df_column , order = order)\n",
        "\n",
        "    plt.subplot(122)\n",
        "    plt.title(\"In Airline test data\")\n",
        "    sns.countplot(data = airline_test, x = df_column , order = order)\n",
        "\n",
        "    plt.tight_layout()\n",
        "    plt.show()\n",
        "\n",
        "def create_comp_plot ( df_column, dataset, rest_title , order) :\n",
        "    plt.figure(figsize = (12, 4))\n",
        "    plt.subplot(121)\n",
        "    sns.countplot(x =df_column, data = dataset, order = order)\n",
        "    plt.title(\"Distributuion of \"+df_column+\"\\n\"+rest_title)\n",
        "    plt.subplot(122)\n",
        "    sns.countplot(x='satisfaction', hue=df_column, data=dataset , order = [\"neutral or dissatisfied\", \"satisfied\"] , hue_order=order)\n",
        "    plt.title('Satisfaction vs '+df_column+\"\\n\"+rest_title)\n",
        "    plt.show()\n"
      ],
      "execution_count": null,
      "outputs": []
    },
    {
      "cell_type": "code",
      "metadata": {
        "colab": {
          "base_uri": "https://localhost:8080/",
          "height": 297
        },
        "id": "cHydsJrk4Rsb",
        "outputId": "777b79db-b98b-4c5a-cade-b8dd467d0bc6"
      },
      "source": [
        "\n",
        "create_plot_train_test('satisfaction' , [\"neutral or dissatisfied\", \"satisfied\"])"
      ],
      "execution_count": null,
      "outputs": [
        {
          "data": {
            "image/png": "[encoded data removed]",
            "text/plain": [
              "<Figure size 648x288 with 2 Axes>"
            ]
          },
          "metadata": {
            "needs_background": "light"
          },
          "output_type": "display_data"
        }
      ]
    },
    {
      "cell_type": "code",
      "metadata": {
        "colab": {
          "base_uri": "https://localhost:8080/",
          "height": 297
        },
        "id": "TuEhJ1BD-U50",
        "outputId": "1c166fa9-de79-4d6c-b7a7-55abdd7e13b9"
      },
      "source": [
        "create_plot_train_test('Gender' , [\"Male\", \"Female\"])"
      ],
      "execution_count": null,
      "outputs": [
        {
          "data": {
            "image/png": "[encoded data removed]",
            "text/plain": [
              "<Figure size 648x288 with 2 Axes>"
            ]
          },
          "metadata": {
            "needs_background": "light"
          },
          "output_type": "display_data"
        }
      ]
    },
    {
      "cell_type": "code",
      "metadata": {
        "colab": {
          "base_uri": "https://localhost:8080/",
          "height": 295
        },
        "id": "-Fykb1la-j28",
        "outputId": "bac2b683-55ce-4a9b-c417-d13e2175e274"
      },
      "source": [
        "plt.figure(figsize = (12, 4))\n",
        "plt.subplot(121)\n",
        "sns.boxplot(x=airline_train['Age'])\n",
        "plt.title('Distribution of Age In train data')\n",
        "plt.subplot(122)\n",
        "sns.boxplot(x=airline_test['Age'])\n",
        "plt.title('Distribution of Age In test data')\n",
        "plt.show()"
      ],
      "execution_count": null,
      "outputs": [
        {
          "data": {
            "image/png": "[encoded data removed]",
            "text/plain": [
              "<Figure size 864x288 with 2 Axes>"
            ]
          },
          "metadata": {
            "needs_background": "light"
          },
          "output_type": "display_data"
        }
      ]
    },
    {
      "cell_type": "code",
      "metadata": {
        "colab": {
          "base_uri": "https://localhost:8080/",
          "height": 603
        },
        "id": "InUvltFt-qqv",
        "outputId": "d727b156-9ccc-40c5-d68f-73bd197e3e57"
      },
      "source": [
        "create_comp_plot('Customer Type',airline_train, 'In train data' , [\"Loyal Customer\" , \"disloyal Customer\"] )\n",
        "create_comp_plot('Customer Type',airline_test , 'In test data' , [\"Loyal Customer\" , \"disloyal Customer\"])"
      ],
      "execution_count": null,
      "outputs": [
        {
          "data": {
            "image/png": "[encoded data removed]",
            "text/plain": [
              "<Figure size 864x288 with 2 Axes>"
            ]
          },
          "metadata": {
            "needs_background": "light"
          },
          "output_type": "display_data"
        },
        {
          "data": {
            "image/png": "[encoded data removed]",
            "text/plain": [
              "<Figure size 864x288 with 2 Axes>"
            ]
          },
          "metadata": {
            "needs_background": "light"
          },
          "output_type": "display_data"
        }
      ]
    },
    {
      "cell_type": "markdown",
      "metadata": {
        "id": "g6Wm8GCs-zGO"
      },
      "source": [
        "**We can see above that the loyal customers are much more happy with the serives, compared with the disloyal ones.\n",
        "However, the dataset is a sort of biased here, as we can see the majority of the votes coming from loyal customers.**"
      ]
    },
    {
      "cell_type": "code",
      "metadata": {
        "colab": {
          "base_uri": "https://localhost:8080/",
          "height": 603
        },
        "id": "Kk8ZbUhj_CpS",
        "outputId": "d5bbd235-42b8-48d8-c4c1-15c0290e2abd"
      },
      "source": [
        "\n",
        "create_comp_plot('Type of Travel',airline_train, 'In train data' , ['Personal Travel' , 'Business travel'])\n",
        "create_comp_plot('Type of Travel',airline_test , 'In test data'  , ['Personal Travel' , 'Business travel'])"
      ],
      "execution_count": null,
      "outputs": [
        {
          "data": {
            "image/png": "[encoded data removed]",
            "text/plain": [
              "<Figure size 864x288 with 2 Axes>"
            ]
          },
          "metadata": {
            "needs_background": "light"
          },
          "output_type": "display_data"
        },
        {
          "data": {
            "image/png": "[encoded data removed]",
            "text/plain": [
              "<Figure size 864x288 with 2 Axes>"
            ]
          },
          "metadata": {
            "needs_background": "light"
          },
          "output_type": "display_data"
        }
      ]
    },
    {
      "cell_type": "markdown",
      "metadata": {
        "id": "TDuEPAV7_MZ1"
      },
      "source": [
        "**Here also, we can see the same. the majority of the voters have travlled for business and they are much more satisfied than the ones travelling for personal purpose.**"
      ]
    },
    {
      "cell_type": "code",
      "metadata": {
        "colab": {
          "base_uri": "https://localhost:8080/",
          "height": 603
        },
        "id": "WuPP5S8G_PVS",
        "outputId": "ec136aea-7814-453c-c59d-17bcbe5a61d7"
      },
      "source": [
        "create_comp_plot('Class',airline_train, 'In train data' , ['Eco' , 'Eco Plus' , 'Business'])\n",
        "create_comp_plot('Class',airline_test , 'In test data' , ['Eco' , 'Eco Plus' , 'Business'])"
      ],
      "execution_count": null,
      "outputs": [
        {
          "data": {
            "image/png": "[encoded data removed]",
            "text/plain": [
              "<Figure size 864x288 with 2 Axes>"
            ]
          },
          "metadata": {
            "needs_background": "light"
          },
          "output_type": "display_data"
        },
        {
          "data": {
            "image/png": "[encoded data removed]",
            "text/plain": [
              "<Figure size 864x288 with 2 Axes>"
            ]
          },
          "metadata": {
            "needs_background": "light"
          },
          "output_type": "display_data"
        }
      ]
    },
    {
      "cell_type": "markdown",
      "metadata": {
        "id": "vw6_V0oI_ZgW"
      },
      "source": [
        "**Business class is much more happy with the airline's services than Eco or Eco Plus class, so improving services for the Eco and Eco Plus classes would definitly increase the satisfaction in general**"
      ]
    },
    {
      "cell_type": "code",
      "metadata": {
        "colab": {
          "base_uri": "https://localhost:8080/",
          "height": 426
        },
        "id": "uGdYsyavprS8",
        "outputId": "8993a51a-a76b-473c-91ed-a2b4985b0fe5"
      },
      "source": [
        "rankings_list = list()\n",
        "cols_list = list(airline_train) [8:22]\n",
        "for s in cols_list:\n",
        "  vals = airline_train[s].value_counts()\n",
        "  if s == 'Leg room service' or s == 'Baggage handling':\n",
        "    vals.loc[0] = 0\n",
        "  rankings_list.append(round(( vals[5]*5+vals[4]*4+vals[3]*3+vals[2]*2+vals[1]*1+vals[0]*0 ) / ( vals[5] + vals[4] + vals[3] + vals[2] + vals[1]+vals[0]),2))\n",
        "\n",
        "plt.figure(figsize = (20, 4))\n",
        "plt.bar ( cols_list , rankings_list )\n",
        "xlocs, xlabs = plt.xticks()\n",
        "for i, v in enumerate(rankings_list):\n",
        "    plt.text(xlocs[i] - 0.25, v + 0.01, str(v))\n",
        "plt.xticks(rotation='vertical')\n",
        "plt.show()"
      ],
      "execution_count": null,
      "outputs": [
        {
          "output_type": "display_data",
          "data": {
            "image/png": "[encoded data removed]",
            "text/plain": [
              "<Figure size 1440x288 with 1 Axes>"
            ]
          },
          "metadata": {
            "needs_background": "light"
          }
        }
      ]
    },
    {
      "cell_type": "markdown",
      "metadata": {
        "id": "JCqmth1y_ggN"
      },
      "source": [
        "### Ranking vs Satisfaction"
      ]
    },
    {
      "cell_type": "code",
      "metadata": {
        "colab": {
          "base_uri": "https://localhost:8080/",
          "height": 606
        },
        "id": "pXoIVdE-_ins",
        "outputId": "7cbcc176-bb6b-461b-b146-edb450a1ec8e"
      },
      "source": [
        "corr_df = airline_train.drop(airline_train.columns[0:8], axis=1)\n",
        "corr_df = corr_df.drop(corr_df.columns[[14,15]], axis=1)\n",
        "corr_df['satisfaction'] = corr_df['satisfaction'].map({'satisfied': 1, 'neutral or dissatisfied': 0})\n",
        "corr_df.corr()['satisfaction'][0:14].plot(x=\"satisfaction\", y=range(0,1), kind=\"bar\", figsize=(16, 7))"
      ],
      "execution_count": null,
      "outputs": [
        {
          "output_type": "execute_result",
          "data": {
            "text/plain": [
              "<matplotlib.axes._subplots.AxesSubplot at 0x7f5788aa8990>"
            ]
          },
          "metadata": {},
          "execution_count": 81
        },
        {
          "output_type": "display_data",
          "data": {
            "image/png": "[encoded data removed]",
            "text/plain": [
              "<Figure size 1152x504 with 1 Axes>"
            ]
          },
          "metadata": {
            "needs_background": "light"
          }
        }
      ]
    },
    {
      "cell_type": "markdown",
      "metadata": {
        "id": "shYE0Yja_uY0"
      },
      "source": [
        "**As shown above, the ranking of Online Boarding is the first feature in affecting the satisfaction.\n",
        "and the second feature is Inflight Entertainment. And then, the less affective featuers come, such as cleanliness, on-board service, leg room and seat comfort.\n",
        "So, enhansing these features, statring from the most effective one, could increase the satisfaction among customers.**"
      ]
    },
    {
      "cell_type": "code",
      "metadata": {
        "colab": {
          "base_uri": "https://localhost:8080/",
          "height": 603
        },
        "id": "NFor_Ifd_xeW",
        "outputId": "9f48e256-5b99-4d66-f135-473be9127c53"
      },
      "source": [
        "\n",
        "create_comp_plot('Online boarding',airline_train, 'In train data', [0,1,2,3,4,5])\n",
        "create_comp_plot('Online boarding',airline_test , 'In test data', [0,1,2,3,4,5])"
      ],
      "execution_count": null,
      "outputs": [
        {
          "data": {
            "image/png": "[encoded data removed]",
            "text/plain": [
              "<Figure size 864x288 with 2 Axes>"
            ]
          },
          "metadata": {
            "needs_background": "light"
          },
          "output_type": "display_data"
        },
        {
          "data": {
            "image/png": "[encoded data removed]",
            "text/plain": [
              "<Figure size 864x288 with 2 Axes>"
            ]
          },
          "metadata": {
            "needs_background": "light"
          },
          "output_type": "display_data"
        }
      ]
    },
    {
      "cell_type": "code",
      "metadata": {
        "colab": {
          "base_uri": "https://localhost:8080/",
          "height": 603
        },
        "id": "i9nMqqyf_533",
        "outputId": "ebc59cd5-4ff0-4c44-8dd0-7302db0bb34c"
      },
      "source": [
        "\n",
        "create_comp_plot('Inflight entertainment',airline_train, 'In train data' , [0,1,2,3,4,5])\n",
        "create_comp_plot('Inflight entertainment',airline_test , 'In test data', [0,1,2,3,4,5])"
      ],
      "execution_count": null,
      "outputs": [
        {
          "data": {
            "image/png": "[encoded data removed]",
            "text/plain": [
              "<Figure size 864x288 with 2 Axes>"
            ]
          },
          "metadata": {
            "needs_background": "light"
          },
          "output_type": "display_data"
        },
        {
          "data": {
            "image/png": "[encoded data removed]",
            "text/plain": [
              "<Figure size 864x288 with 2 Axes>"
            ]
          },
          "metadata": {
            "needs_background": "light"
          },
          "output_type": "display_data"
        }
      ]
    },
    {
      "cell_type": "code",
      "metadata": {
        "colab": {
          "base_uri": "https://localhost:8080/",
          "height": 603
        },
        "id": "nx4bpFpDAC-k",
        "outputId": "4832d503-1d85-4408-cdbf-590b45ace6a3"
      },
      "source": [
        "create_comp_plot('Cleanliness',airline_train, 'In train data',[0,1,2,3,4,5])\n",
        "create_comp_plot('Cleanliness',airline_test , 'In test data',[0,1,2,3,4,5])"
      ],
      "execution_count": null,
      "outputs": [
        {
          "data": {
            "image/png": "[encoded data removed]",
            "text/plain": [
              "<Figure size 864x288 with 2 Axes>"
            ]
          },
          "metadata": {
            "needs_background": "light"
          },
          "output_type": "display_data"
        },
        {
          "data": {
            "image/png": "[encoded data removed]",
            "text/plain": [
              "<Figure size 864x288 with 2 Axes>"
            ]
          },
          "metadata": {
            "needs_background": "light"
          },
          "output_type": "display_data"
        }
      ]
    },
    {
      "cell_type": "code",
      "metadata": {
        "colab": {
          "base_uri": "https://localhost:8080/",
          "height": 603
        },
        "id": "QBCFHYvQAIv4",
        "outputId": "1ce739a2-01bb-4c5a-98d1-0872461f0cef"
      },
      "source": [
        "create_comp_plot('Leg room service',airline_train, 'In train data',[0,1,2,3,4,5])\n",
        "create_comp_plot('Leg room service',airline_test , 'In test data',[0,1,2,3,4,5])"
      ],
      "execution_count": null,
      "outputs": [
        {
          "data": {
            "image/png": "[encoded data removed]",
            "text/plain": [
              "<Figure size 864x288 with 2 Axes>"
            ]
          },
          "metadata": {
            "needs_background": "light"
          },
          "output_type": "display_data"
        },
        {
          "data": {
            "image/png": "[encoded data removed]",
            "text/plain": [
              "<Figure size 864x288 with 2 Axes>"
            ]
          },
          "metadata": {
            "needs_background": "light"
          },
          "output_type": "display_data"
        }
      ]
    },
    {
      "cell_type": "code",
      "metadata": {
        "colab": {
          "base_uri": "https://localhost:8080/",
          "height": 603
        },
        "id": "RhR2GwqnAOiQ",
        "outputId": "67def395-a15b-4765-f52b-e21281211c2b"
      },
      "source": [
        "create_comp_plot('Seat comfort',airline_train, 'In train data',[0,1,2,3,4,5])\n",
        "create_comp_plot('Seat comfort',airline_test , 'In test data',[0,1,2,3,4,5])"
      ],
      "execution_count": null,
      "outputs": [
        {
          "data": {
            "image/png": "[encoded data removed]",
            "text/plain": [
              "<Figure size 864x288 with 2 Axes>"
            ]
          },
          "metadata": {
            "needs_background": "light"
          },
          "output_type": "display_data"
        },
        {
          "data": {
            "image/png": "[encoded data removed]",
            "text/plain": [
              "<Figure size 864x288 with 2 Axes>"
            ]
          },
          "metadata": {
            "needs_background": "light"
          },
          "output_type": "display_data"
        }
      ]
    },
    {
      "cell_type": "code",
      "metadata": {
        "colab": {
          "base_uri": "https://localhost:8080/",
          "height": 603
        },
        "id": "26tOF0CUAT4P",
        "outputId": "4fa7f4e0-dc0e-42c2-b182-7730ca618d28"
      },
      "source": [
        "create_comp_plot('On-board service',airline_train, 'In train data',[0,1,2,3,4,5])\n",
        "create_comp_plot('On-board service',airline_test , 'In test data',[0,1,2,3,4,5])"
      ],
      "execution_count": null,
      "outputs": [
        {
          "data": {
            "image/png": "[encoded data removed]",
            "text/plain": [
              "<Figure size 864x288 with 2 Axes>"
            ]
          },
          "metadata": {
            "needs_background": "light"
          },
          "output_type": "display_data"
        },
        {
          "data": {
            "image/png": "[encoded data removed]",
            "text/plain": [
              "<Figure size 864x288 with 2 Axes>"
            ]
          },
          "metadata": {
            "needs_background": "light"
          },
          "output_type": "display_data"
        }
      ]
    },
    {
      "cell_type": "code",
      "metadata": {
        "colab": {
          "base_uri": "https://localhost:8080/",
          "height": 603
        },
        "id": "3iJXOGGBKICI",
        "outputId": "0403ce63-731c-40a5-c088-fe656df9207f"
      },
      "source": [
        "create_comp_plot('Departure/Arrival time convenient',airline_train, 'In train data',[0,1,2,3,4,5])\n",
        "create_comp_plot('Departure/Arrival time convenient',airline_test , 'In test data',[0,1,2,3,4,5])"
      ],
      "execution_count": null,
      "outputs": [
        {
          "output_type": "display_data",
          "data": {
            "image/png": "[encoded data removed]",
            "text/plain": [
              "<Figure size 864x288 with 2 Axes>"
            ]
          },
          "metadata": {
            "needs_background": "light"
          }
        },
        {
          "output_type": "display_data",
          "data": {
            "image/png": "[encoded data removed]",
            "text/plain": [
              "<Figure size 864x288 with 2 Axes>"
            ]
          },
          "metadata": {
            "needs_background": "light"
          }
        }
      ]
    },
    {
      "cell_type": "code",
      "metadata": {
        "colab": {
          "base_uri": "https://localhost:8080/",
          "height": 504
        },
        "id": "JZ8uxR67Abjz",
        "outputId": "af297138-8c8d-4be4-a2fa-ebf7d16e50ab"
      },
      "source": [
        "sns.boxplot(x=\"satisfaction\",y=\"Flight Distance\",data=airline_train, orient='v' )\n",
        "g = sns.FacetGrid(airline_train, col=\"satisfaction\")\n",
        "g.map(sns.histplot, \"Flight Distance\")"
      ],
      "execution_count": null,
      "outputs": [
        {
          "data": {
            "text/plain": [
              "<seaborn.axisgrid.FacetGrid at 0x7f17a53315d0>"
            ]
          },
          "execution_count": 38,
          "metadata": {},
          "output_type": "execute_result"
        },
        {
          "data": {
            "image/png": "[encoded data removed]",
            "text/plain": [
              "<Figure size 432x288 with 1 Axes>"
            ]
          },
          "metadata": {},
          "output_type": "display_data"
        },
        {
          "data": {
            "image/png": "[encoded data removed]",
            "text/plain": [
              "<Figure size 432x216 with 2 Axes>"
            ]
          },
          "metadata": {},
          "output_type": "display_data"
        }
      ]
    },
    {
      "cell_type": "markdown",
      "metadata": {
        "id": "qcpWvp_QAnoP"
      },
      "source": [
        "**these two graphs show that the satisfaction increases in the long flight, while the short flights have the same portion of satisfaction and dissatisfaction.**\n"
      ]
    },
    {
      "cell_type": "code",
      "metadata": {
        "colab": {
          "base_uri": "https://localhost:8080/",
          "height": 504
        },
        "id": "iGUgOBAM0Y_o",
        "outputId": "5c1baf10-79e4-41b8-97e1-a60c61fe51f2"
      },
      "source": [
        "sns.boxplot(x=\"satisfaction\",y=\"Age\",data=airline_train, orient='v' )\n",
        "g = sns.FacetGrid(airline_train, col=\"satisfaction\")\n",
        "g.map(sns.histplot, \"Age\")"
      ],
      "execution_count": null,
      "outputs": [
        {
          "data": {
            "text/plain": [
              "<seaborn.axisgrid.FacetGrid at 0x7f57889626d0>"
            ]
          },
          "execution_count": 53,
          "metadata": {},
          "output_type": "execute_result"
        },
        {
          "data": {
            "image/png": "[encoded data removed]",
            "text/plain": [
              "<Figure size 432x288 with 1 Axes>"
            ]
          },
          "metadata": {
            "needs_background": "light"
          },
          "output_type": "display_data"
        },
        {
          "data": {
            "image/png": "[encoded data removed]",
            "text/plain": [
              "<Figure size 432x216 with 2 Axes>"
            ]
          },
          "metadata": {
            "needs_background": "light"
          },
          "output_type": "display_data"
        }
      ]
    },
    {
      "cell_type": "markdown",
      "metadata": {
        "id": "aWnTRKPa1ZDC"
      },
      "source": [
        "Check outliers for the continouse variables"
      ]
    },
    {
      "cell_type": "code",
      "metadata": {
        "id": "zH3UBO-f1hNr"
      },
      "source": [
        "#no outliers in \"Age\" attribute and we can see that the youngest passenger is 7 years old\n",
        "#and the oldest passenger is 85 years old. However, most passengers are in the age of 27 and 51 years old\n",
        "sns.boxplot(x=airline_train['Age'], orient='v')\n",
        "sns.boxplot(x=airline_train['Flight Distance'])\n",
        "#there are outlires since the avarage is 15 minutes delay but some complain from more than 24 hours delay \n",
        "sns.boxplot(x=airline_train['Departure Delay in Minutes'])\n",
        "#there are outlires since the avarage is 15 minutes delay but some complain from more the 24 hours delay \n",
        "sns.boxplot(x=airline_train['Arrival Delay in Minutes'])"
      ],
      "execution_count": null,
      "outputs": []
    },
    {
      "cell_type": "markdown",
      "metadata": {
        "id": "oazQVHIkc91B"
      },
      "source": [
        "There are no outliers in \"Age\" attruibute and "
      ]
    },
    {
      "cell_type": "code",
      "metadata": {
        "id": "5zcQctmT-Var"
      },
      "source": [
        "def viz_boxplot(df, numeric_list): \n",
        "  numeric_var = df[numeric_list]\n",
        "  fig, axs = plt.subplots(ncols = 4, nrows = 1, figsize = (12, 4))\n",
        "  idx = 0\n",
        "  axs = axs.flatten()\n",
        "  for k, v in numeric_var.items():\n",
        "      sns.boxplot(y = k, data = numeric_var, ax = axs[idx]) #color = \"Blues\"\n",
        "      idx += 1\n",
        "  plt.tight_layout(pad = 0.5, w_pad = 0.5, h_pad = 5.0)"
      ],
      "execution_count": null,
      "outputs": []
    },
    {
      "cell_type": "code",
      "metadata": {
        "colab": {
          "base_uri": "https://localhost:8080/",
          "height": 309
        },
        "id": "z1n8xlUr2GLN",
        "outputId": "fa5f697c-6db0-4e24-c70f-416a2d0bce19"
      },
      "source": [
        "viz_boxplot(airline_train, [\"Age\", \"Flight Distance\", \"Departure Delay in Minutes\", \"Arrival Delay in Minutes\"])"
      ],
      "execution_count": null,
      "outputs": [
        {
          "data": {
            "image/png": "[encoded data removed]",
            "text/plain": [
              "<Figure size 864x288 with 4 Axes>"
            ]
          },
          "metadata": {
            "needs_background": "light"
          },
          "output_type": "display_data"
        }
      ]
    },
    {
      "cell_type": "code",
      "metadata": {
        "colab": {
          "base_uri": "https://localhost:8080/",
          "height": 309
        },
        "id": "Vkwj4tQT2HMX",
        "outputId": "662310c1-6bc7-414f-af98-85ee41bc35fe"
      },
      "source": [
        "viz_boxplot(airline_test, [\"Age\", \"Flight Distance\", \"Departure Delay in Minutes\", \"Arrival Delay in Minutes\"])"
      ],
      "execution_count": null,
      "outputs": [
        {
          "data": {
            "image/png": "[encoded data removed]",
            "text/plain": [
              "<Figure size 864x288 with 4 Axes>"
            ]
          },
          "metadata": {
            "needs_background": "light"
          },
          "output_type": "display_data"
        }
      ]
    },
    {
      "cell_type": "markdown",
      "metadata": {
        "id": "stDpI87HlUy7"
      },
      "source": [
        "##cleaning data"
      ]
    },
    {
      "cell_type": "markdown",
      "metadata": {
        "id": "OqQ-jdKQH67A"
      },
      "source": [
        "Remove \"Unnamed: 0\" and \"id\" from train and test dataframes because they are uninformative attributes for the modelling"
      ]
    },
    {
      "cell_type": "code",
      "metadata": {
        "id": "zeifLBlBuJK3"
      },
      "source": [
        "airline_train = airline_train.drop(['Unnamed: 0','id'], axis=1)\n",
        "airline_test = airline_test.drop(['Unnamed: 0','id'], axis=1)"
      ],
      "execution_count": null,
      "outputs": []
    },
    {
      "cell_type": "markdown",
      "metadata": {
        "id": "izdFMOuzIYk8"
      },
      "source": [
        "Now check if the two columns are removed by printing column names"
      ]
    },
    {
      "cell_type": "code",
      "metadata": {
        "colab": {
          "base_uri": "https://localhost:8080/"
        },
        "id": "GGnikkWBlPml",
        "outputId": "7c740740-5504-4586-bb5c-3057a678a58d"
      },
      "source": [
        "airline_train.columns"
      ],
      "execution_count": null,
      "outputs": [
        {
          "data": {
            "text/plain": [
              "Index(['Gender', 'Customer Type', 'Age', 'Type of Travel', 'Class',\n",
              "       'Flight Distance', 'Inflight wifi service',\n",
              "       'Departure/Arrival time convenient', 'Ease of Online booking',\n",
              "       'Gate location', 'Food and drink', 'Online boarding', 'Seat comfort',\n",
              "       'Inflight entertainment', 'On-board service', 'Leg room service',\n",
              "       'Baggage handling', 'Checkin service', 'Inflight service',\n",
              "       'Cleanliness', 'Departure Delay in Minutes', 'Arrival Delay in Minutes',\n",
              "       'satisfaction'],\n",
              "      dtype='object')"
            ]
          },
          "execution_count": 40,
          "metadata": {},
          "output_type": "execute_result"
        }
      ]
    },
    {
      "cell_type": "code",
      "metadata": {
        "colab": {
          "base_uri": "https://localhost:8080/"
        },
        "id": "GUfNYWfiJiv0",
        "outputId": "5c04c713-45bd-45af-e588-7f7d8518597c"
      },
      "source": [
        "airline_test.columns"
      ],
      "execution_count": null,
      "outputs": [
        {
          "data": {
            "text/plain": [
              "Index(['Gender', 'Customer Type', 'Age', 'Type of Travel', 'Class',\n",
              "       'Flight Distance', 'Inflight wifi service',\n",
              "       'Departure/Arrival time convenient', 'Ease of Online booking',\n",
              "       'Gate location', 'Food and drink', 'Online boarding', 'Seat comfort',\n",
              "       'Inflight entertainment', 'On-board service', 'Leg room service',\n",
              "       'Baggage handling', 'Checkin service', 'Inflight service',\n",
              "       'Cleanliness', 'Departure Delay in Minutes', 'Arrival Delay in Minutes',\n",
              "       'satisfaction'],\n",
              "      dtype='object')"
            ]
          },
          "execution_count": 41,
          "metadata": {},
          "output_type": "execute_result"
        }
      ]
    },
    {
      "cell_type": "markdown",
      "metadata": {
        "id": "RodgkRAaJQdj"
      },
      "source": [
        "It is clear that \"Unnamed: 0\" and \"id\" are no longer in the both dataframes"
      ]
    },
    {
      "cell_type": "markdown",
      "metadata": {
        "id": "X4FvQTLwPGOS"
      },
      "source": [
        "Check for missing values "
      ]
    },
    {
      "cell_type": "code",
      "metadata": {
        "colab": {
          "base_uri": "https://localhost:8080/"
        },
        "id": "p3n7oES_lSEu",
        "outputId": "adcb18b8-f351-4ff5-939c-4bffdb748077"
      },
      "source": [
        "#check null variables\n",
        "print( airline_train.isnull().sum()[ airline_train.isnull().sum() > 0 ] )\n",
        "print('--------------------------------------------------')\n",
        "print( airline_test.isnull().sum()[ airline_test.isnull().sum() > 0 ] )"
      ],
      "execution_count": null,
      "outputs": [
        {
          "name": "stdout",
          "output_type": "stream",
          "text": [
            "Arrival Delay in Minutes    310\n",
            "dtype: int64\n",
            "--------------------------------------------------\n",
            "Arrival Delay in Minutes    83\n",
            "dtype: int64\n"
          ]
        }
      ]
    },
    {
      "cell_type": "markdown",
      "metadata": {
        "id": "qmKygL1qPWtk"
      },
      "source": [
        "The only variable that has missing values is \"Arrival Delay in Minutes\" in train and test dataframes, with 310 and 83 null values respectively. "
      ]
    },
    {
      "cell_type": "markdown",
      "metadata": {
        "id": "OvwFmHw8fqVO"
      },
      "source": [
        "Since we are going to assume that the missing values in \"Arrival Delay in Minutes\" attribute is because there was not delay in the arrive.\n",
        "Therefore, we are going to fill the missing values with 0, which is the median as well, assuming there was not delay."
      ]
    },
    {
      "cell_type": "code",
      "metadata": {
        "id": "vr_0y8DIlc7g"
      },
      "source": [
        "airline_train['Arrival Delay in Minutes'].fillna(0, inplace = True)\n",
        "airline_test['Arrival Delay in Minutes'].fillna(0, inplace = True)"
      ],
      "execution_count": null,
      "outputs": []
    },
    {
      "cell_type": "markdown",
      "metadata": {
        "id": "Ef0tjCZ6gRgH"
      },
      "source": [
        "check the sum of null variables for 'Arrival Delay in Minutes' after filling them with 0."
      ]
    },
    {
      "cell_type": "code",
      "metadata": {
        "colab": {
          "base_uri": "https://localhost:8080/"
        },
        "id": "ab0u2pk2ldo-",
        "outputId": "b7761545-13af-4225-8314-0043ce2b21a9"
      },
      "source": [
        "airline_train.isnull().sum().any() > 0 , airline_test.isnull().sum().any() > 0"
      ],
      "execution_count": null,
      "outputs": [
        {
          "data": {
            "text/plain": [
              "(False, False)"
            ]
          },
          "execution_count": 44,
          "metadata": {},
          "output_type": "execute_result"
        }
      ]
    },
    {
      "cell_type": "markdown",
      "metadata": {
        "id": "TiMKInBoggNG"
      },
      "source": [
        "Since both conditions return false, this means there are no null values.\n",
        "\n"
      ]
    },
    {
      "cell_type": "markdown",
      "metadata": {
        "id": "mH6VKcLsi2TP"
      },
      "source": [
        "The range of satisfaction rank for all the srevices should be between 1-5, therefore, we are going to assume that if the value is 0 then the passenger did not enter any value, and based on that assumption we are going to remove them from both dataframes."
      ]
    },
    {
      "cell_type": "code",
      "metadata": {
        "colab": {
          "base_uri": "https://localhost:8080/",
          "height": 351
        },
        "id": "hOM7vbx09Kxw",
        "outputId": "b05bbb24-4dbc-4b45-b0b3-10dd69998eb7"
      },
      "source": [
        "airline_train.describe()"
      ],
      "execution_count": null,
      "outputs": [
        {
          "data": {
            "text/html": [
              "<div>\n",
              "<style scoped>\n",
              "    .dataframe tbody tr th:only-of-type {\n",
              "        vertical-align: middle;\n",
              "    }\n",
              "\n",
              "    .dataframe tbody tr th {\n",
              "        vertical-align: top;\n",
              "    }\n",
              "\n",
              "    .dataframe thead th {\n",
              "        text-align: right;\n",
              "    }\n",
              "</style>\n",
              "<table border=\"1\" class=\"dataframe\">\n",
              "  <thead>\n",
              "    <tr style=\"text-align: right;\">\n",
              "      <th></th>\n",
              "      <th>Age</th>\n",
              "      <th>Flight Distance</th>\n",
              "      <th>Inflight wifi service</th>\n",
              "      <th>Departure/Arrival time convenient</th>\n",
              "      <th>Ease of Online booking</th>\n",
              "      <th>Gate location</th>\n",
              "      <th>Food and drink</th>\n",
              "      <th>Online boarding</th>\n",
              "      <th>Seat comfort</th>\n",
              "      <th>Inflight entertainment</th>\n",
              "      <th>On-board service</th>\n",
              "      <th>Leg room service</th>\n",
              "      <th>Baggage handling</th>\n",
              "      <th>Checkin service</th>\n",
              "      <th>Inflight service</th>\n",
              "      <th>Cleanliness</th>\n",
              "      <th>Departure Delay in Minutes</th>\n",
              "      <th>Arrival Delay in Minutes</th>\n",
              "    </tr>\n",
              "  </thead>\n",
              "  <tbody>\n",
              "    <tr>\n",
              "      <th>count</th>\n",
              "      <td>103904.000000</td>\n",
              "      <td>103904.000000</td>\n",
              "      <td>103904.000000</td>\n",
              "      <td>103904.000000</td>\n",
              "      <td>103904.000000</td>\n",
              "      <td>103904.000000</td>\n",
              "      <td>103904.000000</td>\n",
              "      <td>103904.000000</td>\n",
              "      <td>103904.000000</td>\n",
              "      <td>103904.000000</td>\n",
              "      <td>103904.000000</td>\n",
              "      <td>103904.000000</td>\n",
              "      <td>103904.000000</td>\n",
              "      <td>103904.000000</td>\n",
              "      <td>103904.000000</td>\n",
              "      <td>103904.000000</td>\n",
              "      <td>103904.000000</td>\n",
              "      <td>103904.000000</td>\n",
              "    </tr>\n",
              "    <tr>\n",
              "      <th>mean</th>\n",
              "      <td>39.379706</td>\n",
              "      <td>1189.448375</td>\n",
              "      <td>2.729683</td>\n",
              "      <td>3.060296</td>\n",
              "      <td>2.756901</td>\n",
              "      <td>2.976883</td>\n",
              "      <td>3.202129</td>\n",
              "      <td>3.250375</td>\n",
              "      <td>3.439396</td>\n",
              "      <td>3.358158</td>\n",
              "      <td>3.382363</td>\n",
              "      <td>3.351055</td>\n",
              "      <td>3.631833</td>\n",
              "      <td>3.304290</td>\n",
              "      <td>3.640428</td>\n",
              "      <td>3.286351</td>\n",
              "      <td>14.815618</td>\n",
              "      <td>15.133392</td>\n",
              "    </tr>\n",
              "    <tr>\n",
              "      <th>std</th>\n",
              "      <td>15.114964</td>\n",
              "      <td>997.147281</td>\n",
              "      <td>1.327829</td>\n",
              "      <td>1.525075</td>\n",
              "      <td>1.398929</td>\n",
              "      <td>1.277621</td>\n",
              "      <td>1.329533</td>\n",
              "      <td>1.349509</td>\n",
              "      <td>1.319088</td>\n",
              "      <td>1.332991</td>\n",
              "      <td>1.288354</td>\n",
              "      <td>1.315605</td>\n",
              "      <td>1.180903</td>\n",
              "      <td>1.265396</td>\n",
              "      <td>1.175663</td>\n",
              "      <td>1.312273</td>\n",
              "      <td>38.230901</td>\n",
              "      <td>38.649776</td>\n",
              "    </tr>\n",
              "    <tr>\n",
              "      <th>min</th>\n",
              "      <td>7.000000</td>\n",
              "      <td>31.000000</td>\n",
              "      <td>0.000000</td>\n",
              "      <td>0.000000</td>\n",
              "      <td>0.000000</td>\n",
              "      <td>0.000000</td>\n",
              "      <td>0.000000</td>\n",
              "      <td>0.000000</td>\n",
              "      <td>0.000000</td>\n",
              "      <td>0.000000</td>\n",
              "      <td>0.000000</td>\n",
              "      <td>0.000000</td>\n",
              "      <td>1.000000</td>\n",
              "      <td>0.000000</td>\n",
              "      <td>0.000000</td>\n",
              "      <td>0.000000</td>\n",
              "      <td>0.000000</td>\n",
              "      <td>0.000000</td>\n",
              "    </tr>\n",
              "    <tr>\n",
              "      <th>25%</th>\n",
              "      <td>27.000000</td>\n",
              "      <td>414.000000</td>\n",
              "      <td>2.000000</td>\n",
              "      <td>2.000000</td>\n",
              "      <td>2.000000</td>\n",
              "      <td>2.000000</td>\n",
              "      <td>2.000000</td>\n",
              "      <td>2.000000</td>\n",
              "      <td>2.000000</td>\n",
              "      <td>2.000000</td>\n",
              "      <td>2.000000</td>\n",
              "      <td>2.000000</td>\n",
              "      <td>3.000000</td>\n",
              "      <td>3.000000</td>\n",
              "      <td>3.000000</td>\n",
              "      <td>2.000000</td>\n",
              "      <td>0.000000</td>\n",
              "      <td>0.000000</td>\n",
              "    </tr>\n",
              "    <tr>\n",
              "      <th>50%</th>\n",
              "      <td>40.000000</td>\n",
              "      <td>843.000000</td>\n",
              "      <td>3.000000</td>\n",
              "      <td>3.000000</td>\n",
              "      <td>3.000000</td>\n",
              "      <td>3.000000</td>\n",
              "      <td>3.000000</td>\n",
              "      <td>3.000000</td>\n",
              "      <td>4.000000</td>\n",
              "      <td>4.000000</td>\n",
              "      <td>4.000000</td>\n",
              "      <td>4.000000</td>\n",
              "      <td>4.000000</td>\n",
              "      <td>3.000000</td>\n",
              "      <td>4.000000</td>\n",
              "      <td>3.000000</td>\n",
              "      <td>0.000000</td>\n",
              "      <td>0.000000</td>\n",
              "    </tr>\n",
              "    <tr>\n",
              "      <th>75%</th>\n",
              "      <td>51.000000</td>\n",
              "      <td>1743.000000</td>\n",
              "      <td>4.000000</td>\n",
              "      <td>4.000000</td>\n",
              "      <td>4.000000</td>\n",
              "      <td>4.000000</td>\n",
              "      <td>4.000000</td>\n",
              "      <td>4.000000</td>\n",
              "      <td>5.000000</td>\n",
              "      <td>4.000000</td>\n",
              "      <td>4.000000</td>\n",
              "      <td>4.000000</td>\n",
              "      <td>5.000000</td>\n",
              "      <td>4.000000</td>\n",
              "      <td>5.000000</td>\n",
              "      <td>4.000000</td>\n",
              "      <td>12.000000</td>\n",
              "      <td>13.000000</td>\n",
              "    </tr>\n",
              "    <tr>\n",
              "      <th>max</th>\n",
              "      <td>85.000000</td>\n",
              "      <td>4983.000000</td>\n",
              "      <td>5.000000</td>\n",
              "      <td>5.000000</td>\n",
              "      <td>5.000000</td>\n",
              "      <td>5.000000</td>\n",
              "      <td>5.000000</td>\n",
              "      <td>5.000000</td>\n",
              "      <td>5.000000</td>\n",
              "      <td>5.000000</td>\n",
              "      <td>5.000000</td>\n",
              "      <td>5.000000</td>\n",
              "      <td>5.000000</td>\n",
              "      <td>5.000000</td>\n",
              "      <td>5.000000</td>\n",
              "      <td>5.000000</td>\n",
              "      <td>1592.000000</td>\n",
              "      <td>1584.000000</td>\n",
              "    </tr>\n",
              "  </tbody>\n",
              "</table>\n",
              "</div>"
            ],
            "text/plain": [
              "                 Age  ...  Arrival Delay in Minutes\n",
              "count  103904.000000  ...             103904.000000\n",
              "mean       39.379706  ...                 15.133392\n",
              "std        15.114964  ...                 38.649776\n",
              "min         7.000000  ...                  0.000000\n",
              "25%        27.000000  ...                  0.000000\n",
              "50%        40.000000  ...                  0.000000\n",
              "75%        51.000000  ...                 13.000000\n",
              "max        85.000000  ...               1584.000000\n",
              "\n",
              "[8 rows x 18 columns]"
            ]
          },
          "execution_count": 45,
          "metadata": {},
          "output_type": "execute_result"
        }
      ]
    },
    {
      "cell_type": "code",
      "metadata": {
        "colab": {
          "base_uri": "https://localhost:8080/",
          "height": 351
        },
        "id": "HQ2mnWp_kAVy",
        "outputId": "208a004a-d9ea-4d54-aeb1-b8cb71f6ee45"
      },
      "source": [
        "airline_test.describe()"
      ],
      "execution_count": null,
      "outputs": [
        {
          "data": {
            "text/html": [
              "<div>\n",
              "<style scoped>\n",
              "    .dataframe tbody tr th:only-of-type {\n",
              "        vertical-align: middle;\n",
              "    }\n",
              "\n",
              "    .dataframe tbody tr th {\n",
              "        vertical-align: top;\n",
              "    }\n",
              "\n",
              "    .dataframe thead th {\n",
              "        text-align: right;\n",
              "    }\n",
              "</style>\n",
              "<table border=\"1\" class=\"dataframe\">\n",
              "  <thead>\n",
              "    <tr style=\"text-align: right;\">\n",
              "      <th></th>\n",
              "      <th>Age</th>\n",
              "      <th>Flight Distance</th>\n",
              "      <th>Inflight wifi service</th>\n",
              "      <th>Departure/Arrival time convenient</th>\n",
              "      <th>Ease of Online booking</th>\n",
              "      <th>Gate location</th>\n",
              "      <th>Food and drink</th>\n",
              "      <th>Online boarding</th>\n",
              "      <th>Seat comfort</th>\n",
              "      <th>Inflight entertainment</th>\n",
              "      <th>On-board service</th>\n",
              "      <th>Leg room service</th>\n",
              "      <th>Baggage handling</th>\n",
              "      <th>Checkin service</th>\n",
              "      <th>Inflight service</th>\n",
              "      <th>Cleanliness</th>\n",
              "      <th>Departure Delay in Minutes</th>\n",
              "      <th>Arrival Delay in Minutes</th>\n",
              "    </tr>\n",
              "  </thead>\n",
              "  <tbody>\n",
              "    <tr>\n",
              "      <th>count</th>\n",
              "      <td>25976.000000</td>\n",
              "      <td>25976.000000</td>\n",
              "      <td>25976.000000</td>\n",
              "      <td>25976.000000</td>\n",
              "      <td>25976.000000</td>\n",
              "      <td>25976.000000</td>\n",
              "      <td>25976.000000</td>\n",
              "      <td>25976.000000</td>\n",
              "      <td>25976.000000</td>\n",
              "      <td>25976.000000</td>\n",
              "      <td>25976.000000</td>\n",
              "      <td>25976.000000</td>\n",
              "      <td>25976.000000</td>\n",
              "      <td>25976.000000</td>\n",
              "      <td>25976.000000</td>\n",
              "      <td>25976.000000</td>\n",
              "      <td>25976.00000</td>\n",
              "      <td>25976.000000</td>\n",
              "    </tr>\n",
              "    <tr>\n",
              "      <th>mean</th>\n",
              "      <td>39.620958</td>\n",
              "      <td>1193.788459</td>\n",
              "      <td>2.724746</td>\n",
              "      <td>3.046812</td>\n",
              "      <td>2.756775</td>\n",
              "      <td>2.977094</td>\n",
              "      <td>3.215353</td>\n",
              "      <td>3.261665</td>\n",
              "      <td>3.449222</td>\n",
              "      <td>3.357753</td>\n",
              "      <td>3.385664</td>\n",
              "      <td>3.350169</td>\n",
              "      <td>3.633238</td>\n",
              "      <td>3.314175</td>\n",
              "      <td>3.649253</td>\n",
              "      <td>3.286226</td>\n",
              "      <td>14.30609</td>\n",
              "      <td>14.693756</td>\n",
              "    </tr>\n",
              "    <tr>\n",
              "      <th>std</th>\n",
              "      <td>15.135685</td>\n",
              "      <td>998.683999</td>\n",
              "      <td>1.335384</td>\n",
              "      <td>1.533371</td>\n",
              "      <td>1.412951</td>\n",
              "      <td>1.282133</td>\n",
              "      <td>1.331506</td>\n",
              "      <td>1.355536</td>\n",
              "      <td>1.320090</td>\n",
              "      <td>1.338299</td>\n",
              "      <td>1.282088</td>\n",
              "      <td>1.318862</td>\n",
              "      <td>1.176525</td>\n",
              "      <td>1.269332</td>\n",
              "      <td>1.180681</td>\n",
              "      <td>1.319330</td>\n",
              "      <td>37.42316</td>\n",
              "      <td>37.466787</td>\n",
              "    </tr>\n",
              "    <tr>\n",
              "      <th>min</th>\n",
              "      <td>7.000000</td>\n",
              "      <td>31.000000</td>\n",
              "      <td>0.000000</td>\n",
              "      <td>0.000000</td>\n",
              "      <td>0.000000</td>\n",
              "      <td>1.000000</td>\n",
              "      <td>0.000000</td>\n",
              "      <td>0.000000</td>\n",
              "      <td>1.000000</td>\n",
              "      <td>0.000000</td>\n",
              "      <td>0.000000</td>\n",
              "      <td>0.000000</td>\n",
              "      <td>1.000000</td>\n",
              "      <td>1.000000</td>\n",
              "      <td>0.000000</td>\n",
              "      <td>0.000000</td>\n",
              "      <td>0.00000</td>\n",
              "      <td>0.000000</td>\n",
              "    </tr>\n",
              "    <tr>\n",
              "      <th>25%</th>\n",
              "      <td>27.000000</td>\n",
              "      <td>414.000000</td>\n",
              "      <td>2.000000</td>\n",
              "      <td>2.000000</td>\n",
              "      <td>2.000000</td>\n",
              "      <td>2.000000</td>\n",
              "      <td>2.000000</td>\n",
              "      <td>2.000000</td>\n",
              "      <td>2.000000</td>\n",
              "      <td>2.000000</td>\n",
              "      <td>2.000000</td>\n",
              "      <td>2.000000</td>\n",
              "      <td>3.000000</td>\n",
              "      <td>3.000000</td>\n",
              "      <td>3.000000</td>\n",
              "      <td>2.000000</td>\n",
              "      <td>0.00000</td>\n",
              "      <td>0.000000</td>\n",
              "    </tr>\n",
              "    <tr>\n",
              "      <th>50%</th>\n",
              "      <td>40.000000</td>\n",
              "      <td>849.000000</td>\n",
              "      <td>3.000000</td>\n",
              "      <td>3.000000</td>\n",
              "      <td>3.000000</td>\n",
              "      <td>3.000000</td>\n",
              "      <td>3.000000</td>\n",
              "      <td>4.000000</td>\n",
              "      <td>4.000000</td>\n",
              "      <td>4.000000</td>\n",
              "      <td>4.000000</td>\n",
              "      <td>4.000000</td>\n",
              "      <td>4.000000</td>\n",
              "      <td>3.000000</td>\n",
              "      <td>4.000000</td>\n",
              "      <td>3.000000</td>\n",
              "      <td>0.00000</td>\n",
              "      <td>0.000000</td>\n",
              "    </tr>\n",
              "    <tr>\n",
              "      <th>75%</th>\n",
              "      <td>51.000000</td>\n",
              "      <td>1744.000000</td>\n",
              "      <td>4.000000</td>\n",
              "      <td>4.000000</td>\n",
              "      <td>4.000000</td>\n",
              "      <td>4.000000</td>\n",
              "      <td>4.000000</td>\n",
              "      <td>4.000000</td>\n",
              "      <td>5.000000</td>\n",
              "      <td>4.000000</td>\n",
              "      <td>4.000000</td>\n",
              "      <td>4.000000</td>\n",
              "      <td>5.000000</td>\n",
              "      <td>4.000000</td>\n",
              "      <td>5.000000</td>\n",
              "      <td>4.000000</td>\n",
              "      <td>12.00000</td>\n",
              "      <td>13.000000</td>\n",
              "    </tr>\n",
              "    <tr>\n",
              "      <th>max</th>\n",
              "      <td>85.000000</td>\n",
              "      <td>4983.000000</td>\n",
              "      <td>5.000000</td>\n",
              "      <td>5.000000</td>\n",
              "      <td>5.000000</td>\n",
              "      <td>5.000000</td>\n",
              "      <td>5.000000</td>\n",
              "      <td>5.000000</td>\n",
              "      <td>5.000000</td>\n",
              "      <td>5.000000</td>\n",
              "      <td>5.000000</td>\n",
              "      <td>5.000000</td>\n",
              "      <td>5.000000</td>\n",
              "      <td>5.000000</td>\n",
              "      <td>5.000000</td>\n",
              "      <td>5.000000</td>\n",
              "      <td>1128.00000</td>\n",
              "      <td>1115.000000</td>\n",
              "    </tr>\n",
              "  </tbody>\n",
              "</table>\n",
              "</div>"
            ],
            "text/plain": [
              "                Age  ...  Arrival Delay in Minutes\n",
              "count  25976.000000  ...              25976.000000\n",
              "mean      39.620958  ...                 14.693756\n",
              "std       15.135685  ...                 37.466787\n",
              "min        7.000000  ...                  0.000000\n",
              "25%       27.000000  ...                  0.000000\n",
              "50%       40.000000  ...                  0.000000\n",
              "75%       51.000000  ...                 13.000000\n",
              "max       85.000000  ...               1115.000000\n",
              "\n",
              "[8 rows x 18 columns]"
            ]
          },
          "execution_count": 46,
          "metadata": {},
          "output_type": "execute_result"
        }
      ]
    },
    {
      "cell_type": "markdown",
      "metadata": {
        "id": "AOgTq6pxjhNO"
      },
      "source": [
        "All the services have 0 as minimum values either in train or test dataframe, except \"Baggage handling\" in both dataframes its minimum value is 1."
      ]
    },
    {
      "cell_type": "markdown",
      "metadata": {
        "id": "4tghsLkDkUUw"
      },
      "source": [
        "All services that have 0 value are going to be in one list called \"services_columns\" and then remove that value using for loop over the list."
      ]
    },
    {
      "cell_type": "code",
      "metadata": {
        "id": "tVw37hYG-HDD"
      },
      "source": [
        "services_columns = [\"Inflight wifi service\", \"Departure/Arrival time convenient\", \"Ease of Online booking\", \"Gate location\",\"Food and drink\",\n",
        "                    \"Online boarding\", \"Seat comfort\", \"Inflight entertainment\", \"On-board service\",\"Leg room service\",\"Checkin service\",\n",
        "                    \"Inflight service\",\"Cleanliness\"]\n",
        "\n",
        "#take only the rows that have values greater than 0 and update the dataframe\n",
        "for column in services_columns:\n",
        "  airline_train = airline_train[ airline_train[column] > 0]\n",
        "  airline_test = airline_test[ airline_test[column] > 0]\n"
      ],
      "execution_count": null,
      "outputs": []
    },
    {
      "cell_type": "markdown",
      "metadata": {
        "id": "GIi-4YJeoMaS"
      },
      "source": [
        "The following two cells check the minimum value for all the services."
      ]
    },
    {
      "cell_type": "code",
      "metadata": {
        "colab": {
          "base_uri": "https://localhost:8080/"
        },
        "id": "dT1ouFmdHreP",
        "outputId": "a3e806f8-946b-4fbd-bfee-64e2d0940947"
      },
      "source": [
        "for column in services_columns:\n",
        "  if airline_train[column].min() == 0:\n",
        "    print(\"True\")\n",
        "  print(\"False\")"
      ],
      "execution_count": null,
      "outputs": [
        {
          "name": "stdout",
          "output_type": "stream",
          "text": [
            "False\n",
            "False\n",
            "False\n",
            "False\n",
            "False\n",
            "False\n",
            "False\n",
            "False\n",
            "False\n",
            "False\n",
            "False\n",
            "False\n",
            "False\n"
          ]
        }
      ]
    },
    {
      "cell_type": "code",
      "metadata": {
        "colab": {
          "base_uri": "https://localhost:8080/"
        },
        "id": "BF2uFWLVIiw5",
        "outputId": "78618d4a-98a0-48a8-d315-633e01f17c4d"
      },
      "source": [
        "for column in services_columns:\n",
        "  if airline_test[column].min() == 0:\n",
        "    print(\"True\")\n",
        "  print(\"False\")"
      ],
      "execution_count": null,
      "outputs": [
        {
          "name": "stdout",
          "output_type": "stream",
          "text": [
            "False\n",
            "False\n",
            "False\n",
            "False\n",
            "False\n",
            "False\n",
            "False\n",
            "False\n",
            "False\n",
            "False\n",
            "False\n",
            "False\n",
            "False\n"
          ]
        }
      ]
    },
    {
      "cell_type": "markdown",
      "metadata": {
        "id": "Z_F85EFLK2gH"
      },
      "source": [
        "The minimum value of all services in both dataframes is not 0."
      ]
    },
    {
      "cell_type": "markdown",
      "metadata": {
        "id": "__DzcMBwxCOu"
      },
      "source": [
        "The following function is going to be used to return outliers for upperbound and lowerbound values through applying 1.5 IQR rule to remove outliers."
      ]
    },
    {
      "cell_type": "code",
      "metadata": {
        "id": "eJ49RLLmxSzR"
      },
      "source": [
        "def outlier_treatment(datacolumn):\n",
        " sorted(datacolumn)\n",
        " Q1,Q3 = np.percentile(datacolumn , [25,75])\n",
        " IQR = Q3 - Q1\n",
        " lower_range = Q1 - (1.5 * IQR)\n",
        " upper_range = Q3 + (1.5 * IQR)\n",
        " return lower_range,upper_range"
      ],
      "execution_count": null,
      "outputs": []
    },
    {
      "cell_type": "markdown",
      "metadata": {
        "id": "v741vV4c5P9F"
      },
      "source": [
        "The following function check and remove outliers from \"Flight Distance\", \"Departure Delay in Minutes\", and \"Arrival Delay in Minutes\" in train and test dataframes."
      ]
    },
    {
      "cell_type": "code",
      "metadata": {
        "id": "Qyy6P0Q5wtAM"
      },
      "source": [
        "def check_remove_outliers(df):\n",
        "  con_var = [\"Flight Distance\", \"Departure Delay in Minutes\", \"Arrival Delay in Minutes\"]\n",
        "  for column in con_var:\n",
        "    #store uppercound and lowerbound values that returned from \"outliers_treatment\" function\n",
        "    lowerbound,upperbound = outlier_treatment(df[column])\n",
        "    #check for outliers\n",
        "    df[(df[column] < lowerbound) | (df[column] > upperbound)]\n",
        "    #remove outliers\n",
        "    df.drop(df[ (df[column] > upperbound) | (df[column] < lowerbound) ].index , inplace=True)"
      ],
      "execution_count": null,
      "outputs": []
    },
    {
      "cell_type": "markdown",
      "metadata": {
        "id": "cAn-YKZx6P23"
      },
      "source": [
        "Call check_remove_outliers() function to remove the outliers."
      ]
    },
    {
      "cell_type": "code",
      "metadata": {
        "id": "We-Jk4WF6A25"
      },
      "source": [
        "check_remove_outliers(airline_train)\n",
        "check_remove_outliers(airline_test)"
      ],
      "execution_count": null,
      "outputs": []
    },
    {
      "cell_type": "markdown",
      "metadata": {
        "id": "yqbEB8TqljXF"
      },
      "source": [
        "Check the boxplot again after removing outliers."
      ]
    },
    {
      "cell_type": "code",
      "metadata": {
        "colab": {
          "base_uri": "https://localhost:8080/",
          "height": 309
        },
        "id": "S9qL5A3V6hmz",
        "outputId": "9a4c1c21-13d7-44a8-a101-7b06344fff0d"
      },
      "source": [
        "viz_boxplot(airline_train)"
      ],
      "execution_count": null,
      "outputs": [
        {
          "data": {
            "image/png": "[encoded data removed]",
            "text/plain": [
              "<Figure size 864x288 with 4 Axes>"
            ]
          },
          "metadata": {
            "needs_background": "light"
          },
          "output_type": "display_data"
        }
      ]
    },
    {
      "cell_type": "code",
      "metadata": {
        "colab": {
          "base_uri": "https://localhost:8080/",
          "height": 309
        },
        "id": "Ln5W_uvo_xiB",
        "outputId": "eb44c3e0-14f4-4ef9-a2eb-9ea29b3a63cc"
      },
      "source": [
        "viz_boxplot(airline_test)"
      ],
      "execution_count": null,
      "outputs": [
        {
          "data": {
            "image/png": "[encoded data removed]",
            "text/plain": [
              "<Figure size 864x288 with 4 Axes>"
            ]
          },
          "metadata": {
            "needs_background": "light"
          },
          "output_type": "display_data"
        }
      ]
    },
    {
      "cell_type": "markdown",
      "metadata": {
        "id": "3zduHTzPRerN"
      },
      "source": [
        "It is obvious that the three columns are in the scale of IQR rule for outliers."
      ]
    },
    {
      "cell_type": "markdown",
      "metadata": {
        "id": "2cyaC9TwmRGZ"
      },
      "source": [
        "##Data pre-processing"
      ]
    },
    {
      "cell_type": "markdown",
      "metadata": {
        "id": "wWA_zzvEWVFs"
      },
      "source": [
        "Do one-hot encoding for all categorical variables unless target variable"
      ]
    },
    {
      "cell_type": "code",
      "metadata": {
        "id": "HCXHPMxZmT_X"
      },
      "source": [
        "#Categrical attributes\n",
        "airline_train = pd.get_dummies(airline_train, columns=['Gender','Customer Type','Type of Travel', 'Class'])\n",
        "airline_test = pd.get_dummies(airline_test, columns=['Gender','Customer Type','Type of Travel', 'Class'])"
      ],
      "execution_count": null,
      "outputs": []
    },
    {
      "cell_type": "markdown",
      "metadata": {
        "id": "vGP_8j5VWchM"
      },
      "source": [
        "Check data after it is encoded "
      ]
    },
    {
      "cell_type": "code",
      "metadata": {
        "colab": {
          "base_uri": "https://localhost:8080/",
          "height": 330
        },
        "id": "QBKL7HLmmYsg",
        "outputId": "67265d67-e6ef-44da-a4d0-376a141c83a2"
      },
      "source": [
        "airline_train.head(5)"
      ],
      "execution_count": null,
      "outputs": [
        {
          "data": {
            "text/html": [
              "<div>\n",
              "<style scoped>\n",
              "    .dataframe tbody tr th:only-of-type {\n",
              "        vertical-align: middle;\n",
              "    }\n",
              "\n",
              "    .dataframe tbody tr th {\n",
              "        vertical-align: top;\n",
              "    }\n",
              "\n",
              "    .dataframe thead th {\n",
              "        text-align: right;\n",
              "    }\n",
              "</style>\n",
              "<table border=\"1\" class=\"dataframe\">\n",
              "  <thead>\n",
              "    <tr style=\"text-align: right;\">\n",
              "      <th></th>\n",
              "      <th>Age</th>\n",
              "      <th>Flight Distance</th>\n",
              "      <th>Inflight wifi service</th>\n",
              "      <th>Departure/Arrival time convenient</th>\n",
              "      <th>Ease of Online booking</th>\n",
              "      <th>Gate location</th>\n",
              "      <th>Food and drink</th>\n",
              "      <th>Online boarding</th>\n",
              "      <th>Seat comfort</th>\n",
              "      <th>Inflight entertainment</th>\n",
              "      <th>On-board service</th>\n",
              "      <th>Leg room service</th>\n",
              "      <th>Baggage handling</th>\n",
              "      <th>Checkin service</th>\n",
              "      <th>Inflight service</th>\n",
              "      <th>Cleanliness</th>\n",
              "      <th>Departure Delay in Minutes</th>\n",
              "      <th>Arrival Delay in Minutes</th>\n",
              "      <th>satisfaction</th>\n",
              "      <th>Gender_Female</th>\n",
              "      <th>Gender_Male</th>\n",
              "      <th>Customer Type_Loyal Customer</th>\n",
              "      <th>Customer Type_disloyal Customer</th>\n",
              "      <th>Type of Travel_Business travel</th>\n",
              "      <th>Type of Travel_Personal Travel</th>\n",
              "      <th>Class_Business</th>\n",
              "      <th>Class_Eco</th>\n",
              "      <th>Class_Eco Plus</th>\n",
              "    </tr>\n",
              "  </thead>\n",
              "  <tbody>\n",
              "    <tr>\n",
              "      <th>0</th>\n",
              "      <td>13</td>\n",
              "      <td>460</td>\n",
              "      <td>3</td>\n",
              "      <td>4</td>\n",
              "      <td>3</td>\n",
              "      <td>1</td>\n",
              "      <td>5</td>\n",
              "      <td>3</td>\n",
              "      <td>5</td>\n",
              "      <td>5</td>\n",
              "      <td>4</td>\n",
              "      <td>3</td>\n",
              "      <td>4</td>\n",
              "      <td>4</td>\n",
              "      <td>5</td>\n",
              "      <td>5</td>\n",
              "      <td>25</td>\n",
              "      <td>18.0</td>\n",
              "      <td>neutral or dissatisfied</td>\n",
              "      <td>0</td>\n",
              "      <td>1</td>\n",
              "      <td>1</td>\n",
              "      <td>0</td>\n",
              "      <td>0</td>\n",
              "      <td>1</td>\n",
              "      <td>0</td>\n",
              "      <td>0</td>\n",
              "      <td>1</td>\n",
              "    </tr>\n",
              "    <tr>\n",
              "      <th>1</th>\n",
              "      <td>25</td>\n",
              "      <td>235</td>\n",
              "      <td>3</td>\n",
              "      <td>2</td>\n",
              "      <td>3</td>\n",
              "      <td>3</td>\n",
              "      <td>1</td>\n",
              "      <td>3</td>\n",
              "      <td>1</td>\n",
              "      <td>1</td>\n",
              "      <td>1</td>\n",
              "      <td>5</td>\n",
              "      <td>3</td>\n",
              "      <td>1</td>\n",
              "      <td>4</td>\n",
              "      <td>1</td>\n",
              "      <td>1</td>\n",
              "      <td>6.0</td>\n",
              "      <td>neutral or dissatisfied</td>\n",
              "      <td>0</td>\n",
              "      <td>1</td>\n",
              "      <td>0</td>\n",
              "      <td>1</td>\n",
              "      <td>1</td>\n",
              "      <td>0</td>\n",
              "      <td>1</td>\n",
              "      <td>0</td>\n",
              "      <td>0</td>\n",
              "    </tr>\n",
              "    <tr>\n",
              "      <th>2</th>\n",
              "      <td>26</td>\n",
              "      <td>1142</td>\n",
              "      <td>2</td>\n",
              "      <td>2</td>\n",
              "      <td>2</td>\n",
              "      <td>2</td>\n",
              "      <td>5</td>\n",
              "      <td>5</td>\n",
              "      <td>5</td>\n",
              "      <td>5</td>\n",
              "      <td>4</td>\n",
              "      <td>3</td>\n",
              "      <td>4</td>\n",
              "      <td>4</td>\n",
              "      <td>4</td>\n",
              "      <td>5</td>\n",
              "      <td>0</td>\n",
              "      <td>0.0</td>\n",
              "      <td>satisfied</td>\n",
              "      <td>1</td>\n",
              "      <td>0</td>\n",
              "      <td>1</td>\n",
              "      <td>0</td>\n",
              "      <td>1</td>\n",
              "      <td>0</td>\n",
              "      <td>1</td>\n",
              "      <td>0</td>\n",
              "      <td>0</td>\n",
              "    </tr>\n",
              "    <tr>\n",
              "      <th>3</th>\n",
              "      <td>25</td>\n",
              "      <td>562</td>\n",
              "      <td>2</td>\n",
              "      <td>5</td>\n",
              "      <td>5</td>\n",
              "      <td>5</td>\n",
              "      <td>2</td>\n",
              "      <td>2</td>\n",
              "      <td>2</td>\n",
              "      <td>2</td>\n",
              "      <td>2</td>\n",
              "      <td>5</td>\n",
              "      <td>3</td>\n",
              "      <td>1</td>\n",
              "      <td>4</td>\n",
              "      <td>2</td>\n",
              "      <td>11</td>\n",
              "      <td>9.0</td>\n",
              "      <td>neutral or dissatisfied</td>\n",
              "      <td>1</td>\n",
              "      <td>0</td>\n",
              "      <td>1</td>\n",
              "      <td>0</td>\n",
              "      <td>1</td>\n",
              "      <td>0</td>\n",
              "      <td>1</td>\n",
              "      <td>0</td>\n",
              "      <td>0</td>\n",
              "    </tr>\n",
              "    <tr>\n",
              "      <th>4</th>\n",
              "      <td>61</td>\n",
              "      <td>214</td>\n",
              "      <td>3</td>\n",
              "      <td>3</td>\n",
              "      <td>3</td>\n",
              "      <td>3</td>\n",
              "      <td>4</td>\n",
              "      <td>5</td>\n",
              "      <td>5</td>\n",
              "      <td>3</td>\n",
              "      <td>3</td>\n",
              "      <td>4</td>\n",
              "      <td>4</td>\n",
              "      <td>3</td>\n",
              "      <td>3</td>\n",
              "      <td>3</td>\n",
              "      <td>0</td>\n",
              "      <td>0.0</td>\n",
              "      <td>satisfied</td>\n",
              "      <td>0</td>\n",
              "      <td>1</td>\n",
              "      <td>1</td>\n",
              "      <td>0</td>\n",
              "      <td>1</td>\n",
              "      <td>0</td>\n",
              "      <td>1</td>\n",
              "      <td>0</td>\n",
              "      <td>0</td>\n",
              "    </tr>\n",
              "  </tbody>\n",
              "</table>\n",
              "</div>"
            ],
            "text/plain": [
              "   Age  Flight Distance  ...  Class_Eco  Class_Eco Plus\n",
              "0   13              460  ...          0               1\n",
              "1   25              235  ...          0               0\n",
              "2   26             1142  ...          0               0\n",
              "3   25              562  ...          0               0\n",
              "4   61              214  ...          0               0\n",
              "\n",
              "[5 rows x 28 columns]"
            ]
          },
          "execution_count": 112,
          "metadata": {},
          "output_type": "execute_result"
        }
      ]
    },
    {
      "cell_type": "code",
      "metadata": {
        "colab": {
          "base_uri": "https://localhost:8080/",
          "height": 360
        },
        "id": "70gsyI6GX2YT",
        "outputId": "089bfcca-1408-403a-db18-6924c1b7a57d"
      },
      "source": [
        "airline_test.head(5)"
      ],
      "execution_count": null,
      "outputs": [
        {
          "data": {
            "text/html": [
              "<div>\n",
              "<style scoped>\n",
              "    .dataframe tbody tr th:only-of-type {\n",
              "        vertical-align: middle;\n",
              "    }\n",
              "\n",
              "    .dataframe tbody tr th {\n",
              "        vertical-align: top;\n",
              "    }\n",
              "\n",
              "    .dataframe thead th {\n",
              "        text-align: right;\n",
              "    }\n",
              "</style>\n",
              "<table border=\"1\" class=\"dataframe\">\n",
              "  <thead>\n",
              "    <tr style=\"text-align: right;\">\n",
              "      <th></th>\n",
              "      <th>Gender</th>\n",
              "      <th>Customer Type</th>\n",
              "      <th>Age</th>\n",
              "      <th>Type of Travel</th>\n",
              "      <th>Class</th>\n",
              "      <th>Flight Distance</th>\n",
              "      <th>Inflight wifi service</th>\n",
              "      <th>Departure/Arrival time convenient</th>\n",
              "      <th>Ease of Online booking</th>\n",
              "      <th>Gate location</th>\n",
              "      <th>Food and drink</th>\n",
              "      <th>Online boarding</th>\n",
              "      <th>Seat comfort</th>\n",
              "      <th>Inflight entertainment</th>\n",
              "      <th>On-board service</th>\n",
              "      <th>Leg room service</th>\n",
              "      <th>Baggage handling</th>\n",
              "      <th>Checkin service</th>\n",
              "      <th>Inflight service</th>\n",
              "      <th>Cleanliness</th>\n",
              "      <th>Departure Delay in Minutes</th>\n",
              "      <th>Arrival Delay in Minutes</th>\n",
              "      <th>satisfaction</th>\n",
              "    </tr>\n",
              "  </thead>\n",
              "  <tbody>\n",
              "    <tr>\n",
              "      <th>1</th>\n",
              "      <td>Female</td>\n",
              "      <td>Loyal Customer</td>\n",
              "      <td>36</td>\n",
              "      <td>Business travel</td>\n",
              "      <td>Business</td>\n",
              "      <td>2863</td>\n",
              "      <td>1</td>\n",
              "      <td>1</td>\n",
              "      <td>3</td>\n",
              "      <td>1</td>\n",
              "      <td>5</td>\n",
              "      <td>4</td>\n",
              "      <td>5</td>\n",
              "      <td>4</td>\n",
              "      <td>4</td>\n",
              "      <td>4</td>\n",
              "      <td>4</td>\n",
              "      <td>3</td>\n",
              "      <td>4</td>\n",
              "      <td>5</td>\n",
              "      <td>0</td>\n",
              "      <td>0.0</td>\n",
              "      <td>satisfied</td>\n",
              "    </tr>\n",
              "    <tr>\n",
              "      <th>5</th>\n",
              "      <td>Male</td>\n",
              "      <td>Loyal Customer</td>\n",
              "      <td>16</td>\n",
              "      <td>Business travel</td>\n",
              "      <td>Eco</td>\n",
              "      <td>311</td>\n",
              "      <td>3</td>\n",
              "      <td>3</td>\n",
              "      <td>3</td>\n",
              "      <td>3</td>\n",
              "      <td>5</td>\n",
              "      <td>5</td>\n",
              "      <td>3</td>\n",
              "      <td>5</td>\n",
              "      <td>4</td>\n",
              "      <td>3</td>\n",
              "      <td>1</td>\n",
              "      <td>1</td>\n",
              "      <td>2</td>\n",
              "      <td>5</td>\n",
              "      <td>0</td>\n",
              "      <td>0.0</td>\n",
              "      <td>satisfied</td>\n",
              "    </tr>\n",
              "    <tr>\n",
              "      <th>8</th>\n",
              "      <td>Male</td>\n",
              "      <td>Loyal Customer</td>\n",
              "      <td>47</td>\n",
              "      <td>Business travel</td>\n",
              "      <td>Eco</td>\n",
              "      <td>556</td>\n",
              "      <td>5</td>\n",
              "      <td>2</td>\n",
              "      <td>2</td>\n",
              "      <td>2</td>\n",
              "      <td>5</td>\n",
              "      <td>5</td>\n",
              "      <td>5</td>\n",
              "      <td>5</td>\n",
              "      <td>2</td>\n",
              "      <td>2</td>\n",
              "      <td>5</td>\n",
              "      <td>3</td>\n",
              "      <td>3</td>\n",
              "      <td>5</td>\n",
              "      <td>1</td>\n",
              "      <td>0.0</td>\n",
              "      <td>satisfied</td>\n",
              "    </tr>\n",
              "    <tr>\n",
              "      <th>12</th>\n",
              "      <td>Female</td>\n",
              "      <td>Loyal Customer</td>\n",
              "      <td>46</td>\n",
              "      <td>Business travel</td>\n",
              "      <td>Business</td>\n",
              "      <td>1009</td>\n",
              "      <td>5</td>\n",
              "      <td>5</td>\n",
              "      <td>5</td>\n",
              "      <td>5</td>\n",
              "      <td>4</td>\n",
              "      <td>5</td>\n",
              "      <td>5</td>\n",
              "      <td>5</td>\n",
              "      <td>5</td>\n",
              "      <td>5</td>\n",
              "      <td>5</td>\n",
              "      <td>5</td>\n",
              "      <td>5</td>\n",
              "      <td>3</td>\n",
              "      <td>0</td>\n",
              "      <td>0.0</td>\n",
              "      <td>satisfied</td>\n",
              "    </tr>\n",
              "    <tr>\n",
              "      <th>16</th>\n",
              "      <td>Female</td>\n",
              "      <td>Loyal Customer</td>\n",
              "      <td>31</td>\n",
              "      <td>Business travel</td>\n",
              "      <td>Eco</td>\n",
              "      <td>728</td>\n",
              "      <td>2</td>\n",
              "      <td>5</td>\n",
              "      <td>5</td>\n",
              "      <td>5</td>\n",
              "      <td>2</td>\n",
              "      <td>2</td>\n",
              "      <td>2</td>\n",
              "      <td>2</td>\n",
              "      <td>4</td>\n",
              "      <td>3</td>\n",
              "      <td>3</td>\n",
              "      <td>4</td>\n",
              "      <td>3</td>\n",
              "      <td>2</td>\n",
              "      <td>2</td>\n",
              "      <td>0.0</td>\n",
              "      <td>neutral or dissatisfied</td>\n",
              "    </tr>\n",
              "  </tbody>\n",
              "</table>\n",
              "</div>"
            ],
            "text/plain": [
              "    Gender   Customer Type  ...  Arrival Delay in Minutes             satisfaction\n",
              "1   Female  Loyal Customer  ...                       0.0                satisfied\n",
              "5     Male  Loyal Customer  ...                       0.0                satisfied\n",
              "8     Male  Loyal Customer  ...                       0.0                satisfied\n",
              "12  Female  Loyal Customer  ...                       0.0                satisfied\n",
              "16  Female  Loyal Customer  ...                       0.0  neutral or dissatisfied\n",
              "\n",
              "[5 rows x 23 columns]"
            ]
          },
          "execution_count": 78,
          "metadata": {},
          "output_type": "execute_result"
        }
      ]
    },
    {
      "cell_type": "markdown",
      "metadata": {
        "id": "X872ECOSWoQ0"
      },
      "source": [
        "Encoding \"satisfaction\" which is target as 0 and 1."
      ]
    },
    {
      "cell_type": "code",
      "metadata": {
        "id": "nxW1SnMEmatE"
      },
      "source": [
        "airline_train[\"satisfaction\"] = LabelEncoder().fit_transform(airline_train[\"satisfaction\"]) \n",
        "airline_test[\"satisfaction\"] = LabelEncoder().fit_transform(airline_test[\"satisfaction\"]) "
      ],
      "execution_count": null,
      "outputs": []
    },
    {
      "cell_type": "markdown",
      "metadata": {
        "id": "kwFANCHEXsv-"
      },
      "source": [
        "check data after it is encoded "
      ]
    },
    {
      "cell_type": "code",
      "metadata": {
        "colab": {
          "base_uri": "https://localhost:8080/",
          "height": 278
        },
        "id": "El7tyEnWmcxR",
        "outputId": "65165439-9f89-414f-e0a1-c08d03bed619"
      },
      "source": [
        "airline_train.head(5)"
      ],
      "execution_count": null,
      "outputs": [
        {
          "data": {
            "text/html": [
              "<div>\n",
              "<style scoped>\n",
              "    .dataframe tbody tr th:only-of-type {\n",
              "        vertical-align: middle;\n",
              "    }\n",
              "\n",
              "    .dataframe tbody tr th {\n",
              "        vertical-align: top;\n",
              "    }\n",
              "\n",
              "    .dataframe thead th {\n",
              "        text-align: right;\n",
              "    }\n",
              "</style>\n",
              "<table border=\"1\" class=\"dataframe\">\n",
              "  <thead>\n",
              "    <tr style=\"text-align: right;\">\n",
              "      <th></th>\n",
              "      <th>Age</th>\n",
              "      <th>Flight Distance</th>\n",
              "      <th>Inflight wifi service</th>\n",
              "      <th>Departure/Arrival time convenient</th>\n",
              "      <th>Ease of Online booking</th>\n",
              "      <th>Gate location</th>\n",
              "      <th>Food and drink</th>\n",
              "      <th>Online boarding</th>\n",
              "      <th>Seat comfort</th>\n",
              "      <th>Inflight entertainment</th>\n",
              "      <th>On-board service</th>\n",
              "      <th>Leg room service</th>\n",
              "      <th>Baggage handling</th>\n",
              "      <th>Checkin service</th>\n",
              "      <th>Inflight service</th>\n",
              "      <th>Cleanliness</th>\n",
              "      <th>Departure Delay in Minutes</th>\n",
              "      <th>Arrival Delay in Minutes</th>\n",
              "      <th>satisfaction</th>\n",
              "      <th>Gender_Female</th>\n",
              "      <th>Gender_Male</th>\n",
              "      <th>Customer Type_Loyal Customer</th>\n",
              "      <th>Customer Type_disloyal Customer</th>\n",
              "      <th>Type of Travel_Business travel</th>\n",
              "      <th>Type of Travel_Personal Travel</th>\n",
              "      <th>Class_Business</th>\n",
              "      <th>Class_Eco</th>\n",
              "      <th>Class_Eco Plus</th>\n",
              "    </tr>\n",
              "  </thead>\n",
              "  <tbody>\n",
              "    <tr>\n",
              "      <th>0</th>\n",
              "      <td>13</td>\n",
              "      <td>460</td>\n",
              "      <td>3</td>\n",
              "      <td>4</td>\n",
              "      <td>3</td>\n",
              "      <td>1</td>\n",
              "      <td>5</td>\n",
              "      <td>3</td>\n",
              "      <td>5</td>\n",
              "      <td>5</td>\n",
              "      <td>4</td>\n",
              "      <td>3</td>\n",
              "      <td>4</td>\n",
              "      <td>4</td>\n",
              "      <td>5</td>\n",
              "      <td>5</td>\n",
              "      <td>25</td>\n",
              "      <td>18.0</td>\n",
              "      <td>0</td>\n",
              "      <td>0</td>\n",
              "      <td>1</td>\n",
              "      <td>1</td>\n",
              "      <td>0</td>\n",
              "      <td>0</td>\n",
              "      <td>1</td>\n",
              "      <td>0</td>\n",
              "      <td>0</td>\n",
              "      <td>1</td>\n",
              "    </tr>\n",
              "    <tr>\n",
              "      <th>1</th>\n",
              "      <td>25</td>\n",
              "      <td>235</td>\n",
              "      <td>3</td>\n",
              "      <td>2</td>\n",
              "      <td>3</td>\n",
              "      <td>3</td>\n",
              "      <td>1</td>\n",
              "      <td>3</td>\n",
              "      <td>1</td>\n",
              "      <td>1</td>\n",
              "      <td>1</td>\n",
              "      <td>5</td>\n",
              "      <td>3</td>\n",
              "      <td>1</td>\n",
              "      <td>4</td>\n",
              "      <td>1</td>\n",
              "      <td>1</td>\n",
              "      <td>6.0</td>\n",
              "      <td>0</td>\n",
              "      <td>0</td>\n",
              "      <td>1</td>\n",
              "      <td>0</td>\n",
              "      <td>1</td>\n",
              "      <td>1</td>\n",
              "      <td>0</td>\n",
              "      <td>1</td>\n",
              "      <td>0</td>\n",
              "      <td>0</td>\n",
              "    </tr>\n",
              "    <tr>\n",
              "      <th>2</th>\n",
              "      <td>26</td>\n",
              "      <td>1142</td>\n",
              "      <td>2</td>\n",
              "      <td>2</td>\n",
              "      <td>2</td>\n",
              "      <td>2</td>\n",
              "      <td>5</td>\n",
              "      <td>5</td>\n",
              "      <td>5</td>\n",
              "      <td>5</td>\n",
              "      <td>4</td>\n",
              "      <td>3</td>\n",
              "      <td>4</td>\n",
              "      <td>4</td>\n",
              "      <td>4</td>\n",
              "      <td>5</td>\n",
              "      <td>0</td>\n",
              "      <td>0.0</td>\n",
              "      <td>1</td>\n",
              "      <td>1</td>\n",
              "      <td>0</td>\n",
              "      <td>1</td>\n",
              "      <td>0</td>\n",
              "      <td>1</td>\n",
              "      <td>0</td>\n",
              "      <td>1</td>\n",
              "      <td>0</td>\n",
              "      <td>0</td>\n",
              "    </tr>\n",
              "    <tr>\n",
              "      <th>3</th>\n",
              "      <td>25</td>\n",
              "      <td>562</td>\n",
              "      <td>2</td>\n",
              "      <td>5</td>\n",
              "      <td>5</td>\n",
              "      <td>5</td>\n",
              "      <td>2</td>\n",
              "      <td>2</td>\n",
              "      <td>2</td>\n",
              "      <td>2</td>\n",
              "      <td>2</td>\n",
              "      <td>5</td>\n",
              "      <td>3</td>\n",
              "      <td>1</td>\n",
              "      <td>4</td>\n",
              "      <td>2</td>\n",
              "      <td>11</td>\n",
              "      <td>9.0</td>\n",
              "      <td>0</td>\n",
              "      <td>1</td>\n",
              "      <td>0</td>\n",
              "      <td>1</td>\n",
              "      <td>0</td>\n",
              "      <td>1</td>\n",
              "      <td>0</td>\n",
              "      <td>1</td>\n",
              "      <td>0</td>\n",
              "      <td>0</td>\n",
              "    </tr>\n",
              "    <tr>\n",
              "      <th>4</th>\n",
              "      <td>61</td>\n",
              "      <td>214</td>\n",
              "      <td>3</td>\n",
              "      <td>3</td>\n",
              "      <td>3</td>\n",
              "      <td>3</td>\n",
              "      <td>4</td>\n",
              "      <td>5</td>\n",
              "      <td>5</td>\n",
              "      <td>3</td>\n",
              "      <td>3</td>\n",
              "      <td>4</td>\n",
              "      <td>4</td>\n",
              "      <td>3</td>\n",
              "      <td>3</td>\n",
              "      <td>3</td>\n",
              "      <td>0</td>\n",
              "      <td>0.0</td>\n",
              "      <td>1</td>\n",
              "      <td>0</td>\n",
              "      <td>1</td>\n",
              "      <td>1</td>\n",
              "      <td>0</td>\n",
              "      <td>1</td>\n",
              "      <td>0</td>\n",
              "      <td>1</td>\n",
              "      <td>0</td>\n",
              "      <td>0</td>\n",
              "    </tr>\n",
              "  </tbody>\n",
              "</table>\n",
              "</div>"
            ],
            "text/plain": [
              "   Age  Flight Distance  ...  Class_Eco  Class_Eco Plus\n",
              "0   13              460  ...          0               1\n",
              "1   25              235  ...          0               0\n",
              "2   26             1142  ...          0               0\n",
              "3   25              562  ...          0               0\n",
              "4   61              214  ...          0               0\n",
              "\n",
              "[5 rows x 28 columns]"
            ]
          },
          "execution_count": 116,
          "metadata": {},
          "output_type": "execute_result"
        }
      ]
    },
    {
      "cell_type": "code",
      "metadata": {
        "colab": {
          "base_uri": "https://localhost:8080/",
          "height": 360
        },
        "id": "ZKfk_c0tYHJG",
        "outputId": "a5adb355-9a39-4487-ead9-b3c18f784ad3"
      },
      "source": [
        "airline_test.head(5)"
      ],
      "execution_count": null,
      "outputs": [
        {
          "data": {
            "text/html": [
              "<div>\n",
              "<style scoped>\n",
              "    .dataframe tbody tr th:only-of-type {\n",
              "        vertical-align: middle;\n",
              "    }\n",
              "\n",
              "    .dataframe tbody tr th {\n",
              "        vertical-align: top;\n",
              "    }\n",
              "\n",
              "    .dataframe thead th {\n",
              "        text-align: right;\n",
              "    }\n",
              "</style>\n",
              "<table border=\"1\" class=\"dataframe\">\n",
              "  <thead>\n",
              "    <tr style=\"text-align: right;\">\n",
              "      <th></th>\n",
              "      <th>Gender</th>\n",
              "      <th>Customer Type</th>\n",
              "      <th>Age</th>\n",
              "      <th>Type of Travel</th>\n",
              "      <th>Class</th>\n",
              "      <th>Flight Distance</th>\n",
              "      <th>Inflight wifi service</th>\n",
              "      <th>Departure/Arrival time convenient</th>\n",
              "      <th>Ease of Online booking</th>\n",
              "      <th>Gate location</th>\n",
              "      <th>Food and drink</th>\n",
              "      <th>Online boarding</th>\n",
              "      <th>Seat comfort</th>\n",
              "      <th>Inflight entertainment</th>\n",
              "      <th>On-board service</th>\n",
              "      <th>Leg room service</th>\n",
              "      <th>Baggage handling</th>\n",
              "      <th>Checkin service</th>\n",
              "      <th>Inflight service</th>\n",
              "      <th>Cleanliness</th>\n",
              "      <th>Departure Delay in Minutes</th>\n",
              "      <th>Arrival Delay in Minutes</th>\n",
              "      <th>satisfaction</th>\n",
              "    </tr>\n",
              "  </thead>\n",
              "  <tbody>\n",
              "    <tr>\n",
              "      <th>1</th>\n",
              "      <td>Female</td>\n",
              "      <td>Loyal Customer</td>\n",
              "      <td>36</td>\n",
              "      <td>Business travel</td>\n",
              "      <td>Business</td>\n",
              "      <td>2863</td>\n",
              "      <td>1</td>\n",
              "      <td>1</td>\n",
              "      <td>3</td>\n",
              "      <td>1</td>\n",
              "      <td>5</td>\n",
              "      <td>4</td>\n",
              "      <td>5</td>\n",
              "      <td>4</td>\n",
              "      <td>4</td>\n",
              "      <td>4</td>\n",
              "      <td>4</td>\n",
              "      <td>3</td>\n",
              "      <td>4</td>\n",
              "      <td>5</td>\n",
              "      <td>0</td>\n",
              "      <td>0.0</td>\n",
              "      <td>satisfied</td>\n",
              "    </tr>\n",
              "    <tr>\n",
              "      <th>5</th>\n",
              "      <td>Male</td>\n",
              "      <td>Loyal Customer</td>\n",
              "      <td>16</td>\n",
              "      <td>Business travel</td>\n",
              "      <td>Eco</td>\n",
              "      <td>311</td>\n",
              "      <td>3</td>\n",
              "      <td>3</td>\n",
              "      <td>3</td>\n",
              "      <td>3</td>\n",
              "      <td>5</td>\n",
              "      <td>5</td>\n",
              "      <td>3</td>\n",
              "      <td>5</td>\n",
              "      <td>4</td>\n",
              "      <td>3</td>\n",
              "      <td>1</td>\n",
              "      <td>1</td>\n",
              "      <td>2</td>\n",
              "      <td>5</td>\n",
              "      <td>0</td>\n",
              "      <td>0.0</td>\n",
              "      <td>satisfied</td>\n",
              "    </tr>\n",
              "    <tr>\n",
              "      <th>8</th>\n",
              "      <td>Male</td>\n",
              "      <td>Loyal Customer</td>\n",
              "      <td>47</td>\n",
              "      <td>Business travel</td>\n",
              "      <td>Eco</td>\n",
              "      <td>556</td>\n",
              "      <td>5</td>\n",
              "      <td>2</td>\n",
              "      <td>2</td>\n",
              "      <td>2</td>\n",
              "      <td>5</td>\n",
              "      <td>5</td>\n",
              "      <td>5</td>\n",
              "      <td>5</td>\n",
              "      <td>2</td>\n",
              "      <td>2</td>\n",
              "      <td>5</td>\n",
              "      <td>3</td>\n",
              "      <td>3</td>\n",
              "      <td>5</td>\n",
              "      <td>1</td>\n",
              "      <td>0.0</td>\n",
              "      <td>satisfied</td>\n",
              "    </tr>\n",
              "    <tr>\n",
              "      <th>12</th>\n",
              "      <td>Female</td>\n",
              "      <td>Loyal Customer</td>\n",
              "      <td>46</td>\n",
              "      <td>Business travel</td>\n",
              "      <td>Business</td>\n",
              "      <td>1009</td>\n",
              "      <td>5</td>\n",
              "      <td>5</td>\n",
              "      <td>5</td>\n",
              "      <td>5</td>\n",
              "      <td>4</td>\n",
              "      <td>5</td>\n",
              "      <td>5</td>\n",
              "      <td>5</td>\n",
              "      <td>5</td>\n",
              "      <td>5</td>\n",
              "      <td>5</td>\n",
              "      <td>5</td>\n",
              "      <td>5</td>\n",
              "      <td>3</td>\n",
              "      <td>0</td>\n",
              "      <td>0.0</td>\n",
              "      <td>satisfied</td>\n",
              "    </tr>\n",
              "    <tr>\n",
              "      <th>16</th>\n",
              "      <td>Female</td>\n",
              "      <td>Loyal Customer</td>\n",
              "      <td>31</td>\n",
              "      <td>Business travel</td>\n",
              "      <td>Eco</td>\n",
              "      <td>728</td>\n",
              "      <td>2</td>\n",
              "      <td>5</td>\n",
              "      <td>5</td>\n",
              "      <td>5</td>\n",
              "      <td>2</td>\n",
              "      <td>2</td>\n",
              "      <td>2</td>\n",
              "      <td>2</td>\n",
              "      <td>4</td>\n",
              "      <td>3</td>\n",
              "      <td>3</td>\n",
              "      <td>4</td>\n",
              "      <td>3</td>\n",
              "      <td>2</td>\n",
              "      <td>2</td>\n",
              "      <td>0.0</td>\n",
              "      <td>neutral or dissatisfied</td>\n",
              "    </tr>\n",
              "  </tbody>\n",
              "</table>\n",
              "</div>"
            ],
            "text/plain": [
              "    Gender   Customer Type  ...  Arrival Delay in Minutes             satisfaction\n",
              "1   Female  Loyal Customer  ...                       0.0                satisfied\n",
              "5     Male  Loyal Customer  ...                       0.0                satisfied\n",
              "8     Male  Loyal Customer  ...                       0.0                satisfied\n",
              "12  Female  Loyal Customer  ...                       0.0                satisfied\n",
              "16  Female  Loyal Customer  ...                       0.0  neutral or dissatisfied\n",
              "\n",
              "[5 rows x 23 columns]"
            ]
          },
          "execution_count": 79,
          "metadata": {},
          "output_type": "execute_result"
        }
      ]
    },
    {
      "cell_type": "markdown",
      "metadata": {
        "id": "QLEuLarbYS_s"
      },
      "source": [
        "Seperating the training data features and the label, label being the satisfaction column."
      ]
    },
    {
      "cell_type": "code",
      "metadata": {
        "colab": {
          "base_uri": "https://localhost:8080/"
        },
        "id": "mhKXwekyyap6",
        "outputId": "1cfb0931-3d8b-422f-ac89-699e97abf14c"
      },
      "source": [
        "def separate_features_and_label(dataset):\n",
        "    features = dataset.drop(\"satisfaction\", axis = 1)\n",
        "    labels = dataset[\"satisfaction\"]\n",
        "    return (features, labels)\n",
        "train_features, train_labels = separate_features_and_label(airline_train)\n",
        "train_features.shape, train_labels.shape"
      ],
      "execution_count": null,
      "outputs": [
        {
          "data": {
            "text/plain": [
              "((73262, 27), (73262,))"
            ]
          },
          "execution_count": 117,
          "metadata": {},
          "output_type": "execute_result"
        }
      ]
    },
    {
      "cell_type": "markdown",
      "metadata": {
        "id": "ZVVVtwVvY4SA"
      },
      "source": [
        "The trainig data features contain 27 column without the target column and the other one has only the label feature."
      ]
    },
    {
      "cell_type": "markdown",
      "metadata": {
        "id": "FA2HOXdHYfDG"
      },
      "source": [
        "Doing the same for test dataset."
      ]
    },
    {
      "cell_type": "code",
      "metadata": {
        "colab": {
          "base_uri": "https://localhost:8080/"
        },
        "id": "g-gWltrq4WSp",
        "outputId": "59ccc38c-872c-48e0-adc9-be9659a7fbbc"
      },
      "source": [
        "test_ft, test_lb = separate_features_and_label(airline_test)\n",
        "test_ft.shape, test_lb.shape"
      ],
      "execution_count": null,
      "outputs": [
        {
          "data": {
            "text/plain": [
              "((25976, 27), (25976,))"
            ]
          },
          "execution_count": 118,
          "metadata": {},
          "output_type": "execute_result"
        }
      ]
    },
    {
      "cell_type": "markdown",
      "metadata": {
        "id": "yOzBjLGDYu1X"
      },
      "source": [
        "Spliting train dataset for validation"
      ]
    },
    {
      "cell_type": "code",
      "metadata": {
        "colab": {
          "base_uri": "https://localhost:8080/"
        },
        "id": "asD1VbLD4ezS",
        "outputId": "06417613-795c-41b1-f288-173cda744f75"
      },
      "source": [
        "train_ft, val_ft, train_lb, val_lb = train_test_split(train_features, train_labels, test_size = 0.3)\n",
        "train_lb.shape,val_lb.shape"
      ],
      "execution_count": null,
      "outputs": [
        {
          "data": {
            "text/plain": [
              "((51283,), (21979,))"
            ]
          },
          "execution_count": 119,
          "metadata": {},
          "output_type": "execute_result"
        }
      ]
    },
    {
      "cell_type": "code",
      "metadata": {
        "colab": {
          "base_uri": "https://localhost:8080/",
          "height": 153
        },
        "id": "Usg86sX55XP5",
        "outputId": "47cd7325-ffde-4d6e-8685-d7536f4df1f6"
      },
      "source": [
        "#data requires scaling\n",
        "train_ft[:1]"
      ],
      "execution_count": null,
      "outputs": [
        {
          "data": {
            "text/html": [
              "<div>\n",
              "<style scoped>\n",
              "    .dataframe tbody tr th:only-of-type {\n",
              "        vertical-align: middle;\n",
              "    }\n",
              "\n",
              "    .dataframe tbody tr th {\n",
              "        vertical-align: top;\n",
              "    }\n",
              "\n",
              "    .dataframe thead th {\n",
              "        text-align: right;\n",
              "    }\n",
              "</style>\n",
              "<table border=\"1\" class=\"dataframe\">\n",
              "  <thead>\n",
              "    <tr style=\"text-align: right;\">\n",
              "      <th></th>\n",
              "      <th>Age</th>\n",
              "      <th>Flight Distance</th>\n",
              "      <th>Inflight wifi service</th>\n",
              "      <th>Departure/Arrival time convenient</th>\n",
              "      <th>Ease of Online booking</th>\n",
              "      <th>Gate location</th>\n",
              "      <th>Food and drink</th>\n",
              "      <th>Online boarding</th>\n",
              "      <th>Seat comfort</th>\n",
              "      <th>Inflight entertainment</th>\n",
              "      <th>On-board service</th>\n",
              "      <th>Leg room service</th>\n",
              "      <th>Baggage handling</th>\n",
              "      <th>Checkin service</th>\n",
              "      <th>Inflight service</th>\n",
              "      <th>Cleanliness</th>\n",
              "      <th>Departure Delay in Minutes</th>\n",
              "      <th>Arrival Delay in Minutes</th>\n",
              "      <th>Gender_Female</th>\n",
              "      <th>Gender_Male</th>\n",
              "      <th>Customer Type_Loyal Customer</th>\n",
              "      <th>Customer Type_disloyal Customer</th>\n",
              "      <th>Type of Travel_Business travel</th>\n",
              "      <th>Type of Travel_Personal Travel</th>\n",
              "      <th>Class_Business</th>\n",
              "      <th>Class_Eco</th>\n",
              "      <th>Class_Eco Plus</th>\n",
              "    </tr>\n",
              "  </thead>\n",
              "  <tbody>\n",
              "    <tr>\n",
              "      <th>97915</th>\n",
              "      <td>66</td>\n",
              "      <td>607</td>\n",
              "      <td>4</td>\n",
              "      <td>4</td>\n",
              "      <td>3</td>\n",
              "      <td>3</td>\n",
              "      <td>5</td>\n",
              "      <td>3</td>\n",
              "      <td>5</td>\n",
              "      <td>5</td>\n",
              "      <td>5</td>\n",
              "      <td>5</td>\n",
              "      <td>4</td>\n",
              "      <td>5</td>\n",
              "      <td>5</td>\n",
              "      <td>5</td>\n",
              "      <td>20</td>\n",
              "      <td>0.0</td>\n",
              "      <td>0</td>\n",
              "      <td>1</td>\n",
              "      <td>1</td>\n",
              "      <td>0</td>\n",
              "      <td>0</td>\n",
              "      <td>1</td>\n",
              "      <td>0</td>\n",
              "      <td>1</td>\n",
              "      <td>0</td>\n",
              "    </tr>\n",
              "  </tbody>\n",
              "</table>\n",
              "</div>"
            ],
            "text/plain": [
              "       Age  Flight Distance  ...  Class_Eco  Class_Eco Plus\n",
              "97915   66              607  ...          1               0\n",
              "\n",
              "[1 rows x 27 columns]"
            ]
          },
          "execution_count": 123,
          "metadata": {},
          "output_type": "execute_result"
        }
      ]
    },
    {
      "cell_type": "markdown",
      "metadata": {
        "id": "7vsAvOQKa784"
      },
      "source": [
        "Scale all the attributes of the training, validation and test data in the same range(0-1) using MaxMinScaler()"
      ]
    },
    {
      "cell_type": "code",
      "metadata": {
        "colab": {
          "base_uri": "https://localhost:8080/"
        },
        "id": "t4ng5Q5q-13q",
        "outputId": "b7c3e4de-e803-4078-e022-05faeca0244b"
      },
      "source": [
        "def min_max_scaler(features):\n",
        "    scaled_features = MinMaxScaler().fit_transform(features)\n",
        "    scaled_features = scaled_features.astype(\"float\")\n",
        "    return scaled_features\n",
        "\n",
        "train_features_scaled = min_max_scaler(train_ft)\n",
        "val_features_scaled = min_max_scaler(val_ft)\n",
        "test_features_scaled = min_max_scaler(test_ft)"
      ],
      "execution_count": null,
      "outputs": [
        {
          "data": {
            "text/plain": [
              "(0.0, 1.0, 0.0, 1.0)"
            ]
          },
          "execution_count": 125,
          "metadata": {},
          "output_type": "execute_result"
        }
      ]
    },
    {
      "cell_type": "markdown",
      "metadata": {
        "id": "w0FpbmE6bJvs"
      },
      "source": [
        "Check if data was scaled \n"
      ]
    },
    {
      "cell_type": "code",
      "metadata": {
        "id": "hH4W_96obIXw"
      },
      "source": [
        "train_features_scaled.min(), train_features_scaled.max(), test_features_scaled.min(), test_features_scaled.max()"
      ],
      "execution_count": null,
      "outputs": []
    },
    {
      "cell_type": "markdown",
      "metadata": {
        "id": "HFDdoB9-beL9"
      },
      "source": [
        "Since the rage(0-1) then the data was scaled"
      ]
    },
    {
      "cell_type": "markdown",
      "metadata": {
        "id": "52U9d2319AR3"
      },
      "source": [
        "##Mahad"
      ]
    },
    {
      "cell_type": "code",
      "metadata": {
        "colab": {
          "base_uri": "https://localhost:8080/",
          "height": 297
        },
        "id": "5jRXzRfOpVd0",
        "outputId": "f3df51db-38da-40f4-def7-b08bd17379f6"
      },
      "source": [
        "#checking if there isn't to much biasness in the data for satisfaction\n",
        "def plot_labels(): \n",
        "    fig = plt.figure(figsize = (10, 4))\n",
        "    plt.subplot(131)\n",
        "    plt.title(\"In train data\")\n",
        "    sns.countplot(x = \"satisfaction\", data = pd.DataFrame(train_lb), palette = \"coolwarm\")\n",
        "    \n",
        "    plt.subplot(132)\n",
        "    plt.title(\"In val data\")\n",
        "    sns.countplot(x = \"satisfaction\", data = pd.DataFrame(val_lb), palette = \"coolwarm\")\n",
        "    \n",
        "    plt.subplot(133)\n",
        "    plt.title(\"In test data\")\n",
        "    sns.countplot(x = \"satisfaction\", data = pd.DataFrame(test_lb), palette = \"coolwarm\")\n",
        "    \n",
        "    plt.tight_layout()\n",
        "    plt.show()\n",
        "plot_labels()"
      ],
      "execution_count": null,
      "outputs": [
        {
          "data": {
            "image/png": "[encoded data removed]",
            "text/plain": [
              "<Figure size 720x288 with 3 Axes>"
            ]
          },
          "metadata": {
            "needs_background": "light"
          },
          "output_type": "display_data"
        }
      ]
    },
    {
      "cell_type": "code",
      "metadata": {
        "colab": {
          "base_uri": "https://localhost:8080/"
        },
        "id": "gW2qj430nbtg",
        "outputId": "0e291cd9-e733-41d5-e75e-66c62c8a4a63"
      },
      "source": [
        "from sklearn.model_selection import GridSearchCV\n",
        "\n",
        "k_range = list(range(1,10))\n",
        "weight_options = [\"uniform\", \"distance\"]\n",
        "param_grid = dict(n_neighbors = k_range, weights = weight_options)\n",
        "knn = KNeighborsClassifier()\n",
        "grid = GridSearchCV(knn, param_grid, cv = 10, scoring = 'accuracy')\n",
        "grid.fit(train_ft,train_lb)\n",
        "\n",
        "print (grid.best_score_)\n",
        "print (grid.best_params_)\n",
        "print (grid.best_estimator_)"
      ],
      "execution_count": null,
      "outputs": [
        {
          "name": "stdout",
          "output_type": "stream",
          "text": [
            "0.768831746250938\n",
            "{'n_neighbors': 8, 'weights': 'distance'}\n",
            "KNeighborsClassifier(n_neighbors=8, weights='distance')\n"
          ]
        }
      ]
    },
    {
      "cell_type": "code",
      "metadata": {
        "colab": {
          "base_uri": "https://localhost:8080/"
        },
        "id": "DO4L4MPIon4Q",
        "outputId": "23e6e75e-c7ee-4545-ec78-852c39420d1c"
      },
      "source": [
        "model = KNeighborsClassifier( n_neighbors = grid.best_params_['n_neighbors'], weights= grid.best_params_['weights'] )\n",
        "model.fit(train_ft,train_lb)"
      ],
      "execution_count": null,
      "outputs": [
        {
          "data": {
            "text/plain": [
              "KNeighborsClassifier(n_neighbors=8, weights='distance')"
            ]
          },
          "execution_count": 128,
          "metadata": {},
          "output_type": "execute_result"
        }
      ]
    },
    {
      "cell_type": "code",
      "metadata": {
        "colab": {
          "base_uri": "https://localhost:8080/"
        },
        "id": "E3JVkl9RoOdX",
        "outputId": "02145faa-f2bd-4a91-846e-a979f45c6c6e"
      },
      "source": [
        "predicted= model.predict(val_ft)\n",
        "print(\"Accuracy:\",metrics.accuracy_score(val_lb,predicted))"
      ],
      "execution_count": null,
      "outputs": [
        {
          "name": "stdout",
          "output_type": "stream",
          "text": [
            "Accuracy: 0.7779698803403249\n"
          ]
        }
      ]
    },
    {
      "cell_type": "code",
      "metadata": {
        "colab": {
          "base_uri": "https://localhost:8080/"
        },
        "id": "uQ0TVyn5pLWq",
        "outputId": "9b674975-1118-48a0-b0e0-1bc84d21105d"
      },
      "source": [
        "predicted= model.predict(test_features_scaled)\n",
        "print(\"Accuracy:\",metrics.accuracy_score(test_lb,predicted))"
      ],
      "execution_count": null,
      "outputs": [
        {
          "name": "stderr",
          "output_type": "stream",
          "text": [
            "/usr/local/lib/python3.7/dist-packages/sklearn/base.py:446: UserWarning: X does not have valid feature names, but KNeighborsClassifier was fitted with feature names\n",
            "  \"X does not have valid feature names, but\"\n"
          ]
        },
        {
          "name": "stdout",
          "output_type": "stream",
          "text": [
            "Accuracy: 0.5610178626424391\n"
          ]
        }
      ]
    },
    {
      "cell_type": "markdown",
      "metadata": {
        "id": "JNY9mbJ4kNPM"
      },
      "source": [
        "#### _Comment on previous cell output (optional)_\n",
        "\n",
        "_As well as describing code, it will in many cases be informative to describe the output\n",
        "that has been generated by a cell._\n",
        "\n",
        "_The previous output cell shows a key number in our fridge magnet analysis._"
      ]
    },
    {
      "cell_type": "markdown",
      "metadata": {
        "id": "jfkIYQtLkNPN"
      },
      "source": [
        "#### _Brief Explanation of following code cell_\n",
        "\n",
        "_Since fridge magnets often take the form of cute animals, we use `pandas` to convert the raw data into a `DataFrame`._"
      ]
    },
    {
      "cell_type": "code",
      "metadata": {
        "id": "woWDRWXckNPO",
        "outputId": "6c19e386-df17-4b3a-aa81-fae4c778b130"
      },
      "source": [
        "## Code Cell\n",
        "import pandas\n",
        "df = pandas.DataFrame.from_dict(fm_data, orient='index')\n",
        "df"
      ],
      "execution_count": null,
      "outputs": [
        {
          "data": {
            "text/html": [
              "<div>\n",
              "<style scoped>\n",
              "    .dataframe tbody tr th:only-of-type {\n",
              "        vertical-align: middle;\n",
              "    }\n",
              "\n",
              "    .dataframe tbody tr th {\n",
              "        vertical-align: top;\n",
              "    }\n",
              "\n",
              "    .dataframe thead th {\n",
              "        text-align: right;\n",
              "    }\n",
              "</style>\n",
              "<table border=\"1\" class=\"dataframe\">\n",
              "  <thead>\n",
              "    <tr style=\"text-align: right;\">\n",
              "      <th></th>\n",
              "      <th>0</th>\n",
              "    </tr>\n",
              "  </thead>\n",
              "  <tbody>\n",
              "    <tr>\n",
              "      <th>souvenir</th>\n",
              "      <td>9</td>\n",
              "    </tr>\n",
              "    <tr>\n",
              "      <th>cute animal</th>\n",
              "      <td>5</td>\n",
              "    </tr>\n",
              "    <tr>\n",
              "      <th>meme</th>\n",
              "      <td>36</td>\n",
              "    </tr>\n",
              "    <tr>\n",
              "      <th>smiley</th>\n",
              "      <td>3</td>\n",
              "    </tr>\n",
              "    <tr>\n",
              "      <th>random image</th>\n",
              "      <td>13</td>\n",
              "    </tr>\n",
              "  </tbody>\n",
              "</table>\n",
              "</div>"
            ],
            "text/plain": [
              "               0\n",
              "souvenir       9\n",
              "cute animal    5\n",
              "meme          36\n",
              "smiley         3\n",
              "random image  13"
            ]
          },
          "execution_count": 51,
          "metadata": {},
          "output_type": "execute_result"
        }
      ]
    },
    {
      "cell_type": "markdown",
      "metadata": {
        "id": "8M518cD-kNPQ"
      },
      "source": [
        "#### _Comment on previous cell output (optional)_\n",
        "_The output from the previous cell is very interesting._"
      ]
    },
    {
      "cell_type": "markdown",
      "metadata": {
        "id": "OxgCukNXkNPR"
      },
      "source": [
        "###  _More code cells_\n",
        "_You can add as many code cells as you require, but it is\n",
        "recommended that you break code into relatively small chunks and\n",
        "do not exceed the maximum number of lines stated above._"
      ]
    },
    {
      "cell_type": "markdown",
      "metadata": {
        "id": "uXaat2vskNPS"
      },
      "source": [
        "# Project Outcome (10 + 10 marks)\n",
        "\n",
        "_This section should describe the outcome of the project by means of both explanation of the results and by graphical visualisation in the form of graphs, charts or or other kinds of diagram_\n",
        "\n",
        "_The section should begin with a general overview of the results and then have a section for each of the project objectives. For each of these objectives an explanation of more specific results relating to that objective shoud be given, followed by a section presenting some visualisation of the results obtained. (In the case where\n",
        "the project had just one objective, you should still have a section describing\n",
        "the results from a general perspective followed by a section that focuses on\n",
        "the particular objective.)_\n",
        "\n",
        "_The marks for this section will be divided into 10 marks for Explanation\n",
        "and 10 marks for Visualisation. These marks will be awarded for the Project Outcome\n",
        "section as a whole, not for each objective individually. Hence, you do not\n",
        "have to pay equal attention to each. However, you are expected to have a\n",
        "some explanation and visualisation for each. It is suggested you have\n",
        "200-400 words explanation for each objective._"
      ]
    },
    {
      "cell_type": "markdown",
      "metadata": {
        "id": "urx4WEyvkNPU"
      },
      "source": [
        "## Overview of Results\n",
        "_Give a general overview of the results (around 200 words)._"
      ]
    },
    {
      "cell_type": "markdown",
      "metadata": {
        "id": "pEsk08fUkNPV"
      },
      "source": [
        "## Objective 1\n",
        "\n",
        "### Explanation of Results\n",
        "\n",
        "_200-400 words_\n",
        "\n",
        "### Visualisation\n",
        "_The following bar chart gives a vivid representation of the distribution\n",
        "of fridge magnet types, in which the dominance of 'meme' type magnets\n",
        "is dramatically illustrated._"
      ]
    },
    {
      "cell_type": "code",
      "metadata": {
        "id": "GT5zopo_kNPV",
        "outputId": "e7b260a5-5f03-4cc0-86c3-976f5aa08cd3"
      },
      "source": [
        "df.plot(kind='bar')"
      ],
      "execution_count": null,
      "outputs": [
        {
          "data": {
            "text/plain": [
              "<AxesSubplot:>"
            ]
          },
          "execution_count": 52,
          "metadata": {},
          "output_type": "execute_result"
        },
        {
          "data": {
            "image/png": "[encoded data removed]",
            "text/plain": [
              "<Figure size 432x288 with 1 Axes>"
            ]
          },
          "metadata": {},
          "output_type": "display_data"
        }
      ]
    },
    {
      "cell_type": "markdown",
      "metadata": {
        "id": "pVnJ1UGLkNPY"
      },
      "source": [
        "## Objective 2 _(if present)_\n",
        "### Explanation of Results\n",
        "\n",
        "This objective is divided into two sections:\n",
        "-\tData cleaning:\n",
        "In this section, we made several assumptions to clean the datasets. One of the most significant assumptions is filling the missing values in “Arrival Delay in Minutes” with zero because we assumed that the passengers were satisfied because there was no delay in the landing. In addition, we thought that the zero values in the rank of the services meant that the passengers did not answer to that service. Because of that, it seems to be better to keep only the values in the range (1-5). Moreover, as the outliers can cause a negative impact on the model performance and in data analysis, the 1.5 IQR rule was used to remove the outliers.\n",
        "\n",
        "-\tData pre-processing:\n",
        "In this part, the features were encoded based on their data type in order to prepare them for the modelling step. Since the data must be numeric to feed it to the model, one-hot encoding was used for the categorical variables. However, label encoding was used for the target variable. Apart from the label, all the variables were normalized in the rage (0-1).\n",
        "\n",
        "\n",
        "### Visualisation"
      ]
    },
    {
      "cell_type": "markdown",
      "metadata": {
        "id": "oI-yq6ARkNPZ"
      },
      "source": [
        "## Objective 3 _(if present)_\n",
        "### Explanation of Results\n",
        "\n",
        "200-400 Words\n",
        "\n",
        "### Visualisation"
      ]
    },
    {
      "cell_type": "markdown",
      "metadata": {
        "id": "NVOamDdgkNPa"
      },
      "source": [
        "# Conclusion (5 marks)\n",
        "\n",
        "_Your concluding section should be around 200-400 words. It is recommended\n",
        "that you divide it into the following sections.__\n",
        "\n",
        "### Acheivements\n",
        "_As we had expected, the most popular fridge magnets were of the 'meme' kind.\n",
        "We were surprised that 'smiley' fridge magnets were less common than expected.\n",
        "We conjecture that this is because, although they are apparently very popular,\n",
        "few fridges display more than one smiley. However, 'meme' based magnets can\n",
        "be found in large numbers, even on quite small fridges._\n",
        "\n",
        "### Limitations\n",
        "\n",
        "_The project was limited to a small number of fridge magents, which may not be\n",
        "typical of fridges found in the global fridge magnet ecosystem._\n",
        "\n",
        "### Future Work\n",
        "\n",
        "_In future work we would like to obtain more diverse data and study fridge magnets \n",
        "beyond the limited confines of student accomodation. We hypothesise that there\n",
        "could be a link between fridge magnet types and social class and/or educational\n",
        "achievement._"
      ]
    },
    {
      "cell_type": "markdown",
      "metadata": {
        "id": "OlyjRniDkNPb"
      },
      "source": [
        "# Grading\n",
        "\n",
        "_Feedback and marks will be given here._\n",
        "\n",
        "### Feedback\n",
        "\n",
        "### Marks"
      ]
    },
    {
      "cell_type": "code",
      "metadata": {
        "id": "CuKRWtXfkNPc",
        "outputId": "10ada1b4-e7a2-410b-d3ff-ec36a1bebc18"
      },
      "source": [
        "DATA   = 10\n",
        "AIMS   =  5\n",
        "DESIGN = 5\n",
        "\n",
        "CODE = 15\n",
        "\n",
        "OUTCOME_EXPLANATION   = 10\n",
        "OUTCOME_VISUALISATION = 10\n",
        "\n",
        "CONCLUSION = 5\n",
        "\n",
        "TOTAL = ( DATA + AIMS + DESIGN + CODE \n",
        "          + OUTCOME_VISUALISATION + OUTCOME_VISUALISATION\n",
        "          + CONCLUSION )\n",
        "TOTAL"
      ],
      "execution_count": null,
      "outputs": [
        {
          "data": {
            "text/plain": [
              "60"
            ]
          },
          "execution_count": 56,
          "metadata": {},
          "output_type": "execute_result"
        }
      ]
    },
    {
      "cell_type": "code",
      "metadata": {
        "id": "sfJcxbJ-kNPd"
      },
      "source": [
        ""
      ],
      "execution_count": null,
      "outputs": []
    }
  ]
}