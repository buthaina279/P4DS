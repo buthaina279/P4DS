{
  "nbformat": 4,
  "nbformat_minor": 0,
  "metadata": {
    "colab": {
      "name": "A3_Data_Analysis_Project.ipynb",
      "provenance": [],
      "collapsed_sections": [
        "JNY9mbJ4kNPM",
        "8M518cD-kNPQ",
        "OxgCukNXkNPR",
        "urx4WEyvkNPU",
        "pEsk08fUkNPV",
        "pVnJ1UGLkNPY",
        "oI-yq6ARkNPZ"
      ],
      "include_colab_link": true
    },
    "kernelspec": {
      "display_name": "Python 3",
      "language": "python",
      "name": "python3"
    },
    "language_info": {
      "codemirror_mode": {
        "name": "ipython",
        "version": 3
      },
      "file_extension": ".py",
      "mimetype": "text/x-python",
      "name": "python",
      "nbconvert_exporter": "python",
      "pygments_lexer": "ipython3",
      "version": "3.7.8"
    }
  },
  "cells": [
    {
      "cell_type": "markdown",
      "metadata": {
        "id": "view-in-github",
        "colab_type": "text"
      },
      "source": [
        "<a href=\"https://colab.research.google.com/github/buthaina279/P4DS/blob/main/A3_Data_Analysis_Project.ipynb\" target=\"_parent\"><img src=\"https://colab.research.google.com/assets/colab-badge.svg\" alt=\"Open In Colab\"/></a>"
      ]
    },
    {
      "cell_type": "markdown",
      "metadata": {
        "id": "zwn_eG62kNO3"
      },
      "source": [
        "## P4DS: Assignment 3 (Autumn 2020)\n",
        "\n",
        "# Data Analysis Project\n",
        "\n",
        "#### Notebook template design: Brandon Bennett (2020/11/3)\n",
        "\n",
        "# _Project Title_\n",
        "\n",
        "\n",
        "### Project participants:\n",
        "\n",
        "* A. Student (astudent@leeds.ac.uk)\n",
        "* B. Student (bstudent@leeds.ac.uk)\n",
        "* C. Student (cstudent@leeds.ac.uk)"
      ]
    },
    {
      "cell_type": "markdown",
      "metadata": {
        "id": "7sDbgy2VkNO-"
      },
      "source": [
        "# Project Requirements\n",
        "_PLEASE DELETE THIS WHOLE CELL BEFORE SUBMITTING YOUR PROJECT_\n",
        "\n",
        "The purpose of this assignment is to develop your skills\n",
        "in organising and presenting a Data Science project.\n",
        "\n",
        "Since, most of the marks will be awarded for organisation\n",
        "and presentation, it is suggested that you do not initially attempt\n",
        "anything too complicated. However, once you have managed\n",
        "to get a basic pipeline working that fits the guidelines, \n",
        "you are encouraged to extend and elaborate your analysis.\n",
        "\n",
        "Your project should entirely contained within this template file.\n",
        "You should keep the basic structure indicated below. To facilitate\n",
        "grading according to the marking scheme.\n",
        "\n",
        "You _may_ import any module that is provided with Anaconda3 Python.\n",
        "\n",
        "\n",
        "### Marking Scheme\n",
        "\n",
        "The marking scheme  is as follows:\n",
        "\n",
        "* Project Plan:\n",
        "    * Description of data to be used (10)\n",
        "    * Overview of Project Aims  (5)\n",
        "    * Design  (5)\n",
        "    \n",
        "* Program Code: (15)<br>\n",
        "    Code should be laid out in steps with explanations\n",
        "    and intemediate output with comments. \n",
        "    You should ensure that the steps do not require\n",
        "    a large amout of processing time.\n",
        "\n",
        "* Project Outcome:\n",
        "    * Explanation of Results (10)<br>\n",
        "        This should include a qualitative describtion\n",
        "        of the results as well as key figures and tables\n",
        "        of results.\n",
        "    * Results visualisation (10)<br>\n",
        "        This should be graphical representations of the\n",
        "        results with brief explanations (ordinary tables will be\n",
        "        graded as part of the explanation of results)\n",
        "    * Conclusion (5)\n",
        "\n",
        "### Data Resources\n",
        "\n",
        "You can use any data you like. Many useful resources are available.\n",
        "As a starting point you could look at the following:\n",
        "\n",
        "* [scikit-learn](https://scikit-learn.org/stable/tutorial/basic/tutorial.html)\n",
        "\n",
        "* [sklearn.datasets](https://scikit-learn.org/stable/datasets/#general-dataset-api)\n",
        "\n",
        "* [Kaggle](https://www.kaggle.com/)\n",
        "\n",
        "### Using this Notebook Template\n",
        "Please use this notebook as a template for your project file.\n",
        "In the following cells of the notebook, _italic text_ giving explanations\n",
        "and examples should be either deleted, or, in most cases, replaced by appropriate text describing your project. \n",
        "Text that is not in italic (which is mostly headings) should\n",
        "be left as it is. __Your project report notebook should the same overall\n",
        "structure as this templete notebook.__\n",
        "An exception to this is the current markup cell describing the project\n",
        "requiements. You should delete this before submitting your notebook."
      ]
    },
    {
      "cell_type": "markdown",
      "metadata": {
        "id": "A-y90VdXkNPB"
      },
      "source": [
        "# Project Plan\n",
        "\n",
        "## The Data (10 marks)\n",
        "\n",
        "_Here you should describe the data indluding details of:\n",
        "where it comes from, what data it contains, is it accurate._\n",
        "\n",
        "_It can be just one dataset or several that can be combined\n",
        "somehow._\n",
        "\n",
        "_There are 10 marks for this, so a fairly detailed description\n",
        "of the data is expected (around 300-400 words)_\n",
        "\n",
        "\n",
        "\n",
        "## Project Aim and Objectives (5 marks)\n",
        "\n",
        "_Here you should describe the general aim of your project in\n",
        "around 200-300 words._\n",
        "\n",
        "_This can can be anything from classifying items according to\n",
        "their characteristic features (which mushrooms are poisonous?) \n",
        "to simulating an evolving process (will the rabbits eat all\n",
        "the carrots or get eaten by the foxes?)_\n",
        "\n",
        "_Here some ideas of general types of processing functionality\n",
        "that you could implement:_\n",
        "\n",
        "* _Classification: separate data items into classes according\n",
        "  to their charactersitics (can be either a definite or a\n",
        "  statistical kind of classification)_\n",
        "* _Corellation: find correspondences between different attributes within\n",
        "  a dataset_\n",
        "* _Search: find solutions matching some criteria_\n",
        "* _Visualisation: find informative ways to\n",
        "  display the structure of a large and/or complex dataset_\n",
        "* _Query Answering: create a system that enables one to retrieve information by evaluating some form of query representation_\n",
        "* _Simulation: model the evolution of a complex process_\n",
        "\n",
        "### Specific Objective(s)\n",
        "\n",
        "_You should chose and list __up to 3__ specific objectives. \n",
        "There should be <b>at least one\n",
        "per person doing the project</b>. There is no need\n",
        "for  the objectives them to be completely different. \n",
        "They could be different\n",
        "stages of the processing requirements, or different processing\n",
        "functions that the system  provides. Or just\n",
        "different aspects of data analysis that will be conducted.\n",
        "Typically, it is expected that there would be one objective\n",
        "per person, but you may do more._\n",
        "\n",
        "* __Objective 1:__ _create a Python datastructure that will ensure world peace_\n",
        "* __Objective 2:__ _stop global warming using a pandas dataframe_\n",
        "* __Objective 3:__ _end poverty using matplotlib_\n",
        "\n",
        "## System Design (5 marks)\n",
        "\n",
        "_Describe your code in terms of the\n",
        "following two sections._\n",
        "\n",
        "### Architecture\n",
        "\n",
        "_Typically this would be  a pipeline in which data goes through several\n",
        "stages of transformation and analysis, but other architectures are possible.\n",
        "This does not need to be particularly complicated. A simple diagram with\n",
        "100-150 words of explanation would\n",
        "be a good way to present your architecture._\n",
        "  \n",
        "### Processing Modules and Algorithms\n",
        "\n",
        "_Briefly list and describe the most significant computational components of your system and the algorithms you will use to implement them. \n",
        "This could include things like:_\n",
        "\n",
        "* _cleaning the data by removing outliers_\n",
        "* _combining different datasets_\n",
        "* _converting samples to a special representaion (such as feature vectors)_\n",
        "* _constructing a special data-structure (such as a decision tree)_\n",
        "* _running some kind of analysis_\n",
        "\n",
        "_Your list can be presented in similar form to the one just given, \n",
        "but should include a brief\n",
        "but more specific description of the components and/or algorithms.\n",
        "Probably three or four components is sufficient for most projects, but\n",
        "you may want to have more._"
      ]
    },
    {
      "cell_type": "markdown",
      "metadata": {
        "id": "0Dteap9pkNPC"
      },
      "source": [
        "# Program Code (15 marks)\n",
        "\n",
        "_Your code should be divided into relatively short cells, with brief\n",
        "explanation in markup cells between._\n",
        "\n",
        "_As noted in the assigment overview, it is not necessary that your coding be\n",
        "super complex in order to get a good mark. Although there is a mark for\n",
        "the coding achievement, it is only a quarter of the total._\n",
        "\n",
        "_The suggested length of the code is about 200 lines for a 1 person project or 300\n",
        "for a 2 or 3 person project. You should not use more than 500 lines of code._\n",
        "\n",
        "_You should divide the code in accordance with the specification of modules and/or\n",
        "algoriths you gave in the previous section. Complex modules should be further\n",
        "divided into several code cells._\n",
        "\n",
        "Please note the following about your code:\n",
        "* <b><i>You may import any packages/modules you wish to use for your project.</i></b>\n",
        "\n",
        "\n",
        "* <b><i>You should submit your notebook in a state where all cells have been\n",
        "    executed and are displaying the output that you wish to present for grading.</i></b>\n",
        "    <br>\n",
        "    (We will not normally run your code, unless for some reason we wish to check\n",
        "    that the code functionality matches the given description.)"
      ]
    },
    {
      "cell_type": "markdown",
      "metadata": {
        "id": "-YU3RnBXkNPD"
      },
      "source": [
        "#### _Brief Explanation of following code cell_\n",
        "\n",
        "_Below is a silly example of some trivial data. Replace this markup cell and the one below with somthing more interesting. And go on adding more until you have \n",
        "achieved your objectives (at least to some extent)._"
      ]
    },
    {
      "cell_type": "markdown",
      "metadata": {
        "id": "714NT_oRuENd"
      },
      "source": [
        "#Buthaina"
      ]
    },
    {
      "cell_type": "code",
      "metadata": {
        "id": "eDSYPQcfkNPE"
      },
      "source": [
        "from google.colab import drive\n",
        "import pandas as pd\n",
        "from sklearn.preprocessing import MinMaxScaler\n",
        "import seaborn as sns\n",
        "import matplotlib.pyplot as plt"
      ],
      "execution_count": null,
      "outputs": []
    },
    {
      "cell_type": "code",
      "metadata": {
        "colab": {
          "base_uri": "https://localhost:8080/"
        },
        "id": "wKEyJK2erdSW",
        "outputId": "b66c9d3a-55a2-44ec-9408-31c901ecb737"
      },
      "source": [
        "# Connect Google Drive to Colab\n",
        "drive.mount('/content/drive')"
      ],
      "execution_count": null,
      "outputs": [
        {
          "name": "stdout",
          "output_type": "stream",
          "text": [
            "Drive already mounted at /content/drive; to attempt to forcibly remount, call drive.mount(\"/content/drive\", force_remount=True).\n"
          ]
        }
      ]
    },
    {
      "cell_type": "code",
      "metadata": {
        "id": "xBFIoBi4rf92"
      },
      "source": [
        "!cp drive/MyDrive/Programming4DS/Summative_AS/AS3/train.csv ."
      ],
      "execution_count": null,
      "outputs": []
    },
    {
      "cell_type": "code",
      "metadata": {
        "id": "RGCTB3OU1IsK"
      },
      "source": [
        "!cp drive/MyDrive/Programming4DS/Summative_AS/AS3/test.csv ."
      ],
      "execution_count": null,
      "outputs": []
    },
    {
      "cell_type": "code",
      "metadata": {
        "id": "GtYyRqBJrk5D"
      },
      "source": [
        "## This is the module for creating and manipulating DataFrames\n",
        "airline_train = pd.read_csv(\"train.csv\")"
      ],
      "execution_count": null,
      "outputs": []
    },
    {
      "cell_type": "code",
      "metadata": {
        "id": "kB0JW_rKZCKx"
      },
      "source": [
        "## This is the module for creating and manipulating DataFrames\n",
        "airline_test = pd.read_csv(\"train.csv\")"
      ],
      "execution_count": null,
      "outputs": []
    },
    {
      "cell_type": "code",
      "metadata": {
        "colab": {
          "base_uri": "https://localhost:8080/",
          "height": 360
        },
        "id": "kBoqeQoAt5DQ",
        "outputId": "6083efb8-25bb-45d8-b0d7-8df236b4e125"
      },
      "source": [
        "airline_train.head(5)"
      ],
      "execution_count": null,
      "outputs": [
        {
          "data": {
            "text/html": [
              "<div>\n",
              "<style scoped>\n",
              "    .dataframe tbody tr th:only-of-type {\n",
              "        vertical-align: middle;\n",
              "    }\n",
              "\n",
              "    .dataframe tbody tr th {\n",
              "        vertical-align: top;\n",
              "    }\n",
              "\n",
              "    .dataframe thead th {\n",
              "        text-align: right;\n",
              "    }\n",
              "</style>\n",
              "<table border=\"1\" class=\"dataframe\">\n",
              "  <thead>\n",
              "    <tr style=\"text-align: right;\">\n",
              "      <th></th>\n",
              "      <th>Unnamed: 0</th>\n",
              "      <th>id</th>\n",
              "      <th>Gender</th>\n",
              "      <th>Customer Type</th>\n",
              "      <th>Age</th>\n",
              "      <th>Type of Travel</th>\n",
              "      <th>Class</th>\n",
              "      <th>Flight Distance</th>\n",
              "      <th>Inflight wifi service</th>\n",
              "      <th>Departure/Arrival time convenient</th>\n",
              "      <th>Ease of Online booking</th>\n",
              "      <th>Gate location</th>\n",
              "      <th>Food and drink</th>\n",
              "      <th>Online boarding</th>\n",
              "      <th>Seat comfort</th>\n",
              "      <th>Inflight entertainment</th>\n",
              "      <th>On-board service</th>\n",
              "      <th>Leg room service</th>\n",
              "      <th>Baggage handling</th>\n",
              "      <th>Checkin service</th>\n",
              "      <th>Inflight service</th>\n",
              "      <th>Cleanliness</th>\n",
              "      <th>Departure Delay in Minutes</th>\n",
              "      <th>Arrival Delay in Minutes</th>\n",
              "      <th>satisfaction</th>\n",
              "    </tr>\n",
              "  </thead>\n",
              "  <tbody>\n",
              "    <tr>\n",
              "      <th>0</th>\n",
              "      <td>0</td>\n",
              "      <td>70172</td>\n",
              "      <td>Male</td>\n",
              "      <td>Loyal Customer</td>\n",
              "      <td>13</td>\n",
              "      <td>Personal Travel</td>\n",
              "      <td>Eco Plus</td>\n",
              "      <td>460</td>\n",
              "      <td>3</td>\n",
              "      <td>4</td>\n",
              "      <td>3</td>\n",
              "      <td>1</td>\n",
              "      <td>5</td>\n",
              "      <td>3</td>\n",
              "      <td>5</td>\n",
              "      <td>5</td>\n",
              "      <td>4</td>\n",
              "      <td>3</td>\n",
              "      <td>4</td>\n",
              "      <td>4</td>\n",
              "      <td>5</td>\n",
              "      <td>5</td>\n",
              "      <td>25</td>\n",
              "      <td>18.0</td>\n",
              "      <td>neutral or dissatisfied</td>\n",
              "    </tr>\n",
              "    <tr>\n",
              "      <th>1</th>\n",
              "      <td>1</td>\n",
              "      <td>5047</td>\n",
              "      <td>Male</td>\n",
              "      <td>disloyal Customer</td>\n",
              "      <td>25</td>\n",
              "      <td>Business travel</td>\n",
              "      <td>Business</td>\n",
              "      <td>235</td>\n",
              "      <td>3</td>\n",
              "      <td>2</td>\n",
              "      <td>3</td>\n",
              "      <td>3</td>\n",
              "      <td>1</td>\n",
              "      <td>3</td>\n",
              "      <td>1</td>\n",
              "      <td>1</td>\n",
              "      <td>1</td>\n",
              "      <td>5</td>\n",
              "      <td>3</td>\n",
              "      <td>1</td>\n",
              "      <td>4</td>\n",
              "      <td>1</td>\n",
              "      <td>1</td>\n",
              "      <td>6.0</td>\n",
              "      <td>neutral or dissatisfied</td>\n",
              "    </tr>\n",
              "    <tr>\n",
              "      <th>2</th>\n",
              "      <td>2</td>\n",
              "      <td>110028</td>\n",
              "      <td>Female</td>\n",
              "      <td>Loyal Customer</td>\n",
              "      <td>26</td>\n",
              "      <td>Business travel</td>\n",
              "      <td>Business</td>\n",
              "      <td>1142</td>\n",
              "      <td>2</td>\n",
              "      <td>2</td>\n",
              "      <td>2</td>\n",
              "      <td>2</td>\n",
              "      <td>5</td>\n",
              "      <td>5</td>\n",
              "      <td>5</td>\n",
              "      <td>5</td>\n",
              "      <td>4</td>\n",
              "      <td>3</td>\n",
              "      <td>4</td>\n",
              "      <td>4</td>\n",
              "      <td>4</td>\n",
              "      <td>5</td>\n",
              "      <td>0</td>\n",
              "      <td>0.0</td>\n",
              "      <td>satisfied</td>\n",
              "    </tr>\n",
              "    <tr>\n",
              "      <th>3</th>\n",
              "      <td>3</td>\n",
              "      <td>24026</td>\n",
              "      <td>Female</td>\n",
              "      <td>Loyal Customer</td>\n",
              "      <td>25</td>\n",
              "      <td>Business travel</td>\n",
              "      <td>Business</td>\n",
              "      <td>562</td>\n",
              "      <td>2</td>\n",
              "      <td>5</td>\n",
              "      <td>5</td>\n",
              "      <td>5</td>\n",
              "      <td>2</td>\n",
              "      <td>2</td>\n",
              "      <td>2</td>\n",
              "      <td>2</td>\n",
              "      <td>2</td>\n",
              "      <td>5</td>\n",
              "      <td>3</td>\n",
              "      <td>1</td>\n",
              "      <td>4</td>\n",
              "      <td>2</td>\n",
              "      <td>11</td>\n",
              "      <td>9.0</td>\n",
              "      <td>neutral or dissatisfied</td>\n",
              "    </tr>\n",
              "    <tr>\n",
              "      <th>4</th>\n",
              "      <td>4</td>\n",
              "      <td>119299</td>\n",
              "      <td>Male</td>\n",
              "      <td>Loyal Customer</td>\n",
              "      <td>61</td>\n",
              "      <td>Business travel</td>\n",
              "      <td>Business</td>\n",
              "      <td>214</td>\n",
              "      <td>3</td>\n",
              "      <td>3</td>\n",
              "      <td>3</td>\n",
              "      <td>3</td>\n",
              "      <td>4</td>\n",
              "      <td>5</td>\n",
              "      <td>5</td>\n",
              "      <td>3</td>\n",
              "      <td>3</td>\n",
              "      <td>4</td>\n",
              "      <td>4</td>\n",
              "      <td>3</td>\n",
              "      <td>3</td>\n",
              "      <td>3</td>\n",
              "      <td>0</td>\n",
              "      <td>0.0</td>\n",
              "      <td>satisfied</td>\n",
              "    </tr>\n",
              "  </tbody>\n",
              "</table>\n",
              "</div>"
            ],
            "text/plain": [
              "   Unnamed: 0      id  ... Arrival Delay in Minutes             satisfaction\n",
              "0           0   70172  ...                     18.0  neutral or dissatisfied\n",
              "1           1    5047  ...                      6.0  neutral or dissatisfied\n",
              "2           2  110028  ...                      0.0                satisfied\n",
              "3           3   24026  ...                      9.0  neutral or dissatisfied\n",
              "4           4  119299  ...                      0.0                satisfied\n",
              "\n",
              "[5 rows x 25 columns]"
            ]
          },
          "execution_count": 6,
          "metadata": {},
          "output_type": "execute_result"
        }
      ]
    },
    {
      "cell_type": "code",
      "metadata": {
        "id": "zeifLBlBuJK3"
      },
      "source": [
        "#remove uninformative attributes from train and test dataframes\n",
        "airline_train =airline_train.drop(['Unnamed: 0','id'], axis=1)"
      ],
      "execution_count": null,
      "outputs": []
    },
    {
      "cell_type": "code",
      "metadata": {
        "colab": {
          "base_uri": "https://localhost:8080/",
          "height": 360
        },
        "id": "GGnikkWBlPml",
        "outputId": "3e0014c8-a128-42f3-ddfb-03981b9c8533"
      },
      "source": [
        "#check if the \"Unnamed: 0\" and \"id\" is removed\n",
        "airline_train.head(5)"
      ],
      "execution_count": null,
      "outputs": [
        {
          "data": {
            "text/html": [
              "<div>\n",
              "<style scoped>\n",
              "    .dataframe tbody tr th:only-of-type {\n",
              "        vertical-align: middle;\n",
              "    }\n",
              "\n",
              "    .dataframe tbody tr th {\n",
              "        vertical-align: top;\n",
              "    }\n",
              "\n",
              "    .dataframe thead th {\n",
              "        text-align: right;\n",
              "    }\n",
              "</style>\n",
              "<table border=\"1\" class=\"dataframe\">\n",
              "  <thead>\n",
              "    <tr style=\"text-align: right;\">\n",
              "      <th></th>\n",
              "      <th>Gender</th>\n",
              "      <th>Customer Type</th>\n",
              "      <th>Age</th>\n",
              "      <th>Type of Travel</th>\n",
              "      <th>Class</th>\n",
              "      <th>Flight Distance</th>\n",
              "      <th>Inflight wifi service</th>\n",
              "      <th>Departure/Arrival time convenient</th>\n",
              "      <th>Ease of Online booking</th>\n",
              "      <th>Gate location</th>\n",
              "      <th>Food and drink</th>\n",
              "      <th>Online boarding</th>\n",
              "      <th>Seat comfort</th>\n",
              "      <th>Inflight entertainment</th>\n",
              "      <th>On-board service</th>\n",
              "      <th>Leg room service</th>\n",
              "      <th>Baggage handling</th>\n",
              "      <th>Checkin service</th>\n",
              "      <th>Inflight service</th>\n",
              "      <th>Cleanliness</th>\n",
              "      <th>Departure Delay in Minutes</th>\n",
              "      <th>Arrival Delay in Minutes</th>\n",
              "      <th>satisfaction</th>\n",
              "    </tr>\n",
              "  </thead>\n",
              "  <tbody>\n",
              "    <tr>\n",
              "      <th>0</th>\n",
              "      <td>Male</td>\n",
              "      <td>Loyal Customer</td>\n",
              "      <td>13</td>\n",
              "      <td>Personal Travel</td>\n",
              "      <td>Eco Plus</td>\n",
              "      <td>460</td>\n",
              "      <td>3</td>\n",
              "      <td>4</td>\n",
              "      <td>3</td>\n",
              "      <td>1</td>\n",
              "      <td>5</td>\n",
              "      <td>3</td>\n",
              "      <td>5</td>\n",
              "      <td>5</td>\n",
              "      <td>4</td>\n",
              "      <td>3</td>\n",
              "      <td>4</td>\n",
              "      <td>4</td>\n",
              "      <td>5</td>\n",
              "      <td>5</td>\n",
              "      <td>25</td>\n",
              "      <td>18.0</td>\n",
              "      <td>neutral or dissatisfied</td>\n",
              "    </tr>\n",
              "    <tr>\n",
              "      <th>1</th>\n",
              "      <td>Male</td>\n",
              "      <td>disloyal Customer</td>\n",
              "      <td>25</td>\n",
              "      <td>Business travel</td>\n",
              "      <td>Business</td>\n",
              "      <td>235</td>\n",
              "      <td>3</td>\n",
              "      <td>2</td>\n",
              "      <td>3</td>\n",
              "      <td>3</td>\n",
              "      <td>1</td>\n",
              "      <td>3</td>\n",
              "      <td>1</td>\n",
              "      <td>1</td>\n",
              "      <td>1</td>\n",
              "      <td>5</td>\n",
              "      <td>3</td>\n",
              "      <td>1</td>\n",
              "      <td>4</td>\n",
              "      <td>1</td>\n",
              "      <td>1</td>\n",
              "      <td>6.0</td>\n",
              "      <td>neutral or dissatisfied</td>\n",
              "    </tr>\n",
              "    <tr>\n",
              "      <th>2</th>\n",
              "      <td>Female</td>\n",
              "      <td>Loyal Customer</td>\n",
              "      <td>26</td>\n",
              "      <td>Business travel</td>\n",
              "      <td>Business</td>\n",
              "      <td>1142</td>\n",
              "      <td>2</td>\n",
              "      <td>2</td>\n",
              "      <td>2</td>\n",
              "      <td>2</td>\n",
              "      <td>5</td>\n",
              "      <td>5</td>\n",
              "      <td>5</td>\n",
              "      <td>5</td>\n",
              "      <td>4</td>\n",
              "      <td>3</td>\n",
              "      <td>4</td>\n",
              "      <td>4</td>\n",
              "      <td>4</td>\n",
              "      <td>5</td>\n",
              "      <td>0</td>\n",
              "      <td>0.0</td>\n",
              "      <td>satisfied</td>\n",
              "    </tr>\n",
              "    <tr>\n",
              "      <th>3</th>\n",
              "      <td>Female</td>\n",
              "      <td>Loyal Customer</td>\n",
              "      <td>25</td>\n",
              "      <td>Business travel</td>\n",
              "      <td>Business</td>\n",
              "      <td>562</td>\n",
              "      <td>2</td>\n",
              "      <td>5</td>\n",
              "      <td>5</td>\n",
              "      <td>5</td>\n",
              "      <td>2</td>\n",
              "      <td>2</td>\n",
              "      <td>2</td>\n",
              "      <td>2</td>\n",
              "      <td>2</td>\n",
              "      <td>5</td>\n",
              "      <td>3</td>\n",
              "      <td>1</td>\n",
              "      <td>4</td>\n",
              "      <td>2</td>\n",
              "      <td>11</td>\n",
              "      <td>9.0</td>\n",
              "      <td>neutral or dissatisfied</td>\n",
              "    </tr>\n",
              "    <tr>\n",
              "      <th>4</th>\n",
              "      <td>Male</td>\n",
              "      <td>Loyal Customer</td>\n",
              "      <td>61</td>\n",
              "      <td>Business travel</td>\n",
              "      <td>Business</td>\n",
              "      <td>214</td>\n",
              "      <td>3</td>\n",
              "      <td>3</td>\n",
              "      <td>3</td>\n",
              "      <td>3</td>\n",
              "      <td>4</td>\n",
              "      <td>5</td>\n",
              "      <td>5</td>\n",
              "      <td>3</td>\n",
              "      <td>3</td>\n",
              "      <td>4</td>\n",
              "      <td>4</td>\n",
              "      <td>3</td>\n",
              "      <td>3</td>\n",
              "      <td>3</td>\n",
              "      <td>0</td>\n",
              "      <td>0.0</td>\n",
              "      <td>satisfied</td>\n",
              "    </tr>\n",
              "  </tbody>\n",
              "</table>\n",
              "</div>"
            ],
            "text/plain": [
              "   Gender      Customer Type  ...  Arrival Delay in Minutes             satisfaction\n",
              "0    Male     Loyal Customer  ...                      18.0  neutral or dissatisfied\n",
              "1    Male  disloyal Customer  ...                       6.0  neutral or dissatisfied\n",
              "2  Female     Loyal Customer  ...                       0.0                satisfied\n",
              "3  Female     Loyal Customer  ...                       9.0  neutral or dissatisfied\n",
              "4    Male     Loyal Customer  ...                       0.0                satisfied\n",
              "\n",
              "[5 rows x 23 columns]"
            ]
          },
          "execution_count": 11,
          "metadata": {},
          "output_type": "execute_result"
        }
      ]
    },
    {
      "cell_type": "markdown",
      "metadata": {
        "id": "stDpI87HlUy7"
      },
      "source": [
        "#cleaning data"
      ]
    },
    {
      "cell_type": "code",
      "metadata": {
        "colab": {
          "base_uri": "https://localhost:8080/"
        },
        "id": "p3n7oES_lSEu",
        "outputId": "24da6173-9a17-4d0a-9ca4-00cbb7569883"
      },
      "source": [
        "#check null variables\n",
        "airline_train.isnull().sum()\n",
        "#in attribute of \"Arrival Delay in Minutes\" in trainig dataset, there are 310 missing values"
      ],
      "execution_count": null,
      "outputs": [
        {
          "data": {
            "text/plain": [
              "Gender                                 0\n",
              "Customer Type                          0\n",
              "Age                                    0\n",
              "Type of Travel                         0\n",
              "Class                                  0\n",
              "Flight Distance                        0\n",
              "Inflight wifi service                  0\n",
              "Departure/Arrival time convenient      0\n",
              "Ease of Online booking                 0\n",
              "Gate location                          0\n",
              "Food and drink                         0\n",
              "Online boarding                        0\n",
              "Seat comfort                           0\n",
              "Inflight entertainment                 0\n",
              "On-board service                       0\n",
              "Leg room service                       0\n",
              "Baggage handling                       0\n",
              "Checkin service                        0\n",
              "Inflight service                       0\n",
              "Cleanliness                            0\n",
              "Departure Delay in Minutes             0\n",
              "Arrival Delay in Minutes             310\n",
              "satisfaction                           0\n",
              "dtype: int64"
            ]
          },
          "execution_count": 13,
          "metadata": {},
          "output_type": "execute_result"
        }
      ]
    },
    {
      "cell_type": "code",
      "metadata": {
        "id": "vr_0y8DIlc7g"
      },
      "source": [
        "#Since we are going to assume that the missing values in this attribute is because there was not delay in the arrive.\n",
        "#Therefore, we are going to fill the missing values with 0, which is the median as well, assuming there was not delay.\n",
        "\n",
        "airline_train['Arrival Delay in Minutes'].fillna(0, inplace = True)"
      ],
      "execution_count": null,
      "outputs": []
    },
    {
      "cell_type": "code",
      "metadata": {
        "colab": {
          "base_uri": "https://localhost:8080/"
        },
        "id": "ab0u2pk2ldo-",
        "outputId": "9f52a168-50c7-40a8-94a4-789ad9f9cdb7"
      },
      "source": [
        "#check null variables after filling them with 0\n",
        "airline_train.isnull().sum()\n",
        "#show distribution before and after feature imputing*"
      ],
      "execution_count": null,
      "outputs": [
        {
          "data": {
            "text/plain": [
              "Gender                               0\n",
              "Customer Type                        0\n",
              "Age                                  0\n",
              "Type of Travel                       0\n",
              "Class                                0\n",
              "Flight Distance                      0\n",
              "Inflight wifi service                0\n",
              "Departure/Arrival time convenient    0\n",
              "Ease of Online booking               0\n",
              "Gate location                        0\n",
              "Food and drink                       0\n",
              "Online boarding                      0\n",
              "Seat comfort                         0\n",
              "Inflight entertainment               0\n",
              "On-board service                     0\n",
              "Leg room service                     0\n",
              "Baggage handling                     0\n",
              "Checkin service                      0\n",
              "Inflight service                     0\n",
              "Cleanliness                          0\n",
              "Departure Delay in Minutes           0\n",
              "Arrival Delay in Minutes             0\n",
              "satisfaction                         0\n",
              "dtype: int64"
            ]
          },
          "execution_count": 15,
          "metadata": {},
          "output_type": "execute_result"
        }
      ]
    },
    {
      "cell_type": "code",
      "metadata": {
        "colab": {
          "base_uri": "https://localhost:8080/",
          "height": 351
        },
        "id": "hOM7vbx09Kxw",
        "outputId": "e99994af-0566-41b8-f4e2-183c50aa4f49"
      },
      "source": [
        "#the range of services' satisfaction should be between 1-5, therefore, we are going to assume that if the value is 0\n",
        "#then the passenger did not enter any value and we should remove them in order to make the range of the scores between 1 and 5 only\n",
        "\n",
        "airline_train.describe()"
      ],
      "execution_count": null,
      "outputs": [
        {
          "data": {
            "text/html": [
              "<div>\n",
              "<style scoped>\n",
              "    .dataframe tbody tr th:only-of-type {\n",
              "        vertical-align: middle;\n",
              "    }\n",
              "\n",
              "    .dataframe tbody tr th {\n",
              "        vertical-align: top;\n",
              "    }\n",
              "\n",
              "    .dataframe thead th {\n",
              "        text-align: right;\n",
              "    }\n",
              "</style>\n",
              "<table border=\"1\" class=\"dataframe\">\n",
              "  <thead>\n",
              "    <tr style=\"text-align: right;\">\n",
              "      <th></th>\n",
              "      <th>Unnamed: 0</th>\n",
              "      <th>id</th>\n",
              "      <th>Age</th>\n",
              "      <th>Flight Distance</th>\n",
              "      <th>Inflight wifi service</th>\n",
              "      <th>Departure/Arrival time convenient</th>\n",
              "      <th>Ease of Online booking</th>\n",
              "      <th>Gate location</th>\n",
              "      <th>Food and drink</th>\n",
              "      <th>Online boarding</th>\n",
              "      <th>Seat comfort</th>\n",
              "      <th>Inflight entertainment</th>\n",
              "      <th>On-board service</th>\n",
              "      <th>Leg room service</th>\n",
              "      <th>Baggage handling</th>\n",
              "      <th>Checkin service</th>\n",
              "      <th>Inflight service</th>\n",
              "      <th>Cleanliness</th>\n",
              "      <th>Departure Delay in Minutes</th>\n",
              "      <th>Arrival Delay in Minutes</th>\n",
              "    </tr>\n",
              "  </thead>\n",
              "  <tbody>\n",
              "    <tr>\n",
              "      <th>count</th>\n",
              "      <td>95704.000000</td>\n",
              "      <td>95704.000000</td>\n",
              "      <td>95704.000000</td>\n",
              "      <td>95704.000000</td>\n",
              "      <td>95704.000000</td>\n",
              "      <td>95704.000000</td>\n",
              "      <td>95704.000000</td>\n",
              "      <td>95704.000000</td>\n",
              "      <td>95704.000000</td>\n",
              "      <td>95704.000000</td>\n",
              "      <td>95704.000000</td>\n",
              "      <td>95704.000000</td>\n",
              "      <td>95704.000000</td>\n",
              "      <td>95704.000000</td>\n",
              "      <td>95704.000000</td>\n",
              "      <td>95704.000000</td>\n",
              "      <td>95704.000000</td>\n",
              "      <td>95704.000000</td>\n",
              "      <td>95704.000000</td>\n",
              "      <td>95415.000000</td>\n",
              "    </tr>\n",
              "    <tr>\n",
              "      <th>mean</th>\n",
              "      <td>51972.507993</td>\n",
              "      <td>65295.209448</td>\n",
              "      <td>39.812662</td>\n",
              "      <td>1222.491516</td>\n",
              "      <td>2.818586</td>\n",
              "      <td>3.207964</td>\n",
              "      <td>2.877947</td>\n",
              "      <td>2.985518</td>\n",
              "      <td>3.212311</td>\n",
              "      <td>3.326893</td>\n",
              "      <td>3.454641</td>\n",
              "      <td>3.381520</td>\n",
              "      <td>3.385010</td>\n",
              "      <td>3.379942</td>\n",
              "      <td>3.636452</td>\n",
              "      <td>3.291921</td>\n",
              "      <td>3.644299</td>\n",
              "      <td>3.294460</td>\n",
              "      <td>15.003124</td>\n",
              "      <td>15.368758</td>\n",
              "    </tr>\n",
              "    <tr>\n",
              "      <th>std</th>\n",
              "      <td>30008.982680</td>\n",
              "      <td>37365.072726</td>\n",
              "      <td>15.026287</td>\n",
              "      <td>999.462870</td>\n",
              "      <td>1.252640</td>\n",
              "      <td>1.385935</td>\n",
              "      <td>1.296866</td>\n",
              "      <td>1.281233</td>\n",
              "      <td>1.323818</td>\n",
              "      <td>1.262999</td>\n",
              "      <td>1.311368</td>\n",
              "      <td>1.325662</td>\n",
              "      <td>1.286907</td>\n",
              "      <td>1.295243</td>\n",
              "      <td>1.169537</td>\n",
              "      <td>1.265537</td>\n",
              "      <td>1.165165</td>\n",
              "      <td>1.308735</td>\n",
              "      <td>38.401413</td>\n",
              "      <td>38.858316</td>\n",
              "    </tr>\n",
              "    <tr>\n",
              "      <th>min</th>\n",
              "      <td>0.000000</td>\n",
              "      <td>1.000000</td>\n",
              "      <td>7.000000</td>\n",
              "      <td>31.000000</td>\n",
              "      <td>1.000000</td>\n",
              "      <td>1.000000</td>\n",
              "      <td>1.000000</td>\n",
              "      <td>1.000000</td>\n",
              "      <td>1.000000</td>\n",
              "      <td>1.000000</td>\n",
              "      <td>1.000000</td>\n",
              "      <td>1.000000</td>\n",
              "      <td>1.000000</td>\n",
              "      <td>1.000000</td>\n",
              "      <td>1.000000</td>\n",
              "      <td>1.000000</td>\n",
              "      <td>1.000000</td>\n",
              "      <td>1.000000</td>\n",
              "      <td>0.000000</td>\n",
              "      <td>0.000000</td>\n",
              "    </tr>\n",
              "    <tr>\n",
              "      <th>25%</th>\n",
              "      <td>25989.750000</td>\n",
              "      <td>33129.750000</td>\n",
              "      <td>28.000000</td>\n",
              "      <td>438.000000</td>\n",
              "      <td>2.000000</td>\n",
              "      <td>2.000000</td>\n",
              "      <td>2.000000</td>\n",
              "      <td>2.000000</td>\n",
              "      <td>2.000000</td>\n",
              "      <td>2.000000</td>\n",
              "      <td>2.000000</td>\n",
              "      <td>2.000000</td>\n",
              "      <td>2.000000</td>\n",
              "      <td>2.000000</td>\n",
              "      <td>3.000000</td>\n",
              "      <td>2.000000</td>\n",
              "      <td>3.000000</td>\n",
              "      <td>2.000000</td>\n",
              "      <td>0.000000</td>\n",
              "      <td>0.000000</td>\n",
              "    </tr>\n",
              "    <tr>\n",
              "      <th>50%</th>\n",
              "      <td>51959.500000</td>\n",
              "      <td>65493.500000</td>\n",
              "      <td>40.000000</td>\n",
              "      <td>867.000000</td>\n",
              "      <td>3.000000</td>\n",
              "      <td>3.000000</td>\n",
              "      <td>3.000000</td>\n",
              "      <td>3.000000</td>\n",
              "      <td>3.000000</td>\n",
              "      <td>4.000000</td>\n",
              "      <td>4.000000</td>\n",
              "      <td>4.000000</td>\n",
              "      <td>4.000000</td>\n",
              "      <td>4.000000</td>\n",
              "      <td>4.000000</td>\n",
              "      <td>3.000000</td>\n",
              "      <td>4.000000</td>\n",
              "      <td>3.000000</td>\n",
              "      <td>0.000000</td>\n",
              "      <td>0.000000</td>\n",
              "    </tr>\n",
              "    <tr>\n",
              "      <th>75%</th>\n",
              "      <td>77946.250000</td>\n",
              "      <td>97608.250000</td>\n",
              "      <td>51.000000</td>\n",
              "      <td>1773.000000</td>\n",
              "      <td>4.000000</td>\n",
              "      <td>4.000000</td>\n",
              "      <td>4.000000</td>\n",
              "      <td>4.000000</td>\n",
              "      <td>4.000000</td>\n",
              "      <td>4.000000</td>\n",
              "      <td>5.000000</td>\n",
              "      <td>4.000000</td>\n",
              "      <td>4.000000</td>\n",
              "      <td>4.000000</td>\n",
              "      <td>5.000000</td>\n",
              "      <td>4.000000</td>\n",
              "      <td>5.000000</td>\n",
              "      <td>4.000000</td>\n",
              "      <td>13.000000</td>\n",
              "      <td>13.000000</td>\n",
              "    </tr>\n",
              "    <tr>\n",
              "      <th>max</th>\n",
              "      <td>103903.000000</td>\n",
              "      <td>129880.000000</td>\n",
              "      <td>85.000000</td>\n",
              "      <td>4983.000000</td>\n",
              "      <td>5.000000</td>\n",
              "      <td>5.000000</td>\n",
              "      <td>5.000000</td>\n",
              "      <td>5.000000</td>\n",
              "      <td>5.000000</td>\n",
              "      <td>5.000000</td>\n",
              "      <td>5.000000</td>\n",
              "      <td>5.000000</td>\n",
              "      <td>5.000000</td>\n",
              "      <td>5.000000</td>\n",
              "      <td>5.000000</td>\n",
              "      <td>5.000000</td>\n",
              "      <td>5.000000</td>\n",
              "      <td>5.000000</td>\n",
              "      <td>1592.000000</td>\n",
              "      <td>1584.000000</td>\n",
              "    </tr>\n",
              "  </tbody>\n",
              "</table>\n",
              "</div>"
            ],
            "text/plain": [
              "          Unnamed: 0  ...  Arrival Delay in Minutes\n",
              "count   95704.000000  ...              95415.000000\n",
              "mean    51972.507993  ...                 15.368758\n",
              "std     30008.982680  ...                 38.858316\n",
              "min         0.000000  ...                  0.000000\n",
              "25%     25989.750000  ...                  0.000000\n",
              "50%     51959.500000  ...                  0.000000\n",
              "75%     77946.250000  ...                 13.000000\n",
              "max    103903.000000  ...               1584.000000\n",
              "\n",
              "[8 rows x 20 columns]"
            ]
          },
          "execution_count": 14,
          "metadata": {},
          "output_type": "execute_result"
        }
      ]
    },
    {
      "cell_type": "code",
      "metadata": {
        "id": "tVw37hYG-HDD"
      },
      "source": [
        "#remove 0 from the services \n",
        "# Baggage handling, its min values is 1 \n",
        "#put all services that has 0 as min value in a list\n",
        "services_columns = [\"Inflight wifi service\", \"Departure/Arrival time convenient\", \"Ease of Online booking\", \"Gate location\",\"Food and drink\",\n",
        "                    \"Online boarding\", \"Seat comfort\", \"Inflight entertainment\", \"On-board service\",\"Leg room service\",\"Checkin service\",\n",
        "                    \"Inflight service\",\"Cleanliness\" ]\n",
        "\n",
        "#take only the rows that have values greater than 0 and update the dataframe\n",
        "\n",
        "for column in services_columns:\n",
        "  airline_train = airline_train[ airline_train[column] > 0]\n"
      ],
      "execution_count": null,
      "outputs": []
    },
    {
      "cell_type": "code",
      "metadata": {
        "colab": {
          "base_uri": "https://localhost:8080/"
        },
        "id": "qJtDhAc_MnOr",
        "outputId": "cc45647c-48b4-4203-b9d7-d1279b562e6e"
      },
      "source": [
        "\n",
        "#check if the min value in all services is 1\n",
        "#here we can see the all the min values are 1\n",
        "for column in services_columns:\n",
        "  print(column, airline_train[column].min())"
      ],
      "execution_count": null,
      "outputs": [
        {
          "name": "stdout",
          "output_type": "stream",
          "text": [
            "Inflight wifi service 1\n",
            "Departure/Arrival time convenient 1\n",
            "Ease of Online booking 1\n",
            "Gate location 1\n",
            "Food and drink 1\n",
            "Online boarding 1\n",
            "Seat comfort 1\n",
            "Inflight entertainment 1\n",
            "On-board service 1\n",
            "Leg room service 1\n",
            "Checkin service 1\n",
            "Inflight service 1\n",
            "Cleanliness 1\n"
          ]
        }
      ]
    },
    {
      "cell_type": "markdown",
      "metadata": {
        "id": "yqbEB8TqljXF"
      },
      "source": [
        "##Check outliers and remove them"
      ]
    },
    {
      "cell_type": "code",
      "metadata": {
        "colab": {
          "base_uri": "https://localhost:8080/",
          "height": 296
        },
        "id": "ggg859UilhMD",
        "outputId": "eecf949b-d720-44df-eefb-2b1c9a144a53"
      },
      "source": [
        "#no outliers in \"Age\" attribute and we can see that the youngest passenger is 7 years old\n",
        "#and the oldest passenger is 85 years old. However, most passengers are in the age of 27 and 51 years old\n",
        "sns.boxplot(x=airline_train['Age'])"
      ],
      "execution_count": null,
      "outputs": [
        {
          "data": {
            "text/plain": [
              "<matplotlib.axes._subplots.AxesSubplot at 0x7fc040d7ca90>"
            ]
          },
          "execution_count": 15,
          "metadata": {},
          "output_type": "execute_result"
        },
        {
          "data": {
            "image/png": "[encoded data removed]",
            "text/plain": [
              "<Figure size 432x288 with 1 Axes>"
            ]
          },
          "metadata": {},
          "output_type": "display_data"
        }
      ]
    },
    {
      "cell_type": "code",
      "metadata": {
        "colab": {
          "base_uri": "https://localhost:8080/",
          "height": 296
        },
        "id": "H6X0CsEMlpss",
        "outputId": "70e4e6b6-f4cd-4ec5-f7f1-8ccfd1a8bd84"
      },
      "source": [
        "##there are outliers in \"Flight Distance\" attribute (from 3900 km to 5000 km)\n",
        "sns.boxplot(x=airline_train['Flight Distance'])"
      ],
      "execution_count": null,
      "outputs": [
        {
          "data": {
            "text/plain": [
              "<matplotlib.axes._subplots.AxesSubplot at 0x7fc03fdf6810>"
            ]
          },
          "execution_count": 16,
          "metadata": {},
          "output_type": "execute_result"
        },
        {
          "data": {
            "image/png": "[encoded data removed]",
            "text/plain": [
              "<Figure size 432x288 with 1 Axes>"
            ]
          },
          "metadata": {},
          "output_type": "display_data"
        }
      ]
    },
    {
      "cell_type": "code",
      "metadata": {
        "id": "U1wYedevlxw1"
      },
      "source": [
        "#remove outliers \n",
        "airline_train = airline_train[airline_train['Flight Distance'] <= 1743]"
      ],
      "execution_count": null,
      "outputs": []
    },
    {
      "cell_type": "code",
      "metadata": {
        "colab": {
          "base_uri": "https://localhost:8080/",
          "height": 296
        },
        "id": "PO_gBkPzl2Ba",
        "outputId": "ad9a9531-af16-4421-af33-2238ebdffaa3"
      },
      "source": [
        "#check boxplot after removing outliers\n",
        "sns.boxplot(x=airline_train['Flight Distance'])"
      ],
      "execution_count": null,
      "outputs": [
        {
          "data": {
            "text/plain": [
              "<matplotlib.axes._subplots.AxesSubplot at 0x7fc03f6a4c10>"
            ]
          },
          "execution_count": 18,
          "metadata": {},
          "output_type": "execute_result"
        },
        {
          "data": {
            "image/png": "[encoded data removed]",
            "text/plain": [
              "<Figure size 432x288 with 1 Axes>"
            ]
          },
          "metadata": {},
          "output_type": "display_data"
        }
      ]
    },
    {
      "cell_type": "code",
      "metadata": {
        "colab": {
          "base_uri": "https://localhost:8080/",
          "height": 296
        },
        "id": "VSO2gpkHl6n9",
        "outputId": "6f370fb8-bbaf-4959-dd8e-e3941d14dd96"
      },
      "source": [
        "#there are outlires since the avarage is 15 minutes delay but some complain from more than 24 hours delay \n",
        "sns.boxplot(x=airline_train['Departure Delay in Minutes'])"
      ],
      "execution_count": null,
      "outputs": [
        {
          "data": {
            "text/plain": [
              "<matplotlib.axes._subplots.AxesSubplot at 0x7fc03e6979d0>"
            ]
          },
          "execution_count": 19,
          "metadata": {},
          "output_type": "execute_result"
        },
        {
          "data": {
            "image/png": "[encoded data removed]",
            "text/plain": [
              "<Figure size 432x288 with 1 Axes>"
            ]
          },
          "metadata": {},
          "output_type": "display_data"
        }
      ]
    },
    {
      "cell_type": "code",
      "metadata": {
        "id": "tGfW9MP2l7Ui"
      },
      "source": [
        "#remove outliers \n",
        "airline_train = airline_train[airline_train['Departure Delay in Minutes'] <= 12]"
      ],
      "execution_count": null,
      "outputs": []
    },
    {
      "cell_type": "code",
      "metadata": {
        "colab": {
          "base_uri": "https://localhost:8080/",
          "height": 296
        },
        "id": "rJ0KwIF-mBtk",
        "outputId": "a1ff5ea1-ddb5-4578-a112-89d07f6e27eb"
      },
      "source": [
        "#check boxplot after removing outliers\n",
        "sns.boxplot(x=airline_train['Departure Delay in Minutes'])"
      ],
      "execution_count": null,
      "outputs": [
        {
          "data": {
            "text/plain": [
              "<matplotlib.axes._subplots.AxesSubplot at 0x7fc03e61ac50>"
            ]
          },
          "execution_count": 21,
          "metadata": {},
          "output_type": "execute_result"
        },
        {
          "data": {
            "image/png": "[encoded data removed]",
            "text/plain": [
              "<Figure size 432x288 with 1 Axes>"
            ]
          },
          "metadata": {},
          "output_type": "display_data"
        }
      ]
    },
    {
      "cell_type": "code",
      "metadata": {
        "colab": {
          "base_uri": "https://localhost:8080/",
          "height": 296
        },
        "id": "oGpZVTUCmEPU",
        "outputId": "0e19358e-15ee-4a5e-98e7-5066813c396f"
      },
      "source": [
        "#there are outlires since the avarage is 15 minutes delay but some complain from more the 24 hours delay \n",
        "sns.boxplot(x=airline_train['Arrival Delay in Minutes'])"
      ],
      "execution_count": null,
      "outputs": [
        {
          "data": {
            "text/plain": [
              "<matplotlib.axes._subplots.AxesSubplot at 0x7fc03e59d850>"
            ]
          },
          "execution_count": 22,
          "metadata": {},
          "output_type": "execute_result"
        },
        {
          "data": {
            "image/png": "[encoded data removed]",
            "text/plain": [
              "<Figure size 432x288 with 1 Axes>"
            ]
          },
          "metadata": {},
          "output_type": "display_data"
        }
      ]
    },
    {
      "cell_type": "code",
      "metadata": {
        "id": "pkR6uysvmGl_"
      },
      "source": [
        "#remove outliers \n",
        "airline_train = airline_train[airline_train['Arrival Delay in Minutes'] <= 13]"
      ],
      "execution_count": null,
      "outputs": []
    },
    {
      "cell_type": "code",
      "metadata": {
        "colab": {
          "base_uri": "https://localhost:8080/",
          "height": 296
        },
        "id": "D9qKLA1mmJL9",
        "outputId": "896cbc1e-1e57-4e7e-bb73-b8485f1150ec"
      },
      "source": [
        "#check boxplot after removing outliers\n",
        "sns.boxplot(x=airline_train['Arrival Delay in Minutes'])"
      ],
      "execution_count": null,
      "outputs": [
        {
          "data": {
            "text/plain": [
              "<matplotlib.axes._subplots.AxesSubplot at 0x7fc03e501790>"
            ]
          },
          "execution_count": 24,
          "metadata": {},
          "output_type": "execute_result"
        },
        {
          "data": {
            "image/png": "[encoded data removed]",
            "text/plain": [
              "<Figure size 432x288 with 1 Axes>"
            ]
          },
          "metadata": {},
          "output_type": "display_data"
        }
      ]
    },
    {
      "cell_type": "markdown",
      "metadata": {
        "id": "2cyaC9TwmRGZ"
      },
      "source": [
        "##Data pre-processing"
      ]
    },
    {
      "cell_type": "code",
      "metadata": {
        "id": "HCXHPMxZmT_X"
      },
      "source": [
        "#Categrical attributes\n",
        "#Do one-hot encoding for all categorical variables unless target variable\n",
        "airline_train = pd.get_dummies(airline_train, columns=['Gender','Customer Type','Type of Travel', 'Class'])"
      ],
      "execution_count": null,
      "outputs": []
    },
    {
      "cell_type": "code",
      "metadata": {
        "colab": {
          "base_uri": "https://localhost:8080/",
          "height": 326
        },
        "id": "QBKL7HLmmYsg",
        "outputId": "b14a660e-5443-4014-823c-31ae302d07a7"
      },
      "source": [
        "#check data after it is encoded \n",
        "airline_train.head(5)"
      ],
      "execution_count": null,
      "outputs": [
        {
          "data": {
            "text/html": [
              "<div>\n",
              "<style scoped>\n",
              "    .dataframe tbody tr th:only-of-type {\n",
              "        vertical-align: middle;\n",
              "    }\n",
              "\n",
              "    .dataframe tbody tr th {\n",
              "        vertical-align: top;\n",
              "    }\n",
              "\n",
              "    .dataframe thead th {\n",
              "        text-align: right;\n",
              "    }\n",
              "</style>\n",
              "<table border=\"1\" class=\"dataframe\">\n",
              "  <thead>\n",
              "    <tr style=\"text-align: right;\">\n",
              "      <th></th>\n",
              "      <th>Age</th>\n",
              "      <th>Flight Distance</th>\n",
              "      <th>Inflight wifi service</th>\n",
              "      <th>Departure/Arrival time convenient</th>\n",
              "      <th>Ease of Online booking</th>\n",
              "      <th>Gate location</th>\n",
              "      <th>Food and drink</th>\n",
              "      <th>Online boarding</th>\n",
              "      <th>Seat comfort</th>\n",
              "      <th>Inflight entertainment</th>\n",
              "      <th>On-board service</th>\n",
              "      <th>Leg room service</th>\n",
              "      <th>Baggage handling</th>\n",
              "      <th>Checkin service</th>\n",
              "      <th>Inflight service</th>\n",
              "      <th>Cleanliness</th>\n",
              "      <th>Departure Delay in Minutes</th>\n",
              "      <th>Arrival Delay in Minutes</th>\n",
              "      <th>satisfaction</th>\n",
              "      <th>Gender_Female</th>\n",
              "      <th>Gender_Male</th>\n",
              "      <th>Customer Type_Loyal Customer</th>\n",
              "      <th>Customer Type_disloyal Customer</th>\n",
              "      <th>Type of Travel_Business travel</th>\n",
              "      <th>Type of Travel_Personal Travel</th>\n",
              "      <th>Class_Business</th>\n",
              "      <th>Class_Eco</th>\n",
              "      <th>Class_Eco Plus</th>\n",
              "    </tr>\n",
              "  </thead>\n",
              "  <tbody>\n",
              "    <tr>\n",
              "      <th>1</th>\n",
              "      <td>25</td>\n",
              "      <td>235</td>\n",
              "      <td>3</td>\n",
              "      <td>2</td>\n",
              "      <td>3</td>\n",
              "      <td>3</td>\n",
              "      <td>1</td>\n",
              "      <td>3</td>\n",
              "      <td>1</td>\n",
              "      <td>1</td>\n",
              "      <td>1</td>\n",
              "      <td>5</td>\n",
              "      <td>3</td>\n",
              "      <td>1</td>\n",
              "      <td>4</td>\n",
              "      <td>1</td>\n",
              "      <td>1</td>\n",
              "      <td>6.0</td>\n",
              "      <td>neutral or dissatisfied</td>\n",
              "      <td>0</td>\n",
              "      <td>1</td>\n",
              "      <td>0</td>\n",
              "      <td>1</td>\n",
              "      <td>1</td>\n",
              "      <td>0</td>\n",
              "      <td>1</td>\n",
              "      <td>0</td>\n",
              "      <td>0</td>\n",
              "    </tr>\n",
              "    <tr>\n",
              "      <th>2</th>\n",
              "      <td>26</td>\n",
              "      <td>1142</td>\n",
              "      <td>2</td>\n",
              "      <td>2</td>\n",
              "      <td>2</td>\n",
              "      <td>2</td>\n",
              "      <td>5</td>\n",
              "      <td>5</td>\n",
              "      <td>5</td>\n",
              "      <td>5</td>\n",
              "      <td>4</td>\n",
              "      <td>3</td>\n",
              "      <td>4</td>\n",
              "      <td>4</td>\n",
              "      <td>4</td>\n",
              "      <td>5</td>\n",
              "      <td>0</td>\n",
              "      <td>0.0</td>\n",
              "      <td>satisfied</td>\n",
              "      <td>1</td>\n",
              "      <td>0</td>\n",
              "      <td>1</td>\n",
              "      <td>0</td>\n",
              "      <td>1</td>\n",
              "      <td>0</td>\n",
              "      <td>1</td>\n",
              "      <td>0</td>\n",
              "      <td>0</td>\n",
              "    </tr>\n",
              "    <tr>\n",
              "      <th>3</th>\n",
              "      <td>25</td>\n",
              "      <td>562</td>\n",
              "      <td>2</td>\n",
              "      <td>5</td>\n",
              "      <td>5</td>\n",
              "      <td>5</td>\n",
              "      <td>2</td>\n",
              "      <td>2</td>\n",
              "      <td>2</td>\n",
              "      <td>2</td>\n",
              "      <td>2</td>\n",
              "      <td>5</td>\n",
              "      <td>3</td>\n",
              "      <td>1</td>\n",
              "      <td>4</td>\n",
              "      <td>2</td>\n",
              "      <td>11</td>\n",
              "      <td>9.0</td>\n",
              "      <td>neutral or dissatisfied</td>\n",
              "      <td>1</td>\n",
              "      <td>0</td>\n",
              "      <td>1</td>\n",
              "      <td>0</td>\n",
              "      <td>1</td>\n",
              "      <td>0</td>\n",
              "      <td>1</td>\n",
              "      <td>0</td>\n",
              "      <td>0</td>\n",
              "    </tr>\n",
              "    <tr>\n",
              "      <th>4</th>\n",
              "      <td>61</td>\n",
              "      <td>214</td>\n",
              "      <td>3</td>\n",
              "      <td>3</td>\n",
              "      <td>3</td>\n",
              "      <td>3</td>\n",
              "      <td>4</td>\n",
              "      <td>5</td>\n",
              "      <td>5</td>\n",
              "      <td>3</td>\n",
              "      <td>3</td>\n",
              "      <td>4</td>\n",
              "      <td>4</td>\n",
              "      <td>3</td>\n",
              "      <td>3</td>\n",
              "      <td>3</td>\n",
              "      <td>0</td>\n",
              "      <td>0.0</td>\n",
              "      <td>satisfied</td>\n",
              "      <td>0</td>\n",
              "      <td>1</td>\n",
              "      <td>1</td>\n",
              "      <td>0</td>\n",
              "      <td>1</td>\n",
              "      <td>0</td>\n",
              "      <td>1</td>\n",
              "      <td>0</td>\n",
              "      <td>0</td>\n",
              "    </tr>\n",
              "    <tr>\n",
              "      <th>5</th>\n",
              "      <td>26</td>\n",
              "      <td>1180</td>\n",
              "      <td>3</td>\n",
              "      <td>4</td>\n",
              "      <td>2</td>\n",
              "      <td>1</td>\n",
              "      <td>1</td>\n",
              "      <td>2</td>\n",
              "      <td>1</td>\n",
              "      <td>1</td>\n",
              "      <td>3</td>\n",
              "      <td>4</td>\n",
              "      <td>4</td>\n",
              "      <td>4</td>\n",
              "      <td>4</td>\n",
              "      <td>1</td>\n",
              "      <td>0</td>\n",
              "      <td>0.0</td>\n",
              "      <td>neutral or dissatisfied</td>\n",
              "      <td>1</td>\n",
              "      <td>0</td>\n",
              "      <td>1</td>\n",
              "      <td>0</td>\n",
              "      <td>0</td>\n",
              "      <td>1</td>\n",
              "      <td>0</td>\n",
              "      <td>1</td>\n",
              "      <td>0</td>\n",
              "    </tr>\n",
              "  </tbody>\n",
              "</table>\n",
              "</div>"
            ],
            "text/plain": [
              "   Age  Flight Distance  ...  Class_Eco  Class_Eco Plus\n",
              "1   25              235  ...          0               0\n",
              "2   26             1142  ...          0               0\n",
              "3   25              562  ...          0               0\n",
              "4   61              214  ...          0               0\n",
              "5   26             1180  ...          1               0\n",
              "\n",
              "[5 rows x 28 columns]"
            ]
          },
          "execution_count": 26,
          "metadata": {},
          "output_type": "execute_result"
        }
      ]
    },
    {
      "cell_type": "code",
      "metadata": {
        "id": "nxW1SnMEmatE"
      },
      "source": [
        "#encoding categorical variable\n",
        "airline_train[\"satisfaction\"]=airline_train[\"satisfaction\"].map({\"satisfied\":1,\"neutral or dissatisfied\":0})"
      ],
      "execution_count": null,
      "outputs": []
    },
    {
      "cell_type": "code",
      "metadata": {
        "colab": {
          "base_uri": "https://localhost:8080/",
          "height": 275
        },
        "id": "El7tyEnWmcxR",
        "outputId": "6cd71125-d632-4da8-d7d9-82db72a9731c"
      },
      "source": [
        "#check data after it is encoded \n",
        "airline_train.head(5)"
      ],
      "execution_count": null,
      "outputs": [
        {
          "data": {
            "text/html": [
              "<div>\n",
              "<style scoped>\n",
              "    .dataframe tbody tr th:only-of-type {\n",
              "        vertical-align: middle;\n",
              "    }\n",
              "\n",
              "    .dataframe tbody tr th {\n",
              "        vertical-align: top;\n",
              "    }\n",
              "\n",
              "    .dataframe thead th {\n",
              "        text-align: right;\n",
              "    }\n",
              "</style>\n",
              "<table border=\"1\" class=\"dataframe\">\n",
              "  <thead>\n",
              "    <tr style=\"text-align: right;\">\n",
              "      <th></th>\n",
              "      <th>Age</th>\n",
              "      <th>Flight Distance</th>\n",
              "      <th>Inflight wifi service</th>\n",
              "      <th>Departure/Arrival time convenient</th>\n",
              "      <th>Ease of Online booking</th>\n",
              "      <th>Gate location</th>\n",
              "      <th>Food and drink</th>\n",
              "      <th>Online boarding</th>\n",
              "      <th>Seat comfort</th>\n",
              "      <th>Inflight entertainment</th>\n",
              "      <th>On-board service</th>\n",
              "      <th>Leg room service</th>\n",
              "      <th>Baggage handling</th>\n",
              "      <th>Checkin service</th>\n",
              "      <th>Inflight service</th>\n",
              "      <th>Cleanliness</th>\n",
              "      <th>Departure Delay in Minutes</th>\n",
              "      <th>Arrival Delay in Minutes</th>\n",
              "      <th>satisfaction</th>\n",
              "      <th>Gender_Female</th>\n",
              "      <th>Gender_Male</th>\n",
              "      <th>Customer Type_Loyal Customer</th>\n",
              "      <th>Customer Type_disloyal Customer</th>\n",
              "      <th>Type of Travel_Business travel</th>\n",
              "      <th>Type of Travel_Personal Travel</th>\n",
              "      <th>Class_Business</th>\n",
              "      <th>Class_Eco</th>\n",
              "      <th>Class_Eco Plus</th>\n",
              "    </tr>\n",
              "  </thead>\n",
              "  <tbody>\n",
              "    <tr>\n",
              "      <th>1</th>\n",
              "      <td>25</td>\n",
              "      <td>235</td>\n",
              "      <td>3</td>\n",
              "      <td>2</td>\n",
              "      <td>3</td>\n",
              "      <td>3</td>\n",
              "      <td>1</td>\n",
              "      <td>3</td>\n",
              "      <td>1</td>\n",
              "      <td>1</td>\n",
              "      <td>1</td>\n",
              "      <td>5</td>\n",
              "      <td>3</td>\n",
              "      <td>1</td>\n",
              "      <td>4</td>\n",
              "      <td>1</td>\n",
              "      <td>1</td>\n",
              "      <td>6.0</td>\n",
              "      <td>0</td>\n",
              "      <td>0</td>\n",
              "      <td>1</td>\n",
              "      <td>0</td>\n",
              "      <td>1</td>\n",
              "      <td>1</td>\n",
              "      <td>0</td>\n",
              "      <td>1</td>\n",
              "      <td>0</td>\n",
              "      <td>0</td>\n",
              "    </tr>\n",
              "    <tr>\n",
              "      <th>2</th>\n",
              "      <td>26</td>\n",
              "      <td>1142</td>\n",
              "      <td>2</td>\n",
              "      <td>2</td>\n",
              "      <td>2</td>\n",
              "      <td>2</td>\n",
              "      <td>5</td>\n",
              "      <td>5</td>\n",
              "      <td>5</td>\n",
              "      <td>5</td>\n",
              "      <td>4</td>\n",
              "      <td>3</td>\n",
              "      <td>4</td>\n",
              "      <td>4</td>\n",
              "      <td>4</td>\n",
              "      <td>5</td>\n",
              "      <td>0</td>\n",
              "      <td>0.0</td>\n",
              "      <td>1</td>\n",
              "      <td>1</td>\n",
              "      <td>0</td>\n",
              "      <td>1</td>\n",
              "      <td>0</td>\n",
              "      <td>1</td>\n",
              "      <td>0</td>\n",
              "      <td>1</td>\n",
              "      <td>0</td>\n",
              "      <td>0</td>\n",
              "    </tr>\n",
              "    <tr>\n",
              "      <th>3</th>\n",
              "      <td>25</td>\n",
              "      <td>562</td>\n",
              "      <td>2</td>\n",
              "      <td>5</td>\n",
              "      <td>5</td>\n",
              "      <td>5</td>\n",
              "      <td>2</td>\n",
              "      <td>2</td>\n",
              "      <td>2</td>\n",
              "      <td>2</td>\n",
              "      <td>2</td>\n",
              "      <td>5</td>\n",
              "      <td>3</td>\n",
              "      <td>1</td>\n",
              "      <td>4</td>\n",
              "      <td>2</td>\n",
              "      <td>11</td>\n",
              "      <td>9.0</td>\n",
              "      <td>0</td>\n",
              "      <td>1</td>\n",
              "      <td>0</td>\n",
              "      <td>1</td>\n",
              "      <td>0</td>\n",
              "      <td>1</td>\n",
              "      <td>0</td>\n",
              "      <td>1</td>\n",
              "      <td>0</td>\n",
              "      <td>0</td>\n",
              "    </tr>\n",
              "    <tr>\n",
              "      <th>4</th>\n",
              "      <td>61</td>\n",
              "      <td>214</td>\n",
              "      <td>3</td>\n",
              "      <td>3</td>\n",
              "      <td>3</td>\n",
              "      <td>3</td>\n",
              "      <td>4</td>\n",
              "      <td>5</td>\n",
              "      <td>5</td>\n",
              "      <td>3</td>\n",
              "      <td>3</td>\n",
              "      <td>4</td>\n",
              "      <td>4</td>\n",
              "      <td>3</td>\n",
              "      <td>3</td>\n",
              "      <td>3</td>\n",
              "      <td>0</td>\n",
              "      <td>0.0</td>\n",
              "      <td>1</td>\n",
              "      <td>0</td>\n",
              "      <td>1</td>\n",
              "      <td>1</td>\n",
              "      <td>0</td>\n",
              "      <td>1</td>\n",
              "      <td>0</td>\n",
              "      <td>1</td>\n",
              "      <td>0</td>\n",
              "      <td>0</td>\n",
              "    </tr>\n",
              "    <tr>\n",
              "      <th>5</th>\n",
              "      <td>26</td>\n",
              "      <td>1180</td>\n",
              "      <td>3</td>\n",
              "      <td>4</td>\n",
              "      <td>2</td>\n",
              "      <td>1</td>\n",
              "      <td>1</td>\n",
              "      <td>2</td>\n",
              "      <td>1</td>\n",
              "      <td>1</td>\n",
              "      <td>3</td>\n",
              "      <td>4</td>\n",
              "      <td>4</td>\n",
              "      <td>4</td>\n",
              "      <td>4</td>\n",
              "      <td>1</td>\n",
              "      <td>0</td>\n",
              "      <td>0.0</td>\n",
              "      <td>0</td>\n",
              "      <td>1</td>\n",
              "      <td>0</td>\n",
              "      <td>1</td>\n",
              "      <td>0</td>\n",
              "      <td>0</td>\n",
              "      <td>1</td>\n",
              "      <td>0</td>\n",
              "      <td>1</td>\n",
              "      <td>0</td>\n",
              "    </tr>\n",
              "  </tbody>\n",
              "</table>\n",
              "</div>"
            ],
            "text/plain": [
              "   Age  Flight Distance  ...  Class_Eco  Class_Eco Plus\n",
              "1   25              235  ...          0               0\n",
              "2   26             1142  ...          0               0\n",
              "3   25              562  ...          0               0\n",
              "4   61              214  ...          0               0\n",
              "5   26             1180  ...          1               0\n",
              "\n",
              "[5 rows x 28 columns]"
            ]
          },
          "execution_count": 28,
          "metadata": {},
          "output_type": "execute_result"
        }
      ]
    },
    {
      "cell_type": "code",
      "metadata": {
        "id": "yu_E8PXTme0V"
      },
      "source": [
        "#Scale all the attributes in the same range using MaxMinScaler()\n",
        "scaler = MinMaxScaler()\n",
        "scaled_attributes = scaler.fit_transform(airline_train)"
      ],
      "execution_count": null,
      "outputs": []
    },
    {
      "cell_type": "code",
      "metadata": {
        "colab": {
          "base_uri": "https://localhost:8080/"
        },
        "id": "L8h0mosrmhWf",
        "outputId": "ea5a8e8c-2659-4e88-9fe1-ea716fd49f2d"
      },
      "source": [
        "#check if our data were scaled \n",
        "scaled_attributes.min(), scaled_attributes.max()\n",
        "#it is scaled since all the values are in the range [0,1]"
      ],
      "execution_count": null,
      "outputs": [
        {
          "data": {
            "text/plain": [
              "(0.0, 1.0)"
            ]
          },
          "execution_count": 30,
          "metadata": {},
          "output_type": "execute_result"
        }
      ]
    },
    {
      "cell_type": "markdown",
      "metadata": {
        "id": "4AeKuEiVTfIt"
      },
      "source": [
        "##Abdulaziz"
      ]
    },
    {
      "cell_type": "code",
      "metadata": {
        "id": "CiSU_H7G8UXs"
      },
      "source": [
        "from google.colab import drive\n",
        "import pandas as pd\n",
        "from sklearn.preprocessing import MinMaxScaler\n",
        "import seaborn as sns\n",
        "import matplotlib.pyplot as plt"
      ],
      "execution_count": null,
      "outputs": []
    },
    {
      "cell_type": "code",
      "metadata": {
        "colab": {
          "base_uri": "https://localhost:8080/"
        },
        "id": "y1qEwvEl8fov",
        "outputId": "8ece093d-f5b8-48c1-addd-52bac2fa8d32"
      },
      "source": [
        "# Connect Google Drive to Colab\n",
        "drive.mount('/content/drive')"
      ],
      "execution_count": null,
      "outputs": [
        {
          "name": "stdout",
          "output_type": "stream",
          "text": [
            "Mounted at /content/drive\n"
          ]
        }
      ]
    },
    {
      "cell_type": "code",
      "metadata": {
        "id": "NwTwrI-H9_Lt"
      },
      "source": [
        "!cp drive/MyDrive/Programming4DS/train.csv ."
      ],
      "execution_count": null,
      "outputs": []
    },
    {
      "cell_type": "code",
      "metadata": {
        "id": "4Z86cdrV-RuC"
      },
      "source": [
        "## This is the module for creating and manipulating DataFrames\n",
        "airline_train = pd.read_csv(\"train.csv\")"
      ],
      "execution_count": null,
      "outputs": []
    },
    {
      "cell_type": "markdown",
      "metadata": {
        "id": "6NrGI0yb4NV6"
      },
      "source": [
        "### Data Exploring:\n",
        "here are some graphs showing analysis of some features. "
      ]
    },
    {
      "cell_type": "code",
      "metadata": {
        "colab": {
          "base_uri": "https://localhost:8080/",
          "height": 295
        },
        "id": "cHydsJrk4Rsb",
        "outputId": "9cd1b9fd-5a93-4810-b7a3-5b97de7a5d61"
      },
      "source": [
        "sns.countplot(x ='satisfaction', data = airline_train)\n",
        "plt.title(\"Distributuion of Satisfaction\")\n",
        "plt.show()"
      ],
      "execution_count": null,
      "outputs": [
        {
          "data": {
            "image/png": "[encoded data removed]",
            "text/plain": [
              "<Figure size 432x288 with 1 Axes>"
            ]
          },
          "metadata": {},
          "output_type": "display_data"
        }
      ]
    },
    {
      "cell_type": "code",
      "metadata": {
        "colab": {
          "base_uri": "https://localhost:8080/",
          "height": 295
        },
        "id": "TuEhJ1BD-U50",
        "outputId": "c5ae990e-555f-4732-a456-6c1b9b36d896"
      },
      "source": [
        "sns.countplot(x ='Gender', data = airline_train)\n",
        "plt.title(\"Distributuion of Gender\")\n",
        "plt.show()"
      ],
      "execution_count": null,
      "outputs": [
        {
          "data": {
            "image/png": "[encoded data removed]",
            "text/plain": [
              "<Figure size 432x288 with 1 Axes>"
            ]
          },
          "metadata": {},
          "output_type": "display_data"
        }
      ]
    },
    {
      "cell_type": "code",
      "metadata": {
        "colab": {
          "base_uri": "https://localhost:8080/",
          "height": 295
        },
        "id": "-Fykb1la-j28",
        "outputId": "5b336fbb-d64f-4abe-af2c-22877009ad95"
      },
      "source": [
        "sns.boxplot(x=airline_train['Age'])\n",
        "plt.title('Distribution of Age')\n",
        "plt.show()"
      ],
      "execution_count": null,
      "outputs": [
        {
          "data": {
            "image/png": "[encoded data removed]",
            "text/plain": [
              "<Figure size 432x288 with 1 Axes>"
            ]
          },
          "metadata": {},
          "output_type": "display_data"
        }
      ]
    },
    {
      "cell_type": "code",
      "metadata": {
        "colab": {
          "base_uri": "https://localhost:8080/",
          "height": 573
        },
        "id": "InUvltFt-qqv",
        "outputId": "d22f4c44-dd29-4b06-dac7-9acdba8fab99"
      },
      "source": [
        "sns.countplot(x ='Customer Type', data = airline_train)\n",
        "plt.title(\"Distributuion of Customer Type\")\n",
        "plt.show()\n",
        "sns.countplot(x='satisfaction', hue='Customer Type', data=airline_train)\n",
        "plt.title('Satisfaction vs Customer Type')\n",
        "plt.show()"
      ],
      "execution_count": null,
      "outputs": [
        {
          "data": {
            "image/png": "[encoded data removed]",
            "text/plain": [
              "<Figure size 432x288 with 1 Axes>"
            ]
          },
          "metadata": {},
          "output_type": "display_data"
        },
        {
          "data": {
            "image/png": "[encoded data removed]",
            "text/plain": [
              "<Figure size 432x288 with 1 Axes>"
            ]
          },
          "metadata": {},
          "output_type": "display_data"
        }
      ]
    },
    {
      "cell_type": "markdown",
      "metadata": {
        "id": "g6Wm8GCs-zGO"
      },
      "source": [
        "**We can see above that the loyal customers are much more happy with the serives, compared with the disloyal ones.\n",
        "However, the dataset is a sort of biased here, as we can see the majority of the votes coming from loyal customers.**"
      ]
    },
    {
      "cell_type": "code",
      "metadata": {
        "colab": {
          "base_uri": "https://localhost:8080/",
          "height": 573
        },
        "id": "Kk8ZbUhj_CpS",
        "outputId": "4d11bba0-7729-4936-c581-5fd84d3deb38"
      },
      "source": [
        "sns.countplot(x ='Type of Travel', data = airline_train)\n",
        "plt.title(\"Distributuion of Type of Travel\")\n",
        "plt.show()\n",
        "sns.countplot(x='satisfaction', hue='Type of Travel', data=airline_train)\n",
        "plt.title('Satisfaction vs Type of Travel')\n",
        "plt.show()"
      ],
      "execution_count": null,
      "outputs": [
        {
          "data": {
            "image/png": "[encoded data removed]",
            "text/plain": [
              "<Figure size 432x288 with 1 Axes>"
            ]
          },
          "metadata": {},
          "output_type": "display_data"
        },
        {
          "data": {
            "image/png": "[encoded data removed]",
            "text/plain": [
              "<Figure size 432x288 with 1 Axes>"
            ]
          },
          "metadata": {},
          "output_type": "display_data"
        }
      ]
    },
    {
      "cell_type": "markdown",
      "metadata": {
        "id": "TDuEPAV7_MZ1"
      },
      "source": [
        "**Here also, we can see the same. the majority of the voters have travlled for business and they are much more satisfied than the ones travelling for personal purpose.**"
      ]
    },
    {
      "cell_type": "code",
      "metadata": {
        "colab": {
          "base_uri": "https://localhost:8080/",
          "height": 573
        },
        "id": "WuPP5S8G_PVS",
        "outputId": "f862f797-1e3b-408a-efd4-2d73e5df42d0"
      },
      "source": [
        "sns.countplot(x ='Class', data = airline_train)\n",
        "plt.title(\"Distributuion of Class\")\n",
        "plt.show()\n",
        "sns.countplot(x='satisfaction', hue='Class', data=airline_train)\n",
        "plt.title('satisfaction vs Class')\n",
        "plt.show()"
      ],
      "execution_count": null,
      "outputs": [
        {
          "data": {
            "image/png": "[encoded data removed]",
            "text/plain": [
              "<Figure size 432x288 with 1 Axes>"
            ]
          },
          "metadata": {},
          "output_type": "display_data"
        },
        {
          "data": {
            "image/png": "[encoded data removed]",
            "text/plain": [
              "<Figure size 432x288 with 1 Axes>"
            ]
          },
          "metadata": {},
          "output_type": "display_data"
        }
      ]
    },
    {
      "cell_type": "markdown",
      "metadata": {
        "id": "vw6_V0oI_ZgW"
      },
      "source": [
        "**Business class is much more happy with the airline's services than Eco or Eco Plus class, so improving services for the Eco and Eco Plus classes would definitly increase the satisfaction in general**"
      ]
    },
    {
      "cell_type": "markdown",
      "metadata": {
        "id": "JCqmth1y_ggN"
      },
      "source": [
        "### Ranking vs Satisfaction"
      ]
    },
    {
      "cell_type": "code",
      "metadata": {
        "colab": {
          "base_uri": "https://localhost:8080/",
          "height": 606
        },
        "id": "pXoIVdE-_ins",
        "outputId": "4d05f39a-a659-40f1-e732-2ed050583306"
      },
      "source": [
        "corr_df = airline_train.drop(airline_train.columns[0:8], axis=1)\n",
        "corr_df = corr_df.drop(corr_df.columns[[14,15]], axis=1)\n",
        "corr_df['satisfaction'] = corr_df['satisfaction'].map({'satisfied': 1, 'neutral or dissatisfied': 0})\n",
        "corr_df.corr()['satisfaction'][0:14].plot(x=\"satisfaction\", y=range(0,1), kind=\"bar\", figsize=(10, 7))"
      ],
      "execution_count": null,
      "outputs": [
        {
          "data": {
            "text/plain": [
              "<matplotlib.axes._subplots.AxesSubplot at 0x7f17a5749710>"
            ]
          },
          "execution_count": 31,
          "metadata": {},
          "output_type": "execute_result"
        },
        {
          "data": {
            "image/png": "[encoded data removed]",
            "text/plain": [
              "<Figure size 720x504 with 1 Axes>"
            ]
          },
          "metadata": {},
          "output_type": "display_data"
        }
      ]
    },
    {
      "cell_type": "markdown",
      "metadata": {
        "id": "shYE0Yja_uY0"
      },
      "source": [
        "**As shown above, the ranking of Online Boarding is the first feature in affecting the satisfaction.\n",
        "and the second feature is Inflight Entertainment. And then, the less affective featuers come, such as cleanliness, on-board service, leg room and seat comfort.\n",
        "So, enhansing these features, statring from the most effective one, could increase the satisfaction among customers.**"
      ]
    },
    {
      "cell_type": "code",
      "metadata": {
        "colab": {
          "base_uri": "https://localhost:8080/",
          "height": 573
        },
        "id": "NFor_Ifd_xeW",
        "outputId": "344346a4-71a0-439d-ea38-6d97f4b6a9e1"
      },
      "source": [
        "sns.countplot(x ='Online boarding', data = airline_train)\n",
        "plt.title(\"Distributuion of Online boarding\")\n",
        "plt.show()\n",
        "sns.countplot(x='satisfaction', hue='Online boarding', data=airline_train)\n",
        "plt.title('Satisfaction vs Online boarding')\n",
        "plt.show()"
      ],
      "execution_count": null,
      "outputs": [
        {
          "data": {
            "image/png": "[encoded data removed]",
            "text/plain": [
              "<Figure size 432x288 with 1 Axes>"
            ]
          },
          "metadata": {},
          "output_type": "display_data"
        },
        {
          "data": {
            "image/png": "[encoded data removed]",
            "text/plain": [
              "<Figure size 432x288 with 1 Axes>"
            ]
          },
          "metadata": {},
          "output_type": "display_data"
        }
      ]
    },
    {
      "cell_type": "code",
      "metadata": {
        "colab": {
          "base_uri": "https://localhost:8080/",
          "height": 573
        },
        "id": "i9nMqqyf_533",
        "outputId": "a75c8c12-f1ae-4024-8ab0-0324af98df7d"
      },
      "source": [
        "sns.countplot(x ='Inflight entertainment', data = airline_train)\n",
        "plt.title(\"Distributuion of Inflight entertainment\")\n",
        "plt.show()\n",
        "sns.countplot(x='satisfaction', hue='Inflight entertainment', data=airline_train)\n",
        "plt.title('Satisfaction vs Inflight entertainment')\n",
        "plt.show()"
      ],
      "execution_count": null,
      "outputs": [
        {
          "data": {
            "image/png": "[encoded data removed]",
            "text/plain": [
              "<Figure size 432x288 with 1 Axes>"
            ]
          },
          "metadata": {},
          "output_type": "display_data"
        },
        {
          "data": {
            "image/png": "[encoded data removed]",
            "text/plain": [
              "<Figure size 432x288 with 1 Axes>"
            ]
          },
          "metadata": {},
          "output_type": "display_data"
        }
      ]
    },
    {
      "cell_type": "code",
      "metadata": {
        "colab": {
          "base_uri": "https://localhost:8080/",
          "height": 573
        },
        "id": "nx4bpFpDAC-k",
        "outputId": "b241bdf7-17d9-437a-ad01-9b8d54b52838"
      },
      "source": [
        "sns.countplot(x ='Cleanliness', data = airline_train)\n",
        "plt.title(\"Distributuion of Cleanliness\")\n",
        "plt.show()\n",
        "sns.countplot(x='satisfaction', hue='Cleanliness', data=airline_train)\n",
        "plt.title('Satisfaction vs Cleanliness')\n",
        "plt.show()"
      ],
      "execution_count": null,
      "outputs": [
        {
          "data": {
            "image/png": "[encoded data removed]",
            "text/plain": [
              "<Figure size 432x288 with 1 Axes>"
            ]
          },
          "metadata": {},
          "output_type": "display_data"
        },
        {
          "data": {
            "image/png": "[encoded data removed]",
            "text/plain": [
              "<Figure size 432x288 with 1 Axes>"
            ]
          },
          "metadata": {},
          "output_type": "display_data"
        }
      ]
    },
    {
      "cell_type": "code",
      "metadata": {
        "colab": {
          "base_uri": "https://localhost:8080/",
          "height": 573
        },
        "id": "QBCFHYvQAIv4",
        "outputId": "4edb8c6c-bb7f-40fa-8a2a-1831dc90488d"
      },
      "source": [
        "sns.countplot(x ='Leg room service', data = airline_train)\n",
        "plt.title(\"Distributuion of Leg room service\")\n",
        "plt.show()\n",
        "sns.countplot(x='satisfaction', hue='Leg room service', data=airline_train)\n",
        "plt.title('Satisfaction vs Leg room service')\n",
        "plt.show()"
      ],
      "execution_count": null,
      "outputs": [
        {
          "data": {
            "image/png": "[encoded data removed]",
            "text/plain": [
              "<Figure size 432x288 with 1 Axes>"
            ]
          },
          "metadata": {},
          "output_type": "display_data"
        },
        {
          "data": {
            "image/png": "[encoded data removed]",
            "text/plain": [
              "<Figure size 432x288 with 1 Axes>"
            ]
          },
          "metadata": {},
          "output_type": "display_data"
        }
      ]
    },
    {
      "cell_type": "code",
      "metadata": {
        "colab": {
          "base_uri": "https://localhost:8080/",
          "height": 573
        },
        "id": "RhR2GwqnAOiQ",
        "outputId": "54a2b9bb-738a-414c-dd45-071700c4e20d"
      },
      "source": [
        "sns.countplot(x ='Seat comfort', data = airline_train)\n",
        "plt.title(\"Distributuion of Seat comfort\")\n",
        "plt.show()\n",
        "sns.countplot(x='satisfaction', hue='Seat comfort', data=airline_train)\n",
        "plt.title('satisfaction vs Seat comfort')\n",
        "plt.show()"
      ],
      "execution_count": null,
      "outputs": [
        {
          "data": {
            "image/png": "[encoded data removed]",
            "text/plain": [
              "<Figure size 432x288 with 1 Axes>"
            ]
          },
          "metadata": {},
          "output_type": "display_data"
        },
        {
          "data": {
            "image/png": "[encoded data removed]",
            "text/plain": [
              "<Figure size 432x288 with 1 Axes>"
            ]
          },
          "metadata": {},
          "output_type": "display_data"
        }
      ]
    },
    {
      "cell_type": "code",
      "metadata": {
        "colab": {
          "base_uri": "https://localhost:8080/",
          "height": 573
        },
        "id": "26tOF0CUAT4P",
        "outputId": "a61a6ebe-7888-48f8-e1a2-863a27421969"
      },
      "source": [
        "sns.countplot(x ='On-board service', data = airline_train)\n",
        "plt.title(\"Distributuion of On-board service\")\n",
        "plt.show()\n",
        "sns.countplot(x='satisfaction', hue='On-board service', data=airline_train)\n",
        "plt.title('Satisfaction vs On-board service')\n",
        "plt.show()"
      ],
      "execution_count": null,
      "outputs": [
        {
          "data": {
            "image/png": "[encoded data removed]",
            "text/plain": [
              "<Figure size 432x288 with 1 Axes>"
            ]
          },
          "metadata": {},
          "output_type": "display_data"
        },
        {
          "data": {
            "image/png": "[encoded data removed]",
            "text/plain": [
              "<Figure size 432x288 with 1 Axes>"
            ]
          },
          "metadata": {},
          "output_type": "display_data"
        }
      ]
    },
    {
      "cell_type": "code",
      "metadata": {
        "colab": {
          "base_uri": "https://localhost:8080/",
          "height": 504
        },
        "id": "JZ8uxR67Abjz",
        "outputId": "af297138-8c8d-4be4-a2fa-ebf7d16e50ab"
      },
      "source": [
        "sns.boxplot(x=\"satisfaction\",y=\"Flight Distance\",data=airline_train, orient='v' )\n",
        "g = sns.FacetGrid(airline_train, col=\"satisfaction\")\n",
        "g.map(sns.histplot, \"Flight Distance\")"
      ],
      "execution_count": null,
      "outputs": [
        {
          "data": {
            "text/plain": [
              "<seaborn.axisgrid.FacetGrid at 0x7f17a53315d0>"
            ]
          },
          "execution_count": 38,
          "metadata": {},
          "output_type": "execute_result"
        },
        {
          "data": {
            "image/png": "[encoded data removed]",
            "text/plain": [
              "<Figure size 432x288 with 1 Axes>"
            ]
          },
          "metadata": {},
          "output_type": "display_data"
        },
        {
          "data": {
            "image/png": "[encoded data removed]",
            "text/plain": [
              "<Figure size 432x216 with 2 Axes>"
            ]
          },
          "metadata": {},
          "output_type": "display_data"
        }
      ]
    },
    {
      "cell_type": "markdown",
      "metadata": {
        "id": "qcpWvp_QAnoP"
      },
      "source": [
        "**these tow graphs show that the satisfaction increases in the long flight, while the short flights have the same portion of satisfaction and dissatisfaction.**\n"
      ]
    },
    {
      "cell_type": "markdown",
      "metadata": {
        "id": "52U9d2319AR3"
      },
      "source": [
        "##Mahad"
      ]
    },
    {
      "cell_type": "code",
      "metadata": {
        "id": "qbhj-cf8Yrg2"
      },
      "source": [
        "import numpy as np\n",
        "import pandas as pd\n",
        "import matplotlib.pyplot as plt\n",
        "import seaborn as sns\n",
        "\n",
        "from sklearn.model_selection import train_test_split\n",
        "from sklearn.preprocessing import LabelEncoder, MinMaxScaler\n",
        "from sklearn.neighbors import KNeighborsClassifier\n",
        "from sklearn import metrics"
      ],
      "execution_count": null,
      "outputs": []
    },
    {
      "cell_type": "code",
      "metadata": {
        "colab": {
          "base_uri": "https://localhost:8080/"
        },
        "id": "ULvd0RYEmKnD",
        "outputId": "2911da87-29b9-4d3d-e38a-349eab8feb29"
      },
      "source": [
        "def separate_features_and_label(dataset):\n",
        "    features = dataset.drop(\"satisfaction\", axis = 1)\n",
        "    labels = dataset[\"satisfaction\"]\n",
        "    return (features, labels)\n",
        "train_features, train_labels = separate_features_and_label(airline_train)\n",
        "train_features.shape, train_labels.shape"
      ],
      "execution_count": null,
      "outputs": [
        {
          "data": {
            "text/plain": [
              "((49268, 27), (49268,))"
            ]
          },
          "execution_count": 29,
          "metadata": {},
          "output_type": "execute_result"
        }
      ]
    },
    {
      "cell_type": "code",
      "metadata": {
        "id": "rPDiIlqBmAtS"
      },
      "source": [
        "#test_ft, test_lb = separate_features_and_label(test_scaled_attributes)\n",
        "#test_ft.shape, test_lb.shape"
      ],
      "execution_count": null,
      "outputs": []
    },
    {
      "cell_type": "code",
      "metadata": {
        "colab": {
          "base_uri": "https://localhost:8080/"
        },
        "id": "P80hEEHVmksu",
        "outputId": "59156cc6-5b89-4031-8f27-f051ed1f11f7"
      },
      "source": [
        "train_ft, val_ft, train_lb, val_lb = train_test_split(train_features, train_labels, test_size = 0.3)\n",
        "train_lb.shape,val_lb.shape"
      ],
      "execution_count": null,
      "outputs": [
        {
          "data": {
            "text/plain": [
              "((34487,), (14781,))"
            ]
          },
          "execution_count": 30,
          "metadata": {},
          "output_type": "execute_result"
        }
      ]
    },
    {
      "cell_type": "code",
      "metadata": {
        "colab": {
          "base_uri": "https://localhost:8080/",
          "height": 297
        },
        "id": "5jRXzRfOpVd0",
        "outputId": "d6bcb5e8-7c9f-4302-f2a6-d05e498f011d"
      },
      "source": [
        "def plot_labels(): \n",
        "    fig = plt.figure(figsize = (10, 4))\n",
        "    plt.subplot(131)\n",
        "    plt.title(\"In train data\")\n",
        "    sns.countplot(x = \"satisfaction\", data = pd.DataFrame(train_lb), palette = \"coolwarm\")\n",
        "    \n",
        "    plt.subplot(132)\n",
        "    plt.title(\"In val data\")\n",
        "    sns.countplot(x = \"satisfaction\", data = pd.DataFrame(val_lb), palette = \"coolwarm\")\n",
        "    \n",
        "    #plt.subplot(133)\n",
        "    #plt.title(\"In test data\")\n",
        "    #sns.countplot(x = \"satisfaction\", data = pd.DataFrame(test_lb), palette = \"coolwarm\")\n",
        "    \n",
        "    plt.tight_layout()\n",
        "    plt.show()\n",
        "plot_labels()"
      ],
      "execution_count": null,
      "outputs": [
        {
          "data": {
            "image/png": "[encoded data removed]",
            "text/plain": [
              "<Figure size 720x288 with 2 Axes>"
            ]
          },
          "metadata": {},
          "output_type": "display_data"
        }
      ]
    },
    {
      "cell_type": "code",
      "metadata": {
        "colab": {
          "background_save": true
        },
        "id": "gW2qj430nbtg",
        "outputId": "55263b34-e99a-4240-8bef-8c35110dc8f0"
      },
      "source": [
        "from sklearn.model_selection import GridSearchCV\n",
        "\n",
        "k_range = list(range(1,10))\n",
        "weight_options = [\"uniform\", \"distance\"]\n",
        "param_grid = dict(n_neighbors = k_range, weights = weight_options)\n",
        "knn = KNeighborsClassifier()\n",
        "grid = GridSearchCV(knn, param_grid, cv = 10, scoring = 'accuracy')\n",
        "grid.fit(train_ft,train_lb)\n",
        "\n",
        "print (grid.best_score_)\n",
        "print (grid.best_params_)\n",
        "print (grid.best_estimator_)"
      ],
      "execution_count": null,
      "outputs": [
        {
          "name": "stdout",
          "output_type": "stream",
          "text": [
            "0.7839185960623443\n",
            "{'n_neighbors': 6, 'weights': 'distance'}\n",
            "KNeighborsClassifier(n_neighbors=6, weights='distance')\n"
          ]
        }
      ]
    },
    {
      "cell_type": "code",
      "metadata": {
        "id": "DO4L4MPIon4Q",
        "colab": {
          "base_uri": "https://localhost:8080/"
        },
        "outputId": "06914518-2351-4ecb-964f-2d6b5fc1ba41"
      },
      "source": [
        "model = KNeighborsClassifier( n_neighbors = grid.best_params_['n_neighbors'] )\n",
        "model.fit(train_ft,train_lb)"
      ],
      "execution_count": 35,
      "outputs": [
        {
          "output_type": "execute_result",
          "data": {
            "text/plain": [
              "KNeighborsClassifier(n_neighbors=6)"
            ]
          },
          "metadata": {},
          "execution_count": 35
        }
      ]
    },
    {
      "cell_type": "code",
      "metadata": {
        "id": "E3JVkl9RoOdX",
        "colab": {
          "base_uri": "https://localhost:8080/"
        },
        "outputId": "51f5c86d-0a7d-4871-aecb-8e26d9e44275"
      },
      "source": [
        "predicted= model.predict(val_ft)\n",
        "print(\"Accuracy:\",metrics.accuracy_score(val_lb,predicted))"
      ],
      "execution_count": 39,
      "outputs": [
        {
          "output_type": "stream",
          "name": "stdout",
          "text": [
            "Accuracy: 0.7711250930248291\n"
          ]
        }
      ]
    },
    {
      "cell_type": "code",
      "metadata": {
        "id": "uQ0TVyn5pLWq",
        "colab": {
          "base_uri": "https://localhost:8080/",
          "height": 181
        },
        "outputId": "16c6b809-211f-4957-c606-b3733521933b"
      },
      "source": [
        "predicted= model.predict(test_features_scaled)\n",
        "print(\"Accuracy:\",metrics.accuracy_score(test_lb,predicted))"
      ],
      "execution_count": 40,
      "outputs": [
        {
          "output_type": "error",
          "ename": "NameError",
          "evalue": "ignored",
          "traceback": [
            "\u001b[0;31m---------------------------------------------------------------------------\u001b[0m",
            "\u001b[0;31mNameError\u001b[0m                                 Traceback (most recent call last)",
            "\u001b[0;32m<ipython-input-40-499758b32cdf>\u001b[0m in \u001b[0;36m<module>\u001b[0;34m()\u001b[0m\n\u001b[0;32m----> 1\u001b[0;31m \u001b[0mpredicted\u001b[0m\u001b[0;34m=\u001b[0m \u001b[0mmodel\u001b[0m\u001b[0;34m.\u001b[0m\u001b[0mpredict\u001b[0m\u001b[0;34m(\u001b[0m\u001b[0mtest_features_scaled\u001b[0m\u001b[0;34m)\u001b[0m\u001b[0;34m\u001b[0m\u001b[0;34m\u001b[0m\u001b[0m\n\u001b[0m\u001b[1;32m      2\u001b[0m \u001b[0mprint\u001b[0m\u001b[0;34m(\u001b[0m\u001b[0;34m\"Accuracy:\"\u001b[0m\u001b[0;34m,\u001b[0m\u001b[0mmetrics\u001b[0m\u001b[0;34m.\u001b[0m\u001b[0maccuracy_score\u001b[0m\u001b[0;34m(\u001b[0m\u001b[0mtest_lb\u001b[0m\u001b[0;34m,\u001b[0m\u001b[0mpredicted\u001b[0m\u001b[0;34m)\u001b[0m\u001b[0;34m)\u001b[0m\u001b[0;34m\u001b[0m\u001b[0;34m\u001b[0m\u001b[0m\n",
            "\u001b[0;31mNameError\u001b[0m: name 'test_features_scaled' is not defined"
          ]
        }
      ]
    },
    {
      "cell_type": "markdown",
      "metadata": {
        "id": "JNY9mbJ4kNPM"
      },
      "source": [
        "#### _Comment on previous cell output (optional)_\n",
        "\n",
        "_As well as describing code, it will in many cases be informative to describe the output\n",
        "that has been generated by a cell._\n",
        "\n",
        "_The previous output cell shows a key number in our fridge magnet analysis._"
      ]
    },
    {
      "cell_type": "markdown",
      "metadata": {
        "id": "jfkIYQtLkNPN"
      },
      "source": [
        "#### _Brief Explanation of following code cell_\n",
        "\n",
        "_Since fridge magnets often take the form of cute animals, we use `pandas` to convert the raw data into a `DataFrame`._"
      ]
    },
    {
      "cell_type": "code",
      "metadata": {
        "id": "woWDRWXckNPO",
        "outputId": "6c19e386-df17-4b3a-aa81-fae4c778b130"
      },
      "source": [
        "## Code Cell\n",
        "import pandas\n",
        "df = pandas.DataFrame.from_dict(fm_data, orient='index')\n",
        "df"
      ],
      "execution_count": null,
      "outputs": [
        {
          "data": {
            "text/html": [
              "<div>\n",
              "<style scoped>\n",
              "    .dataframe tbody tr th:only-of-type {\n",
              "        vertical-align: middle;\n",
              "    }\n",
              "\n",
              "    .dataframe tbody tr th {\n",
              "        vertical-align: top;\n",
              "    }\n",
              "\n",
              "    .dataframe thead th {\n",
              "        text-align: right;\n",
              "    }\n",
              "</style>\n",
              "<table border=\"1\" class=\"dataframe\">\n",
              "  <thead>\n",
              "    <tr style=\"text-align: right;\">\n",
              "      <th></th>\n",
              "      <th>0</th>\n",
              "    </tr>\n",
              "  </thead>\n",
              "  <tbody>\n",
              "    <tr>\n",
              "      <th>souvenir</th>\n",
              "      <td>9</td>\n",
              "    </tr>\n",
              "    <tr>\n",
              "      <th>cute animal</th>\n",
              "      <td>5</td>\n",
              "    </tr>\n",
              "    <tr>\n",
              "      <th>meme</th>\n",
              "      <td>36</td>\n",
              "    </tr>\n",
              "    <tr>\n",
              "      <th>smiley</th>\n",
              "      <td>3</td>\n",
              "    </tr>\n",
              "    <tr>\n",
              "      <th>random image</th>\n",
              "      <td>13</td>\n",
              "    </tr>\n",
              "  </tbody>\n",
              "</table>\n",
              "</div>"
            ],
            "text/plain": [
              "               0\n",
              "souvenir       9\n",
              "cute animal    5\n",
              "meme          36\n",
              "smiley         3\n",
              "random image  13"
            ]
          },
          "execution_count": 51,
          "metadata": {},
          "output_type": "execute_result"
        }
      ]
    },
    {
      "cell_type": "markdown",
      "metadata": {
        "id": "8M518cD-kNPQ"
      },
      "source": [
        "#### _Comment on previous cell output (optional)_\n",
        "_The output from the previous cell is very interesting._"
      ]
    },
    {
      "cell_type": "markdown",
      "metadata": {
        "id": "OxgCukNXkNPR"
      },
      "source": [
        "###  _More code cells_\n",
        "_You can add as many code cells as you require, but it is\n",
        "recommended that you break code into relatively small chunks and\n",
        "do not exceed the maximum number of lines stated above._"
      ]
    },
    {
      "cell_type": "markdown",
      "metadata": {
        "id": "uXaat2vskNPS"
      },
      "source": [
        "# Project Outcome (10 + 10 marks)\n",
        "\n",
        "_This section should describe the outcome of the project by means of both explanation of the results and by graphical visualisation in the form of graphs, charts or or other kinds of diagram_\n",
        "\n",
        "_The section should begin with a general overview of the results and then have a section for each of the project objectives. For each of these objectives an explanation of more specific results relating to that objective shoud be given, followed by a section presenting some visualisation of the results obtained. (In the case where\n",
        "the project had just one objective, you should still have a section describing\n",
        "the results from a general perspective followed by a section that focuses on\n",
        "the particular objective.)_\n",
        "\n",
        "_The marks for this section will be divided into 10 marks for Explanation\n",
        "and 10 marks for Visualisation. These marks will be awarded for the Project Outcome\n",
        "section as a whole, not for each objective individually. Hence, you do not\n",
        "have to pay equal attention to each. However, you are expected to have a\n",
        "some explanation and visualisation for each. It is suggested you have\n",
        "200-400 words explanation for each objective._"
      ]
    },
    {
      "cell_type": "markdown",
      "metadata": {
        "id": "urx4WEyvkNPU"
      },
      "source": [
        "## Overview of Results\n",
        "_Give a general overview of the results (around 200 words)._"
      ]
    },
    {
      "cell_type": "markdown",
      "metadata": {
        "id": "pEsk08fUkNPV"
      },
      "source": [
        "## Objective 1\n",
        "\n",
        "### Explanation of Results\n",
        "\n",
        "_200-400 words_\n",
        "\n",
        "### Visualisation\n",
        "_The following bar chart gives a vivid representation of the distribution\n",
        "of fridge magnet types, in which the dominance of 'meme' type magnets\n",
        "is dramatically illustrated._"
      ]
    },
    {
      "cell_type": "code",
      "metadata": {
        "id": "GT5zopo_kNPV",
        "outputId": "e7b260a5-5f03-4cc0-86c3-976f5aa08cd3"
      },
      "source": [
        "df.plot(kind='bar')"
      ],
      "execution_count": null,
      "outputs": [
        {
          "data": {
            "text/plain": [
              "<AxesSubplot:>"
            ]
          },
          "execution_count": 52,
          "metadata": {},
          "output_type": "execute_result"
        },
        {
          "data": {
            "image/png": "[encoded data removed]",
            "text/plain": [
              "<Figure size 432x288 with 1 Axes>"
            ]
          },
          "metadata": {},
          "output_type": "display_data"
        }
      ]
    },
    {
      "cell_type": "markdown",
      "metadata": {
        "id": "pVnJ1UGLkNPY"
      },
      "source": [
        "## Objective 2 _(if present)_\n",
        "### Explanation of Results\n",
        "\n",
        "200-400 Words\n",
        "\n",
        "### Visualisation"
      ]
    },
    {
      "cell_type": "markdown",
      "metadata": {
        "id": "oI-yq6ARkNPZ"
      },
      "source": [
        "## Objective 3 _(if present)_\n",
        "### Explanation of Results\n",
        "\n",
        "200-400 Words\n",
        "\n",
        "### Visualisation"
      ]
    },
    {
      "cell_type": "markdown",
      "metadata": {
        "id": "NVOamDdgkNPa"
      },
      "source": [
        "# Conclusion (5 marks)\n",
        "\n",
        "_Your concluding section should be around 200-400 words. It is recommended\n",
        "that you divide it into the following sections.__\n",
        "\n",
        "### Acheivements\n",
        "_As we had expected, the most popular fridge magnets were of the 'meme' kind.\n",
        "We were surprised that 'smiley' fridge magnets were less common than expected.\n",
        "We conjecture that this is because, although they are apparently very popular,\n",
        "few fridges display more than one smiley. However, 'meme' based magnets can\n",
        "be found in large numbers, even on quite small fridges._\n",
        "\n",
        "### Limitations\n",
        "\n",
        "_The project was limited to a small number of fridge magents, which may not be\n",
        "typical of fridges found in the global fridge magnet ecosystem._\n",
        "\n",
        "### Future Work\n",
        "\n",
        "_In future work we would like to obtain more diverse data and study fridge magnets \n",
        "beyond the limited confines of student accomodation. We hypothesise that there\n",
        "could be a link between fridge magnet types and social class and/or educational\n",
        "achievement._"
      ]
    },
    {
      "cell_type": "markdown",
      "metadata": {
        "id": "OlyjRniDkNPb"
      },
      "source": [
        "# Grading\n",
        "\n",
        "_Feedback and marks will be given here._\n",
        "\n",
        "### Feedback\n",
        "\n",
        "### Marks"
      ]
    },
    {
      "cell_type": "code",
      "metadata": {
        "id": "CuKRWtXfkNPc",
        "outputId": "10ada1b4-e7a2-410b-d3ff-ec36a1bebc18"
      },
      "source": [
        "DATA   = 10\n",
        "AIMS   =  5\n",
        "DESIGN = 5\n",
        "\n",
        "CODE = 15\n",
        "\n",
        "OUTCOME_EXPLANATION   = 10\n",
        "OUTCOME_VISUALISATION = 10\n",
        "\n",
        "CONCLUSION = 5\n",
        "\n",
        "TOTAL = ( DATA + AIMS + DESIGN + CODE \n",
        "          + OUTCOME_VISUALISATION + OUTCOME_VISUALISATION\n",
        "          + CONCLUSION )\n",
        "TOTAL"
      ],
      "execution_count": null,
      "outputs": [
        {
          "data": {
            "text/plain": [
              "60"
            ]
          },
          "execution_count": 56,
          "metadata": {},
          "output_type": "execute_result"
        }
      ]
    },
    {
      "cell_type": "code",
      "metadata": {
        "id": "sfJcxbJ-kNPd"
      },
      "source": [
        ""
      ],
      "execution_count": null,
      "outputs": []
    }
  ]
}