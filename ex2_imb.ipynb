{
  "nbformat": 4,
  "nbformat_minor": 0,
  "metadata": {
    "colab": {
      "name": "ex2_imb.ipynb",
      "provenance": [],
      "collapsed_sections": [],
      "background_execution": "on",
      "authorship_tag": "ABX9TyPzMo2qkUpXOVoEo3b8xqau",
      "include_colab_link": true
    },
    "kernelspec": {
      "name": "python3",
      "display_name": "Python 3"
    },
    "language_info": {
      "name": "python"
    },
    "gpuClass": "standard"
  },
  "cells": [
    {
      "cell_type": "markdown",
      "metadata": {
        "id": "view-in-github",
        "colab_type": "text"
      },
      "source": [
        "<a href=\"https://colab.research.google.com/github/buthaina279/P4DS/blob/main/ex2_imb.ipynb\" target=\"_parent\"><img src=\"https://colab.research.google.com/assets/colab-badge.svg\" alt=\"Open In Colab\"/></a>"
      ]
    },
    {
      "cell_type": "code",
      "execution_count": null,
      "metadata": {
        "colab": {
          "base_uri": "https://localhost:8080/"
        },
        "id": "vmlk8HnkobmQ",
        "outputId": "a5421b67-2eb2-4e66-8284-ecefaadc47f4"
      },
      "outputs": [
        {
          "output_type": "stream",
          "name": "stdout",
          "text": [
            "Mounted at /content/drive\n"
          ]
        }
      ],
      "source": [
        "from google.colab import drive\n",
        "drive.mount('/content/drive')"
      ]
    },
    {
      "cell_type": "code",
      "source": [
        "#for google drive\n",
        "DATA_FILEPATH = \"/content/drive/MyDrive/final_project/\""
      ],
      "metadata": {
        "id": "9THiuv0aoqBn"
      },
      "execution_count": null,
      "outputs": []
    },
    {
      "cell_type": "code",
      "source": [
        "from __future__ import print_function\n",
        "\n",
        "import warnings\n",
        "warnings.filterwarnings(\"ignore\")\n",
        "\n",
        "# Import libraries\n",
        "import numpy as np\n",
        "import pandas as pd\n",
        "import matplotlib\n",
        "import sklearn\n",
        "import matplotlib.pyplot as plt\n",
        "from matplotlib.font_manager import FontProperties # for unicode fonts\n",
        "import sys\n",
        "import datetime as dt\n",
        "#import mp_utils as mp\n",
        "\n",
        "from collections import OrderedDict\n",
        "\n",
        "# used to print out pretty pandas dataframes\n",
        "from IPython.display import display, HTML\n",
        "\n",
        "from sklearn.pipeline import Pipeline\n",
        "from sklearn.utils import shuffle\n",
        "from sklearn.model_selection import train_test_split\n",
        "\n",
        "# used to impute mean for data and standardize for computational stability\n",
        "#from sklearn.preprocessing import Imputer\n",
        "from sklearn.preprocessing import StandardScaler\n",
        "\n",
        "# logistic regression is our favourite model ever\n",
        "from sklearn import linear_model\n",
        "from sklearn import ensemble\n",
        "\n",
        "# used to calculate AUROC/accuracy\n",
        "from sklearn import metrics\n",
        "\n",
        "# used to create confusion matrix\n",
        "from sklearn.metrics import confusion_matrix\n",
        "from sklearn.model_selection import cross_val_score\n",
        "\n",
        "# gradient boosting - must download package https://github.com/dmlc/xgboost\n",
        "import xgboost as xgb"
      ],
      "metadata": {
        "id": "-u2-_x_YorA1"
      },
      "execution_count": null,
      "outputs": []
    },
    {
      "cell_type": "code",
      "source": [
        "import pandas as pd, numpy as np\n",
        "X_train = pd.read_csv(DATA_FILEPATH + 'train_36.csv',index_col=0) \n",
        "validation = pd.read_csv(DATA_FILEPATH + 'validation_36.csv',index_col=0) \n",
        "test = pd.read_csv(DATA_FILEPATH + 'test_36.csv',index_col=0) "
      ],
      "metadata": {
        "id": "AniAabevoueJ"
      },
      "execution_count": null,
      "outputs": []
    },
    {
      "cell_type": "code",
      "source": [
        "print(validation.shape)\n",
        "print(test.shape)"
      ],
      "metadata": {
        "colab": {
          "base_uri": "https://localhost:8080/"
        },
        "id": "B1rC1F2CiUok",
        "outputId": "c8e5a787-783e-41ce-e613-720a2ff5b79d"
      },
      "execution_count": null,
      "outputs": [
        {
          "output_type": "stream",
          "name": "stdout",
          "text": [
            "(60770, 40)\n",
            "(121094, 40)\n"
          ]
        }
      ]
    },
    {
      "cell_type": "code",
      "source": [
        "X_test = pd.concat([validation, test], ignore_index=True, sort=False)\n",
        "X_test.head()\n"
      ],
      "metadata": {
        "colab": {
          "base_uri": "https://localhost:8080/",
          "height": 331
        },
        "id": "IetgJdakh1mI",
        "outputId": "ea300f2a-fba7-42be-9d2b-d900e6039642"
      },
      "execution_count": null,
      "outputs": [
        {
          "output_type": "execute_result",
          "data": {
            "text/plain": [
              "   subject_id  hadm_id  icustay_id   los_icu  cmo  cmo_last  dnr  \\\n",
              "0       54135   150600      228783  1.134317  0.0       0.0  1.0   \n",
              "1       54135   150600      228783  1.134317  0.0       0.0  1.0   \n",
              "2       54135   150600      228783  1.134317  0.0       0.0  1.0   \n",
              "3       54135   150600      228783  1.134317  0.0       0.0  1.0   \n",
              "4       54135   150600      228783  1.134317  0.0       0.0  1.0   \n",
              "\n",
              "   first_careunit_CSRU  admission_type_EMERGENCY  gender_M  ...  \\\n",
              "0                    0                         1         1  ...   \n",
              "1                    0                         1         1  ...   \n",
              "2                    0                         1         1  ...   \n",
              "3                    0                         1         1  ...   \n",
              "4                    0                         1         1  ...   \n",
              "\n",
              "   insurance_Government  max_hours  glucose_mean  temperature_mean  \\\n",
              "0                     0         27         168.0         36.333333   \n",
              "1                     0         27         175.5         36.888889   \n",
              "2                     0         27         175.5         36.888889   \n",
              "3                     0         27         175.5         36.888889   \n",
              "4                     0         27         175.5         36.055556   \n",
              "\n",
              "   oxygen saturation_mean  systolic blood pressure_mean  cmo_first  \\\n",
              "0                    99.5                         126.0        0.0   \n",
              "1                    98.0                         123.5        0.0   \n",
              "2                   100.0                         144.0        0.0   \n",
              "3                    96.0                         126.0        0.0   \n",
              "4                    99.0                         126.0        0.0   \n",
              "\n",
              "   heart rate_mean  respiratory rate_mean  mort_icu  \n",
              "0             70.0                   17.5         0  \n",
              "1             65.0                   24.0         0  \n",
              "2             72.0                   15.0         0  \n",
              "3             65.0                   20.0         0  \n",
              "4             61.0                   19.0         0  \n",
              "\n",
              "[5 rows x 40 columns]"
            ],
            "text/html": [
              "\n",
              "  <div id=\"df-4fd3f03a-30fa-4752-a98f-ca48389fcb6c\">\n",
              "    <div class=\"colab-df-container\">\n",
              "      <div>\n",
              "<style scoped>\n",
              "    .dataframe tbody tr th:only-of-type {\n",
              "        vertical-align: middle;\n",
              "    }\n",
              "\n",
              "    .dataframe tbody tr th {\n",
              "        vertical-align: top;\n",
              "    }\n",
              "\n",
              "    .dataframe thead th {\n",
              "        text-align: right;\n",
              "    }\n",
              "</style>\n",
              "<table border=\"1\" class=\"dataframe\">\n",
              "  <thead>\n",
              "    <tr style=\"text-align: right;\">\n",
              "      <th></th>\n",
              "      <th>subject_id</th>\n",
              "      <th>hadm_id</th>\n",
              "      <th>icustay_id</th>\n",
              "      <th>los_icu</th>\n",
              "      <th>cmo</th>\n",
              "      <th>cmo_last</th>\n",
              "      <th>dnr</th>\n",
              "      <th>first_careunit_CSRU</th>\n",
              "      <th>admission_type_EMERGENCY</th>\n",
              "      <th>gender_M</th>\n",
              "      <th>...</th>\n",
              "      <th>insurance_Government</th>\n",
              "      <th>max_hours</th>\n",
              "      <th>glucose_mean</th>\n",
              "      <th>temperature_mean</th>\n",
              "      <th>oxygen saturation_mean</th>\n",
              "      <th>systolic blood pressure_mean</th>\n",
              "      <th>cmo_first</th>\n",
              "      <th>heart rate_mean</th>\n",
              "      <th>respiratory rate_mean</th>\n",
              "      <th>mort_icu</th>\n",
              "    </tr>\n",
              "  </thead>\n",
              "  <tbody>\n",
              "    <tr>\n",
              "      <th>0</th>\n",
              "      <td>54135</td>\n",
              "      <td>150600</td>\n",
              "      <td>228783</td>\n",
              "      <td>1.134317</td>\n",
              "      <td>0.0</td>\n",
              "      <td>0.0</td>\n",
              "      <td>1.0</td>\n",
              "      <td>0</td>\n",
              "      <td>1</td>\n",
              "      <td>1</td>\n",
              "      <td>...</td>\n",
              "      <td>0</td>\n",
              "      <td>27</td>\n",
              "      <td>168.0</td>\n",
              "      <td>36.333333</td>\n",
              "      <td>99.5</td>\n",
              "      <td>126.0</td>\n",
              "      <td>0.0</td>\n",
              "      <td>70.0</td>\n",
              "      <td>17.5</td>\n",
              "      <td>0</td>\n",
              "    </tr>\n",
              "    <tr>\n",
              "      <th>1</th>\n",
              "      <td>54135</td>\n",
              "      <td>150600</td>\n",
              "      <td>228783</td>\n",
              "      <td>1.134317</td>\n",
              "      <td>0.0</td>\n",
              "      <td>0.0</td>\n",
              "      <td>1.0</td>\n",
              "      <td>0</td>\n",
              "      <td>1</td>\n",
              "      <td>1</td>\n",
              "      <td>...</td>\n",
              "      <td>0</td>\n",
              "      <td>27</td>\n",
              "      <td>175.5</td>\n",
              "      <td>36.888889</td>\n",
              "      <td>98.0</td>\n",
              "      <td>123.5</td>\n",
              "      <td>0.0</td>\n",
              "      <td>65.0</td>\n",
              "      <td>24.0</td>\n",
              "      <td>0</td>\n",
              "    </tr>\n",
              "    <tr>\n",
              "      <th>2</th>\n",
              "      <td>54135</td>\n",
              "      <td>150600</td>\n",
              "      <td>228783</td>\n",
              "      <td>1.134317</td>\n",
              "      <td>0.0</td>\n",
              "      <td>0.0</td>\n",
              "      <td>1.0</td>\n",
              "      <td>0</td>\n",
              "      <td>1</td>\n",
              "      <td>1</td>\n",
              "      <td>...</td>\n",
              "      <td>0</td>\n",
              "      <td>27</td>\n",
              "      <td>175.5</td>\n",
              "      <td>36.888889</td>\n",
              "      <td>100.0</td>\n",
              "      <td>144.0</td>\n",
              "      <td>0.0</td>\n",
              "      <td>72.0</td>\n",
              "      <td>15.0</td>\n",
              "      <td>0</td>\n",
              "    </tr>\n",
              "    <tr>\n",
              "      <th>3</th>\n",
              "      <td>54135</td>\n",
              "      <td>150600</td>\n",
              "      <td>228783</td>\n",
              "      <td>1.134317</td>\n",
              "      <td>0.0</td>\n",
              "      <td>0.0</td>\n",
              "      <td>1.0</td>\n",
              "      <td>0</td>\n",
              "      <td>1</td>\n",
              "      <td>1</td>\n",
              "      <td>...</td>\n",
              "      <td>0</td>\n",
              "      <td>27</td>\n",
              "      <td>175.5</td>\n",
              "      <td>36.888889</td>\n",
              "      <td>96.0</td>\n",
              "      <td>126.0</td>\n",
              "      <td>0.0</td>\n",
              "      <td>65.0</td>\n",
              "      <td>20.0</td>\n",
              "      <td>0</td>\n",
              "    </tr>\n",
              "    <tr>\n",
              "      <th>4</th>\n",
              "      <td>54135</td>\n",
              "      <td>150600</td>\n",
              "      <td>228783</td>\n",
              "      <td>1.134317</td>\n",
              "      <td>0.0</td>\n",
              "      <td>0.0</td>\n",
              "      <td>1.0</td>\n",
              "      <td>0</td>\n",
              "      <td>1</td>\n",
              "      <td>1</td>\n",
              "      <td>...</td>\n",
              "      <td>0</td>\n",
              "      <td>27</td>\n",
              "      <td>175.5</td>\n",
              "      <td>36.055556</td>\n",
              "      <td>99.0</td>\n",
              "      <td>126.0</td>\n",
              "      <td>0.0</td>\n",
              "      <td>61.0</td>\n",
              "      <td>19.0</td>\n",
              "      <td>0</td>\n",
              "    </tr>\n",
              "  </tbody>\n",
              "</table>\n",
              "<p>5 rows × 40 columns</p>\n",
              "</div>\n",
              "      <button class=\"colab-df-convert\" onclick=\"convertToInteractive('df-4fd3f03a-30fa-4752-a98f-ca48389fcb6c')\"\n",
              "              title=\"Convert this dataframe to an interactive table.\"\n",
              "              style=\"display:none;\">\n",
              "        \n",
              "  <svg xmlns=\"http://www.w3.org/2000/svg\" height=\"24px\"viewBox=\"0 0 24 24\"\n",
              "       width=\"24px\">\n",
              "    <path d=\"M0 0h24v24H0V0z\" fill=\"none\"/>\n",
              "    <path d=\"M18.56 5.44l.94 2.06.94-2.06 2.06-.94-2.06-.94-.94-2.06-.94 2.06-2.06.94zm-11 1L8.5 8.5l.94-2.06 2.06-.94-2.06-.94L8.5 2.5l-.94 2.06-2.06.94zm10 10l.94 2.06.94-2.06 2.06-.94-2.06-.94-.94-2.06-.94 2.06-2.06.94z\"/><path d=\"M17.41 7.96l-1.37-1.37c-.4-.4-.92-.59-1.43-.59-.52 0-1.04.2-1.43.59L10.3 9.45l-7.72 7.72c-.78.78-.78 2.05 0 2.83L4 21.41c.39.39.9.59 1.41.59.51 0 1.02-.2 1.41-.59l7.78-7.78 2.81-2.81c.8-.78.8-2.07 0-2.86zM5.41 20L4 18.59l7.72-7.72 1.47 1.35L5.41 20z\"/>\n",
              "  </svg>\n",
              "      </button>\n",
              "      \n",
              "  <style>\n",
              "    .colab-df-container {\n",
              "      display:flex;\n",
              "      flex-wrap:wrap;\n",
              "      gap: 12px;\n",
              "    }\n",
              "\n",
              "    .colab-df-convert {\n",
              "      background-color: #E8F0FE;\n",
              "      border: none;\n",
              "      border-radius: 50%;\n",
              "      cursor: pointer;\n",
              "      display: none;\n",
              "      fill: #1967D2;\n",
              "      height: 32px;\n",
              "      padding: 0 0 0 0;\n",
              "      width: 32px;\n",
              "    }\n",
              "\n",
              "    .colab-df-convert:hover {\n",
              "      background-color: #E2EBFA;\n",
              "      box-shadow: 0px 1px 2px rgba(60, 64, 67, 0.3), 0px 1px 3px 1px rgba(60, 64, 67, 0.15);\n",
              "      fill: #174EA6;\n",
              "    }\n",
              "\n",
              "    [theme=dark] .colab-df-convert {\n",
              "      background-color: #3B4455;\n",
              "      fill: #D2E3FC;\n",
              "    }\n",
              "\n",
              "    [theme=dark] .colab-df-convert:hover {\n",
              "      background-color: #434B5C;\n",
              "      box-shadow: 0px 1px 3px 1px rgba(0, 0, 0, 0.15);\n",
              "      filter: drop-shadow(0px 1px 2px rgba(0, 0, 0, 0.3));\n",
              "      fill: #FFFFFF;\n",
              "    }\n",
              "  </style>\n",
              "\n",
              "      <script>\n",
              "        const buttonEl =\n",
              "          document.querySelector('#df-4fd3f03a-30fa-4752-a98f-ca48389fcb6c button.colab-df-convert');\n",
              "        buttonEl.style.display =\n",
              "          google.colab.kernel.accessAllowed ? 'block' : 'none';\n",
              "\n",
              "        async function convertToInteractive(key) {\n",
              "          const element = document.querySelector('#df-4fd3f03a-30fa-4752-a98f-ca48389fcb6c');\n",
              "          const dataTable =\n",
              "            await google.colab.kernel.invokeFunction('convertToInteractive',\n",
              "                                                     [key], {});\n",
              "          if (!dataTable) return;\n",
              "\n",
              "          const docLinkHtml = 'Like what you see? Visit the ' +\n",
              "            '<a target=\"_blank\" href=https://colab.research.google.com/notebooks/data_table.ipynb>data table notebook</a>'\n",
              "            + ' to learn more about interactive tables.';\n",
              "          element.innerHTML = '';\n",
              "          dataTable['output_type'] = 'display_data';\n",
              "          await google.colab.output.renderOutput(dataTable, element);\n",
              "          const docLink = document.createElement('div');\n",
              "          docLink.innerHTML = docLinkHtml;\n",
              "          element.appendChild(docLink);\n",
              "        }\n",
              "      </script>\n",
              "    </div>\n",
              "  </div>\n",
              "  "
            ]
          },
          "metadata": {},
          "execution_count": 41
        }
      ]
    },
    {
      "cell_type": "code",
      "source": [
        "X_test.shape"
      ],
      "metadata": {
        "colab": {
          "base_uri": "https://localhost:8080/"
        },
        "id": "rIV2_28_ikLs",
        "outputId": "9b24bcdf-10d2-434f-f7f1-b87d7e9df8e0"
      },
      "execution_count": null,
      "outputs": [
        {
          "output_type": "execute_result",
          "data": {
            "text/plain": [
              "(181864, 40)"
            ]
          },
          "metadata": {},
          "execution_count": 28
        }
      ]
    },
    {
      "cell_type": "code",
      "source": [
        "X_train.drop(['subject_id', 'hadm_id'], axis=1, inplace=True)\n",
        "X_train.shape"
      ],
      "metadata": {
        "colab": {
          "base_uri": "https://localhost:8080/"
        },
        "id": "QIJzEgLj1UXh",
        "outputId": "4490931d-068a-421a-cfc9-1d154330e430"
      },
      "execution_count": null,
      "outputs": [
        {
          "output_type": "execute_result",
          "data": {
            "text/plain": [
              "(424018, 38)"
            ]
          },
          "metadata": {},
          "execution_count": 29
        }
      ]
    },
    {
      "cell_type": "code",
      "source": [
        "X_test.drop(['subject_id', 'hadm_id'], axis=1, inplace=True)\n",
        "X_test.shape"
      ],
      "metadata": {
        "colab": {
          "base_uri": "https://localhost:8080/"
        },
        "id": "NNEMQWlTPCvR",
        "outputId": "ded2f407-d8e9-4656-9a56-426eddafc7d2"
      },
      "execution_count": null,
      "outputs": [
        {
          "output_type": "execute_result",
          "data": {
            "text/plain": [
              "(181864, 38)"
            ]
          },
          "metadata": {},
          "execution_count": 42
        }
      ]
    },
    {
      "cell_type": "code",
      "source": [
        "import seaborn as sns\n",
        "sns.countplot(X_train['mort_icu'])"
      ],
      "metadata": {
        "colab": {
          "base_uri": "https://localhost:8080/",
          "height": 297
        },
        "id": "eLbrMiof1V2L",
        "outputId": "90aad6c5-d849-4c12-addb-b2e05550b4e5"
      },
      "execution_count": null,
      "outputs": [
        {
          "output_type": "execute_result",
          "data": {
            "text/plain": [
              "<matplotlib.axes._subplots.AxesSubplot at 0x7fbcaa84f090>"
            ]
          },
          "metadata": {},
          "execution_count": 30
        },
        {
          "output_type": "display_data",
          "data": {
            "text/plain": [
              "<Figure size 432x288 with 1 Axes>"
            ],
            "image/png": "[encoded data removed]"
          },
          "metadata": {
            "needs_background": "light"
          }
        }
      ]
    },
    {
      "cell_type": "code",
      "source": [
        "# X_train , X_test , y_train , y_test  = train_test_split(df , target , test_size = 0.3)\n",
        "# print(X_train.shape,X_test.shape,y_train.shape,y_test.shape)"
      ],
      "metadata": {
        "colab": {
          "base_uri": "https://localhost:8080/"
        },
        "id": "npA9BXLWBM1a",
        "outputId": "34545ea2-d9b2-4ea0-c4a9-31089401a0ea"
      },
      "execution_count": null,
      "outputs": [
        {
          "output_type": "stream",
          "name": "stdout",
          "text": [
            "(465596, 38) (199542, 38) (465596,) (199542,)\n"
          ]
        }
      ]
    },
    {
      "cell_type": "code",
      "source": [
        "y_train = X_train[\"mort_icu\"]"
      ],
      "metadata": {
        "id": "N9SAohdBBRkz"
      },
      "execution_count": null,
      "outputs": []
    },
    {
      "cell_type": "code",
      "source": [
        "y_test = X_test[\"mort_icu\"]"
      ],
      "metadata": {
        "id": "JHVPLUEbjGSb"
      },
      "execution_count": null,
      "outputs": []
    },
    {
      "cell_type": "code",
      "source": [
        "#remove the label and icu from the test data \n",
        "\n",
        "X_test = X_test.drop(['mort_icu','icustay_id'],axis=1).values\n",
        "y_test = y_test.values"
      ],
      "metadata": {
        "id": "eU0gT6SIrbKU"
      },
      "execution_count": null,
      "outputs": []
    },
    {
      "cell_type": "code",
      "source": [
        "#df = pd.read_csv('X_design_matrix.csv').set_index('icustay_id')\n",
        "\n",
        "# create X by dropping idxK and the outcome\n",
        "y = y_train.values\n",
        "idxK = X_train['icustay_id']\n",
        "X = X_train.drop(['mort_icu','icustay_id'],axis=1).values\n",
        "\n",
        "print('{} observations. Outcome rate: {:2.2f}%.'.format(X.shape[0],\n",
        "                                                        100.0*np.mean(y)))"
      ],
      "metadata": {
        "colab": {
          "base_uri": "https://localhost:8080/"
        },
        "id": "jX_HWkLfBvLZ",
        "outputId": "a327e248-4bc3-49a9-9fe1-cdb7b1c56032"
      },
      "execution_count": null,
      "outputs": [
        {
          "output_type": "stream",
          "name": "stdout",
          "text": [
            "424018 observations. Outcome rate: 6.89%.\n"
          ]
        }
      ]
    },
    {
      "cell_type": "code",
      "source": [
        "#df = pd.read_csv('X_design_matrix.csv').set_index('icustay_id')\n",
        "\n",
        "# create X by dropping idxK and the outcome\n",
        "# y = df['mort_icu'].values = y_train\n",
        "# idxK = df['icustay_id'] = train_ids\n",
        "# X = df.drop(['mort_icu','icustay_id'],axis=1).values = train\n",
        "\n",
        "# print('{} observations. Outcome rate: {:2.2f}%.'.format(X.shape[0],\n",
        "#                                                         100.0*np.mean(y)))"
      ],
      "metadata": {
        "id": "Nd1_Wozno2fp"
      },
      "execution_count": null,
      "outputs": []
    },
    {
      "cell_type": "markdown",
      "source": [
        "Random time during the first 24 hours"
      ],
      "metadata": {
        "id": "Gebf5ROyHET2"
      }
    },
    {
      "cell_type": "code",
      "source": [
        "# parameters from grid search\n",
        "xgb_mdl = xgb.XGBClassifier(colsample_bytree=0.7, silent=1,\n",
        "                            learning_rate = 0.01, n_estimators=1000,\n",
        "                            subsample=0.8, max_depth=9)\n",
        "\n",
        "models = {'xgb': xgb_mdl,\n",
        "          'lasso': linear_model.LassoCV(cv=5,fit_intercept=True,normalize=True,max_iter=10000),\n",
        "          'logreg': linear_model.LogisticRegression(fit_intercept=True),\n",
        "          'l2': linear_model.LogisticRegressionCV()\n",
        "          #'rf': ensemble.RandomForestClassifier()\n",
        "         }\n",
        "\n",
        "\n",
        "# create k-fold indices\n",
        "K = 5 # number of folds\n",
        "idxK = np.random.permutation(X.shape[0])\n",
        "idxK = np.mod(idxK,K)\n",
        "\n",
        "mdl_val = dict()\n",
        "results_val = dict()\n",
        "pred_val = dict()\n",
        "pred_val_merged = dict()\n",
        "for mdl in models:\n",
        "    print('=============== {} ==============='.format(mdl))\n",
        "    mdl_val[mdl] = list()\n",
        "    results_val[mdl] = list() # initialize list for scores\n",
        "    pred_val[mdl] = dict()\n",
        "    pred_val_merged[mdl] = np.zeros(X.shape[0])\n",
        "    \n",
        "    if mdl == 'xgb':\n",
        "        # no pre-processing of data necessary for xgb\n",
        "        estimator = Pipeline([(mdl, models[mdl])])\n",
        "\n",
        "    else:\n",
        "        estimator = Pipeline([\n",
        "                      (\"scaler\", StandardScaler()),\n",
        "                      (mdl, models[mdl])]) \n",
        "\n",
        "    for k in range(K):\n",
        "        # train the model using all but the kth fold\n",
        "        curr_mdl = sklearn.base.clone(estimator).fit(X[idxK != k, :], y[idxK != k])\n",
        "\n",
        "        # get prediction on this dataset\n",
        "        if mdl in ('lasso','ridge'):\n",
        "            curr_prob = curr_mdl.predict(X[idxK == k, :])\n",
        "        else:\n",
        "            curr_prob = curr_mdl.predict_proba(X[idxK == k, :])\n",
        "            curr_prob = curr_prob[:,1]\n",
        "            \n",
        "        pred_val_merged[mdl][idxK==k] = curr_prob\n",
        "        pred_val[mdl][k] = curr_prob\n",
        "\n",
        "        # calculate score (AUROC)\n",
        "        curr_score = metrics.roc_auc_score(y[idxK == k], curr_prob)\n",
        "\n",
        "        # add score to list of scores\n",
        "        results_val[mdl].append(curr_score)\n",
        "\n",
        "        # save the current model\n",
        "        mdl_val[mdl].append(curr_mdl)\n",
        "        \n",
        "        print('{} - Finished fold {} of {}. AUROC {:0.3f}.'.format(dt.datetime.now(), k+1, K, curr_score))\n",
        "    \n",
        "tar_val = dict()\n",
        "for k in range(K):\n",
        "    tar_val[k] = y[idxK==k]"
      ],
      "metadata": {
        "colab": {
          "base_uri": "https://localhost:8080/"
        },
        "id": "X1ISr-_ao3To",
        "outputId": "34633df3-63b1-4bf8-e29e-5f7d8d5caafb"
      },
      "execution_count": null,
      "outputs": [
        {
          "output_type": "stream",
          "name": "stdout",
          "text": [
            "=============== xgb ===============\n",
            "2022-07-18 19:35:07.782938 - Finished fold 1 of 5. AUROC 0.978.\n",
            "2022-07-18 19:55:06.458543 - Finished fold 2 of 5. AUROC 0.978.\n",
            "2022-07-18 20:13:49.213839 - Finished fold 3 of 5. AUROC 0.977.\n",
            "2022-07-18 20:32:10.417901 - Finished fold 4 of 5. AUROC 0.979.\n",
            "2022-07-18 20:50:43.635775 - Finished fold 5 of 5. AUROC 0.979.\n",
            "=============== lasso ===============\n",
            "2022-07-18 20:50:55.908181 - Finished fold 1 of 5. AUROC 0.870.\n",
            "2022-07-18 20:51:08.114129 - Finished fold 2 of 5. AUROC 0.869.\n",
            "2022-07-18 20:51:19.868531 - Finished fold 3 of 5. AUROC 0.874.\n",
            "2022-07-18 20:51:30.938854 - Finished fold 4 of 5. AUROC 0.867.\n",
            "2022-07-18 20:51:43.393062 - Finished fold 5 of 5. AUROC 0.874.\n",
            "=============== logreg ===============\n",
            "2022-07-18 20:51:51.824708 - Finished fold 1 of 5. AUROC 0.877.\n",
            "2022-07-18 20:51:59.673097 - Finished fold 2 of 5. AUROC 0.877.\n",
            "2022-07-18 20:52:06.675363 - Finished fold 3 of 5. AUROC 0.879.\n",
            "2022-07-18 20:52:16.506709 - Finished fold 4 of 5. AUROC 0.873.\n",
            "2022-07-18 20:52:28.171794 - Finished fold 5 of 5. AUROC 0.879.\n",
            "=============== l2 ===============\n",
            "2022-07-18 20:54:12.569144 - Finished fold 1 of 5. AUROC 0.877.\n",
            "2022-07-18 20:56:00.153339 - Finished fold 2 of 5. AUROC 0.877.\n",
            "2022-07-18 20:57:48.813285 - Finished fold 3 of 5. AUROC 0.879.\n",
            "2022-07-18 20:59:42.129306 - Finished fold 4 of 5. AUROC 0.873.\n",
            "2022-07-18 21:01:30.760692 - Finished fold 5 of 5. AUROC 0.879.\n"
          ]
        }
      ]
    },
    {
      "cell_type": "markdown",
      "source": [
        "these are the results you should report as they did "
      ],
      "metadata": {
        "id": "bfyXXjphFVEx"
      }
    },
    {
      "cell_type": "code",
      "source": [
        "# average AUROC + min/max\n",
        "for mdl in models:\n",
        "    curr_score = np.zeros(K)\n",
        "    for k in range(K):\n",
        "        curr_score[k] = metrics.roc_auc_score(tar_val[k], pred_val[mdl][k])\n",
        "    print('{}\\t{:0.3f} [{:0.3f}, {:0.3f}]'.format(mdl, np.mean(curr_score), np.min(curr_score), np.max(curr_score)))\n"
      ],
      "metadata": {
        "id": "xzMerQFGEcfk",
        "colab": {
          "base_uri": "https://localhost:8080/"
        },
        "outputId": "62692fd0-5d1e-4e03-d84e-6feaedba4041"
      },
      "execution_count": null,
      "outputs": [
        {
          "output_type": "stream",
          "name": "stdout",
          "text": [
            "xgb\t0.978 [0.977, 0.979]\n",
            "lasso\t0.871 [0.867, 0.874]\n",
            "logreg\t0.877 [0.873, 0.879]\n",
            "l2\t0.877 [0.873, 0.879]\n"
          ]
        }
      ]
    },
    {
      "cell_type": "code",
      "source": [
        "# average AUPRC + min/max\n",
        "for mdl in models:\n",
        "   curr_score = np.zeros(K)\n",
        "   for k in range(K):\n",
        "       curr_score[k] = metrics.average_precision_score(tar_val[k], pred_val[mdl][k])\n",
        "   print('{}\\t{:0.3f} [{:0.3f}, {:0.3f}]'.format(mdl, np.mean(curr_score), np.min(curr_score), np.max(curr_score)))"
      ],
      "metadata": {
        "id": "6e1jUwyzM2-9",
        "colab": {
          "base_uri": "https://localhost:8080/"
        },
        "outputId": "7a3d6372-72bc-408d-e37c-e6c913554ee2"
      },
      "execution_count": null,
      "outputs": [
        {
          "output_type": "stream",
          "name": "stdout",
          "text": [
            "xgb\t0.867 [0.865, 0.869]\n",
            "lasso\t0.481 [0.471, 0.494]\n",
            "logreg\t0.491 [0.484, 0.503]\n",
            "l2\t0.491 [0.484, 0.503]\n"
          ]
        }
      ]
    },
    {
      "cell_type": "markdown",
      "source": [
        "##XGB"
      ],
      "metadata": {
        "id": "EUCel25Y0K7S"
      }
    },
    {
      "cell_type": "markdown",
      "source": [
        "validation the results"
      ],
      "metadata": {
        "id": "Q08s82MNHvb8"
      }
    },
    {
      "cell_type": "markdown",
      "source": [
        "take the best model and fit it on the training set"
      ],
      "metadata": {
        "id": "i5r2_HS3b58U"
      }
    },
    {
      "cell_type": "code",
      "source": [
        "xgb_mdl"
      ],
      "metadata": {
        "colab": {
          "base_uri": "https://localhost:8080/"
        },
        "id": "NaGae-2waPDA",
        "outputId": "0126d12a-ab57-4fcd-dc9e-78e57693099a"
      },
      "execution_count": null,
      "outputs": [
        {
          "output_type": "execute_result",
          "data": {
            "text/plain": [
              "XGBClassifier(colsample_bytree=0.7, learning_rate=0.01, max_depth=9,\n",
              "              n_estimators=1000, silent=1, subsample=0.8)"
            ]
          },
          "metadata": {},
          "execution_count": 17
        }
      ]
    },
    {
      "cell_type": "code",
      "source": [
        "xgb_mdl.fit(X, y)"
      ],
      "metadata": {
        "id": "ApjwAxGxqVjJ",
        "colab": {
          "base_uri": "https://localhost:8080/"
        },
        "outputId": "380a0c6f-bc53-4d7e-9f85-22a2c1ea8db3"
      },
      "execution_count": null,
      "outputs": [
        {
          "output_type": "execute_result",
          "data": {
            "text/plain": [
              "XGBClassifier(colsample_bytree=0.7, learning_rate=0.01, max_depth=9,\n",
              "              n_estimators=1000, silent=1, subsample=0.8)"
            ]
          },
          "metadata": {},
          "execution_count": 38
        }
      ]
    },
    {
      "cell_type": "code",
      "source": [
        "final_predictions=xgb_mdl.predict(X_test)"
      ],
      "metadata": {
        "id": "J_vInGtLq0-8"
      },
      "execution_count": null,
      "outputs": []
    },
    {
      "cell_type": "code",
      "source": [
        "#final_predictions = np.argmax(xgb_mdl.predict(X_test))"
      ],
      "metadata": {
        "id": "e0aQDHDJ706b"
      },
      "execution_count": null,
      "outputs": []
    },
    {
      "cell_type": "code",
      "source": [
        "# final_avg_auroc = metrics.average_precision_score(y_test, final_predictions)\n",
        "# final_avg_auroc"
      ],
      "metadata": {
        "id": "PVzdZauNxHmw"
      },
      "execution_count": null,
      "outputs": []
    },
    {
      "cell_type": "code",
      "source": [
        "from sklearn.metrics import plot_confusion_matrix\n",
        "cm = confusion_matrix(y_test, final_predictions)\n",
        "print('confusion matrix:')\n",
        "print(cm)\n",
        "#print('\\n')\n",
        "print('classification report:')\n",
        "print(metrics.classification_report(y_test, final_predictions))\n",
        "print('===============================================================================')\n",
        "print(metrics.roc_auc_score(y_test, final_predictions))"
      ],
      "metadata": {
        "id": "uD5Ve4RYNooz",
        "colab": {
          "base_uri": "https://localhost:8080/"
        },
        "outputId": "57c0f67a-cecb-40fe-c7ba-d37b2850158e"
      },
      "execution_count": null,
      "outputs": [
        {
          "output_type": "stream",
          "name": "stdout",
          "text": [
            "confusion matrix:\n",
            "[[168101   1939]\n",
            " [  7607   4217]]\n",
            "classification report:\n",
            "              precision    recall  f1-score   support\n",
            "\n",
            "           0       0.96      0.99      0.97    170040\n",
            "           1       0.69      0.36      0.47     11824\n",
            "\n",
            "    accuracy                           0.95    181864\n",
            "   macro avg       0.82      0.67      0.72    181864\n",
            "weighted avg       0.94      0.95      0.94    181864\n",
            "\n",
            "===============================================================================\n",
            "0.672622148684907\n"
          ]
        }
      ]
    },
    {
      "cell_type": "code",
      "source": [
        "import matplotlib.pyplot as pyplot\n",
        "import itertools\n",
        "cm_plot_labels = ['Live','died']\n",
        "def plot_confusion_matrix(cm, classes,\n",
        "                        normalize=False,\n",
        "                        title='Confusion matrix',\n",
        "                        cmap=pyplot.cm.Blues):\n",
        "    \"\"\"\n",
        "    This function prints and plots the confusion matrix.\n",
        "    Normalization can be applied by setting `normalize=True`.\n",
        "    \"\"\"\n",
        "    pyplot.imshow(cm, interpolation='nearest', cmap=cmap)\n",
        "    pyplot.title(title)\n",
        "    pyplot.colorbar()\n",
        "    tick_marks = np.arange(len(classes))\n",
        "    pyplot.xticks(tick_marks, classes, rotation=45)\n",
        "    pyplot.yticks(tick_marks, classes)\n",
        "\n",
        "    if normalize:\n",
        "        cm = cm.astype('float') / cm.sum(axis=1)[:, np.newaxis]\n",
        "        print(\"Normalized confusion matrix\")\n",
        "    else:\n",
        "        print('Confusion matrix, without normalization')\n",
        "\n",
        "    thresh = cm.max() / 2.\n",
        "    for i, j in itertools.product(range(cm.shape[0]), range(cm.shape[1])):\n",
        "        pyplot.text(j, i, cm[i, j],\n",
        "            horizontalalignment=\"center\",\n",
        "            color=\"white\" if cm[i, j] > thresh else \"black\")\n",
        "\n",
        "    pyplot.tight_layout()\n",
        "    pyplot.ylabel('True label')\n",
        "    pyplot.xlabel('Predicted label')\n",
        "\n",
        "plot_confusion_matrix(cm=cm, classes=cm_plot_labels, title='Confusion Matrix')"
      ],
      "metadata": {
        "id": "LXVmduEqmPdM",
        "colab": {
          "base_uri": "https://localhost:8080/",
          "height": 328
        },
        "outputId": "977178b7-2a41-4c49-ce93-9fa6df2c3ddd"
      },
      "execution_count": null,
      "outputs": [
        {
          "output_type": "stream",
          "name": "stdout",
          "text": [
            "Confusion matrix, without normalization\n"
          ]
        },
        {
          "output_type": "display_data",
          "data": {
            "text/plain": [
              "<Figure size 432x288 with 2 Axes>"
            ],
            "image/png": "[encoded data removed]"
          },
          "metadata": {
            "needs_background": "light"
          }
        }
      ]
    },
    {
      "cell_type": "code",
      "source": [
        "from sklearn import metrics\n",
        "def buildROC(target_test,test_preds):\n",
        "    fpr, tpr, threshold = metrics.roc_curve(target_test, test_preds)\n",
        "    roc_auc = metrics.auc(fpr, tpr)\n",
        "    plt.title('Receiver Operating Characteristic')\n",
        "    plt.plot(fpr, tpr, 'b', label = 'AUC = %0.2f' % roc_auc)\n",
        "    plt.legend(loc = 'lower right')\n",
        "    plt.plot([0, 1], [0, 1],'r--')\n",
        "    plt.ylabel('True Positive Rate')\n",
        "    plt.xlabel('False Positive Rate')\n",
        "    plt.gcf().savefig('roc.png')\n",
        "\n",
        "buildROC(y_test,final_predictions)"
      ],
      "metadata": {
        "colab": {
          "base_uri": "https://localhost:8080/",
          "height": 295
        },
        "id": "6Vo9ItyHdDXt",
        "outputId": "5d9ae7c4-8c99-4bf6-cd9b-5792a6047387"
      },
      "execution_count": null,
      "outputs": [
        {
          "output_type": "display_data",
          "data": {
            "text/plain": [
              "<Figure size 432x288 with 1 Axes>"
            ],
            "image/png": "[encoded data removed]"
          },
          "metadata": {
            "needs_background": "light"
          }
        }
      ]
    }
  ]
}