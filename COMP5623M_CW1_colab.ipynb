{
  "cells": [
    {
      "cell_type": "markdown",
      "metadata": {
        "id": "view-in-github",
        "colab_type": "text"
      },
      "source": [
        "<a href=\"https://colab.research.google.com/github/buthaina279/P4DS/blob/main/COMP5623M_CW1_colab.ipynb\" target=\"_parent\"><img src=\"https://colab.research.google.com/assets/colab-badge.svg\" alt=\"Open In Colab\"/></a>"
      ]
    },
    {
      "cell_type": "markdown",
      "metadata": {
        "id": "LR4bovYL4CJz"
      },
      "source": [
        "## COMP5623M Assessment Coursework 1 - Image Classification [100 marks]\n",
        "\n",
        "The maximum number of marks for each part are shown in the section headers. As indicated in the main heading above, the overall assessment carries a maximum of 100 marks.\n",
        "\n",
        "This summative assessment is weighted 25% of the final grade for the module.\n",
        "\n",
        "### Motivation \n",
        "\n",
        "Through this coursework, you will:\n",
        "\n",
        "> 1. Practice building, evaluating, and finetuning a convolutional neural network on an image dataset from development to testing. \n",
        "> 2. Gain a deeper understanding of feature maps and filters by visualizing some from a pre-trained network. \n",
        "\n",
        "\n",
        "### Setup and resources \n",
        "\n",
        "You must work using this provided template notebook.\n",
        "\n",
        "Having a GPU will speed up the training process, especially for Question 1.3. See the provided document on Minerva about setting up a working environment for various ways to access a GPU.\n",
        "\n",
        "Please implement the coursework using **Python and PyTorch**, and refer to the notebooks and exercises provided.\n",
        "\n",
        "This coursework will use a subset of images from Tiny ImageNet, which is a subset of the ImageNet dataset [https://image-net.org/]. Our subset of Tiny ImageNet contains 30 different categories, we will refer to it as TinyImageNet30. The training set has 450 resized images (64x64 pixels) for each category (13,500 images in total). You can download the training and test set from the Kaggle website:\n",
        "\n",
        ">[Private class Kaggle competition and data](https://www.kaggle.com/t/9b703e0d71824a658e186d5f69960e27)\n",
        "\n",
        "To access the dataset, you will need an account on the Kaggle website. Even if you have an existing Kaggle account, please carefully adhere to these instructions, or we may not be able to locate your entries:\n",
        "\n",
        "> 1. Use your **university email** to register a new account.\n",
        "> 2. Set your **Kaggle account NAME** to your university username, for example, ``sc15jb``.\n",
        "\n",
        "The class Kaggle competition also includes a blind test set, which will be used in Question 1 for evaluating your custom model's performance on a test set. The competition website will compute the test set accuracy, as well as position your model on the class leaderboard.\n",
        "\n",
        "### Submission\n",
        "\n",
        "Please submit the following:\n",
        "\n",
        "> 1. Your completed Jupyter notebook file, without removing anything in the template, in **.ipynb format.**\n",
        "> 2. The **.html version** of your notebook; File > Download as > HTML (.html). Check that all cells have been run and all outputs (including all graphs you would like to be marked) displayed in the .html for marking.\n",
        "> 3. Your selected image from section 2.4.2 \"Failure analysis\"\n",
        "\n",
        "Final note:\n",
        "\n",
        "> **Please display everything that you would like to be marked. Under each section, put the relevant code containing your solution. You may re-use functions you defined previously, but any new code must be in the relevant section.** Feel free to add as many code cells as you need under each section.\n",
        "\n",
        "Your student username (for example, ```sc15jb```):\n"
      ]
    },
    {
      "cell_type": "markdown",
      "metadata": {
        "id": "9wdgNoGN3UCx"
      },
      "source": [
        "ml20baya"
      ]
    },
    {
      "cell_type": "markdown",
      "metadata": {
        "id": "4sOaYCuf3UCy"
      },
      "source": [
        "Your full name:"
      ]
    },
    {
      "cell_type": "markdown",
      "metadata": {
        "id": "9DHDoWI63UCz"
      },
      "source": [
        "Buthaina Abdullah Alshareef"
      ]
    },
    {
      "cell_type": "markdown",
      "metadata": {
        "id": "-FLN4q-r3UC0"
      },
      "source": [
        "## Imports\n",
        "\n",
        "Feel free to add to this section as needed.\n",
        "\n",
        "You may need to download `cv2` using [pip](https://pypi.org/project/opencv-python/) or [conda](https://anaconda.org/conda-forge/opencv)."
      ]
    },
    {
      "cell_type": "code",
      "execution_count": 2,
      "metadata": {
        "id": "MPIh1yK33UC-"
      },
      "outputs": [],
      "source": [
        "import cv2\n",
        "import math\n",
        "\n",
        "import numpy as np\n",
        "import torch\n",
        "import torch.nn as nn\n",
        "from torch import optim\n",
        "import torchvision.transforms as transforms\n",
        "from torch.hub import load_state_dict_from_url\n",
        "\n",
        "# Imports\n",
        "import pandas as pd\n",
        "import os\n",
        "from PIL import Image\n",
        "from torch.utils.data import Dataset, DataLoader\n",
        "from torchvision import datasets, transforms,utils\n",
        "from torch.utils.data import Dataset\n",
        "from torchvision.datasets import ImageFolder\n",
        "from PIL import Image\n",
        "import matplotlib.pyplot as plt\n",
        "from torchsummary import summary\n",
        "import torchvision\n",
        "import torch.nn.functional as F\n",
        "from tqdm import tqdm\n",
        "from sklearn.metrics import confusion_matrix"
      ]
    },
    {
      "cell_type": "markdown",
      "metadata": {
        "id": "kfR--uYXHdIi"
      },
      "source": [
        "## QUESTION 1 [55 marks]\n",
        "\n",
        "One challenge of building a deep learning model is to choose an architecture that can learn the features in the dataset without being unnecessarily complex. The first part of the coursework involves building a CNN and training it on TinyImageNet30. \n",
        "\n",
        "### **Overview:**\n",
        "*   **1.1.1** PyTorch ```Dataset``` and ```DataLoader``` classes\n",
        "*   **1.1.2** PyTorch ```Model``` class for simple CNN model\n",
        "*   **1.1.3** Overfitting on a single batch\n",
        "*   **1.2.1** Training on complete dataset\n",
        "*   **1.2.2** Fine-tuning model\n",
        "*   **1.2.3** Generating confusion matrices\n",
        "*   **1.3**   Testing on test set on Kaggle\n",
        "\n",
        "\n",
        "## 1.1 Single-batch training [14 marks]\n",
        "\n",
        "We will use a method of development called “single-batch training”, or \"overfitting a single batch\", in which we check that our model and the training code is working properly and can overfit a single training batch (i.e., we can drive the training loss to zero). Then we move on to training on the complete training set and adjust for any overfitting and fine-tune the model via regularisation.\n",
        "\n",
        "### 1.1.1 Dataset class [3 marks]\n",
        "\n",
        "Write a PyTorch ```Dataset``` class (an example [here](https://www.askpython.com/python-modules/pytorch-custom-datasets) for reference) which loads the TinyImage30 dataset and ```DataLoaders``` for training and validation sets.\n"
      ]
    },
    {
      "cell_type": "code",
      "execution_count": 3,
      "metadata": {
        "colab": {
          "base_uri": "https://localhost:8080/"
        },
        "id": "QOr2gyWM3UDC",
        "outputId": "27ccde22-6bff-4b44-ccdb-6b573e73eadc"
      },
      "outputs": [
        {
          "output_type": "stream",
          "name": "stdout",
          "text": [
            "Tesla P100-PCIE-16GB\n",
            "1\n"
          ]
        }
      ],
      "source": [
        "device = torch.device(\"cuda:0\" if torch.cuda.is_available() else \"cpu\")\n",
        "print(torch.cuda.get_device_name(0))\n",
        "print(torch.cuda.device_count())"
      ]
    },
    {
      "cell_type": "code",
      "execution_count": 4,
      "metadata": {
        "colab": {
          "base_uri": "https://localhost:8080/"
        },
        "id": "zf8eLv825UXL",
        "outputId": "d487f4a9-4532-4357-8250-3e493f5f46ee"
      },
      "outputs": [
        {
          "output_type": "stream",
          "name": "stdout",
          "text": [
            "Mounted at /content/drive\n"
          ]
        }
      ],
      "source": [
        "from google.colab import drive\n",
        "drive.mount('/content/drive')"
      ]
    },
    {
      "cell_type": "code",
      "execution_count": 5,
      "metadata": {
        "id": "wvShxDMTyUjY"
      },
      "outputs": [],
      "source": [
        "ROOT_DIR = \"/content/drive/MyDrive/comp5623m-2022/train_set/train_set/\"\n",
        "ROOT = \"/content/drive/MyDrive/comp5623m-2022/\"\n",
        "mapping_img30 = \"/content/drive/MyDrive/comp5623m-2022/mapping.txt\"\n"
      ]
    },
    {
      "cell_type": "code",
      "execution_count": null,
      "metadata": {
        "id": "l49PgjDDuhw4"
      },
      "outputs": [],
      "source": [
        "#!unzip \"/content/drive/MyDrive/comp5623m-2022_z.zip\" -d \"/content\""
      ]
    },
    {
      "cell_type": "code",
      "execution_count": 6,
      "metadata": {
        "colab": {
          "base_uri": "https://localhost:8080/"
        },
        "id": "n-YrVNgE3UDD",
        "outputId": "36dd5df0-dc8b-43c6-facc-abdb245083cd"
      },
      "outputs": [
        {
          "output_type": "stream",
          "name": "stdout",
          "text": [
            "Found 13500 images.\n",
            "                                                path  class\n",
            "0  /content/drive/MyDrive/comp5623m-2022/train_se...     20\n",
            "1  /content/drive/MyDrive/comp5623m-2022/train_se...      1\n",
            "2  /content/drive/MyDrive/comp5623m-2022/train_se...     16\n",
            "3  /content/drive/MyDrive/comp5623m-2022/train_se...     15\n",
            "4  /content/drive/MyDrive/comp5623m-2022/train_se...      9\n",
            "dataset_train length 10800\n",
            "dataset_valid length 2700\n",
            "train_loader length 169\n",
            "valid_loader length 43\n"
          ]
        },
        {
          "output_type": "stream",
          "name": "stderr",
          "text": [
            "/usr/local/lib/python3.7/dist-packages/torch/utils/data/dataloader.py:481: UserWarning: This DataLoader will create 6 worker processes in total. Our suggested max number of worker in current system is 2, which is smaller than what this DataLoader is going to create. Please be aware that excessive worker creation might get DataLoader running slow or even freeze, lower the worker number to avoid potential slowness/freeze if necessary.\n",
            "  cpuset_checked))\n"
          ]
        }
      ],
      "source": [
        "#device = torch.device(\"cuda:0\" if torch.cuda.is_available() else \"cpu\")\n",
        "\n",
        "CLASS_LABELS = [\"baboon\",\n",
        "                \"banana\"\n",
        "                ,\"bee\"\n",
        "                ,\"bison\"\n",
        "                ,\"butterfly\"\n",
        "                ,\"candle\"\n",
        "                ,\"cardigan\"\n",
        "                ,\"chihuahua\"\n",
        "                ,\"elephant\"\n",
        "                ,\"espresso\"\n",
        "                ,\"fly\"\n",
        "                ,\"goldfish\"\n",
        "                ,\"goose\"\n",
        "                ,\"grasshopper\"\n",
        "                ,\"hourglass\"\n",
        "                ,\"icecream\"\n",
        "                ,\"ipod\"\n",
        "                ,\"jellyfish\"\n",
        "                ,\"koala\"\n",
        "                ,\"ladybug\"\n",
        "                ,\"lion\"\n",
        "                ,\"mushroom\"\n",
        "                ,\"penguin\"\n",
        "                ,\"pig\"\n",
        "                ,\"pizza\"\n",
        "                ,\"pretzel\"\n",
        "                ,\"redpanda\"\n",
        "                ,\"refrigerator\"\n",
        "                ,\"sombrero\"\n",
        "                ,\"umbrella\"]\n",
        "\n",
        "\n",
        "\n",
        "mean =  [0.4828, 0.4419, 0.3691]\n",
        "std = [0.2130, 0.2060, 0.2022]\n",
        "\n",
        "class TinyImageNet30(Dataset):\n",
        "    def __init__(self, df, transform = None):\n",
        "        self.df = df\n",
        "        self.transform = transform\n",
        "\n",
        "    def __len__(self):\n",
        "        return len(self.df)\n",
        "\n",
        "    def __getitem__(self, index):\n",
        "        img_x = Image.open(self.df['path'][index])\n",
        "        \n",
        "        try:\n",
        "            img_x = img_x.convert('RGB')\n",
        "            \n",
        "        except:\n",
        "            pass\n",
        "        \n",
        "        img_y = torch.tensor(int(self.df['class'][index]))\n",
        "        \n",
        "        if self.transform:\n",
        "            img_x = self.transform(img_x)\n",
        "        return img_x,img_y\n",
        "        \n",
        "\n",
        "paths, classes = [], []\n",
        "for i, dir_ in enumerate(CLASS_LABELS):\n",
        "    for entry in os.scandir(ROOT_DIR + dir_):\n",
        "        if (entry.is_file()):\n",
        "            paths.append(entry.path)\n",
        "            classes.append(i)\n",
        "            \n",
        "data = {'path': paths,'class': classes}\n",
        "\n",
        "data_df = pd.DataFrame(data, columns=['path', 'class'])\n",
        "data_df = data_df.sample(frac=1).reset_index(drop=True)\n",
        "\n",
        "\n",
        "print(\"Found\", len(data_df), \"images.\")\n",
        "print(data_df.head())\n",
        "\n",
        "trnsfrm = transforms.Compose([\n",
        "    transforms.ToTensor(),\n",
        "    transforms.Normalize(mean, std)\n",
        "])\n",
        "\n",
        "# Split the data into train and test sets\n",
        "train_split = 0.80 \n",
        "train_size = int(len(data_df)*train_split)\n",
        "\n",
        "\n",
        "train_dataset = TinyImageNet30(\n",
        "    df=data_df[:train_size],\n",
        "    transform=trnsfrm,\n",
        ")\n",
        "\n",
        "valid_dataset = TinyImageNet30(\n",
        "    df=data_df[train_size:].reset_index(drop=True),\n",
        "    transform=trnsfrm,\n",
        ")\n",
        "\n",
        "train_loader = DataLoader(train_dataset, batch_size=64,shuffle=True,num_workers=6)\n",
        "\n",
        "valid_loader = DataLoader(valid_dataset, batch_size=64,shuffle=True,num_workers=6)\n",
        "\n",
        "\n",
        "print(\"dataset_train length\", len(train_dataset))\n",
        "print(\"dataset_valid length\", len(valid_dataset))\n",
        "print(\"train_loader length\", len(train_loader))\n",
        "print(\"valid_loader length\", len(valid_loader))\n",
        "\n"
      ]
    },
    {
      "cell_type": "code",
      "execution_count": null,
      "metadata": {
        "colab": {
          "base_uri": "https://localhost:8080/",
          "height": 353
        },
        "id": "QFZKc9KJ3UDR",
        "outputId": "74e3fcde-1de4-45cb-a819-1b0d06257154"
      },
      "outputs": [
        {
          "output_type": "stream",
          "name": "stderr",
          "text": [
            "/usr/local/lib/python3.7/dist-packages/torch/utils/data/dataloader.py:481: UserWarning: This DataLoader will create 6 worker processes in total. Our suggested max number of worker in current system is 2, which is smaller than what this DataLoader is going to create. Please be aware that excessive worker creation might get DataLoader running slow or even freeze, lower the worker number to avoid potential slowness/freeze if necessary.\n",
            "  cpuset_checked))\n",
            "Clipping input data to the valid range for imshow with RGB data ([0..1] for floats or [0..255] for integers).\n"
          ]
        },
        {
          "output_type": "stream",
          "name": "stdout",
          "text": [
            "torch.Size([64, 3, 64, 64])\n"
          ]
        },
        {
          "output_type": "display_data",
          "data": {
            "image/png": "[encoded data removed]",
            "text/plain": [
              "<Figure size 432x288 with 1 Axes>"
            ]
          },
          "metadata": {
            "needs_background": "light"
          }
        },
        {
          "output_type": "stream",
          "name": "stdout",
          "text": [
            "6 7 11 17 9 16 16 11 0 3 26 20 29 17 29 14 26 11 4 3 9 17 24 22 15 7 7 9 19 14 17 2 3 9 2 3 26 11 20 22 5 11 25 10 11 9 3 18 11 10 14 27 8 3 17 7 24 7 21 20 14 10 25 10\n"
          ]
        }
      ],
      "source": [
        "def timshow(x):\n",
        "    xa = np.transpose(x.numpy(),(1,2,0))\n",
        "    plt.imshow(xa)\n",
        "    plt.axis('off')\n",
        "    plt.show()\n",
        "    return xa\n",
        "    \n",
        "# single batch\n",
        "dataiter = iter(train_loader)\n",
        "images, labels = dataiter.next()\n",
        "\n",
        "print(images.size())\n",
        "\n",
        "#disply images\n",
        "timshow(utils.make_grid(images))\n",
        "print(*labels.numpy())     # * unpack the ndarray"
      ]
    },
    {
      "cell_type": "markdown",
      "metadata": {
        "id": "22tfAqjA3UDT"
      },
      "source": [
        "### 1.1.2 Define a CNN model [3 marks]\n",
        "\n",
        "Create a new model class using a combination of convolutional and fully connected layers, ReLU, and max-pool. "
      ]
    },
    {
      "cell_type": "code",
      "execution_count": null,
      "metadata": {
        "colab": {
          "base_uri": "https://localhost:8080/"
        },
        "id": "w-uIBMH-TKHn",
        "outputId": "d699dd7b-b4bc-4f44-ec0b-8ff862bb7c38"
      },
      "outputs": [
        {
          "name": "stdout",
          "output_type": "stream",
          "text": [
            "----------------------------------------------------------------\n",
            "        Layer (type)               Output Shape         Param #\n",
            "================================================================\n",
            "            Conv2d-1           [-1, 87, 60, 60]           6,612\n",
            "         MaxPool2d-2           [-1, 87, 30, 30]               0\n",
            "            Conv2d-3           [-1, 64, 28, 28]          50,176\n",
            "         MaxPool2d-4           [-1, 64, 14, 14]               0\n",
            "            Linear-5                 [-1, 1500]      18,817,500\n",
            "            Linear-6                   [-1, 30]          45,030\n",
            "          model112-7                   [-1, 30]               0\n",
            "================================================================\n",
            "Total params: 18,919,318\n",
            "Trainable params: 18,919,318\n",
            "Non-trainable params: 0\n",
            "----------------------------------------------------------------\n",
            "Input size (MB): 0.05\n",
            "Forward/backward pass size (MB): 3.48\n",
            "Params size (MB): 72.17\n",
            "Estimated Total Size (MB): 75.70\n",
            "----------------------------------------------------------------\n"
          ]
        }
      ],
      "source": [
        "class model112(nn.Module):\n",
        "  def __init__(self):\n",
        "    super(model112, self).__init__()\n",
        "\n",
        "    self.conv1 = nn.Conv2d(3, 87, kernel_size= 5, padding= 0)\n",
        "    self.mp1 = nn.MaxPool2d(kernel_size=2, stride=2)\n",
        "\n",
        "    self.conv2 = nn.Conv2d(87, 64, kernel_size= 3, padding= 0)\n",
        "    self.mp2 = nn.MaxPool2d(kernel_size=2, stride=2)\n",
        "        \n",
        "    self.fcl1 = nn.Linear(14*14*64, 1500)\n",
        "\n",
        "    self.fcl2 = nn.Linear(1500, 30)\n",
        "        \n",
        "  def forward(self, x):\n",
        "    x = F.relu(self.conv1(x))\n",
        "    x = self.mp1(x)\n",
        "\n",
        "    x = F.relu(self.conv2(x))\n",
        "    x = self.mp2(x)\n",
        "\n",
        "    x = x.reshape(-1, 14*14*64)\n",
        "\n",
        "    x = self.fcl1(x)\n",
        "    x = F.relu(x)\n",
        "\n",
        "    x = self.fcl2(x)\n",
        "    return x\n",
        "model122 = model112()\n",
        "model112 = nn.DataParallel(model122)\n",
        "model112 = model112.to(device)\n",
        "summary(model112.to(device), input_size=(3, 64, 64))"
      ]
    },
    {
      "cell_type": "markdown",
      "metadata": {
        "id": "ifh4o5r73UDZ"
      },
      "source": [
        "### 1.1.3 Single-batch training [8 marks]\n",
        "\n",
        "Write the foundational code which trains your network given **one single batch** of training data and computes the loss on the complete validation set for each epoch. Set ```batch_size = 64```. \n",
        "\n",
        "Display the graph of the training and validation loss over training epochs, showing as long as necessary to show you can drive the training loss to zero.\n",
        "\n",
        "> Please leave all graphs and code you would like to be marked clearly displayed without needing to run code cells or wait for training.\n"
      ]
    },
    {
      "cell_type": "code",
      "execution_count": 7,
      "metadata": {
        "id": "vvJRlnW33UDi"
      },
      "outputs": [],
      "source": [
        "#validation for all models\n",
        "def stats(loader, net):\n",
        "    correct = 0\n",
        "    total = 0\n",
        "    running_loss = 0\n",
        "    # net = net.to(device)\n",
        "    n = 0    # counter for number of minibatches\n",
        "    with torch.no_grad():\n",
        "        for data in loader:\n",
        "            images, labels = data\n",
        "            images = images.to(device)\n",
        "            labels = labels.to(device)\n",
        "            \n",
        "            outputs = net(images)\n",
        "            \n",
        "            # accumulate loss\n",
        "            running_loss += loss_fn(outputs, labels)\n",
        "            n += 1\n",
        "            \n",
        "            # accumulate data for accuracy\n",
        "            _, predicted = torch.max(outputs.data, 1)\n",
        "            total += labels.size(0)    # add in the number of labels in this minibatch\n",
        "            correct += (predicted == labels).sum().item()  # add in the number of correct labels\n",
        "            \n",
        "    return running_loss/n, correct/total "
      ]
    },
    {
      "cell_type": "code",
      "execution_count": null,
      "metadata": {
        "colab": {
          "base_uri": "https://localhost:8080/"
        },
        "id": "hlWv1smt3UDo",
        "outputId": "9c10c238-ba2c-408c-b0aa-896d646bd822",
        "scrolled": true
      },
      "outputs": [
        {
          "name": "stderr",
          "output_type": "stream",
          "text": [
            "/usr/local/lib/python3.7/dist-packages/torch/utils/data/dataloader.py:481: UserWarning: This DataLoader will create 6 worker processes in total. Our suggested max number of worker in current system is 2, which is smaller than what this DataLoader is going to create. Please be aware that excessive worker creation might get DataLoader running slow or even freeze, lower the worker number to avoid potential slowness/freeze if necessary.\n",
            "  cpuset_checked))\n"
          ]
        },
        {
          "name": "stdout",
          "output_type": "stream",
          "text": [
            "epoch: 0 training loss:  2.184 training accuracy:  34.4%  validation loss:  2.214 validation accuracy:  35.6%\n",
            "epoch: 1 training loss:  1.983 training accuracy:  39.1%  validation loss:  2.227 validation accuracy:  36.0%\n",
            "epoch: 2 training loss:  1.714 training accuracy:  59.4%  validation loss:  2.272 validation accuracy:  34.4%\n",
            "epoch: 3 training loss:  1.469 training accuracy:  60.9%  validation loss:  2.360 validation accuracy:  31.7%\n",
            "epoch: 4 training loss:  1.234 training accuracy:  67.2%  validation loss:  2.479 validation accuracy:  30.5%\n",
            "epoch: 5 training loss:  0.992 training accuracy:  75.0%  validation loss:  2.647 validation accuracy:  29.1%\n",
            "epoch: 6 training loss:  0.771 training accuracy:  79.7%  validation loss:  2.851 validation accuracy:  27.7%\n",
            "epoch: 7 training loss:  0.583 training accuracy:  87.5%  validation loss:  3.047 validation accuracy:  26.8%\n",
            "epoch: 8 training loss:  0.429 training accuracy:  95.3%  validation loss:  3.262 validation accuracy:  25.9%\n",
            "epoch: 9 training loss:  0.309 training accuracy:  96.9%  validation loss:  3.538 validation accuracy:  24.7%\n",
            "epoch: 10 training loss:  0.217 training accuracy:  96.9%  validation loss:  3.813 validation accuracy:  24.1%\n",
            "epoch: 11 training loss:  0.145 training accuracy:  98.4%  validation loss:  4.133 validation accuracy:  23.1%\n",
            "epoch: 12 training loss:  0.093 training accuracy:  100.0%  validation loss:  4.442 validation accuracy:  22.1%\n",
            "epoch: 13 training loss:  0.057 training accuracy:  100.0%  validation loss:  4.771 validation accuracy:  21.9%\n",
            "epoch: 14 training loss:  0.034 training accuracy:  100.0%  validation loss:  5.106 validation accuracy:  21.3%\n",
            "epoch: 15 training loss:  0.022 training accuracy:  100.0%  validation loss:  5.472 validation accuracy:  21.1%\n",
            "epoch: 16 training loss:  0.016 training accuracy:  100.0%  validation loss:  5.843 validation accuracy:  20.6%\n",
            "epoch: 17 training loss:  0.013 training accuracy:  100.0%  validation loss:  6.094 validation accuracy:  20.3%\n",
            "epoch: 18 training loss:  0.011 training accuracy:  100.0%  validation loss:  6.473 validation accuracy:  20.2%\n",
            "epoch: 19 training loss:  0.009 training accuracy:  100.0%  validation loss:  6.736 validation accuracy:  20.1%\n",
            "epoch: 20 training loss:  0.007 training accuracy:  100.0%  validation loss:  6.987 validation accuracy:  19.7%\n",
            "epoch: 21 training loss:  0.006 training accuracy:  100.0%  validation loss:  7.216 validation accuracy:  19.6%\n",
            "epoch: 22 training loss:  0.004 training accuracy:  100.0%  validation loss:  7.453 validation accuracy:  19.4%\n",
            "epoch: 23 training loss:  0.003 training accuracy:  100.0%  validation loss:  7.687 validation accuracy:  19.1%\n",
            "epoch: 24 training loss:  0.003 training accuracy:  100.0%  validation loss:  7.901 validation accuracy:  19.0%\n",
            "epoch: 25 training loss:  0.002 training accuracy:  100.0%  validation loss:  7.993 validation accuracy:  19.1%\n",
            "epoch: 26 training loss:  0.002 training accuracy:  100.0%  validation loss:  8.165 validation accuracy:  18.9%\n",
            "epoch: 27 training loss:  0.002 training accuracy:  100.0%  validation loss:  8.341 validation accuracy:  18.8%\n",
            "epoch: 28 training loss:  0.002 training accuracy:  100.0%  validation loss:  8.478 validation accuracy:  18.9%\n",
            "epoch: 29 training loss:  0.001 training accuracy:  100.0%  validation loss:  8.592 validation accuracy:  18.7%\n",
            "epoch: 30 training loss:  0.001 training accuracy:  100.0%  validation loss:  8.673 validation accuracy:  18.5%\n",
            "epoch: 31 training loss:  0.001 training accuracy:  100.0%  validation loss:  8.773 validation accuracy:  18.5%\n",
            "epoch: 32 training loss:  0.001 training accuracy:  100.0%  validation loss:  8.877 validation accuracy:  18.4%\n",
            "epoch: 33 training loss:  0.001 training accuracy:  100.0%  validation loss:  9.025 validation accuracy:  18.4%\n",
            "epoch: 34 training loss:  0.001 training accuracy:  100.0%  validation loss:  9.011 validation accuracy:  18.5%\n",
            "epoch: 35 training loss:  0.001 training accuracy:  100.0%  validation loss:  9.040 validation accuracy:  18.4%\n",
            "epoch: 36 training loss:  0.001 training accuracy:  100.0%  validation loss:  9.146 validation accuracy:  18.4%\n",
            "epoch: 37 training loss:  0.000 training accuracy:  100.0%  validation loss:  9.178 validation accuracy:  18.4%\n",
            "epoch: 38 training loss:  0.000 training accuracy:  100.0%  validation loss:  9.256 validation accuracy:  18.4%\n",
            "epoch: 39 training loss:  0.000 training accuracy:  100.0%  validation loss:  9.291 validation accuracy:  18.3%\n",
            "epoch: 40 training loss:  0.000 training accuracy:  100.0%  validation loss:  9.259 validation accuracy:  18.3%\n",
            "epoch: 41 training loss:  0.000 training accuracy:  100.0%  validation loss:  9.321 validation accuracy:  18.4%\n",
            "epoch: 42 training loss:  0.000 training accuracy:  100.0%  validation loss:  9.366 validation accuracy:  18.4%\n",
            "epoch: 43 training loss:  0.000 training accuracy:  100.0%  validation loss:  9.393 validation accuracy:  18.4%\n",
            "epoch: 44 training loss:  0.000 training accuracy:  100.0%  validation loss:  9.425 validation accuracy:  18.4%\n",
            "epoch: 45 training loss:  0.000 training accuracy:  100.0%  validation loss:  9.387 validation accuracy:  18.4%\n",
            "epoch: 46 training loss:  0.000 training accuracy:  100.0%  validation loss:  9.398 validation accuracy:  18.3%\n",
            "epoch: 47 training loss:  0.000 training accuracy:  100.0%  validation loss:  9.475 validation accuracy:  18.3%\n",
            "epoch: 48 training loss:  0.000 training accuracy:  100.0%  validation loss:  9.461 validation accuracy:  18.3%\n",
            "epoch: 49 training loss:  0.000 training accuracy:  100.0%  validation loss:  9.504 validation accuracy:  18.3%\n"
          ]
        }
      ],
      "source": [
        "#Run single batch\n",
        "nepochs = 50\n",
        "results_path = ROOT+'results/singlebatch50epochsClass.pt'\n",
        "\n",
        "statsrec = np.zeros((4,nepochs))\n",
        "\n",
        "data = next(iter(train_loader))\n",
        "\n",
        "loss_fn = nn.CrossEntropyLoss()\n",
        "optimizer = optim.SGD(model112.parameters(), lr=0.01, momentum=0.9)\n",
        "\n",
        "for epoch in range(nepochs):  # loop over the dataset multiple times\n",
        "    correct = 0          # number of examples predicted correctly (for accuracy)\n",
        "    total = 0            # number of examples\n",
        "    running_loss = 0.0   # accumulated loss (for mean loss)\n",
        "    n = 0                # number of minibatches\n",
        "    \n",
        "    # get a batch of random training examples (images and corresponding labels)\n",
        "    \n",
        "    inputs, labels = data\n",
        "    inputs = inputs.to(device)\n",
        "    labels = labels.to(device)\n",
        "        \n",
        "         # Zero the parameter gradients\n",
        "    optimizer.zero_grad()\n",
        "\n",
        "        # Forward, backward, and update parameters\n",
        "    outputs = model112(inputs)\n",
        "    loss = loss_fn(outputs, labels)\n",
        "    loss.backward()\n",
        "    optimizer.step()\n",
        "    \n",
        "        # accumulate loss\n",
        "    running_loss += loss.item()\n",
        "    n += 1\n",
        "        \n",
        "        # accumulate data for accuracy\n",
        "    _, predicted = torch.max(outputs.data, 1)\n",
        "    total += labels.size(0)    # add in the number of labels in this minibatch\n",
        "    correct += (predicted == labels).sum().item()  # add in the number of correct labels\n",
        "    \n",
        "    # collect together statistics for this epoch\n",
        "    ltrn = running_loss/n\n",
        "    atrn = correct/total \n",
        "    ltst, atst = stats(valid_loader, model112)\n",
        "    statsrec[:,epoch] = (ltrn, atrn, ltst.cpu(), atst)\n",
        "    print(f\"epoch: {epoch} training loss: {ltrn: .3f} training accuracy: {atrn: .1%}  validation loss: {ltst: .3f} validation accuracy: {atst: .1%}\")\n",
        "\n",
        "# save network parameters, losses and accuracy\n",
        "torch.save({\"state_dict\": model112.state_dict(), \"stats\": statsrec}, results_path)\n",
        "\n",
        "# save network parameters and losses\n",
        "#torch.save({\"state_dict\": net.state_dict(), \"losses\": losses}, results_path)\n",
        "\n"
      ]
    },
    {
      "cell_type": "code",
      "execution_count": 8,
      "metadata": {
        "id": "vFpVMlT--KDo"
      },
      "outputs": [],
      "source": [
        "#define function for all models visulization\n",
        "def viz_model(resultPath):  \n",
        "  results_path = ROOT+ resultPath\n",
        "  data = torch.load(results_path)\n",
        "\n",
        "\n",
        "  statsrec = data[\"stats\"]\n",
        "  fig, ax1 = plt.subplots()\n",
        "  plt.plot(statsrec[0], 'r', label = 'training loss', )\n",
        "  plt.plot(statsrec[2], 'g', label = 'validation loss' )\n",
        "  plt.legend(loc='lower right')\n",
        "  plt.xlabel('epoch')\n",
        "  plt.ylabel('loss')\n",
        "  plt.title('Training and validation loss, and validation accuracy')\n",
        "  ax2=ax1.twinx()\n",
        "  ax2.plot(statsrec[1], 'm', label = 'training accuracy')\n",
        "  ax2.plot(statsrec[3], 'b', label = 'validation accuracy')\n",
        "  ax2.set_ylabel('accuracy')\n",
        "  plt.legend(loc='upper right')\n",
        "  fig.savefig(\"roc.svg\")\n",
        "  plt.show()"
      ]
    },
    {
      "cell_type": "code",
      "execution_count": null,
      "metadata": {
        "colab": {
          "base_uri": "https://localhost:8080/",
          "height": 295
        },
        "id": "44DTKELZD8ph",
        "outputId": "e9d83927-fe78-43bf-cfcf-f10a7e824b2c"
      },
      "outputs": [
        {
          "data": {
            "image/png": "[encoded data removed]",
            "text/plain": [
              "<Figure size 432x288 with 2 Axes>"
            ]
          },
          "metadata": {},
          "output_type": "display_data"
        }
      ],
      "source": [
        "viz_model('results/singlebatch50epochsClass.pt')"
      ]
    },
    {
      "cell_type": "markdown",
      "metadata": {
        "id": "nPw3duuI3UDx"
      },
      "source": [
        "\n",
        "\n",
        "## 1.2 Training on complete dataset [23 marks]\n",
        "\n",
        "### 1.2.1 Train CNN and show loss graph [6 marks]\n",
        "\n",
        "Train your model on the complete training dataset, and use the validation set to determine when to stop training.\n",
        "\n",
        "Display the graph of training and validation loss over epochs to show how you determined the optimal number of training epochs.\n",
        "\n",
        "> As in previous sections, please leave the graph clearly displayed.\n"
      ]
    },
    {
      "cell_type": "code",
      "execution_count": null,
      "metadata": {
        "id": "_jacB3li8Tbi"
      },
      "outputs": [],
      "source": [
        "# instantiate your new Model class\n",
        "# Function for complete dataset training \n",
        "def run_model(epoch, resultPath, learningRate, train_loader, model, loss):\n",
        "  loss_fn = nn.CrossEntropyLoss()\n",
        "  nepochs = epoch\n",
        "  results_path = ROOT+ resultPath\n",
        "  statsrec = np.zeros((4,nepochs))\n",
        "  \n",
        "\n",
        "  optimizer = optim.SGD(model.parameters(), lr=learningRate, momentum=0.9)\n",
        "  #optimizer = optim.Adam(model_122a.parameters(), lr=learningRate, momentum=0.9)\n",
        "\n",
        "\n",
        "  for epoch in range(nepochs):  # loop over the dataset multiple times\n",
        "      correct = 0          # number of examples predicted correctly (for accuracy)\n",
        "      total = 0            # number of examples\n",
        "      running_loss = 0.0   # accumulated loss (for mean loss)\n",
        "      n = 0                # number of minibatches\n",
        "      for data in tqdm(train_loader):\n",
        "          inputs, labels = data\n",
        "          inputs = inputs.to(device)\n",
        "          labels = labels.to(device)\n",
        "          # Zero the parameter gradients\n",
        "          optimizer.zero_grad()\n",
        "\n",
        "          # Forward, backward, and update parameters\n",
        "          outputs = model(inputs)\n",
        "          loss = loss_fn(outputs, labels)\n",
        "          loss.backward()\n",
        "          optimizer.step()\n",
        "      \n",
        "          # accumulate loss\n",
        "          running_loss += loss.item()\n",
        "          n += 1\n",
        "          \n",
        "          # accumulate data for accuracy\n",
        "          _, predicted = torch.max(outputs.data, 1)\n",
        "          total += labels.size(0)    # add in the number of labels in this minibatch\n",
        "          correct += (predicted == labels).sum().item()  # add in the number of correct labels\n",
        "      \n",
        "      # collect together statistics for this epoch\n",
        "      ltrn = running_loss/n\n",
        "      atrn = correct/total \n",
        "      ltst, atst = stats(valid_loader, model)\n",
        "      statsrec[:,epoch] = (ltrn, atrn, ltst.cpu(), atst)\n",
        "      print(f\"epoch: {epoch} training loss: {ltrn: .3f} training accuracy: {atrn: .1%}  validation loss: {ltst.cpu(): .3f} validation accuracy: {atst: .1%}\")\n",
        "\n",
        "      # save network parameters, losses and accuracy\n",
        "  torch.save({\"state_dict\": model.state_dict(), \"stats\": statsrec}, results_path)"
      ]
    },
    {
      "cell_type": "code",
      "execution_count": null,
      "metadata": {
        "colab": {
          "base_uri": "https://localhost:8080/"
        },
        "id": "mHsqE_KM9P3D",
        "outputId": "7f179594-1504-4164-858f-c6624cc77522"
      },
      "outputs": [
        {
          "name": "stderr",
          "output_type": "stream",
          "text": [
            "\r  0%|          | 0/169 [00:00<?, ?it/s]/usr/local/lib/python3.7/dist-packages/torch/utils/data/dataloader.py:481: UserWarning: This DataLoader will create 6 worker processes in total. Our suggested max number of worker in current system is 2, which is smaller than what this DataLoader is going to create. Please be aware that excessive worker creation might get DataLoader running slow or even freeze, lower the worker number to avoid potential slowness/freeze if necessary.\n",
            "  cpuset_checked))\n",
            "100%|██████████| 169/169 [00:23<00:00,  7.26it/s]\n"
          ]
        },
        {
          "name": "stdout",
          "output_type": "stream",
          "text": [
            "epoch: 0 training loss:  2.422 training accuracy:  33.2%  validation loss:  2.234 validation accuracy:  37.2%\n"
          ]
        },
        {
          "name": "stderr",
          "output_type": "stream",
          "text": [
            "100%|██████████| 169/169 [00:19<00:00,  8.61it/s]\n"
          ]
        },
        {
          "name": "stdout",
          "output_type": "stream",
          "text": [
            "epoch: 1 training loss:  1.769 training accuracy:  48.8%  validation loss:  2.304 validation accuracy:  37.3%\n"
          ]
        },
        {
          "name": "stderr",
          "output_type": "stream",
          "text": [
            "100%|██████████| 169/169 [00:21<00:00,  8.02it/s]\n"
          ]
        },
        {
          "name": "stdout",
          "output_type": "stream",
          "text": [
            "epoch: 2 training loss:  1.230 training accuracy:  63.5%  validation loss:  2.336 validation accuracy:  38.6%\n"
          ]
        },
        {
          "name": "stderr",
          "output_type": "stream",
          "text": [
            "100%|██████████| 169/169 [00:27<00:00,  6.12it/s]\n"
          ]
        },
        {
          "name": "stdout",
          "output_type": "stream",
          "text": [
            "epoch: 3 training loss:  0.681 training accuracy:  79.4%  validation loss:  2.698 validation accuracy:  37.8%\n"
          ]
        },
        {
          "name": "stderr",
          "output_type": "stream",
          "text": [
            "100%|██████████| 169/169 [00:25<00:00,  6.52it/s]\n"
          ]
        },
        {
          "name": "stdout",
          "output_type": "stream",
          "text": [
            "epoch: 4 training loss:  0.311 training accuracy:  90.9%  validation loss:  3.003 validation accuracy:  38.3%\n"
          ]
        },
        {
          "name": "stderr",
          "output_type": "stream",
          "text": [
            "100%|██████████| 169/169 [00:27<00:00,  6.21it/s]\n"
          ]
        },
        {
          "name": "stdout",
          "output_type": "stream",
          "text": [
            "epoch: 5 training loss:  0.129 training accuracy:  96.2%  validation loss:  3.777 validation accuracy:  37.8%\n"
          ]
        },
        {
          "name": "stderr",
          "output_type": "stream",
          "text": [
            "100%|██████████| 169/169 [00:28<00:00,  5.96it/s]\n"
          ]
        },
        {
          "name": "stdout",
          "output_type": "stream",
          "text": [
            "epoch: 6 training loss:  0.080 training accuracy:  97.7%  validation loss:  4.108 validation accuracy:  38.9%\n"
          ]
        },
        {
          "name": "stderr",
          "output_type": "stream",
          "text": [
            "100%|██████████| 169/169 [00:24<00:00,  6.98it/s]\n"
          ]
        },
        {
          "name": "stdout",
          "output_type": "stream",
          "text": [
            "epoch: 7 training loss:  0.048 training accuracy:  98.7%  validation loss:  3.881 validation accuracy:  39.3%\n"
          ]
        },
        {
          "name": "stderr",
          "output_type": "stream",
          "text": [
            "100%|██████████| 169/169 [00:22<00:00,  7.58it/s]\n"
          ]
        },
        {
          "name": "stdout",
          "output_type": "stream",
          "text": [
            "epoch: 8 training loss:  0.046 training accuracy:  98.9%  validation loss:  4.224 validation accuracy:  39.7%\n"
          ]
        },
        {
          "name": "stderr",
          "output_type": "stream",
          "text": [
            "100%|██████████| 169/169 [00:29<00:00,  5.65it/s]\n"
          ]
        },
        {
          "name": "stdout",
          "output_type": "stream",
          "text": [
            "epoch: 9 training loss:  0.022 training accuracy:  99.4%  validation loss:  4.334 validation accuracy:  39.1%\n"
          ]
        },
        {
          "name": "stderr",
          "output_type": "stream",
          "text": [
            "100%|██████████| 169/169 [00:24<00:00,  6.95it/s]\n"
          ]
        },
        {
          "name": "stdout",
          "output_type": "stream",
          "text": [
            "epoch: 10 training loss:  0.022 training accuracy:  99.6%  validation loss:  4.216 validation accuracy:  39.7%\n"
          ]
        },
        {
          "name": "stderr",
          "output_type": "stream",
          "text": [
            "100%|██████████| 169/169 [00:23<00:00,  7.35it/s]\n"
          ]
        },
        {
          "name": "stdout",
          "output_type": "stream",
          "text": [
            "epoch: 11 training loss:  0.008 training accuracy:  99.8%  validation loss:  4.405 validation accuracy:  41.2%\n"
          ]
        },
        {
          "name": "stderr",
          "output_type": "stream",
          "text": [
            "100%|██████████| 169/169 [00:21<00:00,  7.84it/s]\n"
          ]
        },
        {
          "name": "stdout",
          "output_type": "stream",
          "text": [
            "epoch: 12 training loss:  0.002 training accuracy:  100.0%  validation loss:  4.483 validation accuracy:  41.4%\n"
          ]
        },
        {
          "name": "stderr",
          "output_type": "stream",
          "text": [
            "100%|██████████| 169/169 [00:23<00:00,  7.26it/s]\n"
          ]
        },
        {
          "name": "stdout",
          "output_type": "stream",
          "text": [
            "epoch: 13 training loss:  0.000 training accuracy:  100.0%  validation loss:  4.517 validation accuracy:  41.0%\n"
          ]
        },
        {
          "name": "stderr",
          "output_type": "stream",
          "text": [
            "100%|██████████| 169/169 [00:24<00:00,  6.79it/s]\n"
          ]
        },
        {
          "name": "stdout",
          "output_type": "stream",
          "text": [
            "epoch: 14 training loss:  0.000 training accuracy:  100.0%  validation loss:  4.576 validation accuracy:  41.1%\n"
          ]
        },
        {
          "name": "stderr",
          "output_type": "stream",
          "text": [
            "100%|██████████| 169/169 [00:22<00:00,  7.40it/s]\n"
          ]
        },
        {
          "name": "stdout",
          "output_type": "stream",
          "text": [
            "epoch: 15 training loss:  0.000 training accuracy:  100.0%  validation loss:  4.672 validation accuracy:  41.3%\n"
          ]
        },
        {
          "name": "stderr",
          "output_type": "stream",
          "text": [
            "100%|██████████| 169/169 [00:20<00:00,  8.09it/s]\n"
          ]
        },
        {
          "name": "stdout",
          "output_type": "stream",
          "text": [
            "epoch: 16 training loss:  0.000 training accuracy:  100.0%  validation loss:  4.752 validation accuracy:  41.3%\n"
          ]
        },
        {
          "name": "stderr",
          "output_type": "stream",
          "text": [
            "100%|██████████| 169/169 [00:20<00:00,  8.05it/s]\n"
          ]
        },
        {
          "name": "stdout",
          "output_type": "stream",
          "text": [
            "epoch: 17 training loss:  0.000 training accuracy:  100.0%  validation loss:  4.775 validation accuracy:  41.3%\n"
          ]
        },
        {
          "name": "stderr",
          "output_type": "stream",
          "text": [
            "100%|██████████| 169/169 [00:21<00:00,  8.05it/s]\n"
          ]
        },
        {
          "name": "stdout",
          "output_type": "stream",
          "text": [
            "epoch: 18 training loss:  0.000 training accuracy:  100.0%  validation loss:  4.783 validation accuracy:  41.4%\n"
          ]
        },
        {
          "name": "stderr",
          "output_type": "stream",
          "text": [
            "100%|██████████| 169/169 [00:21<00:00,  7.94it/s]\n"
          ]
        },
        {
          "name": "stdout",
          "output_type": "stream",
          "text": [
            "epoch: 19 training loss:  0.000 training accuracy:  100.0%  validation loss:  4.788 validation accuracy:  41.5%\n"
          ]
        },
        {
          "name": "stderr",
          "output_type": "stream",
          "text": [
            "100%|██████████| 169/169 [00:24<00:00,  6.80it/s]\n"
          ]
        },
        {
          "name": "stdout",
          "output_type": "stream",
          "text": [
            "epoch: 20 training loss:  0.000 training accuracy:  100.0%  validation loss:  4.860 validation accuracy:  41.6%\n"
          ]
        },
        {
          "name": "stderr",
          "output_type": "stream",
          "text": [
            "100%|██████████| 169/169 [00:21<00:00,  8.01it/s]\n"
          ]
        },
        {
          "name": "stdout",
          "output_type": "stream",
          "text": [
            "epoch: 21 training loss:  0.000 training accuracy:  100.0%  validation loss:  4.908 validation accuracy:  41.6%\n"
          ]
        },
        {
          "name": "stderr",
          "output_type": "stream",
          "text": [
            "100%|██████████| 169/169 [00:21<00:00,  7.90it/s]\n"
          ]
        },
        {
          "name": "stdout",
          "output_type": "stream",
          "text": [
            "epoch: 22 training loss:  0.000 training accuracy:  100.0%  validation loss:  4.914 validation accuracy:  41.6%\n"
          ]
        },
        {
          "name": "stderr",
          "output_type": "stream",
          "text": [
            "100%|██████████| 169/169 [00:28<00:00,  5.93it/s]\n"
          ]
        },
        {
          "name": "stdout",
          "output_type": "stream",
          "text": [
            "epoch: 23 training loss:  0.000 training accuracy:  100.0%  validation loss:  4.925 validation accuracy:  41.6%\n"
          ]
        },
        {
          "name": "stderr",
          "output_type": "stream",
          "text": [
            "100%|██████████| 169/169 [00:24<00:00,  6.99it/s]\n"
          ]
        },
        {
          "name": "stdout",
          "output_type": "stream",
          "text": [
            "epoch: 24 training loss:  0.000 training accuracy:  100.0%  validation loss:  5.020 validation accuracy:  41.6%\n"
          ]
        },
        {
          "name": "stderr",
          "output_type": "stream",
          "text": [
            "100%|██████████| 169/169 [00:24<00:00,  6.98it/s]\n"
          ]
        },
        {
          "name": "stdout",
          "output_type": "stream",
          "text": [
            "epoch: 25 training loss:  0.000 training accuracy:  100.0%  validation loss:  4.980 validation accuracy:  41.6%\n"
          ]
        },
        {
          "name": "stderr",
          "output_type": "stream",
          "text": [
            "100%|██████████| 169/169 [00:21<00:00,  7.99it/s]\n"
          ]
        },
        {
          "name": "stdout",
          "output_type": "stream",
          "text": [
            "epoch: 26 training loss:  0.000 training accuracy:  100.0%  validation loss:  5.003 validation accuracy:  41.6%\n"
          ]
        },
        {
          "name": "stderr",
          "output_type": "stream",
          "text": [
            "100%|██████████| 169/169 [00:21<00:00,  7.91it/s]\n"
          ]
        },
        {
          "name": "stdout",
          "output_type": "stream",
          "text": [
            "epoch: 27 training loss:  0.000 training accuracy:  100.0%  validation loss:  5.063 validation accuracy:  41.6%\n"
          ]
        },
        {
          "name": "stderr",
          "output_type": "stream",
          "text": [
            "100%|██████████| 169/169 [00:26<00:00,  6.26it/s]\n"
          ]
        },
        {
          "name": "stdout",
          "output_type": "stream",
          "text": [
            "epoch: 28 training loss:  0.000 training accuracy:  100.0%  validation loss:  5.096 validation accuracy:  41.6%\n"
          ]
        },
        {
          "name": "stderr",
          "output_type": "stream",
          "text": [
            "100%|██████████| 169/169 [00:21<00:00,  7.99it/s]\n"
          ]
        },
        {
          "name": "stdout",
          "output_type": "stream",
          "text": [
            "epoch: 29 training loss:  0.000 training accuracy:  100.0%  validation loss:  5.059 validation accuracy:  41.7%\n"
          ]
        },
        {
          "name": "stderr",
          "output_type": "stream",
          "text": [
            "100%|██████████| 169/169 [00:28<00:00,  5.89it/s]\n"
          ]
        },
        {
          "name": "stdout",
          "output_type": "stream",
          "text": [
            "epoch: 30 training loss:  0.000 training accuracy:  100.0%  validation loss:  5.194 validation accuracy:  41.8%\n"
          ]
        },
        {
          "name": "stderr",
          "output_type": "stream",
          "text": [
            "100%|██████████| 169/169 [00:27<00:00,  6.17it/s]\n"
          ]
        },
        {
          "name": "stdout",
          "output_type": "stream",
          "text": [
            "epoch: 31 training loss:  0.000 training accuracy:  100.0%  validation loss:  5.201 validation accuracy:  41.8%\n"
          ]
        },
        {
          "name": "stderr",
          "output_type": "stream",
          "text": [
            "100%|██████████| 169/169 [00:28<00:00,  5.92it/s]\n"
          ]
        },
        {
          "name": "stdout",
          "output_type": "stream",
          "text": [
            "epoch: 32 training loss:  0.000 training accuracy:  100.0%  validation loss:  5.159 validation accuracy:  41.9%\n"
          ]
        },
        {
          "name": "stderr",
          "output_type": "stream",
          "text": [
            "100%|██████████| 169/169 [00:21<00:00,  7.93it/s]\n"
          ]
        },
        {
          "name": "stdout",
          "output_type": "stream",
          "text": [
            "epoch: 33 training loss:  0.000 training accuracy:  100.0%  validation loss:  5.182 validation accuracy:  41.9%\n"
          ]
        },
        {
          "name": "stderr",
          "output_type": "stream",
          "text": [
            "100%|██████████| 169/169 [00:28<00:00,  5.93it/s]\n"
          ]
        },
        {
          "name": "stdout",
          "output_type": "stream",
          "text": [
            "epoch: 34 training loss:  0.000 training accuracy:  100.0%  validation loss:  5.192 validation accuracy:  41.9%\n"
          ]
        },
        {
          "name": "stderr",
          "output_type": "stream",
          "text": [
            "100%|██████████| 169/169 [00:21<00:00,  7.79it/s]\n"
          ]
        },
        {
          "name": "stdout",
          "output_type": "stream",
          "text": [
            "epoch: 35 training loss:  0.000 training accuracy:  100.0%  validation loss:  5.173 validation accuracy:  42.0%\n"
          ]
        },
        {
          "name": "stderr",
          "output_type": "stream",
          "text": [
            "100%|██████████| 169/169 [00:24<00:00,  6.94it/s]\n"
          ]
        },
        {
          "name": "stdout",
          "output_type": "stream",
          "text": [
            "epoch: 36 training loss:  0.000 training accuracy:  100.0%  validation loss:  5.254 validation accuracy:  42.0%\n"
          ]
        },
        {
          "name": "stderr",
          "output_type": "stream",
          "text": [
            "100%|██████████| 169/169 [00:22<00:00,  7.49it/s]\n"
          ]
        },
        {
          "name": "stdout",
          "output_type": "stream",
          "text": [
            "epoch: 37 training loss:  0.000 training accuracy:  100.0%  validation loss:  5.203 validation accuracy:  42.0%\n"
          ]
        },
        {
          "name": "stderr",
          "output_type": "stream",
          "text": [
            "100%|██████████| 169/169 [00:21<00:00,  7.95it/s]\n"
          ]
        },
        {
          "name": "stdout",
          "output_type": "stream",
          "text": [
            "epoch: 38 training loss:  0.000 training accuracy:  100.0%  validation loss:  5.257 validation accuracy:  42.1%\n"
          ]
        },
        {
          "name": "stderr",
          "output_type": "stream",
          "text": [
            "100%|██████████| 169/169 [00:29<00:00,  5.77it/s]\n"
          ]
        },
        {
          "name": "stdout",
          "output_type": "stream",
          "text": [
            "epoch: 39 training loss:  0.000 training accuracy:  100.0%  validation loss:  5.239 validation accuracy:  42.1%\n"
          ]
        },
        {
          "name": "stderr",
          "output_type": "stream",
          "text": [
            "100%|██████████| 169/169 [00:25<00:00,  6.51it/s]\n"
          ]
        },
        {
          "name": "stdout",
          "output_type": "stream",
          "text": [
            "epoch: 40 training loss:  0.000 training accuracy:  100.0%  validation loss:  5.283 validation accuracy:  42.1%\n"
          ]
        },
        {
          "name": "stderr",
          "output_type": "stream",
          "text": [
            "100%|██████████| 169/169 [00:25<00:00,  6.52it/s]\n"
          ]
        },
        {
          "name": "stdout",
          "output_type": "stream",
          "text": [
            "epoch: 41 training loss:  0.000 training accuracy:  100.0%  validation loss:  5.316 validation accuracy:  42.1%\n"
          ]
        },
        {
          "name": "stderr",
          "output_type": "stream",
          "text": [
            "100%|██████████| 169/169 [00:24<00:00,  6.99it/s]\n"
          ]
        },
        {
          "name": "stdout",
          "output_type": "stream",
          "text": [
            "epoch: 42 training loss:  0.000 training accuracy:  100.0%  validation loss:  5.333 validation accuracy:  42.1%\n"
          ]
        },
        {
          "name": "stderr",
          "output_type": "stream",
          "text": [
            "100%|██████████| 169/169 [00:27<00:00,  6.04it/s]\n"
          ]
        },
        {
          "name": "stdout",
          "output_type": "stream",
          "text": [
            "epoch: 43 training loss:  0.000 training accuracy:  100.0%  validation loss:  5.305 validation accuracy:  42.1%\n"
          ]
        },
        {
          "name": "stderr",
          "output_type": "stream",
          "text": [
            "100%|██████████| 169/169 [00:23<00:00,  7.24it/s]\n"
          ]
        },
        {
          "name": "stdout",
          "output_type": "stream",
          "text": [
            "epoch: 44 training loss:  0.000 training accuracy:  100.0%  validation loss:  5.314 validation accuracy:  42.1%\n"
          ]
        },
        {
          "name": "stderr",
          "output_type": "stream",
          "text": [
            "100%|██████████| 169/169 [00:24<00:00,  6.77it/s]\n"
          ]
        },
        {
          "name": "stdout",
          "output_type": "stream",
          "text": [
            "epoch: 45 training loss:  0.000 training accuracy:  100.0%  validation loss:  5.363 validation accuracy:  42.1%\n"
          ]
        },
        {
          "name": "stderr",
          "output_type": "stream",
          "text": [
            "100%|██████████| 169/169 [00:30<00:00,  5.52it/s]\n"
          ]
        },
        {
          "name": "stdout",
          "output_type": "stream",
          "text": [
            "epoch: 46 training loss:  0.000 training accuracy:  100.0%  validation loss:  5.376 validation accuracy:  42.1%\n"
          ]
        },
        {
          "name": "stderr",
          "output_type": "stream",
          "text": [
            "100%|██████████| 169/169 [00:25<00:00,  6.51it/s]\n"
          ]
        },
        {
          "name": "stdout",
          "output_type": "stream",
          "text": [
            "epoch: 47 training loss:  0.000 training accuracy:  100.0%  validation loss:  5.363 validation accuracy:  42.0%\n"
          ]
        },
        {
          "name": "stderr",
          "output_type": "stream",
          "text": [
            "100%|██████████| 169/169 [00:22<00:00,  7.53it/s]\n"
          ]
        },
        {
          "name": "stdout",
          "output_type": "stream",
          "text": [
            "epoch: 48 training loss:  0.000 training accuracy:  100.0%  validation loss:  5.396 validation accuracy:  42.1%\n"
          ]
        },
        {
          "name": "stderr",
          "output_type": "stream",
          "text": [
            "100%|██████████| 169/169 [00:22<00:00,  7.65it/s]\n"
          ]
        },
        {
          "name": "stdout",
          "output_type": "stream",
          "text": [
            "epoch: 49 training loss:  0.000 training accuracy:  100.0%  validation loss:  5.342 validation accuracy:  42.1%\n"
          ]
        }
      ],
      "source": [
        "run_model(50, 'results/completedataset50epochsClass.pt', 0.01, train_loader, model112)"
      ]
    },
    {
      "cell_type": "code",
      "execution_count": null,
      "metadata": {
        "colab": {
          "base_uri": "https://localhost:8080/",
          "height": 295
        },
        "id": "_1n0hoLJ-yfK",
        "outputId": "60e9d422-ec37-40db-8bf0-d1a650d381f6"
      },
      "outputs": [
        {
          "data": {
            "image/png": "[encoded data removed]",
            "text/plain": [
              "<Figure size 432x288 with 2 Axes>"
            ]
          },
          "metadata": {},
          "output_type": "display_data"
        }
      ],
      "source": [
        "viz_model('results/completedataset50epochsClass.pt')"
      ]
    },
    {
      "cell_type": "markdown",
      "metadata": {
        "id": "sbmm72ok3UD0"
      },
      "source": [
        "\n",
        "### 1.2.2 Finetuning [6 marks]\n",
        "\n",
        "Now finetune your architecture by implementing at least 2 methods of reducing overfitting and increasing the model's ability to generalise. You are encouraged to further adjust the model after you have done the minimum requirement, to increase your model performance. Please do not use any pre-trained weights from a model trained on ImageNet.\n"
      ]
    },
    {
      "cell_type": "markdown",
      "metadata": {
        "id": "nGrGDjhh3UD1"
      },
      "source": [
        "**Method 1:** Data augmentation of your choice"
      ]
    },
    {
      "cell_type": "markdown",
      "metadata": {
        "id": "JsDYhhEH3UD1"
      },
      "source": [
        "**Method 2:** Adding dropout and/or batch normalisation to the model"
      ]
    },
    {
      "cell_type": "markdown",
      "metadata": {
        "id": "uc_y0jud3UD2"
      },
      "source": [
        "If you adjust the Model class, redefine it below and instantiate it as ```model_122a```, ```model_122b```, and so on.\n",
        "\n"
      ]
    },
    {
      "cell_type": "code",
      "execution_count": 9,
      "metadata": {
        "id": "o45dZgeh3UD3"
      },
      "outputs": [],
      "source": [
        "#method 1\n",
        "trnsfrm_augmentation = transforms.Compose([\n",
        "    transforms.ToTensor(),\n",
        "    transforms.ColorJitter(hue=0.2, saturation=0.2, brightness=0.2),\n",
        "    transforms.RandomAffine(degrees=10, translate=(0.1,0.1), scale=(0.9,1.1)),\n",
        "    transforms.RandomHorizontalFlip(p=0.5),\n",
        "    transforms.Normalize(mean, std)\n",
        "])\n",
        "\n",
        "trnsfrm = transforms.Compose([\n",
        "    transforms.ToTensor(),\n",
        "    transforms.Normalize(mean, std)\n",
        "])\n"
      ]
    },
    {
      "cell_type": "code",
      "execution_count": 10,
      "metadata": {
        "colab": {
          "base_uri": "https://localhost:8080/"
        },
        "id": "AJtsMg4o3UD4",
        "outputId": "31270455-a794-4219-eb11-efe20bcd0ce1"
      },
      "outputs": [
        {
          "output_type": "stream",
          "name": "stdout",
          "text": [
            "len(dataset_train) 10800\n",
            "len(dataset_valid) 2700\n",
            "len(train_loader) 169\n",
            "len(valid_loader) 22\n"
          ]
        },
        {
          "output_type": "stream",
          "name": "stderr",
          "text": [
            "/usr/local/lib/python3.7/dist-packages/torch/utils/data/dataloader.py:481: UserWarning: This DataLoader will create 6 worker processes in total. Our suggested max number of worker in current system is 2, which is smaller than what this DataLoader is going to create. Please be aware that excessive worker creation might get DataLoader running slow or even freeze, lower the worker number to avoid potential slowness/freeze if necessary.\n",
            "  cpuset_checked))\n"
          ]
        }
      ],
      "source": [
        "train_dataset_fine = TinyImageNet30(\n",
        "    df=data_df[:train_size],\n",
        "    transform=trnsfrm_augmentation,\n",
        ")\n",
        "\n",
        "valid_dataset = TinyImageNet30(\n",
        "    df=data_df[train_size:].reset_index(drop=True),\n",
        "    transform=trnsfrm,\n",
        ")\n",
        "\n",
        "train_loader = DataLoader(train_dataset_fine, batch_size=64,shuffle=True,num_workers=6)\n",
        "\n",
        "valid_loader = DataLoader(valid_dataset, batch_size=128,shuffle=True,num_workers=6)\n",
        "\n",
        "\n",
        "print(\"len(dataset_train)\", len(train_dataset))\n",
        "print(\"len(dataset_valid)\", len(valid_dataset))\n",
        "\n",
        "print(\"len(train_loader)\", len(train_loader))\n",
        "print(\"len(valid_loader)\", len(valid_loader))"
      ]
    },
    {
      "cell_type": "code",
      "execution_count": 16,
      "metadata": {
        "colab": {
          "base_uri": "https://localhost:8080/"
        },
        "id": "Y-JMe-8EBHfY",
        "outputId": "3c224d6b-843f-479c-b165-bd049d1d494d"
      },
      "outputs": [
        {
          "output_type": "stream",
          "name": "stdout",
          "text": [
            "----------------------------------------------------------------\n",
            "        Layer (type)               Output Shape         Param #\n",
            "================================================================\n",
            "            Conv2d-1          [-1, 128, 64, 64]           3,584\n",
            "       BatchNorm2d-2          [-1, 128, 64, 64]             256\n",
            "              ReLU-3          [-1, 128, 64, 64]               0\n",
            "         MaxPool2d-4          [-1, 128, 32, 32]               0\n",
            "            Conv2d-5          [-1, 260, 32, 32]         299,780\n",
            "       BatchNorm2d-6          [-1, 260, 32, 32]             520\n",
            "              ReLU-7          [-1, 260, 32, 32]               0\n",
            "         MaxPool2d-8          [-1, 260, 16, 16]               0\n",
            "            Conv2d-9          [-1, 320, 16, 16]         749,120\n",
            "      BatchNorm2d-10          [-1, 320, 16, 16]             640\n",
            "             ReLU-11          [-1, 320, 16, 16]               0\n",
            "        MaxPool2d-12            [-1, 320, 8, 8]               0\n",
            "          Flatten-13                [-1, 20480]               0\n",
            "           Linear-14                 [-1, 1500]      30,721,500\n",
            "          Dropout-15                 [-1, 1500]               0\n",
            "             ReLU-16                 [-1, 1500]               0\n",
            "           Linear-17                  [-1, 700]       1,050,700\n",
            "             ReLU-18                  [-1, 700]               0\n",
            "           Linear-19                   [-1, 30]          21,030\n",
            "================================================================\n",
            "Total params: 32,847,130\n",
            "Trainable params: 32,847,130\n",
            "Non-trainable params: 0\n",
            "----------------------------------------------------------------\n",
            "Input size (MB): 0.05\n",
            "Forward/backward pass size (MB): 21.83\n",
            "Params size (MB): 125.30\n",
            "Estimated Total Size (MB): 147.18\n",
            "----------------------------------------------------------------\n"
          ]
        }
      ],
      "source": [
        "#yes 53% test 51%\n",
        "model_122a = nn.Sequential(\n",
        "    nn.Conv2d(3, 128, kernel_size= 3, padding= 1),\n",
        "    nn.BatchNorm2d(128),\n",
        "    nn.ReLU(),\n",
        "    nn.MaxPool2d(kernel_size=2, stride=2),\n",
        "\n",
        "    nn.Conv2d(128, 260, kernel_size= 3, padding= 1),\n",
        "    nn.BatchNorm2d(260),\n",
        "    nn.ReLU(),\n",
        "    nn.MaxPool2d(kernel_size=2, stride=2),\n",
        "\n",
        "    nn.Conv2d(260, 320, kernel_size= 3, padding= 1),\n",
        "    nn.BatchNorm2d(320),\n",
        "    nn.ReLU(),\n",
        "    nn.MaxPool2d(kernel_size=2, stride=2),\n",
        "\n",
        "    nn.Flatten(),\n",
        "    nn.Linear(320*8*8, 1500),\n",
        "    nn.Dropout(0.5),\n",
        "    nn.ReLU(),\n",
        "\n",
        "    nn.Linear(1500, 700),\n",
        "    nn.ReLU(),\n",
        "\n",
        "    nn.Linear(700, 30)\n",
        ")\n",
        "\n",
        "summary(model_122a.to(device), input_size=(3, 64, 64))\n",
        "model_122a = model_122a.to(device)"
      ]
    },
    {
      "cell_type": "code",
      "execution_count": null,
      "metadata": {
        "colab": {
          "base_uri": "https://localhost:8080/"
        },
        "id": "_fkLtvFoAOcr",
        "outputId": "fd1d57b2-c867-4421-d2e9-458d3caa1a5a"
      },
      "outputs": [
        {
          "output_type": "stream",
          "name": "stdout",
          "text": [
            "----------------------------------------------------------------\n",
            "        Layer (type)               Output Shape         Param #\n",
            "================================================================\n",
            "            Conv2d-1          [-1, 128, 64, 64]           3,584\n",
            "       BatchNorm2d-2          [-1, 128, 64, 64]             256\n",
            "         MaxPool2d-3          [-1, 128, 32, 32]               0\n",
            "            Conv2d-4          [-1, 260, 32, 32]         299,780\n",
            "       BatchNorm2d-5          [-1, 260, 32, 32]             520\n",
            "         MaxPool2d-6          [-1, 260, 16, 16]               0\n",
            "            Conv2d-7          [-1, 320, 16, 16]         749,120\n",
            "       BatchNorm2d-8          [-1, 320, 16, 16]             640\n",
            "         MaxPool2d-9            [-1, 320, 8, 8]               0\n",
            "           Linear-10                 [-1, 1500]      30,721,500\n",
            "          Dropout-11                 [-1, 1500]               0\n",
            "           Linear-12                  [-1, 700]       1,050,700\n",
            "          Dropout-13                  [-1, 700]               0\n",
            "           Linear-14                   [-1, 30]          21,030\n",
            "       model_122b-15                   [-1, 30]               0\n",
            "================================================================\n",
            "Total params: 32,847,130\n",
            "Trainable params: 32,847,130\n",
            "Non-trainable params: 0\n",
            "----------------------------------------------------------------\n",
            "Input size (MB): 0.05\n",
            "Forward/backward pass size (MB): 15.01\n",
            "Params size (MB): 125.30\n",
            "Estimated Total Size (MB): 140.36\n",
            "----------------------------------------------------------------\n"
          ]
        }
      ],
      "source": [
        "#the best  ? gave test 54%\n",
        "class model_122b(nn.Module):\n",
        "  def __init__(self):\n",
        "    super(model_122b, self).__init__()\n",
        "\n",
        "    self.conv1 = nn.Conv2d(3, 128, kernel_size= 3, padding= 1)\n",
        "    self.bn1 = nn.BatchNorm2d(128)\n",
        "    self.mp1 = nn.MaxPool2d(kernel_size=2, stride=2)\n",
        "\n",
        "    self.conv2 = nn.Conv2d(128, 260, kernel_size= 3, padding= 1)\n",
        "    self.bn2 = nn.BatchNorm2d(260)\n",
        "    self.mp2 = nn.MaxPool2d(kernel_size=2, stride=2)\n",
        "\n",
        "    self.conv3 = nn.Conv2d(260, 320, kernel_size= 3, padding= 1)\n",
        "    self.bn3 = nn.BatchNorm2d(320)\n",
        "    self.mp3 = nn.MaxPool2d(kernel_size=2, stride=2)\n",
        "        \n",
        "    self.fcl1 = nn.Linear(320*8*8, 1500)\n",
        "    self.dpo1 = nn.Dropout(0.5)\n",
        "\n",
        "    self.fcl2 = nn.Linear(1500, 700)\n",
        "    self.dpo2 = nn.Dropout(0.2)\n",
        "\n",
        "    self.fcl3 = nn.Linear(700, 30)\n",
        "        \n",
        "  def forward(self, x):\n",
        "    x = F.relu(self.conv1(x))\n",
        "    x = self.bn1(x)\n",
        "    x = self.mp1(x)\n",
        "\n",
        "    x = F.relu(self.conv2(x))\n",
        "    x = self.bn2(x)\n",
        "    x = self.mp2(x)\n",
        "\n",
        "    x = F.relu(self.conv3(x))\n",
        "    x = self.bn3(x)\n",
        "    x = self.mp3(x)\n",
        "\n",
        "    x = x.reshape(-1, 320*8*8)\n",
        "\n",
        "    x = self.fcl1(x)\n",
        "    x = self.dpo1(x)\n",
        "    x = F.relu(x)\n",
        "\n",
        "    x = self.fcl2(x)\n",
        "    x = self.dpo2(x)\n",
        "    x = F.relu(x)\n",
        "\n",
        "    x = self.fcl3(x)\n",
        "    return x\n",
        "model_122b = model_122b()\n",
        "model_122b = nn.DataParallel(model_122b)\n",
        "model_122b = model_122b.to(device) \n",
        "summary(model_122b.to(device), input_size=(3, 64, 64))  "
      ]
    },
    {
      "cell_type": "code",
      "execution_count": 54,
      "metadata": {
        "colab": {
          "base_uri": "https://localhost:8080/"
        },
        "id": "bhXm_qOyZXlg",
        "outputId": "0934e5bf-024b-49ee-8536-7cfae5cb4112"
      },
      "outputs": [
        {
          "output_type": "stream",
          "name": "stdout",
          "text": [
            "----------------------------------------------------------------\n",
            "        Layer (type)               Output Shape         Param #\n",
            "================================================================\n",
            "            Conv2d-1          [-1, 128, 64, 64]           3,584\n",
            "       BatchNorm2d-2          [-1, 128, 64, 64]             256\n",
            "         MaxPool2d-3          [-1, 128, 32, 32]               0\n",
            "            Conv2d-4          [-1, 260, 32, 32]         299,780\n",
            "       BatchNorm2d-5          [-1, 260, 32, 32]             520\n",
            "         MaxPool2d-6          [-1, 260, 16, 16]               0\n",
            "            Conv2d-7          [-1, 320, 16, 16]         749,120\n",
            "       BatchNorm2d-8          [-1, 320, 16, 16]             640\n",
            "         MaxPool2d-9            [-1, 320, 8, 8]               0\n",
            "           Conv2d-10            [-1, 460, 8, 8]       1,325,260\n",
            "      BatchNorm2d-11            [-1, 460, 8, 8]             920\n",
            "        MaxPool2d-12            [-1, 460, 4, 4]               0\n",
            "           Linear-13                 [-1, 1500]      11,041,500\n",
            "          Dropout-14                 [-1, 1500]               0\n",
            "           Linear-15                  [-1, 700]       1,050,700\n",
            "          Dropout-16                  [-1, 700]               0\n",
            "           Linear-17                   [-1, 30]          21,030\n",
            "       model_122c-18                   [-1, 30]               0\n",
            "================================================================\n",
            "Total params: 14,493,310\n",
            "Trainable params: 14,493,310\n",
            "Non-trainable params: 0\n",
            "----------------------------------------------------------------\n",
            "Input size (MB): 0.05\n",
            "Forward/backward pass size (MB): 15.52\n",
            "Params size (MB): 55.29\n",
            "Estimated Total Size (MB): 70.85\n",
            "----------------------------------------------------------------\n"
          ]
        }
      ],
      "source": [
        "# 59% validation but overfiting\n",
        "class model_122c(nn.Module):\n",
        "  def __init__(self):\n",
        "    super(model_122c, self).__init__()\n",
        "\n",
        "    self.conv1 = nn.Conv2d(3, 128, kernel_size= 3, padding= 1)\n",
        "    self.bn1 = nn.BatchNorm2d(128)\n",
        "    self.mp1 = nn.MaxPool2d(kernel_size=2, stride=2)\n",
        "\n",
        "    self.conv2 = nn.Conv2d(128, 260, kernel_size= 3, padding= 1)\n",
        "    self.bn2 = nn.BatchNorm2d(260)\n",
        "    self.mp2 = nn.MaxPool2d(kernel_size=2, stride=2)\n",
        "\n",
        "    self.conv3 = nn.Conv2d(260, 320, kernel_size= 3, padding= 1)\n",
        "    self.bn3 = nn.BatchNorm2d(320)\n",
        "    self.mp3 = nn.MaxPool2d(kernel_size=2, stride=2)\n",
        "\n",
        "    self.conv4 = nn.Conv2d(320, 460, kernel_size= 3, padding= 1)\n",
        "    self.bn4 = nn.BatchNorm2d(460)\n",
        "    self.mp4 = nn.MaxPool2d(kernel_size=2, stride=2)\n",
        "\n",
        "        \n",
        "    self.fcl1 = nn.Linear(460*4*4, 1500)\n",
        "    self.dpo1 = nn.Dropout(0.5)\n",
        "\n",
        "    self.fcl2 = nn.Linear(1500, 700)\n",
        "    self.dpo2 = nn.Dropout(0.2)\n",
        "\n",
        "    self.fcl3 = nn.Linear(700, 30)\n",
        "        \n",
        "  def forward(self, x):\n",
        "    x = F.relu(self.conv1(x))\n",
        "    x = self.bn1(x)\n",
        "    x = self.mp1(x)\n",
        "\n",
        "    x = F.relu(self.conv2(x))\n",
        "    x = self.bn2(x)\n",
        "    x = self.mp2(x)\n",
        "\n",
        "    x = F.relu(self.conv3(x))\n",
        "    x = self.bn3(x)\n",
        "    x = self.mp3(x)\n",
        "\n",
        "    x = F.relu(self.conv4(x))\n",
        "    x = self.bn4(x)\n",
        "    x = self.mp4(x)\n",
        "\n",
        "    x = x.reshape(-1, 460*4*4)\n",
        "\n",
        "    x = self.fcl1(x)\n",
        "    x = self.dpo1(x)\n",
        "    x = F.relu(x)\n",
        "\n",
        "    x = self.fcl2(x)\n",
        "    x = self.dpo2(x)\n",
        "    x = F.relu(x)\n",
        "\n",
        "    x = self.fcl3(x)\n",
        "    return x\n",
        "model_122c = model_122c()\n",
        "model_122c = nn.DataParallel(model_122c)\n",
        "model_122c = model_122c.to(device) \n",
        "summary(model_122c.to(device), input_size=(3, 64, 64))  "
      ]
    },
    {
      "cell_type": "code",
      "execution_count": 11,
      "metadata": {
        "colab": {
          "base_uri": "https://localhost:8080/"
        },
        "id": "uO-9kyqRvXPa",
        "outputId": "02973a8c-3340-4b95-d69f-9c0486ef1904"
      },
      "outputs": [
        {
          "output_type": "stream",
          "name": "stdout",
          "text": [
            "----------------------------------------------------------------\n",
            "        Layer (type)               Output Shape         Param #\n",
            "================================================================\n",
            "            Conv2d-1          [-1, 128, 64, 64]           3,584\n",
            "       BatchNorm2d-2          [-1, 128, 64, 64]             256\n",
            "              ReLU-3          [-1, 128, 64, 64]               0\n",
            "         MaxPool2d-4          [-1, 128, 32, 32]               0\n",
            "            Conv2d-5          [-1, 260, 32, 32]         299,780\n",
            "       BatchNorm2d-6          [-1, 260, 32, 32]             520\n",
            "              ReLU-7          [-1, 260, 32, 32]               0\n",
            "         MaxPool2d-8          [-1, 260, 16, 16]               0\n",
            "            Conv2d-9          [-1, 320, 16, 16]         749,120\n",
            "      BatchNorm2d-10          [-1, 320, 16, 16]             640\n",
            "             ReLU-11          [-1, 320, 16, 16]               0\n",
            "        MaxPool2d-12            [-1, 320, 8, 8]               0\n",
            "          Flatten-13                [-1, 20480]               0\n",
            "           Linear-14                 [-1, 1500]      30,721,500\n",
            "          Dropout-15                 [-1, 1500]               0\n",
            "             ReLU-16                 [-1, 1500]               0\n",
            "           Linear-17                  [-1, 700]       1,050,700\n",
            "          Dropout-18                  [-1, 700]               0\n",
            "             ReLU-19                  [-1, 700]               0\n",
            "           Linear-20                   [-1, 30]          21,030\n",
            "================================================================\n",
            "Total params: 32,847,130\n",
            "Trainable params: 32,847,130\n",
            "Non-trainable params: 0\n",
            "----------------------------------------------------------------\n",
            "Input size (MB): 0.05\n",
            "Forward/backward pass size (MB): 21.84\n",
            "Params size (MB): 125.30\n",
            "Estimated Total Size (MB): 147.19\n",
            "----------------------------------------------------------------\n"
          ]
        }
      ],
      "source": [
        "# 53% with test 50%\n",
        "\n",
        "#callbacks = [EarlyStopping(monitor='val_loss', patience=5)]\n",
        "#model.set_callbacks(callbacks)\n",
        "\n",
        "model_122d = nn.Sequential(\n",
        "    nn.Conv2d(3, 128, kernel_size= 3, padding= 1),\n",
        "    nn.BatchNorm2d(128),\n",
        "    nn.ReLU(),\n",
        "    nn.MaxPool2d(kernel_size=2, stride=2),\n",
        "\n",
        "    nn.Conv2d(128, 260, kernel_size= 3, padding= 1),\n",
        "    nn.BatchNorm2d(260),\n",
        "    nn.ReLU(),\n",
        "    nn.MaxPool2d(kernel_size=2, stride=2),\n",
        "\n",
        "    nn.Conv2d(260, 320, kernel_size= 3, padding= 1),\n",
        "    nn.BatchNorm2d(320),\n",
        "    nn.ReLU(),\n",
        "    nn.MaxPool2d(kernel_size=2, stride=2),\n",
        "\n",
        "    nn.Flatten(),\n",
        "    nn.Linear(320*8*8, 1500),\n",
        "    nn.Dropout(0.5),\n",
        "    nn.ReLU(),\n",
        "\n",
        "    nn.Linear(1500, 700),\n",
        "    nn.Dropout(0.2),\n",
        "    nn.ReLU(),\n",
        "\n",
        "    nn.Linear(700, 30)\n",
        ")\n",
        "\n",
        "summary(model_122d.to(device), input_size=(3, 64, 64))\n",
        "model_122d = model_122d.to(device)"
      ]
    },
    {
      "cell_type": "code",
      "execution_count": 30,
      "metadata": {
        "colab": {
          "base_uri": "https://localhost:8080/"
        },
        "id": "rurblCsOUEj4",
        "outputId": "e277ec76-2d79-47c6-890b-9fb6791e3855"
      },
      "outputs": [
        {
          "output_type": "stream",
          "name": "stdout",
          "text": [
            "----------------------------------------------------------------\n",
            "        Layer (type)               Output Shape         Param #\n",
            "================================================================\n",
            "            Conv2d-1          [-1, 128, 64, 64]           3,584\n",
            "       BatchNorm2d-2          [-1, 128, 64, 64]             256\n",
            "              ReLU-3          [-1, 128, 64, 64]               0\n",
            "         MaxPool2d-4          [-1, 128, 32, 32]               0\n",
            "            Conv2d-5          [-1, 260, 32, 32]         299,780\n",
            "       BatchNorm2d-6          [-1, 260, 32, 32]             520\n",
            "              ReLU-7          [-1, 260, 32, 32]               0\n",
            "         MaxPool2d-8          [-1, 260, 16, 16]               0\n",
            "            Conv2d-9          [-1, 320, 16, 16]         749,120\n",
            "      BatchNorm2d-10          [-1, 320, 16, 16]             640\n",
            "             ReLU-11          [-1, 320, 16, 16]               0\n",
            "        MaxPool2d-12            [-1, 320, 8, 8]               0\n",
            "           Conv2d-13            [-1, 450, 8, 8]       1,296,450\n",
            "      BatchNorm2d-14            [-1, 450, 8, 8]             900\n",
            "             ReLU-15            [-1, 450, 8, 8]               0\n",
            "        MaxPool2d-16            [-1, 450, 4, 4]               0\n",
            "          Flatten-17                 [-1, 7200]               0\n",
            "           Linear-18                 [-1, 1500]      10,801,500\n",
            "          Dropout-19                 [-1, 1500]               0\n",
            "             ReLU-20                 [-1, 1500]               0\n",
            "           Linear-21                  [-1, 700]       1,050,700\n",
            "          Dropout-22                  [-1, 700]               0\n",
            "             ReLU-23                  [-1, 700]               0\n",
            "           Linear-24                   [-1, 30]          21,030\n",
            "================================================================\n",
            "Total params: 14,224,480\n",
            "Trainable params: 14,224,480\n",
            "Non-trainable params: 0\n",
            "----------------------------------------------------------------\n",
            "Input size (MB): 0.05\n",
            "Forward/backward pass size (MB): 22.45\n",
            "Params size (MB): 54.26\n",
            "Estimated Total Size (MB): 76.76\n",
            "----------------------------------------------------------------\n"
          ]
        }
      ],
      "source": [
        "#validation 58% but test 0.56399 (the best)\n",
        "\n",
        "#callbacks = [EarlyStopping(monitor='val_loss', patience=5)]\n",
        "#model.set_callbacks(callbacks)\n",
        "\n",
        "model_122e = nn.Sequential(\n",
        "    nn.Conv2d(3, 128, kernel_size= 3, padding= 1),\n",
        "    nn.BatchNorm2d(128),\n",
        "    nn.ReLU(),\n",
        "    nn.MaxPool2d(kernel_size=2, stride=2),\n",
        "\n",
        "    nn.Conv2d(128, 260, kernel_size= 3, padding= 1),\n",
        "    nn.BatchNorm2d(260),\n",
        "    nn.ReLU(),\n",
        "    nn.MaxPool2d(kernel_size=2, stride=2),\n",
        "\n",
        "    nn.Conv2d(260, 320, kernel_size= 3, padding= 1),\n",
        "    nn.BatchNorm2d(320),\n",
        "    nn.ReLU(),\n",
        "    nn.MaxPool2d(kernel_size=2, stride=2),\n",
        "\n",
        "    nn.Conv2d(320, 450, kernel_size= 3, padding= 1),\n",
        "    nn.BatchNorm2d(450),\n",
        "    nn.ReLU(),\n",
        "    nn.MaxPool2d(kernel_size=2, stride=2),\n",
        "\n",
        "    nn.Flatten(),\n",
        "    nn.Linear(450*4*4, 1500),\n",
        "    nn.Dropout(0.5),\n",
        "    nn.ReLU(),\n",
        "\n",
        "    nn.Linear(1500, 700),\n",
        "    nn.Dropout(0.2),\n",
        "    nn.ReLU(),\n",
        "\n",
        "    nn.Linear(700, 30)\n",
        ")\n",
        "\n",
        "summary(model_122e.to(device), input_size=(3, 64, 64))\n",
        "model_122e = model_122e.to(device)"
      ]
    },
    {
      "cell_type": "code",
      "source": [
        "# validation 57% test 0.55933\n",
        "\n",
        "#callbacks = [EarlyStopping(monitor='val_loss', patience=5)]\n",
        "#model.set_callbacks(callbacks)\n",
        "\n",
        "model_122f = nn.Sequential(\n",
        "    nn.Conv2d(3, 128, kernel_size= 3, padding= 1),\n",
        "    nn.BatchNorm2d(128),\n",
        "    nn.ReLU(),\n",
        "    nn.MaxPool2d(kernel_size=2, stride=2),\n",
        "\n",
        "    nn.Conv2d(128, 260, kernel_size= 3, padding= 1),\n",
        "    nn.BatchNorm2d(260),\n",
        "    nn.ReLU(),\n",
        "    nn.MaxPool2d(kernel_size=2, stride=2),\n",
        "\n",
        "    nn.Conv2d(260, 320, kernel_size= 3, padding= 1),\n",
        "    nn.BatchNorm2d(320),\n",
        "    nn.ReLU(),\n",
        "    nn.MaxPool2d(kernel_size=2, stride=2),\n",
        "\n",
        "    nn.Conv2d(320, 450, kernel_size= 3, padding= 1),\n",
        "    nn.BatchNorm2d(450),\n",
        "    nn.ReLU(),\n",
        "    nn.MaxPool2d(kernel_size=2, stride=2),\n",
        "\n",
        "    nn.Flatten(),\n",
        "    nn.Linear(450*4*4, 1500),\n",
        "    nn.Dropout(0.5),\n",
        "    nn.ReLU(),\n",
        "\n",
        "    nn.Linear(1500, 700),\n",
        "    nn.Dropout(0.5),\n",
        "    nn.ReLU(),\n",
        "\n",
        "    nn.Linear(700, 30)\n",
        ")\n",
        "\n",
        "summary(model_122f.to(device), input_size=(3, 64, 64))\n",
        "model_122f = model_122f.to(device)"
      ],
      "metadata": {
        "colab": {
          "base_uri": "https://localhost:8080/"
        },
        "id": "3yyCuWOHPUXr",
        "outputId": "2779a124-1766-42f7-e2b1-b61650c552ae"
      },
      "execution_count": 40,
      "outputs": [
        {
          "output_type": "stream",
          "name": "stdout",
          "text": [
            "----------------------------------------------------------------\n",
            "        Layer (type)               Output Shape         Param #\n",
            "================================================================\n",
            "            Conv2d-1          [-1, 128, 64, 64]           3,584\n",
            "       BatchNorm2d-2          [-1, 128, 64, 64]             256\n",
            "              ReLU-3          [-1, 128, 64, 64]               0\n",
            "         MaxPool2d-4          [-1, 128, 32, 32]               0\n",
            "            Conv2d-5          [-1, 260, 32, 32]         299,780\n",
            "       BatchNorm2d-6          [-1, 260, 32, 32]             520\n",
            "              ReLU-7          [-1, 260, 32, 32]               0\n",
            "         MaxPool2d-8          [-1, 260, 16, 16]               0\n",
            "            Conv2d-9          [-1, 320, 16, 16]         749,120\n",
            "      BatchNorm2d-10          [-1, 320, 16, 16]             640\n",
            "             ReLU-11          [-1, 320, 16, 16]               0\n",
            "        MaxPool2d-12            [-1, 320, 8, 8]               0\n",
            "           Conv2d-13            [-1, 450, 8, 8]       1,296,450\n",
            "      BatchNorm2d-14            [-1, 450, 8, 8]             900\n",
            "             ReLU-15            [-1, 450, 8, 8]               0\n",
            "        MaxPool2d-16            [-1, 450, 4, 4]               0\n",
            "          Flatten-17                 [-1, 7200]               0\n",
            "           Linear-18                 [-1, 1500]      10,801,500\n",
            "          Dropout-19                 [-1, 1500]               0\n",
            "             ReLU-20                 [-1, 1500]               0\n",
            "           Linear-21                  [-1, 700]       1,050,700\n",
            "          Dropout-22                  [-1, 700]               0\n",
            "             ReLU-23                  [-1, 700]               0\n",
            "           Linear-24                   [-1, 30]          21,030\n",
            "================================================================\n",
            "Total params: 14,224,480\n",
            "Trainable params: 14,224,480\n",
            "Non-trainable params: 0\n",
            "----------------------------------------------------------------\n",
            "Input size (MB): 0.05\n",
            "Forward/backward pass size (MB): 22.45\n",
            "Params size (MB): 54.26\n",
            "Estimated Total Size (MB): 76.76\n",
            "----------------------------------------------------------------\n"
          ]
        }
      ]
    },
    {
      "cell_type": "code",
      "source": [
        "# \n",
        "\n",
        "#callbacks = [EarlyStopping(monitor='val_loss', patience=5)]\n",
        "#model.set_callbacks(callbacks)\n",
        "\n",
        "model_122g = nn.Sequential(\n",
        "    nn.Conv2d(3, 128, kernel_size= 3, padding= 1),\n",
        "    nn.BatchNorm2d(128),\n",
        "    nn.ReLU(),\n",
        "    nn.MaxPool2d(kernel_size=2, stride=2),\n",
        "\n",
        "    nn.Conv2d(128, 260, kernel_size= 3, padding= 1),\n",
        "    nn.BatchNorm2d(260),\n",
        "    nn.ReLU(),\n",
        "    nn.MaxPool2d(kernel_size=2, stride=2),\n",
        "\n",
        "    nn.Conv2d(260, 320, kernel_size= 3, padding= 1),\n",
        "    nn.BatchNorm2d(320),\n",
        "    nn.ReLU(),\n",
        "    nn.MaxPool2d(kernel_size=2, stride=2),\n",
        "\n",
        "    nn.Conv2d(320, 450, kernel_size= 3, padding= 1),\n",
        "    nn.BatchNorm2d(450),\n",
        "    nn.ReLU(),\n",
        "    nn.MaxPool2d(kernel_size=2, stride=2),\n",
        "\n",
        "    nn.Flatten(),\n",
        "    nn.Linear(450*4*4, 1500),\n",
        "    nn.Dropout(0.2),\n",
        "    nn.ReLU(),\n",
        "\n",
        "    nn.Linear(1500, 700),\n",
        "    nn.Dropout(0.2),\n",
        "    nn.ReLU(),\n",
        "\n",
        "    nn.Linear(700, 30)\n",
        ")\n",
        "\n",
        "summary(model_122g.to(device), input_size=(3, 64, 64))\n",
        "model_122g = model_122g.to(device)"
      ],
      "metadata": {
        "colab": {
          "base_uri": "https://localhost:8080/"
        },
        "id": "v-iRcG_WXtMP",
        "outputId": "530476f8-339c-4434-fe7f-64c2f503c761"
      },
      "execution_count": 49,
      "outputs": [
        {
          "output_type": "stream",
          "name": "stdout",
          "text": [
            "----------------------------------------------------------------\n",
            "        Layer (type)               Output Shape         Param #\n",
            "================================================================\n",
            "            Conv2d-1          [-1, 128, 64, 64]           3,584\n",
            "       BatchNorm2d-2          [-1, 128, 64, 64]             256\n",
            "              ReLU-3          [-1, 128, 64, 64]               0\n",
            "         MaxPool2d-4          [-1, 128, 32, 32]               0\n",
            "            Conv2d-5          [-1, 260, 32, 32]         299,780\n",
            "       BatchNorm2d-6          [-1, 260, 32, 32]             520\n",
            "              ReLU-7          [-1, 260, 32, 32]               0\n",
            "         MaxPool2d-8          [-1, 260, 16, 16]               0\n",
            "            Conv2d-9          [-1, 320, 16, 16]         749,120\n",
            "      BatchNorm2d-10          [-1, 320, 16, 16]             640\n",
            "             ReLU-11          [-1, 320, 16, 16]               0\n",
            "        MaxPool2d-12            [-1, 320, 8, 8]               0\n",
            "           Conv2d-13            [-1, 450, 8, 8]       1,296,450\n",
            "      BatchNorm2d-14            [-1, 450, 8, 8]             900\n",
            "             ReLU-15            [-1, 450, 8, 8]               0\n",
            "        MaxPool2d-16            [-1, 450, 4, 4]               0\n",
            "          Flatten-17                 [-1, 7200]               0\n",
            "           Linear-18                 [-1, 1500]      10,801,500\n",
            "          Dropout-19                 [-1, 1500]               0\n",
            "             ReLU-20                 [-1, 1500]               0\n",
            "           Linear-21                  [-1, 700]       1,050,700\n",
            "          Dropout-22                  [-1, 700]               0\n",
            "             ReLU-23                  [-1, 700]               0\n",
            "           Linear-24                   [-1, 30]          21,030\n",
            "================================================================\n",
            "Total params: 14,224,480\n",
            "Trainable params: 14,224,480\n",
            "Non-trainable params: 0\n",
            "----------------------------------------------------------------\n",
            "Input size (MB): 0.05\n",
            "Forward/backward pass size (MB): 22.45\n",
            "Params size (MB): 54.26\n",
            "Estimated Total Size (MB): 76.76\n",
            "----------------------------------------------------------------\n"
          ]
        }
      ]
    },
    {
      "cell_type": "code",
      "source": [
        "#validation 58% but test 0.56399 (the best) tryi it with 100 now\n",
        "\n",
        "#callbacks = [EarlyStopping(monitor='val_loss', patience=5)]\n",
        "#model.set_callbacks(callbacks)\n",
        "\n",
        "model_122h = nn.Sequential(\n",
        "    nn.Conv2d(3, 128, kernel_size= 3, padding= 1),\n",
        "    nn.BatchNorm2d(128),\n",
        "    nn.ReLU(),\n",
        "    nn.MaxPool2d(kernel_size=2, stride=2),\n",
        "\n",
        "    nn.Conv2d(128, 260, kernel_size= 3, padding= 1),\n",
        "    nn.BatchNorm2d(260),\n",
        "    nn.ReLU(),\n",
        "    nn.MaxPool2d(kernel_size=2, stride=2),\n",
        "\n",
        "    nn.Conv2d(260, 320, kernel_size= 3, padding= 1),\n",
        "    nn.BatchNorm2d(320),\n",
        "    nn.ReLU(),\n",
        "    nn.MaxPool2d(kernel_size=2, stride=2),\n",
        "\n",
        "    nn.Conv2d(320, 450, kernel_size= 3, padding= 1),\n",
        "    nn.BatchNorm2d(450),\n",
        "    nn.ReLU(),\n",
        "    nn.MaxPool2d(kernel_size=2, stride=2),\n",
        "\n",
        "    nn.Flatten(),\n",
        "    nn.Linear(450*4*4, 1500),\n",
        "    nn.Dropout(0.5),\n",
        "    nn.ReLU(),\n",
        "\n",
        "    nn.Linear(1500, 700),\n",
        "    nn.Dropout(0.2),\n",
        "    nn.ReLU(),\n",
        "\n",
        "    nn.Linear(700, 30)\n",
        ")\n",
        "\n",
        "summary(model_122h.to(device), input_size=(3, 64, 64))\n",
        "model_122h = model_122h.to(device)"
      ],
      "metadata": {
        "colab": {
          "base_uri": "https://localhost:8080/"
        },
        "id": "UjtklzE3-ZSn",
        "outputId": "7d1b1efa-0a1a-4a7b-cd57-4cdd6ac52a8b"
      },
      "execution_count": 98,
      "outputs": [
        {
          "output_type": "stream",
          "name": "stdout",
          "text": [
            "----------------------------------------------------------------\n",
            "        Layer (type)               Output Shape         Param #\n",
            "================================================================\n",
            "            Conv2d-1          [-1, 128, 64, 64]           3,584\n",
            "       BatchNorm2d-2          [-1, 128, 64, 64]             256\n",
            "              ReLU-3          [-1, 128, 64, 64]               0\n",
            "         MaxPool2d-4          [-1, 128, 32, 32]               0\n",
            "            Conv2d-5          [-1, 260, 32, 32]         299,780\n",
            "       BatchNorm2d-6          [-1, 260, 32, 32]             520\n",
            "              ReLU-7          [-1, 260, 32, 32]               0\n",
            "         MaxPool2d-8          [-1, 260, 16, 16]               0\n",
            "            Conv2d-9          [-1, 320, 16, 16]         749,120\n",
            "      BatchNorm2d-10          [-1, 320, 16, 16]             640\n",
            "             ReLU-11          [-1, 320, 16, 16]               0\n",
            "        MaxPool2d-12            [-1, 320, 8, 8]               0\n",
            "           Conv2d-13            [-1, 450, 8, 8]       1,296,450\n",
            "      BatchNorm2d-14            [-1, 450, 8, 8]             900\n",
            "             ReLU-15            [-1, 450, 8, 8]               0\n",
            "        MaxPool2d-16            [-1, 450, 4, 4]               0\n",
            "          Flatten-17                 [-1, 7200]               0\n",
            "           Linear-18                 [-1, 1500]      10,801,500\n",
            "          Dropout-19                 [-1, 1500]               0\n",
            "             ReLU-20                 [-1, 1500]               0\n",
            "           Linear-21                  [-1, 700]       1,050,700\n",
            "          Dropout-22                  [-1, 700]               0\n",
            "             ReLU-23                  [-1, 700]               0\n",
            "           Linear-24                   [-1, 30]          21,030\n",
            "================================================================\n",
            "Total params: 14,224,480\n",
            "Trainable params: 14,224,480\n",
            "Non-trainable params: 0\n",
            "----------------------------------------------------------------\n",
            "Input size (MB): 0.05\n",
            "Forward/backward pass size (MB): 22.45\n",
            "Params size (MB): 54.26\n",
            "Estimated Total Size (MB): 76.76\n",
            "----------------------------------------------------------------\n"
          ]
        }
      ]
    },
    {
      "cell_type": "code",
      "source": [
        "def run_model(epoch, resultPath, learningRate, train_loader, model):\n",
        "\n",
        "  nepochs = epoch\n",
        "  #results_path = ROOT\n",
        "  results_path = ROOT+ resultPath\n",
        "  statsrec = np.zeros((4,nepochs))\n",
        "\n",
        "  #loss_fn = nn.CrossEntropyLoss()\n",
        "  optimizer = optim.SGD(model.parameters(), lr=learningRate, momentum=0.9)\n",
        "\n",
        "  for epoch in range(nepochs):  # loop over the dataset multiple times\n",
        "      correct = 0          # number of examples predicted correctly (for accuracy)\n",
        "      total = 0            # number of examples\n",
        "      running_loss = 0.0   # accumulated loss (for mean loss)\n",
        "      n = 0                # number of minibatches\n",
        "      for data in tqdm(train_loader):\n",
        "          inputs, labels = data\n",
        "          inputs = inputs.to(device)\n",
        "          labels = labels.to(device)\n",
        "          # Zero the parameter gradients\n",
        "          optimizer.zero_grad()\n",
        "\n",
        "          # Forward, backward, and update parameters\n",
        "          outputs = model(inputs)\n",
        "          loss = loss_fn(outputs, labels)\n",
        "          loss.backward()\n",
        "          optimizer.step()\n",
        "      \n",
        "          # accumulate loss\n",
        "          running_loss += loss.item()\n",
        "          n += 1\n",
        "          \n",
        "          # accumulate data for accuracy\n",
        "          _, predicted = torch.max(outputs.data, 1)\n",
        "          total += labels.size(0)    # add in the number of labels in this minibatch\n",
        "          correct += (predicted == labels).sum().item()  # add in the number of correct labels\n",
        "      \n",
        "      # collect together statistics for this epoch\n",
        "      ltrn = running_loss/n\n",
        "      atrn = correct/total \n",
        "      ltst, atst = stats(valid_loader, model)\n",
        "      statsrec[:,epoch] = (ltrn, atrn, ltst.cpu(), atst)\n",
        "      print(f\"epoch: {epoch} training loss: {ltrn: .3f} training accuracy: {atrn: .1%}  validation loss: {ltst.cpu(): .3f} validation accuracy: {atst: .1%}\")\n",
        "\n",
        "      # save network parameters, losses and accuracy\n",
        "  torch.save({\"state_dict\": model.state_dict(), \"stats\": statsrec}, results_path)\n"
      ],
      "metadata": {
        "id": "V2NB3WxiUvH0"
      },
      "execution_count": 12,
      "outputs": []
    },
    {
      "cell_type": "code",
      "source": [
        "loss_fn = nn.CrossEntropyLoss()"
      ],
      "metadata": {
        "id": "wAxMt8LnFLG4"
      },
      "execution_count": 55,
      "outputs": []
    },
    {
      "cell_type": "code",
      "execution_count": null,
      "metadata": {
        "id": "c0T6d2vNOOJE"
      },
      "outputs": [],
      "source": [
        "run_model(50,'results/FinecompletedatasetmodelA.pt',0.009, train_loader, model_122a)"
      ]
    },
    {
      "cell_type": "code",
      "source": [
        "run_model(50,'results/FinecompletedatasetmodelB.pt',0.009, train_loader, model_122b)"
      ],
      "metadata": {
        "id": "BEc1MSG8BLco"
      },
      "execution_count": null,
      "outputs": []
    },
    {
      "cell_type": "code",
      "source": [
        "run_model(50,'results/FinecompletedatasetmodelC.pt',0.009, train_loader, model_122c)"
      ],
      "metadata": {
        "id": "kjxiXjQVBPuH",
        "colab": {
          "base_uri": "https://localhost:8080/"
        },
        "outputId": "2bc1d98f-a8c3-46cc-a638-bb2f7713228e"
      },
      "execution_count": 56,
      "outputs": [
        {
          "output_type": "stream",
          "name": "stderr",
          "text": [
            "\r  0%|          | 0/169 [00:00<?, ?it/s]/usr/local/lib/python3.7/dist-packages/torch/utils/data/dataloader.py:481: UserWarning: This DataLoader will create 6 worker processes in total. Our suggested max number of worker in current system is 2, which is smaller than what this DataLoader is going to create. Please be aware that excessive worker creation might get DataLoader running slow or even freeze, lower the worker number to avoid potential slowness/freeze if necessary.\n",
            "  cpuset_checked))\n",
            "100%|██████████| 169/169 [00:30<00:00,  5.53it/s]\n"
          ]
        },
        {
          "output_type": "stream",
          "name": "stdout",
          "text": [
            "epoch: 0 training loss:  2.983 training accuracy:  15.3%  validation loss:  2.627 validation accuracy:  24.8%\n"
          ]
        },
        {
          "output_type": "stream",
          "name": "stderr",
          "text": [
            "100%|██████████| 169/169 [00:30<00:00,  5.52it/s]\n"
          ]
        },
        {
          "output_type": "stream",
          "name": "stdout",
          "text": [
            "epoch: 1 training loss:  2.608 training accuracy:  24.7%  validation loss:  2.350 validation accuracy:  31.8%\n"
          ]
        },
        {
          "output_type": "stream",
          "name": "stderr",
          "text": [
            "100%|██████████| 169/169 [00:30<00:00,  5.55it/s]\n"
          ]
        },
        {
          "output_type": "stream",
          "name": "stdout",
          "text": [
            "epoch: 2 training loss:  2.441 training accuracy:  29.6%  validation loss:  2.246 validation accuracy:  35.6%\n"
          ]
        },
        {
          "output_type": "stream",
          "name": "stderr",
          "text": [
            "100%|██████████| 169/169 [00:30<00:00,  5.50it/s]\n"
          ]
        },
        {
          "output_type": "stream",
          "name": "stdout",
          "text": [
            "epoch: 3 training loss:  2.277 training accuracy:  33.9%  validation loss:  2.141 validation accuracy:  36.9%\n"
          ]
        },
        {
          "output_type": "stream",
          "name": "stderr",
          "text": [
            "100%|██████████| 169/169 [00:30<00:00,  5.55it/s]\n"
          ]
        },
        {
          "output_type": "stream",
          "name": "stdout",
          "text": [
            "epoch: 4 training loss:  2.113 training accuracy:  38.3%  validation loss:  2.093 validation accuracy:  40.2%\n"
          ]
        },
        {
          "output_type": "stream",
          "name": "stderr",
          "text": [
            "100%|██████████| 169/169 [00:30<00:00,  5.51it/s]\n"
          ]
        },
        {
          "output_type": "stream",
          "name": "stdout",
          "text": [
            "epoch: 5 training loss:  2.030 training accuracy:  40.7%  validation loss:  1.985 validation accuracy:  43.5%\n"
          ]
        },
        {
          "output_type": "stream",
          "name": "stderr",
          "text": [
            "100%|██████████| 169/169 [00:30<00:00,  5.53it/s]\n"
          ]
        },
        {
          "output_type": "stream",
          "name": "stdout",
          "text": [
            "epoch: 6 training loss:  1.934 training accuracy:  42.6%  validation loss:  1.852 validation accuracy:  46.3%\n"
          ]
        },
        {
          "output_type": "stream",
          "name": "stderr",
          "text": [
            "100%|██████████| 169/169 [00:30<00:00,  5.47it/s]\n"
          ]
        },
        {
          "output_type": "stream",
          "name": "stdout",
          "text": [
            "epoch: 7 training loss:  1.820 training accuracy:  46.2%  validation loss:  1.851 validation accuracy:  47.3%\n"
          ]
        },
        {
          "output_type": "stream",
          "name": "stderr",
          "text": [
            "100%|██████████| 169/169 [00:30<00:00,  5.51it/s]\n"
          ]
        },
        {
          "output_type": "stream",
          "name": "stdout",
          "text": [
            "epoch: 8 training loss:  1.748 training accuracy:  48.6%  validation loss:  1.761 validation accuracy:  48.9%\n"
          ]
        },
        {
          "output_type": "stream",
          "name": "stderr",
          "text": [
            "100%|██████████| 169/169 [00:30<00:00,  5.55it/s]\n"
          ]
        },
        {
          "output_type": "stream",
          "name": "stdout",
          "text": [
            "epoch: 9 training loss:  1.660 training accuracy:  50.8%  validation loss:  1.742 validation accuracy:  50.5%\n"
          ]
        },
        {
          "output_type": "stream",
          "name": "stderr",
          "text": [
            "100%|██████████| 169/169 [00:30<00:00,  5.49it/s]\n"
          ]
        },
        {
          "output_type": "stream",
          "name": "stdout",
          "text": [
            "epoch: 10 training loss:  1.580 training accuracy:  53.3%  validation loss:  1.662 validation accuracy:  52.3%\n"
          ]
        },
        {
          "output_type": "stream",
          "name": "stderr",
          "text": [
            "100%|██████████| 169/169 [00:30<00:00,  5.56it/s]\n"
          ]
        },
        {
          "output_type": "stream",
          "name": "stdout",
          "text": [
            "epoch: 11 training loss:  1.518 training accuracy:  54.6%  validation loss:  1.720 validation accuracy:  51.3%\n"
          ]
        },
        {
          "output_type": "stream",
          "name": "stderr",
          "text": [
            "100%|██████████| 169/169 [00:30<00:00,  5.50it/s]\n"
          ]
        },
        {
          "output_type": "stream",
          "name": "stdout",
          "text": [
            "epoch: 12 training loss:  1.460 training accuracy:  56.3%  validation loss:  1.655 validation accuracy:  53.9%\n"
          ]
        },
        {
          "output_type": "stream",
          "name": "stderr",
          "text": [
            "100%|██████████| 169/169 [00:30<00:00,  5.48it/s]\n"
          ]
        },
        {
          "output_type": "stream",
          "name": "stdout",
          "text": [
            "epoch: 13 training loss:  1.380 training accuracy:  58.7%  validation loss:  1.661 validation accuracy:  52.4%\n"
          ]
        },
        {
          "output_type": "stream",
          "name": "stderr",
          "text": [
            "100%|██████████| 169/169 [00:30<00:00,  5.49it/s]\n"
          ]
        },
        {
          "output_type": "stream",
          "name": "stdout",
          "text": [
            "epoch: 14 training loss:  1.331 training accuracy:  60.2%  validation loss:  1.693 validation accuracy:  54.1%\n"
          ]
        },
        {
          "output_type": "stream",
          "name": "stderr",
          "text": [
            "100%|██████████| 169/169 [00:31<00:00,  5.43it/s]\n"
          ]
        },
        {
          "output_type": "stream",
          "name": "stdout",
          "text": [
            "epoch: 15 training loss:  1.303 training accuracy:  61.0%  validation loss:  1.657 validation accuracy:  54.7%\n"
          ]
        },
        {
          "output_type": "stream",
          "name": "stderr",
          "text": [
            "100%|██████████| 169/169 [00:31<00:00,  5.39it/s]\n"
          ]
        },
        {
          "output_type": "stream",
          "name": "stdout",
          "text": [
            "epoch: 16 training loss:  1.224 training accuracy:  63.1%  validation loss:  1.654 validation accuracy:  54.6%\n"
          ]
        },
        {
          "output_type": "stream",
          "name": "stderr",
          "text": [
            "100%|██████████| 169/169 [00:31<00:00,  5.43it/s]\n"
          ]
        },
        {
          "output_type": "stream",
          "name": "stdout",
          "text": [
            "epoch: 17 training loss:  1.184 training accuracy:  64.3%  validation loss:  1.692 validation accuracy:  54.9%\n"
          ]
        },
        {
          "output_type": "stream",
          "name": "stderr",
          "text": [
            "100%|██████████| 169/169 [00:30<00:00,  5.54it/s]\n"
          ]
        },
        {
          "output_type": "stream",
          "name": "stdout",
          "text": [
            "epoch: 18 training loss:  1.141 training accuracy:  66.0%  validation loss:  1.684 validation accuracy:  54.0%\n"
          ]
        },
        {
          "output_type": "stream",
          "name": "stderr",
          "text": [
            "100%|██████████| 169/169 [00:30<00:00,  5.50it/s]\n"
          ]
        },
        {
          "output_type": "stream",
          "name": "stdout",
          "text": [
            "epoch: 19 training loss:  1.101 training accuracy:  66.9%  validation loss:  1.627 validation accuracy:  56.4%\n"
          ]
        },
        {
          "output_type": "stream",
          "name": "stderr",
          "text": [
            "100%|██████████| 169/169 [00:30<00:00,  5.53it/s]\n"
          ]
        },
        {
          "output_type": "stream",
          "name": "stdout",
          "text": [
            "epoch: 20 training loss:  1.041 training accuracy:  68.1%  validation loss:  1.672 validation accuracy:  55.4%\n"
          ]
        },
        {
          "output_type": "stream",
          "name": "stderr",
          "text": [
            "100%|██████████| 169/169 [00:30<00:00,  5.52it/s]\n"
          ]
        },
        {
          "output_type": "stream",
          "name": "stdout",
          "text": [
            "epoch: 21 training loss:  1.008 training accuracy:  68.9%  validation loss:  1.625 validation accuracy:  56.7%\n"
          ]
        },
        {
          "output_type": "stream",
          "name": "stderr",
          "text": [
            "100%|██████████| 169/169 [00:30<00:00,  5.55it/s]\n"
          ]
        },
        {
          "output_type": "stream",
          "name": "stdout",
          "text": [
            "epoch: 22 training loss:  0.962 training accuracy:  70.7%  validation loss:  1.720 validation accuracy:  55.2%\n"
          ]
        },
        {
          "output_type": "stream",
          "name": "stderr",
          "text": [
            "100%|██████████| 169/169 [00:30<00:00,  5.50it/s]\n"
          ]
        },
        {
          "output_type": "stream",
          "name": "stdout",
          "text": [
            "epoch: 23 training loss:  0.913 training accuracy:  72.4%  validation loss:  1.716 validation accuracy:  56.8%\n"
          ]
        },
        {
          "output_type": "stream",
          "name": "stderr",
          "text": [
            "100%|██████████| 169/169 [00:30<00:00,  5.53it/s]\n"
          ]
        },
        {
          "output_type": "stream",
          "name": "stdout",
          "text": [
            "epoch: 24 training loss:  0.899 training accuracy:  72.9%  validation loss:  1.726 validation accuracy:  56.4%\n"
          ]
        },
        {
          "output_type": "stream",
          "name": "stderr",
          "text": [
            "100%|██████████| 169/169 [00:30<00:00,  5.57it/s]\n"
          ]
        },
        {
          "output_type": "stream",
          "name": "stdout",
          "text": [
            "epoch: 25 training loss:  0.856 training accuracy:  73.7%  validation loss:  1.705 validation accuracy:  57.3%\n"
          ]
        },
        {
          "output_type": "stream",
          "name": "stderr",
          "text": [
            "100%|██████████| 169/169 [00:30<00:00,  5.56it/s]\n"
          ]
        },
        {
          "output_type": "stream",
          "name": "stdout",
          "text": [
            "epoch: 26 training loss:  0.818 training accuracy:  74.9%  validation loss:  1.713 validation accuracy:  57.1%\n"
          ]
        },
        {
          "output_type": "stream",
          "name": "stderr",
          "text": [
            "100%|██████████| 169/169 [00:30<00:00,  5.59it/s]\n"
          ]
        },
        {
          "output_type": "stream",
          "name": "stdout",
          "text": [
            "epoch: 27 training loss:  0.787 training accuracy:  75.6%  validation loss:  1.785 validation accuracy:  57.6%\n"
          ]
        },
        {
          "output_type": "stream",
          "name": "stderr",
          "text": [
            "100%|██████████| 169/169 [00:30<00:00,  5.56it/s]\n"
          ]
        },
        {
          "output_type": "stream",
          "name": "stdout",
          "text": [
            "epoch: 28 training loss:  0.776 training accuracy:  76.1%  validation loss:  1.755 validation accuracy:  57.3%\n"
          ]
        },
        {
          "output_type": "stream",
          "name": "stderr",
          "text": [
            "100%|██████████| 169/169 [00:30<00:00,  5.47it/s]\n"
          ]
        },
        {
          "output_type": "stream",
          "name": "stdout",
          "text": [
            "epoch: 29 training loss:  0.760 training accuracy:  76.6%  validation loss:  1.662 validation accuracy:  57.6%\n"
          ]
        },
        {
          "output_type": "stream",
          "name": "stderr",
          "text": [
            "100%|██████████| 169/169 [00:30<00:00,  5.53it/s]\n"
          ]
        },
        {
          "output_type": "stream",
          "name": "stdout",
          "text": [
            "epoch: 30 training loss:  0.705 training accuracy:  78.2%  validation loss:  1.728 validation accuracy:  57.7%\n"
          ]
        },
        {
          "output_type": "stream",
          "name": "stderr",
          "text": [
            "100%|██████████| 169/169 [00:30<00:00,  5.53it/s]\n"
          ]
        },
        {
          "output_type": "stream",
          "name": "stdout",
          "text": [
            "epoch: 31 training loss:  0.666 training accuracy:  79.0%  validation loss:  1.790 validation accuracy:  57.8%\n"
          ]
        },
        {
          "output_type": "stream",
          "name": "stderr",
          "text": [
            "100%|██████████| 169/169 [00:30<00:00,  5.48it/s]\n"
          ]
        },
        {
          "output_type": "stream",
          "name": "stdout",
          "text": [
            "epoch: 32 training loss:  0.657 training accuracy:  80.1%  validation loss:  1.838 validation accuracy:  58.6%\n"
          ]
        },
        {
          "output_type": "stream",
          "name": "stderr",
          "text": [
            "100%|██████████| 169/169 [00:31<00:00,  5.43it/s]\n"
          ]
        },
        {
          "output_type": "stream",
          "name": "stdout",
          "text": [
            "epoch: 33 training loss:  0.617 training accuracy:  80.6%  validation loss:  1.950 validation accuracy:  57.7%\n"
          ]
        },
        {
          "output_type": "stream",
          "name": "stderr",
          "text": [
            "100%|██████████| 169/169 [00:30<00:00,  5.45it/s]\n"
          ]
        },
        {
          "output_type": "stream",
          "name": "stdout",
          "text": [
            "epoch: 34 training loss:  0.603 training accuracy:  81.1%  validation loss:  1.877 validation accuracy:  58.3%\n"
          ]
        },
        {
          "output_type": "stream",
          "name": "stderr",
          "text": [
            "100%|██████████| 169/169 [00:30<00:00,  5.47it/s]\n"
          ]
        },
        {
          "output_type": "stream",
          "name": "stdout",
          "text": [
            "epoch: 35 training loss:  0.579 training accuracy:  81.6%  validation loss:  1.829 validation accuracy:  58.5%\n"
          ]
        },
        {
          "output_type": "stream",
          "name": "stderr",
          "text": [
            "100%|██████████| 169/169 [00:30<00:00,  5.48it/s]\n"
          ]
        },
        {
          "output_type": "stream",
          "name": "stdout",
          "text": [
            "epoch: 36 training loss:  0.574 training accuracy:  82.2%  validation loss:  1.889 validation accuracy:  57.4%\n"
          ]
        },
        {
          "output_type": "stream",
          "name": "stderr",
          "text": [
            "100%|██████████| 169/169 [00:31<00:00,  5.42it/s]\n"
          ]
        },
        {
          "output_type": "stream",
          "name": "stdout",
          "text": [
            "epoch: 37 training loss:  0.548 training accuracy:  82.8%  validation loss:  1.917 validation accuracy:  56.8%\n"
          ]
        },
        {
          "output_type": "stream",
          "name": "stderr",
          "text": [
            "100%|██████████| 169/169 [00:32<00:00,  5.14it/s]\n"
          ]
        },
        {
          "output_type": "stream",
          "name": "stdout",
          "text": [
            "epoch: 38 training loss:  0.514 training accuracy:  84.1%  validation loss:  1.986 validation accuracy:  57.3%\n"
          ]
        },
        {
          "output_type": "stream",
          "name": "stderr",
          "text": [
            "100%|██████████| 169/169 [00:31<00:00,  5.33it/s]\n"
          ]
        },
        {
          "output_type": "stream",
          "name": "stdout",
          "text": [
            "epoch: 39 training loss:  0.523 training accuracy:  83.7%  validation loss:  1.943 validation accuracy:  58.9%\n"
          ]
        },
        {
          "output_type": "stream",
          "name": "stderr",
          "text": [
            "100%|██████████| 169/169 [00:31<00:00,  5.41it/s]\n"
          ]
        },
        {
          "output_type": "stream",
          "name": "stdout",
          "text": [
            "epoch: 40 training loss:  0.485 training accuracy:  85.0%  validation loss:  1.893 validation accuracy:  57.7%\n"
          ]
        },
        {
          "output_type": "stream",
          "name": "stderr",
          "text": [
            "100%|██████████| 169/169 [00:31<00:00,  5.45it/s]\n"
          ]
        },
        {
          "output_type": "stream",
          "name": "stdout",
          "text": [
            "epoch: 41 training loss:  0.479 training accuracy:  85.0%  validation loss:  1.971 validation accuracy:  57.7%\n"
          ]
        },
        {
          "output_type": "stream",
          "name": "stderr",
          "text": [
            "100%|██████████| 169/169 [00:31<00:00,  5.44it/s]\n"
          ]
        },
        {
          "output_type": "stream",
          "name": "stdout",
          "text": [
            "epoch: 42 training loss:  0.487 training accuracy:  84.7%  validation loss:  1.997 validation accuracy:  58.3%\n"
          ]
        },
        {
          "output_type": "stream",
          "name": "stderr",
          "text": [
            "100%|██████████| 169/169 [00:31<00:00,  5.40it/s]\n"
          ]
        },
        {
          "output_type": "stream",
          "name": "stdout",
          "text": [
            "epoch: 43 training loss:  0.451 training accuracy:  86.2%  validation loss:  1.955 validation accuracy:  57.9%\n"
          ]
        },
        {
          "output_type": "stream",
          "name": "stderr",
          "text": [
            "100%|██████████| 169/169 [00:32<00:00,  5.20it/s]\n"
          ]
        },
        {
          "output_type": "stream",
          "name": "stdout",
          "text": [
            "epoch: 44 training loss:  0.426 training accuracy:  86.7%  validation loss:  1.915 validation accuracy:  58.7%\n"
          ]
        },
        {
          "output_type": "stream",
          "name": "stderr",
          "text": [
            "100%|██████████| 169/169 [00:32<00:00,  5.14it/s]\n"
          ]
        },
        {
          "output_type": "stream",
          "name": "stdout",
          "text": [
            "epoch: 45 training loss:  0.427 training accuracy:  86.6%  validation loss:  1.868 validation accuracy:  59.3%\n"
          ]
        },
        {
          "output_type": "stream",
          "name": "stderr",
          "text": [
            "100%|██████████| 169/169 [00:32<00:00,  5.19it/s]\n"
          ]
        },
        {
          "output_type": "stream",
          "name": "stdout",
          "text": [
            "epoch: 46 training loss:  0.415 training accuracy:  87.0%  validation loss:  2.006 validation accuracy:  59.2%\n"
          ]
        },
        {
          "output_type": "stream",
          "name": "stderr",
          "text": [
            "100%|██████████| 169/169 [00:31<00:00,  5.36it/s]\n"
          ]
        },
        {
          "output_type": "stream",
          "name": "stdout",
          "text": [
            "epoch: 47 training loss:  0.418 training accuracy:  87.1%  validation loss:  2.106 validation accuracy:  58.1%\n"
          ]
        },
        {
          "output_type": "stream",
          "name": "stderr",
          "text": [
            "100%|██████████| 169/169 [00:31<00:00,  5.43it/s]\n"
          ]
        },
        {
          "output_type": "stream",
          "name": "stdout",
          "text": [
            "epoch: 48 training loss:  0.387 training accuracy:  87.8%  validation loss:  2.025 validation accuracy:  58.6%\n"
          ]
        },
        {
          "output_type": "stream",
          "name": "stderr",
          "text": [
            "100%|██████████| 169/169 [00:31<00:00,  5.43it/s]\n"
          ]
        },
        {
          "output_type": "stream",
          "name": "stdout",
          "text": [
            "epoch: 49 training loss:  0.384 training accuracy:  88.1%  validation loss:  2.045 validation accuracy:  58.2%\n"
          ]
        }
      ]
    },
    {
      "cell_type": "code",
      "source": [
        "run_model(50,'results/FinecompletedatasetmodelD.pt',0.009, train_loader, model_122d)"
      ],
      "metadata": {
        "colab": {
          "base_uri": "https://localhost:8080/"
        },
        "id": "-kVGPaXiBTtu",
        "outputId": "0b0aa130-afd8-47e6-9e61-87eac7d42ea1"
      },
      "execution_count": 14,
      "outputs": [
        {
          "output_type": "stream",
          "name": "stderr",
          "text": [
            "\r  0%|          | 0/169 [00:00<?, ?it/s]/usr/local/lib/python3.7/dist-packages/torch/utils/data/dataloader.py:481: UserWarning: This DataLoader will create 6 worker processes in total. Our suggested max number of worker in current system is 2, which is smaller than what this DataLoader is going to create. Please be aware that excessive worker creation might get DataLoader running slow or even freeze, lower the worker number to avoid potential slowness/freeze if necessary.\n",
            "  cpuset_checked))\n",
            "100%|██████████| 169/169 [06:12<00:00,  2.20s/it]\n"
          ]
        },
        {
          "output_type": "stream",
          "name": "stdout",
          "text": [
            "epoch: 0 training loss:  3.147 training accuracy:  11.4%  validation loss:  2.840 validation accuracy:  17.1%\n"
          ]
        },
        {
          "output_type": "stream",
          "name": "stderr",
          "text": [
            "100%|██████████| 169/169 [00:30<00:00,  5.52it/s]\n"
          ]
        },
        {
          "output_type": "stream",
          "name": "stdout",
          "text": [
            "epoch: 1 training loss:  2.830 training accuracy:  19.0%  validation loss:  2.667 validation accuracy:  22.6%\n"
          ]
        },
        {
          "output_type": "stream",
          "name": "stderr",
          "text": [
            "100%|██████████| 169/169 [00:30<00:00,  5.58it/s]\n"
          ]
        },
        {
          "output_type": "stream",
          "name": "stdout",
          "text": [
            "epoch: 2 training loss:  2.726 training accuracy:  20.6%  validation loss:  2.663 validation accuracy:  24.8%\n"
          ]
        },
        {
          "output_type": "stream",
          "name": "stderr",
          "text": [
            "100%|██████████| 169/169 [00:29<00:00,  5.66it/s]\n"
          ]
        },
        {
          "output_type": "stream",
          "name": "stdout",
          "text": [
            "epoch: 3 training loss:  2.652 training accuracy:  23.5%  validation loss:  2.492 validation accuracy:  26.9%\n"
          ]
        },
        {
          "output_type": "stream",
          "name": "stderr",
          "text": [
            "100%|██████████| 169/169 [00:30<00:00,  5.58it/s]\n"
          ]
        },
        {
          "output_type": "stream",
          "name": "stdout",
          "text": [
            "epoch: 4 training loss:  2.586 training accuracy:  25.1%  validation loss:  2.498 validation accuracy:  26.9%\n"
          ]
        },
        {
          "output_type": "stream",
          "name": "stderr",
          "text": [
            "100%|██████████| 169/169 [00:30<00:00,  5.63it/s]\n"
          ]
        },
        {
          "output_type": "stream",
          "name": "stdout",
          "text": [
            "epoch: 5 training loss:  2.522 training accuracy:  26.7%  validation loss:  2.409 validation accuracy:  30.2%\n"
          ]
        },
        {
          "output_type": "stream",
          "name": "stderr",
          "text": [
            "100%|██████████| 169/169 [00:30<00:00,  5.55it/s]\n"
          ]
        },
        {
          "output_type": "stream",
          "name": "stdout",
          "text": [
            "epoch: 6 training loss:  2.487 training accuracy:  28.4%  validation loss:  2.363 validation accuracy:  33.1%\n"
          ]
        },
        {
          "output_type": "stream",
          "name": "stderr",
          "text": [
            "100%|██████████| 169/169 [00:29<00:00,  5.77it/s]\n"
          ]
        },
        {
          "output_type": "stream",
          "name": "stdout",
          "text": [
            "epoch: 7 training loss:  2.426 training accuracy:  29.2%  validation loss:  2.347 validation accuracy:  32.2%\n"
          ]
        },
        {
          "output_type": "stream",
          "name": "stderr",
          "text": [
            "100%|██████████| 169/169 [00:30<00:00,  5.58it/s]\n"
          ]
        },
        {
          "output_type": "stream",
          "name": "stdout",
          "text": [
            "epoch: 8 training loss:  2.381 training accuracy:  31.3%  validation loss:  2.299 validation accuracy:  33.8%\n"
          ]
        },
        {
          "output_type": "stream",
          "name": "stderr",
          "text": [
            "100%|██████████| 169/169 [00:30<00:00,  5.54it/s]\n"
          ]
        },
        {
          "output_type": "stream",
          "name": "stdout",
          "text": [
            "epoch: 9 training loss:  2.352 training accuracy:  31.4%  validation loss:  2.245 validation accuracy:  35.3%\n"
          ]
        },
        {
          "output_type": "stream",
          "name": "stderr",
          "text": [
            "100%|██████████| 169/169 [00:30<00:00,  5.49it/s]\n"
          ]
        },
        {
          "output_type": "stream",
          "name": "stdout",
          "text": [
            "epoch: 10 training loss:  2.291 training accuracy:  33.5%  validation loss:  2.242 validation accuracy:  35.8%\n"
          ]
        },
        {
          "output_type": "stream",
          "name": "stderr",
          "text": [
            "100%|██████████| 169/169 [00:31<00:00,  5.30it/s]\n"
          ]
        },
        {
          "output_type": "stream",
          "name": "stdout",
          "text": [
            "epoch: 11 training loss:  2.270 training accuracy:  34.1%  validation loss:  2.252 validation accuracy:  36.3%\n"
          ]
        },
        {
          "output_type": "stream",
          "name": "stderr",
          "text": [
            "100%|██████████| 169/169 [00:31<00:00,  5.34it/s]\n"
          ]
        },
        {
          "output_type": "stream",
          "name": "stdout",
          "text": [
            "epoch: 12 training loss:  2.221 training accuracy:  35.1%  validation loss:  2.154 validation accuracy:  38.8%\n"
          ]
        },
        {
          "output_type": "stream",
          "name": "stderr",
          "text": [
            "100%|██████████| 169/169 [00:29<00:00,  5.81it/s]\n"
          ]
        },
        {
          "output_type": "stream",
          "name": "stdout",
          "text": [
            "epoch: 13 training loss:  2.173 training accuracy:  36.2%  validation loss:  2.130 validation accuracy:  38.6%\n"
          ]
        },
        {
          "output_type": "stream",
          "name": "stderr",
          "text": [
            "100%|██████████| 169/169 [00:30<00:00,  5.57it/s]\n"
          ]
        },
        {
          "output_type": "stream",
          "name": "stdout",
          "text": [
            "epoch: 14 training loss:  2.156 training accuracy:  37.3%  validation loss:  2.162 validation accuracy:  39.7%\n"
          ]
        },
        {
          "output_type": "stream",
          "name": "stderr",
          "text": [
            "100%|██████████| 169/169 [00:29<00:00,  5.66it/s]\n"
          ]
        },
        {
          "output_type": "stream",
          "name": "stdout",
          "text": [
            "epoch: 15 training loss:  2.104 training accuracy:  38.8%  validation loss:  2.074 validation accuracy:  39.8%\n"
          ]
        },
        {
          "output_type": "stream",
          "name": "stderr",
          "text": [
            "100%|██████████| 169/169 [00:30<00:00,  5.56it/s]\n"
          ]
        },
        {
          "output_type": "stream",
          "name": "stdout",
          "text": [
            "epoch: 16 training loss:  2.097 training accuracy:  38.7%  validation loss:  2.088 validation accuracy:  40.3%\n"
          ]
        },
        {
          "output_type": "stream",
          "name": "stderr",
          "text": [
            "100%|██████████| 169/169 [00:30<00:00,  5.56it/s]\n"
          ]
        },
        {
          "output_type": "stream",
          "name": "stdout",
          "text": [
            "epoch: 17 training loss:  2.039 training accuracy:  40.6%  validation loss:  2.029 validation accuracy:  43.2%\n"
          ]
        },
        {
          "output_type": "stream",
          "name": "stderr",
          "text": [
            "100%|██████████| 169/169 [00:29<00:00,  5.74it/s]\n"
          ]
        },
        {
          "output_type": "stream",
          "name": "stdout",
          "text": [
            "epoch: 18 training loss:  2.032 training accuracy:  40.5%  validation loss:  1.980 validation accuracy:  42.0%\n"
          ]
        },
        {
          "output_type": "stream",
          "name": "stderr",
          "text": [
            "100%|██████████| 169/169 [00:30<00:00,  5.57it/s]\n"
          ]
        },
        {
          "output_type": "stream",
          "name": "stdout",
          "text": [
            "epoch: 19 training loss:  1.988 training accuracy:  41.6%  validation loss:  1.996 validation accuracy:  43.3%\n"
          ]
        },
        {
          "output_type": "stream",
          "name": "stderr",
          "text": [
            "100%|██████████| 169/169 [00:30<00:00,  5.55it/s]\n"
          ]
        },
        {
          "output_type": "stream",
          "name": "stdout",
          "text": [
            "epoch: 20 training loss:  1.960 training accuracy:  42.8%  validation loss:  1.964 validation accuracy:  43.7%\n"
          ]
        },
        {
          "output_type": "stream",
          "name": "stderr",
          "text": [
            "100%|██████████| 169/169 [00:29<00:00,  5.67it/s]\n"
          ]
        },
        {
          "output_type": "stream",
          "name": "stdout",
          "text": [
            "epoch: 21 training loss:  1.943 training accuracy:  42.4%  validation loss:  2.008 validation accuracy:  44.0%\n"
          ]
        },
        {
          "output_type": "stream",
          "name": "stderr",
          "text": [
            "100%|██████████| 169/169 [00:29<00:00,  5.70it/s]\n"
          ]
        },
        {
          "output_type": "stream",
          "name": "stdout",
          "text": [
            "epoch: 22 training loss:  1.919 training accuracy:  43.4%  validation loss:  1.985 validation accuracy:  43.4%\n"
          ]
        },
        {
          "output_type": "stream",
          "name": "stderr",
          "text": [
            "100%|██████████| 169/169 [00:29<00:00,  5.65it/s]\n"
          ]
        },
        {
          "output_type": "stream",
          "name": "stdout",
          "text": [
            "epoch: 23 training loss:  1.891 training accuracy:  43.7%  validation loss:  1.985 validation accuracy:  45.0%\n"
          ]
        },
        {
          "output_type": "stream",
          "name": "stderr",
          "text": [
            "100%|██████████| 169/169 [00:30<00:00,  5.59it/s]\n"
          ]
        },
        {
          "output_type": "stream",
          "name": "stdout",
          "text": [
            "epoch: 24 training loss:  1.866 training accuracy:  45.0%  validation loss:  1.949 validation accuracy:  45.3%\n"
          ]
        },
        {
          "output_type": "stream",
          "name": "stderr",
          "text": [
            "100%|██████████| 169/169 [00:29<00:00,  5.70it/s]\n"
          ]
        },
        {
          "output_type": "stream",
          "name": "stdout",
          "text": [
            "epoch: 25 training loss:  1.815 training accuracy:  46.4%  validation loss:  1.905 validation accuracy:  46.6%\n"
          ]
        },
        {
          "output_type": "stream",
          "name": "stderr",
          "text": [
            "100%|██████████| 169/169 [00:29<00:00,  5.70it/s]\n"
          ]
        },
        {
          "output_type": "stream",
          "name": "stdout",
          "text": [
            "epoch: 26 training loss:  1.819 training accuracy:  46.2%  validation loss:  1.993 validation accuracy:  44.2%\n"
          ]
        },
        {
          "output_type": "stream",
          "name": "stderr",
          "text": [
            "100%|██████████| 169/169 [00:30<00:00,  5.55it/s]\n"
          ]
        },
        {
          "output_type": "stream",
          "name": "stdout",
          "text": [
            "epoch: 27 training loss:  1.795 training accuracy:  46.5%  validation loss:  1.871 validation accuracy:  45.7%\n"
          ]
        },
        {
          "output_type": "stream",
          "name": "stderr",
          "text": [
            "100%|██████████| 169/169 [00:30<00:00,  5.56it/s]\n"
          ]
        },
        {
          "output_type": "stream",
          "name": "stdout",
          "text": [
            "epoch: 28 training loss:  1.763 training accuracy:  47.5%  validation loss:  1.870 validation accuracy:  45.9%\n"
          ]
        },
        {
          "output_type": "stream",
          "name": "stderr",
          "text": [
            "100%|██████████| 169/169 [00:29<00:00,  5.63it/s]\n"
          ]
        },
        {
          "output_type": "stream",
          "name": "stdout",
          "text": [
            "epoch: 29 training loss:  1.755 training accuracy:  48.0%  validation loss:  1.889 validation accuracy:  47.0%\n"
          ]
        },
        {
          "output_type": "stream",
          "name": "stderr",
          "text": [
            "100%|██████████| 169/169 [00:29<00:00,  5.66it/s]\n"
          ]
        },
        {
          "output_type": "stream",
          "name": "stdout",
          "text": [
            "epoch: 30 training loss:  1.711 training accuracy:  49.1%  validation loss:  1.859 validation accuracy:  46.6%\n"
          ]
        },
        {
          "output_type": "stream",
          "name": "stderr",
          "text": [
            "100%|██████████| 169/169 [00:30<00:00,  5.62it/s]\n"
          ]
        },
        {
          "output_type": "stream",
          "name": "stdout",
          "text": [
            "epoch: 31 training loss:  1.711 training accuracy:  49.6%  validation loss:  1.835 validation accuracy:  48.4%\n"
          ]
        },
        {
          "output_type": "stream",
          "name": "stderr",
          "text": [
            "100%|██████████| 169/169 [00:29<00:00,  5.69it/s]\n"
          ]
        },
        {
          "output_type": "stream",
          "name": "stdout",
          "text": [
            "epoch: 32 training loss:  1.676 training accuracy:  50.0%  validation loss:  1.799 validation accuracy:  48.6%\n"
          ]
        },
        {
          "output_type": "stream",
          "name": "stderr",
          "text": [
            "100%|██████████| 169/169 [00:29<00:00,  5.67it/s]\n"
          ]
        },
        {
          "output_type": "stream",
          "name": "stdout",
          "text": [
            "epoch: 33 training loss:  1.655 training accuracy:  50.3%  validation loss:  1.868 validation accuracy:  47.0%\n"
          ]
        },
        {
          "output_type": "stream",
          "name": "stderr",
          "text": [
            "100%|██████████| 169/169 [00:29<00:00,  5.72it/s]\n"
          ]
        },
        {
          "output_type": "stream",
          "name": "stdout",
          "text": [
            "epoch: 34 training loss:  1.652 training accuracy:  50.7%  validation loss:  1.832 validation accuracy:  49.2%\n"
          ]
        },
        {
          "output_type": "stream",
          "name": "stderr",
          "text": [
            "100%|██████████| 169/169 [00:30<00:00,  5.61it/s]\n"
          ]
        },
        {
          "output_type": "stream",
          "name": "stdout",
          "text": [
            "epoch: 35 training loss:  1.609 training accuracy:  52.0%  validation loss:  1.802 validation accuracy:  48.2%\n"
          ]
        },
        {
          "output_type": "stream",
          "name": "stderr",
          "text": [
            "100%|██████████| 169/169 [00:30<00:00,  5.56it/s]\n"
          ]
        },
        {
          "output_type": "stream",
          "name": "stdout",
          "text": [
            "epoch: 36 training loss:  1.580 training accuracy:  52.3%  validation loss:  1.794 validation accuracy:  49.2%\n"
          ]
        },
        {
          "output_type": "stream",
          "name": "stderr",
          "text": [
            "100%|██████████| 169/169 [00:31<00:00,  5.39it/s]\n"
          ]
        },
        {
          "output_type": "stream",
          "name": "stdout",
          "text": [
            "epoch: 37 training loss:  1.546 training accuracy:  53.1%  validation loss:  1.821 validation accuracy:  49.0%\n"
          ]
        },
        {
          "output_type": "stream",
          "name": "stderr",
          "text": [
            "100%|██████████| 169/169 [00:30<00:00,  5.46it/s]\n"
          ]
        },
        {
          "output_type": "stream",
          "name": "stdout",
          "text": [
            "epoch: 38 training loss:  1.559 training accuracy:  52.5%  validation loss:  1.785 validation accuracy:  48.7%\n"
          ]
        },
        {
          "output_type": "stream",
          "name": "stderr",
          "text": [
            "100%|██████████| 169/169 [00:31<00:00,  5.44it/s]\n"
          ]
        },
        {
          "output_type": "stream",
          "name": "stdout",
          "text": [
            "epoch: 39 training loss:  1.541 training accuracy:  53.1%  validation loss:  1.743 validation accuracy:  49.8%\n"
          ]
        },
        {
          "output_type": "stream",
          "name": "stderr",
          "text": [
            "100%|██████████| 169/169 [00:29<00:00,  5.67it/s]\n"
          ]
        },
        {
          "output_type": "stream",
          "name": "stdout",
          "text": [
            "epoch: 40 training loss:  1.501 training accuracy:  54.3%  validation loss:  1.808 validation accuracy:  50.7%\n"
          ]
        },
        {
          "output_type": "stream",
          "name": "stderr",
          "text": [
            "100%|██████████| 169/169 [00:29<00:00,  5.69it/s]\n"
          ]
        },
        {
          "output_type": "stream",
          "name": "stdout",
          "text": [
            "epoch: 41 training loss:  1.497 training accuracy:  54.5%  validation loss:  1.786 validation accuracy:  50.4%\n"
          ]
        },
        {
          "output_type": "stream",
          "name": "stderr",
          "text": [
            "100%|██████████| 169/169 [00:30<00:00,  5.59it/s]\n"
          ]
        },
        {
          "output_type": "stream",
          "name": "stdout",
          "text": [
            "epoch: 42 training loss:  1.445 training accuracy:  56.2%  validation loss:  1.766 validation accuracy:  50.6%\n"
          ]
        },
        {
          "output_type": "stream",
          "name": "stderr",
          "text": [
            "100%|██████████| 169/169 [00:29<00:00,  5.73it/s]\n"
          ]
        },
        {
          "output_type": "stream",
          "name": "stdout",
          "text": [
            "epoch: 43 training loss:  1.434 training accuracy:  56.6%  validation loss:  1.687 validation accuracy:  51.9%\n"
          ]
        },
        {
          "output_type": "stream",
          "name": "stderr",
          "text": [
            "100%|██████████| 169/169 [00:29<00:00,  5.66it/s]\n"
          ]
        },
        {
          "output_type": "stream",
          "name": "stdout",
          "text": [
            "epoch: 44 training loss:  1.426 training accuracy:  57.3%  validation loss:  1.727 validation accuracy:  51.4%\n"
          ]
        },
        {
          "output_type": "stream",
          "name": "stderr",
          "text": [
            "100%|██████████| 169/169 [00:29<00:00,  5.66it/s]\n"
          ]
        },
        {
          "output_type": "stream",
          "name": "stdout",
          "text": [
            "epoch: 45 training loss:  1.399 training accuracy:  57.2%  validation loss:  1.705 validation accuracy:  52.3%\n"
          ]
        },
        {
          "output_type": "stream",
          "name": "stderr",
          "text": [
            "100%|██████████| 169/169 [00:30<00:00,  5.55it/s]\n"
          ]
        },
        {
          "output_type": "stream",
          "name": "stdout",
          "text": [
            "epoch: 46 training loss:  1.374 training accuracy:  58.2%  validation loss:  1.821 validation accuracy:  49.1%\n"
          ]
        },
        {
          "output_type": "stream",
          "name": "stderr",
          "text": [
            "100%|██████████| 169/169 [00:29<00:00,  5.76it/s]\n"
          ]
        },
        {
          "output_type": "stream",
          "name": "stdout",
          "text": [
            "epoch: 47 training loss:  1.376 training accuracy:  58.1%  validation loss:  1.719 validation accuracy:  52.7%\n"
          ]
        },
        {
          "output_type": "stream",
          "name": "stderr",
          "text": [
            "100%|██████████| 169/169 [00:30<00:00,  5.53it/s]\n"
          ]
        },
        {
          "output_type": "stream",
          "name": "stdout",
          "text": [
            "epoch: 48 training loss:  1.351 training accuracy:  58.7%  validation loss:  1.749 validation accuracy:  51.9%\n"
          ]
        },
        {
          "output_type": "stream",
          "name": "stderr",
          "text": [
            "100%|██████████| 169/169 [00:30<00:00,  5.55it/s]\n"
          ]
        },
        {
          "output_type": "stream",
          "name": "stdout",
          "text": [
            "epoch: 49 training loss:  1.332 training accuracy:  59.2%  validation loss:  1.694 validation accuracy:  53.1%\n"
          ]
        }
      ]
    },
    {
      "cell_type": "code",
      "source": [
        "run_model(50,'results/FinecompletedatasetmodelE.pt',0.009, train_loader, model_122e)"
      ],
      "metadata": {
        "id": "K3fcs_71BgUY",
        "colab": {
          "base_uri": "https://localhost:8080/"
        },
        "outputId": "0b03bacb-1563-421a-f1b6-96c0c7a0a78b"
      },
      "execution_count": 32,
      "outputs": [
        {
          "output_type": "stream",
          "name": "stderr",
          "text": [
            "\r  0%|          | 0/169 [00:00<?, ?it/s]/usr/local/lib/python3.7/dist-packages/torch/utils/data/dataloader.py:481: UserWarning: This DataLoader will create 6 worker processes in total. Our suggested max number of worker in current system is 2, which is smaller than what this DataLoader is going to create. Please be aware that excessive worker creation might get DataLoader running slow or even freeze, lower the worker number to avoid potential slowness/freeze if necessary.\n",
            "  cpuset_checked))\n",
            "100%|██████████| 169/169 [00:32<00:00,  5.21it/s]\n"
          ]
        },
        {
          "output_type": "stream",
          "name": "stdout",
          "text": [
            "epoch: 0 training loss:  3.092 training accuracy:  12.5%  validation loss:  2.735 validation accuracy:  20.6%\n"
          ]
        },
        {
          "output_type": "stream",
          "name": "stderr",
          "text": [
            "100%|██████████| 169/169 [00:32<00:00,  5.19it/s]\n"
          ]
        },
        {
          "output_type": "stream",
          "name": "stdout",
          "text": [
            "epoch: 1 training loss:  2.722 training accuracy:  21.0%  validation loss:  2.599 validation accuracy:  24.9%\n"
          ]
        },
        {
          "output_type": "stream",
          "name": "stderr",
          "text": [
            "100%|██████████| 169/169 [00:32<00:00,  5.17it/s]\n"
          ]
        },
        {
          "output_type": "stream",
          "name": "stdout",
          "text": [
            "epoch: 2 training loss:  2.599 training accuracy:  24.7%  validation loss:  2.483 validation accuracy:  27.4%\n"
          ]
        },
        {
          "output_type": "stream",
          "name": "stderr",
          "text": [
            "100%|██████████| 169/169 [00:32<00:00,  5.18it/s]\n"
          ]
        },
        {
          "output_type": "stream",
          "name": "stdout",
          "text": [
            "epoch: 3 training loss:  2.489 training accuracy:  26.9%  validation loss:  2.309 validation accuracy:  32.4%\n"
          ]
        },
        {
          "output_type": "stream",
          "name": "stderr",
          "text": [
            "100%|██████████| 169/169 [00:32<00:00,  5.15it/s]\n"
          ]
        },
        {
          "output_type": "stream",
          "name": "stdout",
          "text": [
            "epoch: 4 training loss:  2.402 training accuracy:  29.6%  validation loss:  2.297 validation accuracy:  33.7%\n"
          ]
        },
        {
          "output_type": "stream",
          "name": "stderr",
          "text": [
            "100%|██████████| 169/169 [00:33<00:00,  5.11it/s]\n"
          ]
        },
        {
          "output_type": "stream",
          "name": "stdout",
          "text": [
            "epoch: 5 training loss:  2.303 training accuracy:  33.0%  validation loss:  2.241 validation accuracy:  34.9%\n"
          ]
        },
        {
          "output_type": "stream",
          "name": "stderr",
          "text": [
            "100%|██████████| 169/169 [00:32<00:00,  5.21it/s]\n"
          ]
        },
        {
          "output_type": "stream",
          "name": "stdout",
          "text": [
            "epoch: 6 training loss:  2.257 training accuracy:  34.3%  validation loss:  2.119 validation accuracy:  38.7%\n"
          ]
        },
        {
          "output_type": "stream",
          "name": "stderr",
          "text": [
            "100%|██████████| 169/169 [00:32<00:00,  5.25it/s]\n"
          ]
        },
        {
          "output_type": "stream",
          "name": "stdout",
          "text": [
            "epoch: 7 training loss:  2.178 training accuracy:  36.8%  validation loss:  2.045 validation accuracy:  39.4%\n"
          ]
        },
        {
          "output_type": "stream",
          "name": "stderr",
          "text": [
            "100%|██████████| 169/169 [00:32<00:00,  5.28it/s]\n"
          ]
        },
        {
          "output_type": "stream",
          "name": "stdout",
          "text": [
            "epoch: 8 training loss:  2.098 training accuracy:  38.5%  validation loss:  2.043 validation accuracy:  40.3%\n"
          ]
        },
        {
          "output_type": "stream",
          "name": "stderr",
          "text": [
            "100%|██████████| 169/169 [00:32<00:00,  5.25it/s]\n"
          ]
        },
        {
          "output_type": "stream",
          "name": "stdout",
          "text": [
            "epoch: 9 training loss:  2.029 training accuracy:  39.7%  validation loss:  2.043 validation accuracy:  40.7%\n"
          ]
        },
        {
          "output_type": "stream",
          "name": "stderr",
          "text": [
            "100%|██████████| 169/169 [00:31<00:00,  5.28it/s]\n"
          ]
        },
        {
          "output_type": "stream",
          "name": "stdout",
          "text": [
            "epoch: 10 training loss:  1.988 training accuracy:  41.4%  validation loss:  1.963 validation accuracy:  42.2%\n"
          ]
        },
        {
          "output_type": "stream",
          "name": "stderr",
          "text": [
            "100%|██████████| 169/169 [00:32<00:00,  5.27it/s]\n"
          ]
        },
        {
          "output_type": "stream",
          "name": "stdout",
          "text": [
            "epoch: 11 training loss:  1.926 training accuracy:  42.9%  validation loss:  1.888 validation accuracy:  43.7%\n"
          ]
        },
        {
          "output_type": "stream",
          "name": "stderr",
          "text": [
            "100%|██████████| 169/169 [00:31<00:00,  5.37it/s]\n"
          ]
        },
        {
          "output_type": "stream",
          "name": "stdout",
          "text": [
            "epoch: 12 training loss:  1.871 training accuracy:  44.7%  validation loss:  1.855 validation accuracy:  45.6%\n"
          ]
        },
        {
          "output_type": "stream",
          "name": "stderr",
          "text": [
            "100%|██████████| 169/169 [00:31<00:00,  5.36it/s]\n"
          ]
        },
        {
          "output_type": "stream",
          "name": "stdout",
          "text": [
            "epoch: 13 training loss:  1.854 training accuracy:  45.0%  validation loss:  1.836 validation accuracy:  46.8%\n"
          ]
        },
        {
          "output_type": "stream",
          "name": "stderr",
          "text": [
            "100%|██████████| 169/169 [00:31<00:00,  5.31it/s]\n"
          ]
        },
        {
          "output_type": "stream",
          "name": "stdout",
          "text": [
            "epoch: 14 training loss:  1.802 training accuracy:  46.5%  validation loss:  1.876 validation accuracy:  46.3%\n"
          ]
        },
        {
          "output_type": "stream",
          "name": "stderr",
          "text": [
            "100%|██████████| 169/169 [00:31<00:00,  5.34it/s]\n"
          ]
        },
        {
          "output_type": "stream",
          "name": "stdout",
          "text": [
            "epoch: 15 training loss:  1.762 training accuracy:  47.5%  validation loss:  1.813 validation accuracy:  48.9%\n"
          ]
        },
        {
          "output_type": "stream",
          "name": "stderr",
          "text": [
            "100%|██████████| 169/169 [00:31<00:00,  5.34it/s]\n"
          ]
        },
        {
          "output_type": "stream",
          "name": "stdout",
          "text": [
            "epoch: 16 training loss:  1.718 training accuracy:  48.9%  validation loss:  1.801 validation accuracy:  46.9%\n"
          ]
        },
        {
          "output_type": "stream",
          "name": "stderr",
          "text": [
            "100%|██████████| 169/169 [00:31<00:00,  5.31it/s]\n"
          ]
        },
        {
          "output_type": "stream",
          "name": "stdout",
          "text": [
            "epoch: 17 training loss:  1.693 training accuracy:  49.8%  validation loss:  1.725 validation accuracy:  50.2%\n"
          ]
        },
        {
          "output_type": "stream",
          "name": "stderr",
          "text": [
            "100%|██████████| 169/169 [00:31<00:00,  5.34it/s]\n"
          ]
        },
        {
          "output_type": "stream",
          "name": "stdout",
          "text": [
            "epoch: 18 training loss:  1.653 training accuracy:  50.7%  validation loss:  1.759 validation accuracy:  49.4%\n"
          ]
        },
        {
          "output_type": "stream",
          "name": "stderr",
          "text": [
            "100%|██████████| 169/169 [00:31<00:00,  5.42it/s]\n"
          ]
        },
        {
          "output_type": "stream",
          "name": "stdout",
          "text": [
            "epoch: 19 training loss:  1.631 training accuracy:  50.7%  validation loss:  1.770 validation accuracy:  48.4%\n"
          ]
        },
        {
          "output_type": "stream",
          "name": "stderr",
          "text": [
            "100%|██████████| 169/169 [00:30<00:00,  5.46it/s]\n"
          ]
        },
        {
          "output_type": "stream",
          "name": "stdout",
          "text": [
            "epoch: 20 training loss:  1.592 training accuracy:  52.4%  validation loss:  1.706 validation accuracy:  49.5%\n"
          ]
        },
        {
          "output_type": "stream",
          "name": "stderr",
          "text": [
            "100%|██████████| 169/169 [00:31<00:00,  5.41it/s]\n"
          ]
        },
        {
          "output_type": "stream",
          "name": "stdout",
          "text": [
            "epoch: 21 training loss:  1.569 training accuracy:  52.7%  validation loss:  1.762 validation accuracy:  50.9%\n"
          ]
        },
        {
          "output_type": "stream",
          "name": "stderr",
          "text": [
            "100%|██████████| 169/169 [00:31<00:00,  5.41it/s]\n"
          ]
        },
        {
          "output_type": "stream",
          "name": "stdout",
          "text": [
            "epoch: 22 training loss:  1.552 training accuracy:  53.7%  validation loss:  1.630 validation accuracy:  52.2%\n"
          ]
        },
        {
          "output_type": "stream",
          "name": "stderr",
          "text": [
            "100%|██████████| 169/169 [00:31<00:00,  5.44it/s]\n"
          ]
        },
        {
          "output_type": "stream",
          "name": "stdout",
          "text": [
            "epoch: 23 training loss:  1.508 training accuracy:  54.5%  validation loss:  1.737 validation accuracy:  50.4%\n"
          ]
        },
        {
          "output_type": "stream",
          "name": "stderr",
          "text": [
            "100%|██████████| 169/169 [00:31<00:00,  5.42it/s]\n"
          ]
        },
        {
          "output_type": "stream",
          "name": "stdout",
          "text": [
            "epoch: 24 training loss:  1.487 training accuracy:  55.6%  validation loss:  1.666 validation accuracy:  53.0%\n"
          ]
        },
        {
          "output_type": "stream",
          "name": "stderr",
          "text": [
            "100%|██████████| 169/169 [00:31<00:00,  5.42it/s]\n"
          ]
        },
        {
          "output_type": "stream",
          "name": "stdout",
          "text": [
            "epoch: 25 training loss:  1.452 training accuracy:  55.8%  validation loss:  1.666 validation accuracy:  52.9%\n"
          ]
        },
        {
          "output_type": "stream",
          "name": "stderr",
          "text": [
            "100%|██████████| 169/169 [00:31<00:00,  5.39it/s]\n"
          ]
        },
        {
          "output_type": "stream",
          "name": "stdout",
          "text": [
            "epoch: 26 training loss:  1.428 training accuracy:  56.9%  validation loss:  1.718 validation accuracy:  52.4%\n"
          ]
        },
        {
          "output_type": "stream",
          "name": "stderr",
          "text": [
            "100%|██████████| 169/169 [00:30<00:00,  5.47it/s]\n"
          ]
        },
        {
          "output_type": "stream",
          "name": "stdout",
          "text": [
            "epoch: 27 training loss:  1.433 training accuracy:  57.0%  validation loss:  1.690 validation accuracy:  52.9%\n"
          ]
        },
        {
          "output_type": "stream",
          "name": "stderr",
          "text": [
            "100%|██████████| 169/169 [00:30<00:00,  5.45it/s]\n"
          ]
        },
        {
          "output_type": "stream",
          "name": "stdout",
          "text": [
            "epoch: 28 training loss:  1.389 training accuracy:  57.6%  validation loss:  1.696 validation accuracy:  53.5%\n"
          ]
        },
        {
          "output_type": "stream",
          "name": "stderr",
          "text": [
            "100%|██████████| 169/169 [00:31<00:00,  5.45it/s]\n"
          ]
        },
        {
          "output_type": "stream",
          "name": "stdout",
          "text": [
            "epoch: 29 training loss:  1.358 training accuracy:  58.7%  validation loss:  1.652 validation accuracy:  54.4%\n"
          ]
        },
        {
          "output_type": "stream",
          "name": "stderr",
          "text": [
            "100%|██████████| 169/169 [00:32<00:00,  5.25it/s]\n"
          ]
        },
        {
          "output_type": "stream",
          "name": "stdout",
          "text": [
            "epoch: 30 training loss:  1.348 training accuracy:  58.6%  validation loss:  1.594 validation accuracy:  53.6%\n"
          ]
        },
        {
          "output_type": "stream",
          "name": "stderr",
          "text": [
            "100%|██████████| 169/169 [00:35<00:00,  4.79it/s]\n"
          ]
        },
        {
          "output_type": "stream",
          "name": "stdout",
          "text": [
            "epoch: 31 training loss:  1.323 training accuracy:  59.5%  validation loss:  1.622 validation accuracy:  53.9%\n"
          ]
        },
        {
          "output_type": "stream",
          "name": "stderr",
          "text": [
            "100%|██████████| 169/169 [00:32<00:00,  5.15it/s]\n"
          ]
        },
        {
          "output_type": "stream",
          "name": "stdout",
          "text": [
            "epoch: 32 training loss:  1.304 training accuracy:  60.1%  validation loss:  1.649 validation accuracy:  54.8%\n"
          ]
        },
        {
          "output_type": "stream",
          "name": "stderr",
          "text": [
            "100%|██████████| 169/169 [00:34<00:00,  4.93it/s]\n"
          ]
        },
        {
          "output_type": "stream",
          "name": "stdout",
          "text": [
            "epoch: 33 training loss:  1.267 training accuracy:  61.1%  validation loss:  1.596 validation accuracy:  54.8%\n"
          ]
        },
        {
          "output_type": "stream",
          "name": "stderr",
          "text": [
            "100%|██████████| 169/169 [00:32<00:00,  5.26it/s]\n"
          ]
        },
        {
          "output_type": "stream",
          "name": "stdout",
          "text": [
            "epoch: 34 training loss:  1.261 training accuracy:  60.9%  validation loss:  1.588 validation accuracy:  55.2%\n"
          ]
        },
        {
          "output_type": "stream",
          "name": "stderr",
          "text": [
            "100%|██████████| 169/169 [00:32<00:00,  5.22it/s]\n"
          ]
        },
        {
          "output_type": "stream",
          "name": "stdout",
          "text": [
            "epoch: 35 training loss:  1.224 training accuracy:  61.9%  validation loss:  1.585 validation accuracy:  56.4%\n"
          ]
        },
        {
          "output_type": "stream",
          "name": "stderr",
          "text": [
            "100%|██████████| 169/169 [00:31<00:00,  5.31it/s]\n"
          ]
        },
        {
          "output_type": "stream",
          "name": "stdout",
          "text": [
            "epoch: 36 training loss:  1.210 training accuracy:  62.8%  validation loss:  1.656 validation accuracy:  55.1%\n"
          ]
        },
        {
          "output_type": "stream",
          "name": "stderr",
          "text": [
            "100%|██████████| 169/169 [00:32<00:00,  5.26it/s]\n"
          ]
        },
        {
          "output_type": "stream",
          "name": "stdout",
          "text": [
            "epoch: 37 training loss:  1.183 training accuracy:  63.5%  validation loss:  1.679 validation accuracy:  55.1%\n"
          ]
        },
        {
          "output_type": "stream",
          "name": "stderr",
          "text": [
            "100%|██████████| 169/169 [00:32<00:00,  5.25it/s]\n"
          ]
        },
        {
          "output_type": "stream",
          "name": "stdout",
          "text": [
            "epoch: 38 training loss:  1.159 training accuracy:  64.2%  validation loss:  1.589 validation accuracy:  56.1%\n"
          ]
        },
        {
          "output_type": "stream",
          "name": "stderr",
          "text": [
            "100%|██████████| 169/169 [00:37<00:00,  4.48it/s]\n"
          ]
        },
        {
          "output_type": "stream",
          "name": "stdout",
          "text": [
            "epoch: 39 training loss:  1.137 training accuracy:  64.7%  validation loss:  1.617 validation accuracy:  56.1%\n"
          ]
        },
        {
          "output_type": "stream",
          "name": "stderr",
          "text": [
            "100%|██████████| 169/169 [00:40<00:00,  4.20it/s]\n"
          ]
        },
        {
          "output_type": "stream",
          "name": "stdout",
          "text": [
            "epoch: 40 training loss:  1.121 training accuracy:  64.9%  validation loss:  1.597 validation accuracy:  56.8%\n"
          ]
        },
        {
          "output_type": "stream",
          "name": "stderr",
          "text": [
            "100%|██████████| 169/169 [00:40<00:00,  4.21it/s]\n"
          ]
        },
        {
          "output_type": "stream",
          "name": "stdout",
          "text": [
            "epoch: 41 training loss:  1.112 training accuracy:  65.9%  validation loss:  1.677 validation accuracy:  56.3%\n"
          ]
        },
        {
          "output_type": "stream",
          "name": "stderr",
          "text": [
            "100%|██████████| 169/169 [00:40<00:00,  4.19it/s]\n"
          ]
        },
        {
          "output_type": "stream",
          "name": "stdout",
          "text": [
            "epoch: 42 training loss:  1.074 training accuracy:  66.5%  validation loss:  1.613 validation accuracy:  55.7%\n"
          ]
        },
        {
          "output_type": "stream",
          "name": "stderr",
          "text": [
            "100%|██████████| 169/169 [00:39<00:00,  4.23it/s]\n"
          ]
        },
        {
          "output_type": "stream",
          "name": "stdout",
          "text": [
            "epoch: 43 training loss:  1.072 training accuracy:  67.1%  validation loss:  1.621 validation accuracy:  57.0%\n"
          ]
        },
        {
          "output_type": "stream",
          "name": "stderr",
          "text": [
            "100%|██████████| 169/169 [00:40<00:00,  4.21it/s]\n"
          ]
        },
        {
          "output_type": "stream",
          "name": "stdout",
          "text": [
            "epoch: 44 training loss:  1.062 training accuracy:  66.9%  validation loss:  1.616 validation accuracy:  57.0%\n"
          ]
        },
        {
          "output_type": "stream",
          "name": "stderr",
          "text": [
            "100%|██████████| 169/169 [00:39<00:00,  4.25it/s]\n"
          ]
        },
        {
          "output_type": "stream",
          "name": "stdout",
          "text": [
            "epoch: 45 training loss:  1.035 training accuracy:  67.9%  validation loss:  1.645 validation accuracy:  57.5%\n"
          ]
        },
        {
          "output_type": "stream",
          "name": "stderr",
          "text": [
            "100%|██████████| 169/169 [00:40<00:00,  4.22it/s]\n"
          ]
        },
        {
          "output_type": "stream",
          "name": "stdout",
          "text": [
            "epoch: 46 training loss:  0.999 training accuracy:  69.1%  validation loss:  1.637 validation accuracy:  57.4%\n"
          ]
        },
        {
          "output_type": "stream",
          "name": "stderr",
          "text": [
            "100%|██████████| 169/169 [00:39<00:00,  4.23it/s]\n"
          ]
        },
        {
          "output_type": "stream",
          "name": "stdout",
          "text": [
            "epoch: 47 training loss:  0.984 training accuracy:  69.4%  validation loss:  1.585 validation accuracy:  56.7%\n"
          ]
        },
        {
          "output_type": "stream",
          "name": "stderr",
          "text": [
            "100%|██████████| 169/169 [00:39<00:00,  4.24it/s]\n"
          ]
        },
        {
          "output_type": "stream",
          "name": "stdout",
          "text": [
            "epoch: 48 training loss:  0.974 training accuracy:  69.7%  validation loss:  1.620 validation accuracy:  57.9%\n"
          ]
        },
        {
          "output_type": "stream",
          "name": "stderr",
          "text": [
            "100%|██████████| 169/169 [00:39<00:00,  4.24it/s]\n"
          ]
        },
        {
          "output_type": "stream",
          "name": "stdout",
          "text": [
            "epoch: 49 training loss:  0.953 training accuracy:  69.8%  validation loss:  1.576 validation accuracy:  58.1%\n"
          ]
        }
      ]
    },
    {
      "cell_type": "code",
      "source": [
        "run_model(50,'results/FinecompletedatasetmodelF.pt',0.009, train_loader, model_122f)"
      ],
      "metadata": {
        "colab": {
          "base_uri": "https://localhost:8080/"
        },
        "id": "yJXzAfUbPvnT",
        "outputId": "efe950d7-1943-4984-b5b2-4bb707387244"
      },
      "execution_count": 42,
      "outputs": [
        {
          "output_type": "stream",
          "name": "stderr",
          "text": [
            "\r  0%|          | 0/169 [00:00<?, ?it/s]/usr/local/lib/python3.7/dist-packages/torch/utils/data/dataloader.py:481: UserWarning: This DataLoader will create 6 worker processes in total. Our suggested max number of worker in current system is 2, which is smaller than what this DataLoader is going to create. Please be aware that excessive worker creation might get DataLoader running slow or even freeze, lower the worker number to avoid potential slowness/freeze if necessary.\n",
            "  cpuset_checked))\n",
            "100%|██████████| 169/169 [00:32<00:00,  5.14it/s]\n"
          ]
        },
        {
          "output_type": "stream",
          "name": "stdout",
          "text": [
            "epoch: 0 training loss:  3.196 training accuracy:  10.3%  validation loss:  2.882 validation accuracy:  16.7%\n"
          ]
        },
        {
          "output_type": "stream",
          "name": "stderr",
          "text": [
            "100%|██████████| 169/169 [00:31<00:00,  5.31it/s]\n"
          ]
        },
        {
          "output_type": "stream",
          "name": "stdout",
          "text": [
            "epoch: 1 training loss:  2.835 training accuracy:  18.1%  validation loss:  2.672 validation accuracy:  22.1%\n"
          ]
        },
        {
          "output_type": "stream",
          "name": "stderr",
          "text": [
            "100%|██████████| 169/169 [00:32<00:00,  5.19it/s]\n"
          ]
        },
        {
          "output_type": "stream",
          "name": "stdout",
          "text": [
            "epoch: 2 training loss:  2.715 training accuracy:  21.5%  validation loss:  2.576 validation accuracy:  26.7%\n"
          ]
        },
        {
          "output_type": "stream",
          "name": "stderr",
          "text": [
            "100%|██████████| 169/169 [00:32<00:00,  5.22it/s]\n"
          ]
        },
        {
          "output_type": "stream",
          "name": "stdout",
          "text": [
            "epoch: 3 training loss:  2.613 training accuracy:  24.7%  validation loss:  2.448 validation accuracy:  28.7%\n"
          ]
        },
        {
          "output_type": "stream",
          "name": "stderr",
          "text": [
            "100%|██████████| 169/169 [00:31<00:00,  5.33it/s]\n"
          ]
        },
        {
          "output_type": "stream",
          "name": "stdout",
          "text": [
            "epoch: 4 training loss:  2.554 training accuracy:  25.6%  validation loss:  2.468 validation accuracy:  29.0%\n"
          ]
        },
        {
          "output_type": "stream",
          "name": "stderr",
          "text": [
            "100%|██████████| 169/169 [00:31<00:00,  5.33it/s]\n"
          ]
        },
        {
          "output_type": "stream",
          "name": "stdout",
          "text": [
            "epoch: 5 training loss:  2.483 training accuracy:  28.2%  validation loss:  2.357 validation accuracy:  31.7%\n"
          ]
        },
        {
          "output_type": "stream",
          "name": "stderr",
          "text": [
            "100%|██████████| 169/169 [00:32<00:00,  5.18it/s]\n"
          ]
        },
        {
          "output_type": "stream",
          "name": "stdout",
          "text": [
            "epoch: 6 training loss:  2.420 training accuracy:  29.9%  validation loss:  2.301 validation accuracy:  33.3%\n"
          ]
        },
        {
          "output_type": "stream",
          "name": "stderr",
          "text": [
            "100%|██████████| 169/169 [00:31<00:00,  5.39it/s]\n"
          ]
        },
        {
          "output_type": "stream",
          "name": "stdout",
          "text": [
            "epoch: 7 training loss:  2.363 training accuracy:  31.4%  validation loss:  2.215 validation accuracy:  34.0%\n"
          ]
        },
        {
          "output_type": "stream",
          "name": "stderr",
          "text": [
            "100%|██████████| 169/169 [00:31<00:00,  5.43it/s]\n"
          ]
        },
        {
          "output_type": "stream",
          "name": "stdout",
          "text": [
            "epoch: 8 training loss:  2.303 training accuracy:  34.0%  validation loss:  2.256 validation accuracy:  34.3%\n"
          ]
        },
        {
          "output_type": "stream",
          "name": "stderr",
          "text": [
            "100%|██████████| 169/169 [00:28<00:00,  5.90it/s]\n"
          ]
        },
        {
          "output_type": "stream",
          "name": "stdout",
          "text": [
            "epoch: 9 training loss:  2.258 training accuracy:  35.0%  validation loss:  2.152 validation accuracy:  36.9%\n"
          ]
        },
        {
          "output_type": "stream",
          "name": "stderr",
          "text": [
            "100%|██████████| 169/169 [00:28<00:00,  5.98it/s]\n"
          ]
        },
        {
          "output_type": "stream",
          "name": "stdout",
          "text": [
            "epoch: 10 training loss:  2.205 training accuracy:  36.3%  validation loss:  2.200 validation accuracy:  35.9%\n"
          ]
        },
        {
          "output_type": "stream",
          "name": "stderr",
          "text": [
            "100%|██████████| 169/169 [00:28<00:00,  5.96it/s]\n"
          ]
        },
        {
          "output_type": "stream",
          "name": "stdout",
          "text": [
            "epoch: 11 training loss:  2.144 training accuracy:  37.9%  validation loss:  2.052 validation accuracy:  42.2%\n"
          ]
        },
        {
          "output_type": "stream",
          "name": "stderr",
          "text": [
            "100%|██████████| 169/169 [00:28<00:00,  6.00it/s]\n"
          ]
        },
        {
          "output_type": "stream",
          "name": "stdout",
          "text": [
            "epoch: 12 training loss:  2.113 training accuracy:  38.5%  validation loss:  2.056 validation accuracy:  41.7%\n"
          ]
        },
        {
          "output_type": "stream",
          "name": "stderr",
          "text": [
            "100%|██████████| 169/169 [00:27<00:00,  6.04it/s]\n"
          ]
        },
        {
          "output_type": "stream",
          "name": "stdout",
          "text": [
            "epoch: 13 training loss:  2.061 training accuracy:  40.2%  validation loss:  2.070 validation accuracy:  40.7%\n"
          ]
        },
        {
          "output_type": "stream",
          "name": "stderr",
          "text": [
            "100%|██████████| 169/169 [00:28<00:00,  5.91it/s]\n"
          ]
        },
        {
          "output_type": "stream",
          "name": "stdout",
          "text": [
            "epoch: 14 training loss:  2.025 training accuracy:  41.0%  validation loss:  2.034 validation accuracy:  42.2%\n"
          ]
        },
        {
          "output_type": "stream",
          "name": "stderr",
          "text": [
            "100%|██████████| 169/169 [00:28<00:00,  5.99it/s]\n"
          ]
        },
        {
          "output_type": "stream",
          "name": "stdout",
          "text": [
            "epoch: 15 training loss:  1.960 training accuracy:  42.3%  validation loss:  2.027 validation accuracy:  42.4%\n"
          ]
        },
        {
          "output_type": "stream",
          "name": "stderr",
          "text": [
            "100%|██████████| 169/169 [00:28<00:00,  5.98it/s]\n"
          ]
        },
        {
          "output_type": "stream",
          "name": "stdout",
          "text": [
            "epoch: 16 training loss:  1.957 training accuracy:  42.4%  validation loss:  1.980 validation accuracy:  44.1%\n"
          ]
        },
        {
          "output_type": "stream",
          "name": "stderr",
          "text": [
            "100%|██████████| 169/169 [00:28<00:00,  6.00it/s]\n"
          ]
        },
        {
          "output_type": "stream",
          "name": "stdout",
          "text": [
            "epoch: 17 training loss:  1.927 training accuracy:  44.4%  validation loss:  1.936 validation accuracy:  43.9%\n"
          ]
        },
        {
          "output_type": "stream",
          "name": "stderr",
          "text": [
            "100%|██████████| 169/169 [00:28<00:00,  6.00it/s]\n"
          ]
        },
        {
          "output_type": "stream",
          "name": "stdout",
          "text": [
            "epoch: 18 training loss:  1.883 training accuracy:  45.3%  validation loss:  1.925 validation accuracy:  45.6%\n"
          ]
        },
        {
          "output_type": "stream",
          "name": "stderr",
          "text": [
            "100%|██████████| 169/169 [00:28<00:00,  5.96it/s]\n"
          ]
        },
        {
          "output_type": "stream",
          "name": "stdout",
          "text": [
            "epoch: 19 training loss:  1.842 training accuracy:  46.6%  validation loss:  1.856 validation accuracy:  45.9%\n"
          ]
        },
        {
          "output_type": "stream",
          "name": "stderr",
          "text": [
            "100%|██████████| 169/169 [00:28<00:00,  5.96it/s]\n"
          ]
        },
        {
          "output_type": "stream",
          "name": "stdout",
          "text": [
            "epoch: 20 training loss:  1.830 training accuracy:  46.2%  validation loss:  1.955 validation accuracy:  45.4%\n"
          ]
        },
        {
          "output_type": "stream",
          "name": "stderr",
          "text": [
            "100%|██████████| 169/169 [00:28<00:00,  5.96it/s]\n"
          ]
        },
        {
          "output_type": "stream",
          "name": "stdout",
          "text": [
            "epoch: 21 training loss:  1.809 training accuracy:  47.4%  validation loss:  1.864 validation accuracy:  47.7%\n"
          ]
        },
        {
          "output_type": "stream",
          "name": "stderr",
          "text": [
            "100%|██████████| 169/169 [00:28<00:00,  6.00it/s]\n"
          ]
        },
        {
          "output_type": "stream",
          "name": "stdout",
          "text": [
            "epoch: 22 training loss:  1.766 training accuracy:  48.4%  validation loss:  1.864 validation accuracy:  46.9%\n"
          ]
        },
        {
          "output_type": "stream",
          "name": "stderr",
          "text": [
            "100%|██████████| 169/169 [00:28<00:00,  5.92it/s]\n"
          ]
        },
        {
          "output_type": "stream",
          "name": "stdout",
          "text": [
            "epoch: 23 training loss:  1.741 training accuracy:  48.7%  validation loss:  1.861 validation accuracy:  47.9%\n"
          ]
        },
        {
          "output_type": "stream",
          "name": "stderr",
          "text": [
            "100%|██████████| 169/169 [00:28<00:00,  5.95it/s]\n"
          ]
        },
        {
          "output_type": "stream",
          "name": "stdout",
          "text": [
            "epoch: 24 training loss:  1.686 training accuracy:  50.2%  validation loss:  1.802 validation accuracy:  48.3%\n"
          ]
        },
        {
          "output_type": "stream",
          "name": "stderr",
          "text": [
            "100%|██████████| 169/169 [00:28<00:00,  5.98it/s]\n"
          ]
        },
        {
          "output_type": "stream",
          "name": "stdout",
          "text": [
            "epoch: 25 training loss:  1.685 training accuracy:  50.9%  validation loss:  1.802 validation accuracy:  48.3%\n"
          ]
        },
        {
          "output_type": "stream",
          "name": "stderr",
          "text": [
            "100%|██████████| 169/169 [00:27<00:00,  6.05it/s]\n"
          ]
        },
        {
          "output_type": "stream",
          "name": "stdout",
          "text": [
            "epoch: 26 training loss:  1.659 training accuracy:  51.3%  validation loss:  1.742 validation accuracy:  50.3%\n"
          ]
        },
        {
          "output_type": "stream",
          "name": "stderr",
          "text": [
            "100%|██████████| 169/169 [00:27<00:00,  6.08it/s]\n"
          ]
        },
        {
          "output_type": "stream",
          "name": "stdout",
          "text": [
            "epoch: 27 training loss:  1.638 training accuracy:  52.1%  validation loss:  1.845 validation accuracy:  48.8%\n"
          ]
        },
        {
          "output_type": "stream",
          "name": "stderr",
          "text": [
            "100%|██████████| 169/169 [00:28<00:00,  5.92it/s]\n"
          ]
        },
        {
          "output_type": "stream",
          "name": "stdout",
          "text": [
            "epoch: 28 training loss:  1.623 training accuracy:  52.3%  validation loss:  1.715 validation accuracy:  51.6%\n"
          ]
        },
        {
          "output_type": "stream",
          "name": "stderr",
          "text": [
            "100%|██████████| 169/169 [00:28<00:00,  5.91it/s]\n"
          ]
        },
        {
          "output_type": "stream",
          "name": "stdout",
          "text": [
            "epoch: 29 training loss:  1.597 training accuracy:  53.1%  validation loss:  1.748 validation accuracy:  51.8%\n"
          ]
        },
        {
          "output_type": "stream",
          "name": "stderr",
          "text": [
            "100%|██████████| 169/169 [00:27<00:00,  6.06it/s]\n"
          ]
        },
        {
          "output_type": "stream",
          "name": "stdout",
          "text": [
            "epoch: 30 training loss:  1.571 training accuracy:  53.6%  validation loss:  1.727 validation accuracy:  51.5%\n"
          ]
        },
        {
          "output_type": "stream",
          "name": "stderr",
          "text": [
            "100%|██████████| 169/169 [00:27<00:00,  6.04it/s]\n"
          ]
        },
        {
          "output_type": "stream",
          "name": "stdout",
          "text": [
            "epoch: 31 training loss:  1.550 training accuracy:  53.9%  validation loss:  1.702 validation accuracy:  52.2%\n"
          ]
        },
        {
          "output_type": "stream",
          "name": "stderr",
          "text": [
            "100%|██████████| 169/169 [00:28<00:00,  5.99it/s]\n"
          ]
        },
        {
          "output_type": "stream",
          "name": "stdout",
          "text": [
            "epoch: 32 training loss:  1.534 training accuracy:  54.5%  validation loss:  1.703 validation accuracy:  52.5%\n"
          ]
        },
        {
          "output_type": "stream",
          "name": "stderr",
          "text": [
            "100%|██████████| 169/169 [00:28<00:00,  5.94it/s]\n"
          ]
        },
        {
          "output_type": "stream",
          "name": "stdout",
          "text": [
            "epoch: 33 training loss:  1.506 training accuracy:  55.6%  validation loss:  1.687 validation accuracy:  53.6%\n"
          ]
        },
        {
          "output_type": "stream",
          "name": "stderr",
          "text": [
            "100%|██████████| 169/169 [00:28<00:00,  6.01it/s]\n"
          ]
        },
        {
          "output_type": "stream",
          "name": "stdout",
          "text": [
            "epoch: 34 training loss:  1.476 training accuracy:  56.5%  validation loss:  1.685 validation accuracy:  52.9%\n"
          ]
        },
        {
          "output_type": "stream",
          "name": "stderr",
          "text": [
            "100%|██████████| 169/169 [00:27<00:00,  6.07it/s]\n"
          ]
        },
        {
          "output_type": "stream",
          "name": "stdout",
          "text": [
            "epoch: 35 training loss:  1.465 training accuracy:  56.7%  validation loss:  1.686 validation accuracy:  52.6%\n"
          ]
        },
        {
          "output_type": "stream",
          "name": "stderr",
          "text": [
            "100%|██████████| 169/169 [00:27<00:00,  6.09it/s]\n"
          ]
        },
        {
          "output_type": "stream",
          "name": "stdout",
          "text": [
            "epoch: 36 training loss:  1.447 training accuracy:  57.0%  validation loss:  1.673 validation accuracy:  53.1%\n"
          ]
        },
        {
          "output_type": "stream",
          "name": "stderr",
          "text": [
            "100%|██████████| 169/169 [00:27<00:00,  6.05it/s]\n"
          ]
        },
        {
          "output_type": "stream",
          "name": "stdout",
          "text": [
            "epoch: 37 training loss:  1.426 training accuracy:  57.7%  validation loss:  1.658 validation accuracy:  55.0%\n"
          ]
        },
        {
          "output_type": "stream",
          "name": "stderr",
          "text": [
            "100%|██████████| 169/169 [00:28<00:00,  6.01it/s]\n"
          ]
        },
        {
          "output_type": "stream",
          "name": "stdout",
          "text": [
            "epoch: 38 training loss:  1.411 training accuracy:  57.8%  validation loss:  1.672 validation accuracy:  54.2%\n"
          ]
        },
        {
          "output_type": "stream",
          "name": "stderr",
          "text": [
            "100%|██████████| 169/169 [00:27<00:00,  6.06it/s]\n"
          ]
        },
        {
          "output_type": "stream",
          "name": "stdout",
          "text": [
            "epoch: 39 training loss:  1.377 training accuracy:  59.1%  validation loss:  1.626 validation accuracy:  54.1%\n"
          ]
        },
        {
          "output_type": "stream",
          "name": "stderr",
          "text": [
            "100%|██████████| 169/169 [00:28<00:00,  6.02it/s]\n"
          ]
        },
        {
          "output_type": "stream",
          "name": "stdout",
          "text": [
            "epoch: 40 training loss:  1.363 training accuracy:  59.5%  validation loss:  1.640 validation accuracy:  52.9%\n"
          ]
        },
        {
          "output_type": "stream",
          "name": "stderr",
          "text": [
            "100%|██████████| 169/169 [00:28<00:00,  6.00it/s]\n"
          ]
        },
        {
          "output_type": "stream",
          "name": "stdout",
          "text": [
            "epoch: 41 training loss:  1.347 training accuracy:  59.9%  validation loss:  1.657 validation accuracy:  54.6%\n"
          ]
        },
        {
          "output_type": "stream",
          "name": "stderr",
          "text": [
            "100%|██████████| 169/169 [00:28<00:00,  6.00it/s]\n"
          ]
        },
        {
          "output_type": "stream",
          "name": "stdout",
          "text": [
            "epoch: 42 training loss:  1.308 training accuracy:  60.4%  validation loss:  1.601 validation accuracy:  54.8%\n"
          ]
        },
        {
          "output_type": "stream",
          "name": "stderr",
          "text": [
            "100%|██████████| 169/169 [00:27<00:00,  6.04it/s]\n"
          ]
        },
        {
          "output_type": "stream",
          "name": "stdout",
          "text": [
            "epoch: 43 training loss:  1.272 training accuracy:  61.9%  validation loss:  1.639 validation accuracy:  55.3%\n"
          ]
        },
        {
          "output_type": "stream",
          "name": "stderr",
          "text": [
            "100%|██████████| 169/169 [00:28<00:00,  6.00it/s]\n"
          ]
        },
        {
          "output_type": "stream",
          "name": "stdout",
          "text": [
            "epoch: 44 training loss:  1.277 training accuracy:  61.6%  validation loss:  1.652 validation accuracy:  55.5%\n"
          ]
        },
        {
          "output_type": "stream",
          "name": "stderr",
          "text": [
            "100%|██████████| 169/169 [00:28<00:00,  6.01it/s]\n"
          ]
        },
        {
          "output_type": "stream",
          "name": "stdout",
          "text": [
            "epoch: 45 training loss:  1.262 training accuracy:  62.0%  validation loss:  1.691 validation accuracy:  53.9%\n"
          ]
        },
        {
          "output_type": "stream",
          "name": "stderr",
          "text": [
            "100%|██████████| 169/169 [00:28<00:00,  6.00it/s]\n"
          ]
        },
        {
          "output_type": "stream",
          "name": "stdout",
          "text": [
            "epoch: 46 training loss:  1.257 training accuracy:  62.5%  validation loss:  1.638 validation accuracy:  55.6%\n"
          ]
        },
        {
          "output_type": "stream",
          "name": "stderr",
          "text": [
            "100%|██████████| 169/169 [00:28<00:00,  6.01it/s]\n"
          ]
        },
        {
          "output_type": "stream",
          "name": "stdout",
          "text": [
            "epoch: 47 training loss:  1.210 training accuracy:  63.5%  validation loss:  1.653 validation accuracy:  56.2%\n"
          ]
        },
        {
          "output_type": "stream",
          "name": "stderr",
          "text": [
            "100%|██████████| 169/169 [00:27<00:00,  6.06it/s]\n"
          ]
        },
        {
          "output_type": "stream",
          "name": "stdout",
          "text": [
            "epoch: 48 training loss:  1.215 training accuracy:  63.7%  validation loss:  1.670 validation accuracy:  57.1%\n"
          ]
        },
        {
          "output_type": "stream",
          "name": "stderr",
          "text": [
            "100%|██████████| 169/169 [00:27<00:00,  6.08it/s]\n"
          ]
        },
        {
          "output_type": "stream",
          "name": "stdout",
          "text": [
            "epoch: 49 training loss:  1.193 training accuracy:  64.2%  validation loss:  1.576 validation accuracy:  57.0%\n"
          ]
        }
      ]
    },
    {
      "cell_type": "code",
      "source": [
        "loss_fn = nn.CrossEntropyLoss()\n",
        "run_model(50,'results/FinecompletedatasetmodelG.pt',0.009, train_loader, model_122g)"
      ],
      "metadata": {
        "colab": {
          "base_uri": "https://localhost:8080/"
        },
        "id": "zDkyCUnQYA7O",
        "outputId": "271f92b0-b465-4684-8379-a68bd9f30d5e"
      },
      "execution_count": 51,
      "outputs": [
        {
          "output_type": "stream",
          "name": "stderr",
          "text": [
            "\r  0%|          | 0/169 [00:00<?, ?it/s]/usr/local/lib/python3.7/dist-packages/torch/utils/data/dataloader.py:481: UserWarning: This DataLoader will create 6 worker processes in total. Our suggested max number of worker in current system is 2, which is smaller than what this DataLoader is going to create. Please be aware that excessive worker creation might get DataLoader running slow or even freeze, lower the worker number to avoid potential slowness/freeze if necessary.\n",
            "  cpuset_checked))\n",
            "100%|██████████| 169/169 [00:31<00:00,  5.30it/s]\n"
          ]
        },
        {
          "output_type": "stream",
          "name": "stdout",
          "text": [
            "epoch: 0 training loss:  3.000 training accuracy:  15.2%  validation loss:  2.614 validation accuracy:  23.5%\n"
          ]
        },
        {
          "output_type": "stream",
          "name": "stderr",
          "text": [
            "100%|██████████| 169/169 [00:30<00:00,  5.50it/s]\n"
          ]
        },
        {
          "output_type": "stream",
          "name": "stdout",
          "text": [
            "epoch: 1 training loss:  2.613 training accuracy:  23.8%  validation loss:  2.412 validation accuracy:  29.9%\n"
          ]
        },
        {
          "output_type": "stream",
          "name": "stderr",
          "text": [
            "100%|██████████| 169/169 [00:31<00:00,  5.34it/s]\n"
          ]
        },
        {
          "output_type": "stream",
          "name": "stdout",
          "text": [
            "epoch: 2 training loss:  2.424 training accuracy:  28.9%  validation loss:  2.358 validation accuracy:  32.1%\n"
          ]
        },
        {
          "output_type": "stream",
          "name": "stderr",
          "text": [
            "100%|██████████| 169/169 [00:31<00:00,  5.43it/s]\n"
          ]
        },
        {
          "output_type": "stream",
          "name": "stdout",
          "text": [
            "epoch: 3 training loss:  2.297 training accuracy:  32.7%  validation loss:  2.143 validation accuracy:  37.2%\n"
          ]
        },
        {
          "output_type": "stream",
          "name": "stderr",
          "text": [
            "100%|██████████| 169/169 [00:31<00:00,  5.44it/s]\n"
          ]
        },
        {
          "output_type": "stream",
          "name": "stdout",
          "text": [
            "epoch: 4 training loss:  2.177 training accuracy:  36.3%  validation loss:  2.177 validation accuracy:  36.0%\n"
          ]
        },
        {
          "output_type": "stream",
          "name": "stderr",
          "text": [
            "100%|██████████| 169/169 [00:31<00:00,  5.34it/s]\n"
          ]
        },
        {
          "output_type": "stream",
          "name": "stdout",
          "text": [
            "epoch: 5 training loss:  2.080 training accuracy:  39.6%  validation loss:  1.998 validation accuracy:  42.1%\n"
          ]
        },
        {
          "output_type": "stream",
          "name": "stderr",
          "text": [
            "100%|██████████| 169/169 [00:31<00:00,  5.45it/s]\n"
          ]
        },
        {
          "output_type": "stream",
          "name": "stdout",
          "text": [
            "epoch: 6 training loss:  1.975 training accuracy:  41.8%  validation loss:  1.903 validation accuracy:  45.0%\n"
          ]
        },
        {
          "output_type": "stream",
          "name": "stderr",
          "text": [
            "100%|██████████| 169/169 [00:31<00:00,  5.36it/s]\n"
          ]
        },
        {
          "output_type": "stream",
          "name": "stdout",
          "text": [
            "epoch: 7 training loss:  1.903 training accuracy:  43.6%  validation loss:  1.855 validation accuracy:  46.0%\n"
          ]
        },
        {
          "output_type": "stream",
          "name": "stderr",
          "text": [
            "100%|██████████| 169/169 [00:31<00:00,  5.31it/s]\n"
          ]
        },
        {
          "output_type": "stream",
          "name": "stdout",
          "text": [
            "epoch: 8 training loss:  1.827 training accuracy:  45.9%  validation loss:  1.778 validation accuracy:  48.6%\n"
          ]
        },
        {
          "output_type": "stream",
          "name": "stderr",
          "text": [
            "100%|██████████| 169/169 [00:31<00:00,  5.37it/s]\n"
          ]
        },
        {
          "output_type": "stream",
          "name": "stdout",
          "text": [
            "epoch: 9 training loss:  1.780 training accuracy:  47.7%  validation loss:  1.791 validation accuracy:  49.4%\n"
          ]
        },
        {
          "output_type": "stream",
          "name": "stderr",
          "text": [
            "100%|██████████| 169/169 [00:31<00:00,  5.44it/s]\n"
          ]
        },
        {
          "output_type": "stream",
          "name": "stdout",
          "text": [
            "epoch: 10 training loss:  1.701 training accuracy:  49.1%  validation loss:  1.726 validation accuracy:  49.3%\n"
          ]
        },
        {
          "output_type": "stream",
          "name": "stderr",
          "text": [
            "100%|██████████| 169/169 [00:30<00:00,  5.48it/s]\n"
          ]
        },
        {
          "output_type": "stream",
          "name": "stdout",
          "text": [
            "epoch: 11 training loss:  1.645 training accuracy:  51.1%  validation loss:  1.677 validation accuracy:  51.1%\n"
          ]
        },
        {
          "output_type": "stream",
          "name": "stderr",
          "text": [
            "100%|██████████| 169/169 [00:31<00:00,  5.43it/s]\n"
          ]
        },
        {
          "output_type": "stream",
          "name": "stdout",
          "text": [
            "epoch: 12 training loss:  1.596 training accuracy:  52.2%  validation loss:  1.662 validation accuracy:  52.0%\n"
          ]
        },
        {
          "output_type": "stream",
          "name": "stderr",
          "text": [
            "100%|██████████| 169/169 [00:30<00:00,  5.48it/s]\n"
          ]
        },
        {
          "output_type": "stream",
          "name": "stdout",
          "text": [
            "epoch: 13 training loss:  1.561 training accuracy:  53.1%  validation loss:  1.664 validation accuracy:  52.6%\n"
          ]
        },
        {
          "output_type": "stream",
          "name": "stderr",
          "text": [
            "100%|██████████| 169/169 [00:31<00:00,  5.39it/s]\n"
          ]
        },
        {
          "output_type": "stream",
          "name": "stdout",
          "text": [
            "epoch: 14 training loss:  1.488 training accuracy:  54.9%  validation loss:  1.638 validation accuracy:  53.1%\n"
          ]
        },
        {
          "output_type": "stream",
          "name": "stderr",
          "text": [
            "100%|██████████| 169/169 [00:30<00:00,  5.46it/s]\n"
          ]
        },
        {
          "output_type": "stream",
          "name": "stdout",
          "text": [
            "epoch: 15 training loss:  1.448 training accuracy:  55.8%  validation loss:  1.599 validation accuracy:  53.2%\n"
          ]
        },
        {
          "output_type": "stream",
          "name": "stderr",
          "text": [
            "100%|██████████| 169/169 [00:31<00:00,  5.44it/s]\n"
          ]
        },
        {
          "output_type": "stream",
          "name": "stdout",
          "text": [
            "epoch: 16 training loss:  1.401 training accuracy:  57.4%  validation loss:  1.608 validation accuracy:  55.1%\n"
          ]
        },
        {
          "output_type": "stream",
          "name": "stderr",
          "text": [
            "100%|██████████| 169/169 [00:30<00:00,  5.47it/s]\n"
          ]
        },
        {
          "output_type": "stream",
          "name": "stdout",
          "text": [
            "epoch: 17 training loss:  1.368 training accuracy:  58.2%  validation loss:  1.624 validation accuracy:  53.4%\n"
          ]
        },
        {
          "output_type": "stream",
          "name": "stderr",
          "text": [
            "100%|██████████| 169/169 [00:31<00:00,  5.42it/s]\n"
          ]
        },
        {
          "output_type": "stream",
          "name": "stdout",
          "text": [
            "epoch: 18 training loss:  1.333 training accuracy:  59.0%  validation loss:  1.616 validation accuracy:  54.1%\n"
          ]
        },
        {
          "output_type": "stream",
          "name": "stderr",
          "text": [
            "100%|██████████| 169/169 [00:30<00:00,  5.46it/s]\n"
          ]
        },
        {
          "output_type": "stream",
          "name": "stdout",
          "text": [
            "epoch: 19 training loss:  1.293 training accuracy:  59.7%  validation loss:  1.587 validation accuracy:  54.9%\n"
          ]
        },
        {
          "output_type": "stream",
          "name": "stderr",
          "text": [
            "100%|██████████| 169/169 [00:31<00:00,  5.43it/s]\n"
          ]
        },
        {
          "output_type": "stream",
          "name": "stdout",
          "text": [
            "epoch: 20 training loss:  1.243 training accuracy:  62.3%  validation loss:  1.600 validation accuracy:  54.6%\n"
          ]
        },
        {
          "output_type": "stream",
          "name": "stderr",
          "text": [
            "100%|██████████| 169/169 [00:30<00:00,  5.46it/s]\n"
          ]
        },
        {
          "output_type": "stream",
          "name": "stdout",
          "text": [
            "epoch: 21 training loss:  1.229 training accuracy:  61.9%  validation loss:  1.539 validation accuracy:  55.6%\n"
          ]
        },
        {
          "output_type": "stream",
          "name": "stderr",
          "text": [
            "100%|██████████| 169/169 [00:30<00:00,  5.49it/s]\n"
          ]
        },
        {
          "output_type": "stream",
          "name": "stdout",
          "text": [
            "epoch: 22 training loss:  1.166 training accuracy:  64.0%  validation loss:  1.574 validation accuracy:  56.2%\n"
          ]
        },
        {
          "output_type": "stream",
          "name": "stderr",
          "text": [
            "100%|██████████| 169/169 [00:30<00:00,  5.47it/s]\n"
          ]
        },
        {
          "output_type": "stream",
          "name": "stdout",
          "text": [
            "epoch: 23 training loss:  1.134 training accuracy:  65.5%  validation loss:  1.607 validation accuracy:  56.2%\n"
          ]
        },
        {
          "output_type": "stream",
          "name": "stderr",
          "text": [
            "100%|██████████| 169/169 [00:30<00:00,  5.47it/s]\n"
          ]
        },
        {
          "output_type": "stream",
          "name": "stdout",
          "text": [
            "epoch: 24 training loss:  1.102 training accuracy:  65.6%  validation loss:  1.536 validation accuracy:  57.4%\n"
          ]
        },
        {
          "output_type": "stream",
          "name": "stderr",
          "text": [
            "100%|██████████| 169/169 [00:31<00:00,  5.43it/s]\n"
          ]
        },
        {
          "output_type": "stream",
          "name": "stdout",
          "text": [
            "epoch: 25 training loss:  1.075 training accuracy:  66.9%  validation loss:  1.546 validation accuracy:  56.4%\n"
          ]
        },
        {
          "output_type": "stream",
          "name": "stderr",
          "text": [
            "100%|██████████| 169/169 [00:30<00:00,  5.46it/s]\n"
          ]
        },
        {
          "output_type": "stream",
          "name": "stdout",
          "text": [
            "epoch: 26 training loss:  1.044 training accuracy:  67.3%  validation loss:  1.592 validation accuracy:  55.8%\n"
          ]
        },
        {
          "output_type": "stream",
          "name": "stderr",
          "text": [
            "100%|██████████| 169/169 [00:30<00:00,  5.50it/s]\n"
          ]
        },
        {
          "output_type": "stream",
          "name": "stdout",
          "text": [
            "epoch: 27 training loss:  1.029 training accuracy:  67.7%  validation loss:  1.513 validation accuracy:  57.4%\n"
          ]
        },
        {
          "output_type": "stream",
          "name": "stderr",
          "text": [
            "100%|██████████| 169/169 [00:30<00:00,  5.49it/s]\n"
          ]
        },
        {
          "output_type": "stream",
          "name": "stdout",
          "text": [
            "epoch: 28 training loss:  0.972 training accuracy:  69.3%  validation loss:  1.564 validation accuracy:  58.3%\n"
          ]
        },
        {
          "output_type": "stream",
          "name": "stderr",
          "text": [
            "100%|██████████| 169/169 [00:31<00:00,  5.44it/s]\n"
          ]
        },
        {
          "output_type": "stream",
          "name": "stdout",
          "text": [
            "epoch: 29 training loss:  0.943 training accuracy:  70.6%  validation loss:  1.572 validation accuracy:  57.0%\n"
          ]
        },
        {
          "output_type": "stream",
          "name": "stderr",
          "text": [
            "100%|██████████| 169/169 [00:31<00:00,  5.44it/s]\n"
          ]
        },
        {
          "output_type": "stream",
          "name": "stdout",
          "text": [
            "epoch: 30 training loss:  0.911 training accuracy:  71.5%  validation loss:  1.591 validation accuracy:  58.4%\n"
          ]
        },
        {
          "output_type": "stream",
          "name": "stderr",
          "text": [
            "100%|██████████| 169/169 [00:30<00:00,  5.53it/s]\n"
          ]
        },
        {
          "output_type": "stream",
          "name": "stdout",
          "text": [
            "epoch: 31 training loss:  0.873 training accuracy:  72.5%  validation loss:  1.620 validation accuracy:  57.6%\n"
          ]
        },
        {
          "output_type": "stream",
          "name": "stderr",
          "text": [
            "100%|██████████| 169/169 [00:31<00:00,  5.40it/s]\n"
          ]
        },
        {
          "output_type": "stream",
          "name": "stdout",
          "text": [
            "epoch: 32 training loss:  0.863 training accuracy:  72.7%  validation loss:  1.585 validation accuracy:  58.4%\n"
          ]
        },
        {
          "output_type": "stream",
          "name": "stderr",
          "text": [
            "100%|██████████| 169/169 [00:30<00:00,  5.48it/s]\n"
          ]
        },
        {
          "output_type": "stream",
          "name": "stdout",
          "text": [
            "epoch: 33 training loss:  0.813 training accuracy:  74.3%  validation loss:  1.674 validation accuracy:  56.7%\n"
          ]
        },
        {
          "output_type": "stream",
          "name": "stderr",
          "text": [
            "100%|██████████| 169/169 [00:30<00:00,  5.47it/s]\n"
          ]
        },
        {
          "output_type": "stream",
          "name": "stdout",
          "text": [
            "epoch: 34 training loss:  0.822 training accuracy:  73.7%  validation loss:  1.560 validation accuracy:  58.9%\n"
          ]
        },
        {
          "output_type": "stream",
          "name": "stderr",
          "text": [
            "100%|██████████| 169/169 [00:30<00:00,  5.50it/s]\n"
          ]
        },
        {
          "output_type": "stream",
          "name": "stdout",
          "text": [
            "epoch: 35 training loss:  0.765 training accuracy:  75.8%  validation loss:  1.639 validation accuracy:  58.7%\n"
          ]
        },
        {
          "output_type": "stream",
          "name": "stderr",
          "text": [
            "100%|██████████| 169/169 [00:30<00:00,  5.51it/s]\n"
          ]
        },
        {
          "output_type": "stream",
          "name": "stdout",
          "text": [
            "epoch: 36 training loss:  0.737 training accuracy:  76.2%  validation loss:  1.604 validation accuracy:  58.5%\n"
          ]
        },
        {
          "output_type": "stream",
          "name": "stderr",
          "text": [
            "100%|██████████| 169/169 [00:31<00:00,  5.44it/s]\n"
          ]
        },
        {
          "output_type": "stream",
          "name": "stdout",
          "text": [
            "epoch: 37 training loss:  0.733 training accuracy:  76.7%  validation loss:  1.680 validation accuracy:  58.4%\n"
          ]
        },
        {
          "output_type": "stream",
          "name": "stderr",
          "text": [
            "100%|██████████| 169/169 [00:30<00:00,  5.52it/s]\n"
          ]
        },
        {
          "output_type": "stream",
          "name": "stdout",
          "text": [
            "epoch: 38 training loss:  0.697 training accuracy:  77.6%  validation loss:  1.714 validation accuracy:  57.2%\n"
          ]
        },
        {
          "output_type": "stream",
          "name": "stderr",
          "text": [
            "100%|██████████| 169/169 [00:30<00:00,  5.50it/s]\n"
          ]
        },
        {
          "output_type": "stream",
          "name": "stdout",
          "text": [
            "epoch: 39 training loss:  0.679 training accuracy:  78.3%  validation loss:  1.685 validation accuracy:  58.7%\n"
          ]
        },
        {
          "output_type": "stream",
          "name": "stderr",
          "text": [
            "100%|██████████| 169/169 [00:30<00:00,  5.50it/s]\n"
          ]
        },
        {
          "output_type": "stream",
          "name": "stdout",
          "text": [
            "epoch: 40 training loss:  0.650 training accuracy:  79.0%  validation loss:  1.728 validation accuracy:  57.1%\n"
          ]
        },
        {
          "output_type": "stream",
          "name": "stderr",
          "text": [
            "100%|██████████| 169/169 [00:30<00:00,  5.46it/s]\n"
          ]
        },
        {
          "output_type": "stream",
          "name": "stdout",
          "text": [
            "epoch: 41 training loss:  0.638 training accuracy:  79.6%  validation loss:  1.770 validation accuracy:  57.7%\n"
          ]
        },
        {
          "output_type": "stream",
          "name": "stderr",
          "text": [
            "100%|██████████| 169/169 [00:31<00:00,  5.45it/s]\n"
          ]
        },
        {
          "output_type": "stream",
          "name": "stdout",
          "text": [
            "epoch: 42 training loss:  0.611 training accuracy:  80.1%  validation loss:  1.855 validation accuracy:  58.3%\n"
          ]
        },
        {
          "output_type": "stream",
          "name": "stderr",
          "text": [
            "100%|██████████| 169/169 [00:31<00:00,  5.40it/s]\n"
          ]
        },
        {
          "output_type": "stream",
          "name": "stdout",
          "text": [
            "epoch: 43 training loss:  0.613 training accuracy:  80.3%  validation loss:  1.705 validation accuracy:  57.9%\n"
          ]
        },
        {
          "output_type": "stream",
          "name": "stderr",
          "text": [
            "100%|██████████| 169/169 [00:31<00:00,  5.30it/s]\n"
          ]
        },
        {
          "output_type": "stream",
          "name": "stdout",
          "text": [
            "epoch: 44 training loss:  0.559 training accuracy:  82.0%  validation loss:  1.742 validation accuracy:  59.0%\n"
          ]
        },
        {
          "output_type": "stream",
          "name": "stderr",
          "text": [
            "100%|██████████| 169/169 [00:32<00:00,  5.26it/s]\n"
          ]
        },
        {
          "output_type": "stream",
          "name": "stdout",
          "text": [
            "epoch: 45 training loss:  0.563 training accuracy:  81.7%  validation loss:  1.725 validation accuracy:  58.1%\n"
          ]
        },
        {
          "output_type": "stream",
          "name": "stderr",
          "text": [
            "100%|██████████| 169/169 [00:32<00:00,  5.28it/s]\n"
          ]
        },
        {
          "output_type": "stream",
          "name": "stdout",
          "text": [
            "epoch: 46 training loss:  0.528 training accuracy:  83.0%  validation loss:  1.726 validation accuracy:  59.3%\n"
          ]
        },
        {
          "output_type": "stream",
          "name": "stderr",
          "text": [
            "100%|██████████| 169/169 [00:30<00:00,  5.53it/s]\n"
          ]
        },
        {
          "output_type": "stream",
          "name": "stdout",
          "text": [
            "epoch: 47 training loss:  0.503 training accuracy:  83.7%  validation loss:  1.761 validation accuracy:  58.3%\n"
          ]
        },
        {
          "output_type": "stream",
          "name": "stderr",
          "text": [
            "100%|██████████| 169/169 [00:30<00:00,  5.61it/s]\n"
          ]
        },
        {
          "output_type": "stream",
          "name": "stdout",
          "text": [
            "epoch: 48 training loss:  0.482 training accuracy:  84.1%  validation loss:  1.711 validation accuracy:  59.2%\n"
          ]
        },
        {
          "output_type": "stream",
          "name": "stderr",
          "text": [
            "100%|██████████| 169/169 [00:30<00:00,  5.57it/s]\n"
          ]
        },
        {
          "output_type": "stream",
          "name": "stdout",
          "text": [
            "epoch: 49 training loss:  0.471 training accuracy:  84.2%  validation loss:  1.809 validation accuracy:  58.7%\n"
          ]
        }
      ]
    },
    {
      "cell_type": "code",
      "source": [
        "loss_fn = nn.CrossEntropyLoss()\n",
        "run_model(100,'results/FinecompletedatasetmodelH.pt',0.009, train_loader, model_122h)"
      ],
      "metadata": {
        "colab": {
          "base_uri": "https://localhost:8080/"
        },
        "id": "vfAKxIRY-8XG",
        "outputId": "5b879817-aaac-4d1e-9f50-9b7d39db5dc8"
      },
      "execution_count": 99,
      "outputs": [
        {
          "metadata": {
            "tags": null
          },
          "name": "stderr",
          "output_type": "stream",
          "text": [
            "  0%|          | 0/169 [00:00<?, ?it/s]/usr/local/lib/python3.7/dist-packages/torch/utils/data/dataloader.py:481: UserWarning: This DataLoader will create 6 worker processes in total. Our suggested max number of worker in current system is 2, which is smaller than what this DataLoader is going to create. Please be aware that excessive worker creation might get DataLoader running slow or even freeze, lower the worker number to avoid potential slowness/freeze if necessary.\n",
            "  cpuset_checked))\n",
            "100%|██████████| 169/169 [00:29<00:00,  5.82it/s]\n"
          ]
        },
        {
          "metadata": {
            "tags": null
          },
          "name": "stdout",
          "output_type": "stream",
          "text": [
            "epoch: 0 training loss:  3.111 training accuracy:  11.5%  validation loss:  2.744 validation accuracy:  18.5%\n"
          ]
        },
        {
          "metadata": {
            "tags": null
          },
          "name": "stderr",
          "output_type": "stream",
          "text": [
            "100%|██████████| 169/169 [00:28<00:00,  6.02it/s]\n"
          ]
        },
        {
          "metadata": {
            "tags": null
          },
          "name": "stdout",
          "output_type": "stream",
          "text": [
            "epoch: 1 training loss:  2.745 training accuracy:  20.2%  validation loss:  2.627 validation accuracy:  23.5%\n"
          ]
        },
        {
          "metadata": {
            "tags": null
          },
          "name": "stderr",
          "output_type": "stream",
          "text": [
            "100%|██████████| 169/169 [00:29<00:00,  5.81it/s]\n"
          ]
        },
        {
          "metadata": {
            "tags": null
          },
          "name": "stdout",
          "output_type": "stream",
          "text": [
            "epoch: 2 training loss:  2.597 training accuracy:  24.6%  validation loss:  2.416 validation accuracy:  28.8%\n"
          ]
        },
        {
          "metadata": {
            "tags": null
          },
          "name": "stderr",
          "output_type": "stream",
          "text": [
            "100%|██████████| 169/169 [00:28<00:00,  6.02it/s]\n"
          ]
        },
        {
          "metadata": {
            "tags": null
          },
          "name": "stdout",
          "output_type": "stream",
          "text": [
            "epoch: 3 training loss:  2.484 training accuracy:  27.6%  validation loss:  2.392 validation accuracy:  30.5%\n"
          ]
        },
        {
          "metadata": {
            "tags": null
          },
          "name": "stderr",
          "output_type": "stream",
          "text": [
            "100%|██████████| 169/169 [00:28<00:00,  5.91it/s]\n"
          ]
        },
        {
          "metadata": {
            "tags": null
          },
          "name": "stdout",
          "output_type": "stream",
          "text": [
            "epoch: 4 training loss:  2.384 training accuracy:  30.2%  validation loss:  2.265 validation accuracy:  34.3%\n"
          ]
        },
        {
          "metadata": {
            "tags": null
          },
          "name": "stderr",
          "output_type": "stream",
          "text": [
            "100%|██████████| 169/169 [00:28<00:00,  5.95it/s]\n"
          ]
        },
        {
          "metadata": {
            "tags": null
          },
          "name": "stdout",
          "output_type": "stream",
          "text": [
            "epoch: 5 training loss:  2.314 training accuracy:  32.8%  validation loss:  2.177 validation accuracy:  35.6%\n"
          ]
        },
        {
          "metadata": {
            "tags": null
          },
          "name": "stderr",
          "output_type": "stream",
          "text": [
            "100%|██████████| 169/169 [00:27<00:00,  6.04it/s]\n"
          ]
        },
        {
          "metadata": {
            "tags": null
          },
          "name": "stdout",
          "output_type": "stream",
          "text": [
            "epoch: 6 training loss:  2.231 training accuracy:  34.5%  validation loss:  2.141 validation accuracy:  39.7%\n"
          ]
        },
        {
          "metadata": {
            "tags": null
          },
          "name": "stderr",
          "output_type": "stream",
          "text": [
            "100%|██████████| 169/169 [00:28<00:00,  5.98it/s]\n"
          ]
        },
        {
          "metadata": {
            "tags": null
          },
          "name": "stdout",
          "output_type": "stream",
          "text": [
            "epoch: 7 training loss:  2.148 training accuracy:  36.9%  validation loss:  2.129 validation accuracy:  39.0%\n"
          ]
        },
        {
          "metadata": {
            "tags": null
          },
          "name": "stderr",
          "output_type": "stream",
          "text": [
            "100%|██████████| 169/169 [00:28<00:00,  5.99it/s]\n"
          ]
        },
        {
          "metadata": {
            "tags": null
          },
          "name": "stdout",
          "output_type": "stream",
          "text": [
            "epoch: 8 training loss:  2.086 training accuracy:  39.0%  validation loss:  1.983 validation accuracy:  42.5%\n"
          ]
        },
        {
          "metadata": {
            "tags": null
          },
          "name": "stderr",
          "output_type": "stream",
          "text": [
            "100%|██████████| 169/169 [00:28<00:00,  5.97it/s]\n"
          ]
        },
        {
          "metadata": {
            "tags": null
          },
          "name": "stdout",
          "output_type": "stream",
          "text": [
            "epoch: 9 training loss:  2.029 training accuracy:  40.2%  validation loss:  1.995 validation accuracy:  43.1%\n"
          ]
        },
        {
          "metadata": {
            "tags": null
          },
          "name": "stderr",
          "output_type": "stream",
          "text": [
            "100%|██████████| 169/169 [00:27<00:00,  6.04it/s]\n"
          ]
        },
        {
          "metadata": {
            "tags": null
          },
          "name": "stdout",
          "output_type": "stream",
          "text": [
            "epoch: 10 training loss:  1.983 training accuracy:  41.7%  validation loss:  1.911 validation accuracy:  43.1%\n"
          ]
        },
        {
          "metadata": {
            "tags": null
          },
          "name": "stderr",
          "output_type": "stream",
          "text": [
            "100%|██████████| 169/169 [00:28<00:00,  5.90it/s]\n"
          ]
        },
        {
          "metadata": {
            "tags": null
          },
          "name": "stdout",
          "output_type": "stream",
          "text": [
            "epoch: 11 training loss:  1.929 training accuracy:  43.2%  validation loss:  1.884 validation accuracy:  45.9%\n"
          ]
        },
        {
          "metadata": {
            "tags": null
          },
          "name": "stderr",
          "output_type": "stream",
          "text": [
            "100%|██████████| 169/169 [00:28<00:00,  5.88it/s]\n"
          ]
        },
        {
          "metadata": {
            "tags": null
          },
          "name": "stdout",
          "output_type": "stream",
          "text": [
            "epoch: 12 training loss:  1.872 training accuracy:  44.5%  validation loss:  1.926 validation accuracy:  46.3%\n"
          ]
        },
        {
          "metadata": {
            "tags": null
          },
          "name": "stderr",
          "output_type": "stream",
          "text": [
            "100%|██████████| 169/169 [00:28<00:00,  5.91it/s]\n"
          ]
        },
        {
          "metadata": {
            "tags": null
          },
          "name": "stdout",
          "output_type": "stream",
          "text": [
            "epoch: 13 training loss:  1.859 training accuracy:  45.2%  validation loss:  1.890 validation accuracy:  45.9%\n"
          ]
        },
        {
          "metadata": {
            "tags": null
          },
          "name": "stderr",
          "output_type": "stream",
          "text": [
            "100%|██████████| 169/169 [00:28<00:00,  5.88it/s]\n"
          ]
        },
        {
          "metadata": {
            "tags": null
          },
          "name": "stdout",
          "output_type": "stream",
          "text": [
            "epoch: 14 training loss:  1.811 training accuracy:  46.0%  validation loss:  1.801 validation accuracy:  46.9%\n"
          ]
        },
        {
          "metadata": {
            "tags": null
          },
          "name": "stderr",
          "output_type": "stream",
          "text": [
            "100%|██████████| 169/169 [00:28<00:00,  5.90it/s]\n"
          ]
        },
        {
          "metadata": {
            "tags": null
          },
          "name": "stdout",
          "output_type": "stream",
          "text": [
            "epoch: 15 training loss:  1.755 training accuracy:  47.6%  validation loss:  1.850 validation accuracy:  47.4%\n"
          ]
        },
        {
          "metadata": {
            "tags": null
          },
          "name": "stderr",
          "output_type": "stream",
          "text": [
            "100%|██████████| 169/169 [00:28<00:00,  5.97it/s]\n"
          ]
        },
        {
          "metadata": {
            "tags": null
          },
          "name": "stdout",
          "output_type": "stream",
          "text": [
            "epoch: 16 training loss:  1.729 training accuracy:  48.6%  validation loss:  1.859 validation accuracy:  47.5%\n"
          ]
        },
        {
          "metadata": {
            "tags": null
          },
          "name": "stderr",
          "output_type": "stream",
          "text": [
            "100%|██████████| 169/169 [00:28<00:00,  6.00it/s]\n"
          ]
        },
        {
          "metadata": {
            "tags": null
          },
          "name": "stdout",
          "output_type": "stream",
          "text": [
            "epoch: 17 training loss:  1.715 training accuracy:  48.4%  validation loss:  1.735 validation accuracy:  48.9%\n"
          ]
        },
        {
          "metadata": {
            "tags": null
          },
          "name": "stderr",
          "output_type": "stream",
          "text": [
            "100%|██████████| 169/169 [00:28<00:00,  5.99it/s]\n"
          ]
        },
        {
          "metadata": {
            "tags": null
          },
          "name": "stdout",
          "output_type": "stream",
          "text": [
            "epoch: 18 training loss:  1.664 training accuracy:  50.4%  validation loss:  1.743 validation accuracy:  49.9%\n"
          ]
        },
        {
          "metadata": {
            "tags": null
          },
          "name": "stderr",
          "output_type": "stream",
          "text": [
            "100%|██████████| 169/169 [00:28<00:00,  6.01it/s]\n"
          ]
        },
        {
          "metadata": {
            "tags": null
          },
          "name": "stdout",
          "output_type": "stream",
          "text": [
            "epoch: 19 training loss:  1.617 training accuracy:  51.8%  validation loss:  1.691 validation accuracy:  52.3%\n"
          ]
        },
        {
          "metadata": {
            "tags": null
          },
          "name": "stderr",
          "output_type": "stream",
          "text": [
            "100%|██████████| 169/169 [00:28<00:00,  6.02it/s]\n"
          ]
        },
        {
          "metadata": {
            "tags": null
          },
          "name": "stdout",
          "output_type": "stream",
          "text": [
            "epoch: 20 training loss:  1.597 training accuracy:  52.3%  validation loss:  1.776 validation accuracy:  49.6%\n"
          ]
        },
        {
          "metadata": {
            "tags": null
          },
          "name": "stderr",
          "output_type": "stream",
          "text": [
            "100%|██████████| 169/169 [00:27<00:00,  6.10it/s]\n"
          ]
        },
        {
          "metadata": {
            "tags": null
          },
          "name": "stdout",
          "output_type": "stream",
          "text": [
            "epoch: 21 training loss:  1.563 training accuracy:  53.7%  validation loss:  1.746 validation accuracy:  51.5%\n"
          ]
        },
        {
          "metadata": {
            "tags": null
          },
          "name": "stderr",
          "output_type": "stream",
          "text": [
            "100%|██████████| 169/169 [00:28<00:00,  6.03it/s]\n"
          ]
        },
        {
          "metadata": {
            "tags": null
          },
          "name": "stdout",
          "output_type": "stream",
          "text": [
            "epoch: 22 training loss:  1.531 training accuracy:  54.0%  validation loss:  1.707 validation accuracy:  51.3%\n"
          ]
        },
        {
          "metadata": {
            "tags": null
          },
          "name": "stderr",
          "output_type": "stream",
          "text": [
            "100%|██████████| 169/169 [00:28<00:00,  6.00it/s]\n"
          ]
        },
        {
          "metadata": {
            "tags": null
          },
          "name": "stdout",
          "output_type": "stream",
          "text": [
            "epoch: 23 training loss:  1.517 training accuracy:  54.7%  validation loss:  1.700 validation accuracy:  51.0%\n"
          ]
        },
        {
          "metadata": {
            "tags": null
          },
          "name": "stderr",
          "output_type": "stream",
          "text": [
            "100%|██████████| 169/169 [00:28<00:00,  6.01it/s]\n"
          ]
        },
        {
          "metadata": {
            "tags": null
          },
          "name": "stdout",
          "output_type": "stream",
          "text": [
            "epoch: 24 training loss:  1.502 training accuracy:  54.9%  validation loss:  1.696 validation accuracy:  51.1%\n"
          ]
        },
        {
          "metadata": {
            "tags": null
          },
          "name": "stderr",
          "output_type": "stream",
          "text": [
            "100%|██████████| 169/169 [00:27<00:00,  6.06it/s]\n"
          ]
        },
        {
          "metadata": {
            "tags": null
          },
          "name": "stdout",
          "output_type": "stream",
          "text": [
            "epoch: 25 training loss:  1.457 training accuracy:  55.7%  validation loss:  1.688 validation accuracy:  53.1%\n"
          ]
        },
        {
          "metadata": {
            "tags": null
          },
          "name": "stderr",
          "output_type": "stream",
          "text": [
            "100%|██████████| 169/169 [00:28<00:00,  6.00it/s]\n"
          ]
        },
        {
          "metadata": {
            "tags": null
          },
          "name": "stdout",
          "output_type": "stream",
          "text": [
            "epoch: 26 training loss:  1.448 training accuracy:  56.1%  validation loss:  1.641 validation accuracy:  52.7%\n"
          ]
        },
        {
          "metadata": {
            "tags": null
          },
          "name": "stderr",
          "output_type": "stream",
          "text": [
            "100%|██████████| 169/169 [00:28<00:00,  5.98it/s]\n"
          ]
        },
        {
          "metadata": {
            "tags": null
          },
          "name": "stdout",
          "output_type": "stream",
          "text": [
            "epoch: 27 training loss:  1.425 training accuracy:  57.5%  validation loss:  1.671 validation accuracy:  53.1%\n"
          ]
        },
        {
          "metadata": {
            "tags": null
          },
          "name": "stderr",
          "output_type": "stream",
          "text": [
            "100%|██████████| 169/169 [00:27<00:00,  6.04it/s]\n"
          ]
        },
        {
          "metadata": {
            "tags": null
          },
          "name": "stdout",
          "output_type": "stream",
          "text": [
            "epoch: 28 training loss:  1.400 training accuracy:  57.9%  validation loss:  1.683 validation accuracy:  54.1%\n"
          ]
        },
        {
          "metadata": {
            "tags": null
          },
          "name": "stderr",
          "output_type": "stream",
          "text": [
            "100%|██████████| 169/169 [00:27<00:00,  6.05it/s]\n"
          ]
        },
        {
          "metadata": {
            "tags": null
          },
          "name": "stdout",
          "output_type": "stream",
          "text": [
            "epoch: 29 training loss:  1.350 training accuracy:  59.1%  validation loss:  1.621 validation accuracy:  53.9%\n"
          ]
        },
        {
          "metadata": {
            "tags": null
          },
          "name": "stderr",
          "output_type": "stream",
          "text": [
            "100%|██████████| 169/169 [00:28<00:00,  6.03it/s]\n"
          ]
        },
        {
          "metadata": {
            "tags": null
          },
          "name": "stdout",
          "output_type": "stream",
          "text": [
            "epoch: 30 training loss:  1.345 training accuracy:  59.0%  validation loss:  1.624 validation accuracy:  54.2%\n"
          ]
        },
        {
          "metadata": {
            "tags": null
          },
          "name": "stderr",
          "output_type": "stream",
          "text": [
            "100%|██████████| 169/169 [00:29<00:00,  5.82it/s]\n"
          ]
        },
        {
          "metadata": {
            "tags": null
          },
          "name": "stdout",
          "output_type": "stream",
          "text": [
            "epoch: 31 training loss:  1.327 training accuracy:  59.6%  validation loss:  1.638 validation accuracy:  54.1%\n"
          ]
        },
        {
          "metadata": {
            "tags": null
          },
          "name": "stderr",
          "output_type": "stream",
          "text": [
            "100%|██████████| 169/169 [00:28<00:00,  5.85it/s]\n"
          ]
        },
        {
          "metadata": {
            "tags": null
          },
          "name": "stdout",
          "output_type": "stream",
          "text": [
            "epoch: 32 training loss:  1.286 training accuracy:  61.1%  validation loss:  1.614 validation accuracy:  53.5%\n"
          ]
        },
        {
          "metadata": {
            "tags": null
          },
          "name": "stderr",
          "output_type": "stream",
          "text": [
            "100%|██████████| 169/169 [00:28<00:00,  5.97it/s]\n"
          ]
        },
        {
          "metadata": {
            "tags": null
          },
          "name": "stdout",
          "output_type": "stream",
          "text": [
            "epoch: 33 training loss:  1.261 training accuracy:  61.4%  validation loss:  1.618 validation accuracy:  54.1%\n"
          ]
        },
        {
          "metadata": {
            "tags": null
          },
          "name": "stderr",
          "output_type": "stream",
          "text": [
            "100%|██████████| 169/169 [00:28<00:00,  6.00it/s]\n"
          ]
        },
        {
          "metadata": {
            "tags": null
          },
          "name": "stdout",
          "output_type": "stream",
          "text": [
            "epoch: 34 training loss:  1.248 training accuracy:  61.7%  validation loss:  1.598 validation accuracy:  55.2%\n"
          ]
        },
        {
          "metadata": {
            "tags": null
          },
          "name": "stderr",
          "output_type": "stream",
          "text": [
            "100%|██████████| 169/169 [00:27<00:00,  6.06it/s]\n"
          ]
        },
        {
          "metadata": {
            "tags": null
          },
          "name": "stdout",
          "output_type": "stream",
          "text": [
            "epoch: 35 training loss:  1.225 training accuracy:  62.3%  validation loss:  1.647 validation accuracy:  55.1%\n"
          ]
        },
        {
          "metadata": {
            "tags": null
          },
          "name": "stderr",
          "output_type": "stream",
          "text": [
            "100%|██████████| 169/169 [00:27<00:00,  6.08it/s]\n"
          ]
        },
        {
          "metadata": {
            "tags": null
          },
          "name": "stdout",
          "output_type": "stream",
          "text": [
            "epoch: 36 training loss:  1.205 training accuracy:  63.0%  validation loss:  1.668 validation accuracy:  55.0%\n"
          ]
        },
        {
          "metadata": {
            "tags": null
          },
          "name": "stderr",
          "output_type": "stream",
          "text": [
            "100%|██████████| 169/169 [00:28<00:00,  5.96it/s]\n"
          ]
        },
        {
          "metadata": {
            "tags": null
          },
          "name": "stdout",
          "output_type": "stream",
          "text": [
            "epoch: 37 training loss:  1.189 training accuracy:  62.8%  validation loss:  1.627 validation accuracy:  55.7%\n"
          ]
        },
        {
          "metadata": {
            "tags": null
          },
          "name": "stderr",
          "output_type": "stream",
          "text": [
            "100%|██████████| 169/169 [00:28<00:00,  5.84it/s]\n"
          ]
        },
        {
          "metadata": {
            "tags": null
          },
          "name": "stdout",
          "output_type": "stream",
          "text": [
            "epoch: 38 training loss:  1.181 training accuracy:  63.9%  validation loss:  1.587 validation accuracy:  56.7%\n"
          ]
        },
        {
          "metadata": {
            "tags": null
          },
          "name": "stderr",
          "output_type": "stream",
          "text": [
            "100%|██████████| 169/169 [00:28<00:00,  6.03it/s]\n"
          ]
        },
        {
          "metadata": {
            "tags": null
          },
          "name": "stdout",
          "output_type": "stream",
          "text": [
            "epoch: 39 training loss:  1.148 training accuracy:  64.3%  validation loss:  1.558 validation accuracy:  56.5%\n"
          ]
        },
        {
          "metadata": {
            "tags": null
          },
          "name": "stderr",
          "output_type": "stream",
          "text": [
            "100%|██████████| 169/169 [00:27<00:00,  6.04it/s]\n"
          ]
        },
        {
          "metadata": {
            "tags": null
          },
          "name": "stdout",
          "output_type": "stream",
          "text": [
            "epoch: 40 training loss:  1.138 training accuracy:  65.2%  validation loss:  1.555 validation accuracy:  58.8%\n"
          ]
        },
        {
          "metadata": {
            "tags": null
          },
          "name": "stderr",
          "output_type": "stream",
          "text": [
            "100%|██████████| 169/169 [00:28<00:00,  5.94it/s]\n"
          ]
        },
        {
          "metadata": {
            "tags": null
          },
          "name": "stdout",
          "output_type": "stream",
          "text": [
            "epoch: 41 training loss:  1.112 training accuracy:  65.8%  validation loss:  1.578 validation accuracy:  57.4%\n"
          ]
        },
        {
          "metadata": {
            "tags": null
          },
          "name": "stderr",
          "output_type": "stream",
          "text": [
            "100%|██████████| 169/169 [00:28<00:00,  5.98it/s]\n"
          ]
        },
        {
          "metadata": {
            "tags": null
          },
          "name": "stdout",
          "output_type": "stream",
          "text": [
            "epoch: 42 training loss:  1.076 training accuracy:  67.0%  validation loss:  1.581 validation accuracy:  56.9%\n"
          ]
        },
        {
          "metadata": {
            "tags": null
          },
          "name": "stderr",
          "output_type": "stream",
          "text": [
            "100%|██████████| 169/169 [00:28<00:00,  5.98it/s]\n"
          ]
        },
        {
          "metadata": {
            "tags": null
          },
          "name": "stdout",
          "output_type": "stream",
          "text": [
            "epoch: 43 training loss:  1.071 training accuracy:  67.0%  validation loss:  1.613 validation accuracy:  57.2%\n"
          ]
        },
        {
          "metadata": {
            "tags": null
          },
          "name": "stderr",
          "output_type": "stream",
          "text": [
            "100%|██████████| 169/169 [00:27<00:00,  6.05it/s]\n"
          ]
        },
        {
          "metadata": {
            "tags": null
          },
          "name": "stdout",
          "output_type": "stream",
          "text": [
            "epoch: 44 training loss:  1.079 training accuracy:  66.7%  validation loss:  1.656 validation accuracy:  56.1%\n"
          ]
        },
        {
          "metadata": {
            "tags": null
          },
          "name": "stderr",
          "output_type": "stream",
          "text": [
            "100%|██████████| 169/169 [00:27<00:00,  6.07it/s]\n"
          ]
        },
        {
          "metadata": {
            "tags": null
          },
          "name": "stdout",
          "output_type": "stream",
          "text": [
            "epoch: 45 training loss:  1.028 training accuracy:  67.4%  validation loss:  1.662 validation accuracy:  56.6%\n"
          ]
        },
        {
          "metadata": {
            "tags": null
          },
          "name": "stderr",
          "output_type": "stream",
          "text": [
            "100%|██████████| 169/169 [00:28<00:00,  6.01it/s]\n"
          ]
        },
        {
          "metadata": {
            "tags": null
          },
          "name": "stdout",
          "output_type": "stream",
          "text": [
            "epoch: 46 training loss:  1.013 training accuracy:  68.0%  validation loss:  1.605 validation accuracy:  57.7%\n"
          ]
        },
        {
          "metadata": {
            "tags": null
          },
          "name": "stderr",
          "output_type": "stream",
          "text": [
            "100%|██████████| 169/169 [00:28<00:00,  6.02it/s]\n"
          ]
        },
        {
          "metadata": {
            "tags": null
          },
          "name": "stdout",
          "output_type": "stream",
          "text": [
            "epoch: 47 training loss:  0.997 training accuracy:  68.9%  validation loss:  1.590 validation accuracy:  57.9%\n"
          ]
        },
        {
          "metadata": {
            "tags": null
          },
          "name": "stderr",
          "output_type": "stream",
          "text": [
            "100%|██████████| 169/169 [00:27<00:00,  6.04it/s]\n"
          ]
        },
        {
          "metadata": {
            "tags": null
          },
          "name": "stdout",
          "output_type": "stream",
          "text": [
            "epoch: 48 training loss:  0.972 training accuracy:  69.7%  validation loss:  1.563 validation accuracy:  58.1%\n"
          ]
        },
        {
          "metadata": {
            "tags": null
          },
          "name": "stderr",
          "output_type": "stream",
          "text": [
            "100%|██████████| 169/169 [00:27<00:00,  6.08it/s]\n"
          ]
        },
        {
          "metadata": {
            "tags": null
          },
          "name": "stdout",
          "output_type": "stream",
          "text": [
            "epoch: 49 training loss:  0.972 training accuracy:  69.2%  validation loss:  1.607 validation accuracy:  57.0%\n"
          ]
        },
        {
          "metadata": {
            "tags": null
          },
          "name": "stderr",
          "output_type": "stream",
          "text": [
            "100%|██████████| 169/169 [00:27<00:00,  6.14it/s]\n"
          ]
        },
        {
          "metadata": {
            "tags": null
          },
          "name": "stdout",
          "output_type": "stream",
          "text": [
            "epoch: 50 training loss:  0.935 training accuracy:  70.7%  validation loss:  1.638 validation accuracy:  58.9%\n"
          ]
        },
        {
          "metadata": {
            "tags": null
          },
          "name": "stderr",
          "output_type": "stream",
          "text": [
            "100%|██████████| 169/169 [00:27<00:00,  6.06it/s]\n"
          ]
        },
        {
          "metadata": {
            "tags": null
          },
          "name": "stdout",
          "output_type": "stream",
          "text": [
            "epoch: 51 training loss:  0.937 training accuracy:  70.4%  validation loss:  1.579 validation accuracy:  59.0%\n"
          ]
        },
        {
          "metadata": {
            "tags": null
          },
          "name": "stderr",
          "output_type": "stream",
          "text": [
            "100%|██████████| 169/169 [00:27<00:00,  6.09it/s]\n"
          ]
        },
        {
          "metadata": {
            "tags": null
          },
          "name": "stdout",
          "output_type": "stream",
          "text": [
            "epoch: 52 training loss:  0.905 training accuracy:  71.3%  validation loss:  1.596 validation accuracy:  57.3%\n"
          ]
        },
        {
          "metadata": {
            "tags": null
          },
          "name": "stderr",
          "output_type": "stream",
          "text": [
            "100%|██████████| 169/169 [00:27<00:00,  6.11it/s]\n"
          ]
        },
        {
          "metadata": {
            "tags": null
          },
          "name": "stdout",
          "output_type": "stream",
          "text": [
            "epoch: 53 training loss:  0.892 training accuracy:  72.3%  validation loss:  1.574 validation accuracy:  59.0%\n"
          ]
        },
        {
          "metadata": {
            "tags": null
          },
          "name": "stderr",
          "output_type": "stream",
          "text": [
            "100%|██████████| 169/169 [00:28<00:00,  6.00it/s]\n"
          ]
        },
        {
          "metadata": {
            "tags": null
          },
          "name": "stdout",
          "output_type": "stream",
          "text": [
            "epoch: 54 training loss:  0.873 training accuracy:  72.2%  validation loss:  1.539 validation accuracy:  59.5%\n"
          ]
        },
        {
          "metadata": {
            "tags": null
          },
          "name": "stderr",
          "output_type": "stream",
          "text": [
            "100%|██████████| 169/169 [00:27<00:00,  6.09it/s]\n"
          ]
        },
        {
          "metadata": {
            "tags": null
          },
          "name": "stdout",
          "output_type": "stream",
          "text": [
            "epoch: 55 training loss:  0.862 training accuracy:  72.8%  validation loss:  1.641 validation accuracy:  59.2%\n"
          ]
        },
        {
          "metadata": {
            "tags": null
          },
          "name": "stderr",
          "output_type": "stream",
          "text": [
            "100%|██████████| 169/169 [00:28<00:00,  6.02it/s]\n"
          ]
        },
        {
          "metadata": {
            "tags": null
          },
          "name": "stdout",
          "output_type": "stream",
          "text": [
            "epoch: 56 training loss:  0.849 training accuracy:  73.3%  validation loss:  1.518 validation accuracy:  59.9%\n"
          ]
        },
        {
          "metadata": {
            "tags": null
          },
          "name": "stderr",
          "output_type": "stream",
          "text": [
            "100%|██████████| 169/169 [00:27<00:00,  6.10it/s]\n"
          ]
        },
        {
          "metadata": {
            "tags": null
          },
          "name": "stdout",
          "output_type": "stream",
          "text": [
            "epoch: 57 training loss:  0.832 training accuracy:  73.7%  validation loss:  1.580 validation accuracy:  58.7%\n"
          ]
        },
        {
          "metadata": {
            "tags": null
          },
          "name": "stderr",
          "output_type": "stream",
          "text": [
            "100%|██████████| 169/169 [00:27<00:00,  6.07it/s]\n"
          ]
        },
        {
          "metadata": {
            "tags": null
          },
          "name": "stdout",
          "output_type": "stream",
          "text": [
            "epoch: 58 training loss:  0.821 training accuracy:  73.9%  validation loss:  1.630 validation accuracy:  59.3%\n"
          ]
        },
        {
          "metadata": {
            "tags": null
          },
          "name": "stderr",
          "output_type": "stream",
          "text": [
            "100%|██████████| 169/169 [00:27<00:00,  6.07it/s]\n"
          ]
        },
        {
          "metadata": {
            "tags": null
          },
          "name": "stdout",
          "output_type": "stream",
          "text": [
            "epoch: 59 training loss:  0.810 training accuracy:  74.5%  validation loss:  1.595 validation accuracy:  59.5%\n"
          ]
        },
        {
          "metadata": {
            "tags": null
          },
          "name": "stderr",
          "output_type": "stream",
          "text": [
            "100%|██████████| 169/169 [00:28<00:00,  5.94it/s]\n"
          ]
        },
        {
          "metadata": {
            "tags": null
          },
          "name": "stdout",
          "output_type": "stream",
          "text": [
            "epoch: 60 training loss:  0.776 training accuracy:  75.5%  validation loss:  1.556 validation accuracy:  59.7%\n"
          ]
        },
        {
          "metadata": {
            "tags": null
          },
          "name": "stderr",
          "output_type": "stream",
          "text": [
            "100%|██████████| 169/169 [00:27<00:00,  6.05it/s]\n"
          ]
        },
        {
          "metadata": {
            "tags": null
          },
          "name": "stdout",
          "output_type": "stream",
          "text": [
            "epoch: 61 training loss:  0.761 training accuracy:  75.6%  validation loss:  1.624 validation accuracy:  59.8%\n"
          ]
        },
        {
          "metadata": {
            "tags": null
          },
          "name": "stderr",
          "output_type": "stream",
          "text": [
            "100%|██████████| 169/169 [00:27<00:00,  6.07it/s]\n"
          ]
        },
        {
          "metadata": {
            "tags": null
          },
          "name": "stdout",
          "output_type": "stream",
          "text": [
            "epoch: 62 training loss:  0.757 training accuracy:  76.0%  validation loss:  1.643 validation accuracy:  60.1%\n"
          ]
        },
        {
          "metadata": {
            "tags": null
          },
          "name": "stderr",
          "output_type": "stream",
          "text": [
            "100%|██████████| 169/169 [00:28<00:00,  6.00it/s]\n"
          ]
        },
        {
          "metadata": {
            "tags": null
          },
          "name": "stdout",
          "output_type": "stream",
          "text": [
            "epoch: 63 training loss:  0.732 training accuracy:  76.4%  validation loss:  1.641 validation accuracy:  59.9%\n"
          ]
        },
        {
          "metadata": {
            "tags": null
          },
          "name": "stderr",
          "output_type": "stream",
          "text": [
            "100%|██████████| 169/169 [00:28<00:00,  5.96it/s]\n"
          ]
        },
        {
          "metadata": {
            "tags": null
          },
          "name": "stdout",
          "output_type": "stream",
          "text": [
            "epoch: 64 training loss:  0.715 training accuracy:  77.2%  validation loss:  1.714 validation accuracy:  58.5%\n"
          ]
        },
        {
          "metadata": {
            "tags": null
          },
          "name": "stderr",
          "output_type": "stream",
          "text": [
            "100%|██████████| 169/169 [00:28<00:00,  5.97it/s]\n"
          ]
        },
        {
          "metadata": {
            "tags": null
          },
          "name": "stdout",
          "output_type": "stream",
          "text": [
            "epoch: 65 training loss:  0.684 training accuracy:  77.9%  validation loss:  1.688 validation accuracy:  60.1%\n"
          ]
        },
        {
          "metadata": {
            "tags": null
          },
          "name": "stderr",
          "output_type": "stream",
          "text": [
            "100%|██████████| 169/169 [00:28<00:00,  5.97it/s]\n"
          ]
        },
        {
          "metadata": {
            "tags": null
          },
          "name": "stdout",
          "output_type": "stream",
          "text": [
            "epoch: 66 training loss:  0.693 training accuracy:  77.8%  validation loss:  1.622 validation accuracy:  59.7%\n"
          ]
        },
        {
          "metadata": {
            "tags": null
          },
          "name": "stderr",
          "output_type": "stream",
          "text": [
            "100%|██████████| 169/169 [00:27<00:00,  6.04it/s]\n"
          ]
        },
        {
          "metadata": {
            "tags": null
          },
          "name": "stdout",
          "output_type": "stream",
          "text": [
            "epoch: 67 training loss:  0.700 training accuracy:  77.9%  validation loss:  1.673 validation accuracy:  60.2%\n"
          ]
        },
        {
          "metadata": {
            "tags": null
          },
          "name": "stderr",
          "output_type": "stream",
          "text": [
            "100%|██████████| 169/169 [00:27<00:00,  6.17it/s]\n"
          ]
        },
        {
          "metadata": {
            "tags": null
          },
          "name": "stdout",
          "output_type": "stream",
          "text": [
            "epoch: 68 training loss:  0.668 training accuracy:  78.7%  validation loss:  1.789 validation accuracy:  59.0%\n"
          ]
        },
        {
          "metadata": {
            "tags": null
          },
          "name": "stderr",
          "output_type": "stream",
          "text": [
            "100%|██████████| 169/169 [00:27<00:00,  6.17it/s]\n"
          ]
        },
        {
          "metadata": {
            "tags": null
          },
          "name": "stdout",
          "output_type": "stream",
          "text": [
            "epoch: 69 training loss:  0.638 training accuracy:  79.4%  validation loss:  1.691 validation accuracy:  59.1%\n"
          ]
        },
        {
          "metadata": {
            "tags": null
          },
          "name": "stderr",
          "output_type": "stream",
          "text": [
            "100%|██████████| 169/169 [00:27<00:00,  6.11it/s]\n"
          ]
        },
        {
          "metadata": {
            "tags": null
          },
          "name": "stdout",
          "output_type": "stream",
          "text": [
            "epoch: 70 training loss:  0.622 training accuracy:  79.8%  validation loss:  1.618 validation accuracy:  61.0%\n"
          ]
        },
        {
          "metadata": {
            "tags": null
          },
          "name": "stderr",
          "output_type": "stream",
          "text": [
            "100%|██████████| 169/169 [00:27<00:00,  6.21it/s]\n"
          ]
        },
        {
          "metadata": {
            "tags": null
          },
          "name": "stdout",
          "output_type": "stream",
          "text": [
            "epoch: 71 training loss:  0.617 training accuracy:  80.4%  validation loss:  1.646 validation accuracy:  59.7%\n"
          ]
        },
        {
          "metadata": {
            "tags": null
          },
          "name": "stderr",
          "output_type": "stream",
          "text": [
            "100%|██████████| 169/169 [00:28<00:00,  5.99it/s]\n"
          ]
        },
        {
          "metadata": {
            "tags": null
          },
          "name": "stdout",
          "output_type": "stream",
          "text": [
            "epoch: 72 training loss:  0.604 training accuracy:  80.1%  validation loss:  1.633 validation accuracy:  60.3%\n"
          ]
        },
        {
          "metadata": {
            "tags": null
          },
          "name": "stderr",
          "output_type": "stream",
          "text": [
            "100%|██████████| 169/169 [00:28<00:00,  5.99it/s]\n"
          ]
        },
        {
          "metadata": {
            "tags": null
          },
          "name": "stdout",
          "output_type": "stream",
          "text": [
            "epoch: 73 training loss:  0.594 training accuracy:  80.7%  validation loss:  1.652 validation accuracy:  60.0%\n"
          ]
        },
        {
          "metadata": {
            "tags": null
          },
          "name": "stderr",
          "output_type": "stream",
          "text": [
            "100%|██████████| 169/169 [00:28<00:00,  6.03it/s]\n"
          ]
        },
        {
          "metadata": {
            "tags": null
          },
          "name": "stdout",
          "output_type": "stream",
          "text": [
            "epoch: 74 training loss:  0.588 training accuracy:  81.2%  validation loss:  1.628 validation accuracy:  61.2%\n"
          ]
        },
        {
          "metadata": {
            "tags": null
          },
          "name": "stderr",
          "output_type": "stream",
          "text": [
            "100%|██████████| 169/169 [00:28<00:00,  5.99it/s]\n"
          ]
        },
        {
          "metadata": {
            "tags": null
          },
          "name": "stdout",
          "output_type": "stream",
          "text": [
            "epoch: 75 training loss:  0.563 training accuracy:  81.9%  validation loss:  1.620 validation accuracy:  60.9%\n"
          ]
        },
        {
          "metadata": {
            "tags": null
          },
          "name": "stderr",
          "output_type": "stream",
          "text": [
            "100%|██████████| 169/169 [00:27<00:00,  6.12it/s]\n"
          ]
        },
        {
          "metadata": {
            "tags": null
          },
          "name": "stdout",
          "output_type": "stream",
          "text": [
            "epoch: 76 training loss:  0.550 training accuracy:  82.1%  validation loss:  1.653 validation accuracy:  61.7%\n"
          ]
        },
        {
          "metadata": {
            "tags": null
          },
          "name": "stderr",
          "output_type": "stream",
          "text": [
            "100%|██████████| 169/169 [00:27<00:00,  6.12it/s]\n"
          ]
        },
        {
          "metadata": {
            "tags": null
          },
          "name": "stdout",
          "output_type": "stream",
          "text": [
            "epoch: 77 training loss:  0.552 training accuracy:  82.5%  validation loss:  1.671 validation accuracy:  62.1%\n"
          ]
        },
        {
          "metadata": {
            "tags": null
          },
          "name": "stderr",
          "output_type": "stream",
          "text": [
            "100%|██████████| 169/169 [00:27<00:00,  6.10it/s]\n"
          ]
        },
        {
          "metadata": {
            "tags": null
          },
          "name": "stdout",
          "output_type": "stream",
          "text": [
            "epoch: 78 training loss:  0.525 training accuracy:  82.8%  validation loss:  1.744 validation accuracy:  60.3%\n"
          ]
        },
        {
          "metadata": {
            "tags": null
          },
          "name": "stderr",
          "output_type": "stream",
          "text": [
            "100%|██████████| 169/169 [00:27<00:00,  6.16it/s]\n"
          ]
        },
        {
          "metadata": {
            "tags": null
          },
          "name": "stdout",
          "output_type": "stream",
          "text": [
            "epoch: 79 training loss:  0.531 training accuracy:  83.0%  validation loss:  1.640 validation accuracy:  60.4%\n"
          ]
        },
        {
          "metadata": {
            "tags": null
          },
          "name": "stderr",
          "output_type": "stream",
          "text": [
            "100%|██████████| 169/169 [00:27<00:00,  6.09it/s]\n"
          ]
        },
        {
          "metadata": {
            "tags": null
          },
          "name": "stdout",
          "output_type": "stream",
          "text": [
            "epoch: 80 training loss:  0.506 training accuracy:  83.8%  validation loss:  1.677 validation accuracy:  61.6%\n"
          ]
        },
        {
          "metadata": {
            "tags": null
          },
          "name": "stderr",
          "output_type": "stream",
          "text": [
            "100%|██████████| 169/169 [00:27<00:00,  6.07it/s]\n"
          ]
        },
        {
          "metadata": {
            "tags": null
          },
          "name": "stdout",
          "output_type": "stream",
          "text": [
            "epoch: 81 training loss:  0.489 training accuracy:  83.7%  validation loss:  1.628 validation accuracy:  61.5%\n"
          ]
        },
        {
          "metadata": {
            "tags": null
          },
          "name": "stderr",
          "output_type": "stream",
          "text": [
            "100%|██████████| 169/169 [00:28<00:00,  6.03it/s]\n"
          ]
        },
        {
          "metadata": {
            "tags": null
          },
          "name": "stdout",
          "output_type": "stream",
          "text": [
            "epoch: 82 training loss:  0.498 training accuracy:  83.9%  validation loss:  1.730 validation accuracy:  60.8%\n"
          ]
        },
        {
          "metadata": {
            "tags": null
          },
          "name": "stderr",
          "output_type": "stream",
          "text": [
            "100%|██████████| 169/169 [00:27<00:00,  6.04it/s]\n"
          ]
        },
        {
          "metadata": {
            "tags": null
          },
          "name": "stdout",
          "output_type": "stream",
          "text": [
            "epoch: 83 training loss:  0.485 training accuracy:  84.2%  validation loss:  1.716 validation accuracy:  61.4%\n"
          ]
        },
        {
          "metadata": {
            "tags": null
          },
          "name": "stderr",
          "output_type": "stream",
          "text": [
            "100%|██████████| 169/169 [00:27<00:00,  6.12it/s]\n"
          ]
        },
        {
          "metadata": {
            "tags": null
          },
          "name": "stdout",
          "output_type": "stream",
          "text": [
            "epoch: 84 training loss:  0.463 training accuracy:  85.2%  validation loss:  1.737 validation accuracy:  61.3%\n"
          ]
        },
        {
          "metadata": {
            "tags": null
          },
          "name": "stderr",
          "output_type": "stream",
          "text": [
            "100%|██████████| 169/169 [00:27<00:00,  6.13it/s]\n"
          ]
        },
        {
          "metadata": {
            "tags": null
          },
          "name": "stdout",
          "output_type": "stream",
          "text": [
            "epoch: 85 training loss:  0.462 training accuracy:  85.0%  validation loss:  1.662 validation accuracy:  61.1%\n"
          ]
        },
        {
          "output_type": "stream",
          "name": "stderr",
          "text": [
            "100%|██████████| 169/169 [00:28<00:00,  5.96it/s]\n"
          ]
        },
        {
          "output_type": "stream",
          "name": "stdout",
          "text": [
            "epoch: 86 training loss:  0.449 training accuracy:  85.4%  validation loss:  1.713 validation accuracy:  62.1%\n"
          ]
        },
        {
          "output_type": "stream",
          "name": "stderr",
          "text": [
            "100%|██████████| 169/169 [00:28<00:00,  6.01it/s]\n"
          ]
        },
        {
          "output_type": "stream",
          "name": "stdout",
          "text": [
            "epoch: 87 training loss:  0.428 training accuracy:  85.9%  validation loss:  1.840 validation accuracy:  61.7%\n"
          ]
        },
        {
          "output_type": "stream",
          "name": "stderr",
          "text": [
            "100%|██████████| 169/169 [00:28<00:00,  5.99it/s]\n"
          ]
        },
        {
          "output_type": "stream",
          "name": "stdout",
          "text": [
            "epoch: 88 training loss:  0.417 training accuracy:  86.7%  validation loss:  1.706 validation accuracy:  61.7%\n"
          ]
        },
        {
          "output_type": "stream",
          "name": "stderr",
          "text": [
            "100%|██████████| 169/169 [00:28<00:00,  5.92it/s]\n"
          ]
        },
        {
          "output_type": "stream",
          "name": "stdout",
          "text": [
            "epoch: 89 training loss:  0.411 training accuracy:  86.4%  validation loss:  1.709 validation accuracy:  61.9%\n"
          ]
        },
        {
          "output_type": "stream",
          "name": "stderr",
          "text": [
            "100%|██████████| 169/169 [00:28<00:00,  5.95it/s]\n"
          ]
        },
        {
          "output_type": "stream",
          "name": "stdout",
          "text": [
            "epoch: 90 training loss:  0.412 training accuracy:  87.0%  validation loss:  1.801 validation accuracy:  60.9%\n"
          ]
        },
        {
          "output_type": "stream",
          "name": "stderr",
          "text": [
            "100%|██████████| 169/169 [00:27<00:00,  6.06it/s]\n"
          ]
        },
        {
          "output_type": "stream",
          "name": "stdout",
          "text": [
            "epoch: 91 training loss:  0.400 training accuracy:  87.0%  validation loss:  1.806 validation accuracy:  62.5%\n"
          ]
        },
        {
          "output_type": "stream",
          "name": "stderr",
          "text": [
            "100%|██████████| 169/169 [00:27<00:00,  6.04it/s]\n"
          ]
        },
        {
          "output_type": "stream",
          "name": "stdout",
          "text": [
            "epoch: 92 training loss:  0.398 training accuracy:  86.8%  validation loss:  1.736 validation accuracy:  62.5%\n"
          ]
        },
        {
          "output_type": "stream",
          "name": "stderr",
          "text": [
            "100%|██████████| 169/169 [00:28<00:00,  6.03it/s]\n"
          ]
        },
        {
          "output_type": "stream",
          "name": "stdout",
          "text": [
            "epoch: 93 training loss:  0.372 training accuracy:  87.8%  validation loss:  1.755 validation accuracy:  62.0%\n"
          ]
        },
        {
          "output_type": "stream",
          "name": "stderr",
          "text": [
            "100%|██████████| 169/169 [00:27<00:00,  6.07it/s]\n"
          ]
        },
        {
          "output_type": "stream",
          "name": "stdout",
          "text": [
            "epoch: 94 training loss:  0.371 training accuracy:  87.8%  validation loss:  1.797 validation accuracy:  61.6%\n"
          ]
        },
        {
          "output_type": "stream",
          "name": "stderr",
          "text": [
            "100%|██████████| 169/169 [00:28<00:00,  6.00it/s]\n"
          ]
        },
        {
          "output_type": "stream",
          "name": "stdout",
          "text": [
            "epoch: 95 training loss:  0.348 training accuracy:  88.7%  validation loss:  1.918 validation accuracy:  58.9%\n"
          ]
        },
        {
          "output_type": "stream",
          "name": "stderr",
          "text": [
            "100%|██████████| 169/169 [00:27<00:00,  6.05it/s]\n"
          ]
        },
        {
          "output_type": "stream",
          "name": "stdout",
          "text": [
            "epoch: 96 training loss:  0.361 training accuracy:  88.3%  validation loss:  1.810 validation accuracy:  61.0%\n"
          ]
        },
        {
          "output_type": "stream",
          "name": "stderr",
          "text": [
            "100%|██████████| 169/169 [00:27<00:00,  6.05it/s]\n"
          ]
        },
        {
          "output_type": "stream",
          "name": "stdout",
          "text": [
            "epoch: 97 training loss:  0.355 training accuracy:  88.7%  validation loss:  1.705 validation accuracy:  62.4%\n"
          ]
        },
        {
          "output_type": "stream",
          "name": "stderr",
          "text": [
            "100%|██████████| 169/169 [00:28<00:00,  6.02it/s]\n"
          ]
        },
        {
          "output_type": "stream",
          "name": "stdout",
          "text": [
            "epoch: 98 training loss:  0.331 training accuracy:  89.0%  validation loss:  1.888 validation accuracy:  61.7%\n"
          ]
        },
        {
          "output_type": "stream",
          "name": "stderr",
          "text": [
            "100%|██████████| 169/169 [00:28<00:00,  5.96it/s]\n"
          ]
        },
        {
          "output_type": "stream",
          "name": "stdout",
          "text": [
            "epoch: 99 training loss:  0.338 training accuracy:  88.9%  validation loss:  1.701 validation accuracy:  62.2%\n"
          ]
        }
      ]
    },
    {
      "cell_type": "code",
      "execution_count": 101,
      "metadata": {
        "id": "v7V5RsgOIIDZ",
        "colab": {
          "base_uri": "https://localhost:8080/",
          "height": 295
        },
        "outputId": "7bd9ccb9-75dc-4221-8bc5-f720ee78f799"
      },
      "outputs": [
        {
          "output_type": "display_data",
          "data": {
            "image/png": "[encoded data removed]",
            "text/plain": [
              "<Figure size 432x288 with 2 Axes>"
            ]
          },
          "metadata": {
            "needs_background": "light"
          }
        }
      ],
      "source": [
        "viz_model('results/FinecompletedatasetmodelH.pt')"
      ]
    },
    {
      "cell_type": "markdown",
      "metadata": {
        "id": "NlZlnGig3UD8"
      },
      "source": [
        "\n",
        "### 1.2.3 Training comparison [4 marks]\n",
        "\n",
        "Display, side-by-side or on one single graph, the training and validation loss graphs for the single-batch training (section 1.1.3), on the full training set (1.2.1) and your final fine-tuned model (1.2.2). "
      ]
    },
    {
      "cell_type": "code",
      "execution_count": null,
      "metadata": {
        "colab": {
          "base_uri": "https://localhost:8080/",
          "height": 295
        },
        "id": "fTPO8yk13UD8",
        "outputId": "91dee622-3604-44b5-b7c7-cb28d9c48766"
      },
      "outputs": [
        {
          "output_type": "display_data",
          "data": {
            "image/png": "[encoded data removed]",
            "text/plain": [
              "<Figure size 432x288 with 2 Axes>"
            ]
          },
          "metadata": {
            "needs_background": "light"
          }
        }
      ],
      "source": [
        "#single batch\n",
        "viz_model('results/singlebatch50epochs.pt')"
      ]
    },
    {
      "cell_type": "code",
      "execution_count": null,
      "metadata": {
        "colab": {
          "base_uri": "https://localhost:8080/",
          "height": 295
        },
        "id": "CK9JVtgS3UD9",
        "outputId": "68e799e7-90f2-4755-dbbc-a0e827dbb393"
      },
      "outputs": [
        {
          "output_type": "display_data",
          "data": {
            "image/png": "[encoded data removed]",
            "text/plain": [
              "<Figure size 432x288 with 2 Axes>"
            ]
          },
          "metadata": {
            "needs_background": "light"
          }
        }
      ],
      "source": [
        "#full training \n",
        "viz_model('results/completedataset50epochs.pt')"
      ]
    },
    {
      "cell_type": "code",
      "execution_count": null,
      "metadata": {
        "colab": {
          "base_uri": "https://localhost:8080/",
          "height": 295
        },
        "id": "U8ChEV483UD9",
        "outputId": "23e14fde-81ea-4cee-e33b-377cdc24e318"
      },
      "outputs": [
        {
          "output_type": "display_data",
          "data": {
            "image/png": "[encoded data removed]",
            "text/plain": [
              "<Figure size 432x288 with 2 Axes>"
            ]
          },
          "metadata": {
            "needs_background": "light"
          }
        }
      ],
      "source": [
        "#fine-tuned\n",
        "viz_model('results/Finecompletedataset50epochs2dropout.pt')"
      ]
    },
    {
      "cell_type": "markdown",
      "metadata": {
        "id": "NZ5txF7u3UD-"
      },
      "source": [
        "Explain what can be seen in the graphs.\n",
        "\n",
        "--> Double click here to respond"
      ]
    },
    {
      "cell_type": "markdown",
      "metadata": {
        "id": "gyPnWqK73UEA"
      },
      "source": [
        "\n",
        "### 1.2.4 Confusion matrices [7 marks]\n",
        "\n",
        "Use your architecture with best accuracy to generate two confusion matrices, one for the training set and one for the validation set. Remember to use the whole validation and training sets, and to include all your relevant code. Display the confusion matrices in a meaningful way which clearly indicates what percentage of the data is represented in each position.\n",
        "\n"
      ]
    },
    {
      "cell_type": "code",
      "execution_count": 86,
      "metadata": {
        "id": "nmaHFU22KAuI"
      },
      "outputs": [],
      "source": [
        "categories_names=(pd.read_csv(mapping_img30,header=None,sep=\"\\t\")).drop(columns=[2])\n",
        "categories_names=categories_names[1]\n",
        "categories_names = categories_names.tolist()"
      ]
    },
    {
      "cell_type": "code",
      "execution_count": 77,
      "metadata": {
        "id": "GKZBjlPN2wT-"
      },
      "outputs": [],
      "source": [
        "def accuracy(cnfm):\n",
        "    return cnfm.trace()/cnfm.sum((0,1))\n",
        "\n",
        "def recalls(cnfm):\n",
        "    return np.diag(cnfm)/cnfm.sum(1)\n",
        "\n",
        "def precisions(cnfm):\n",
        "    return np.diag(cnfm)/cnfm.sum(0)  "
      ]
    },
    {
      "cell_type": "code",
      "execution_count": 94,
      "metadata": {
        "id": "DGV0NyS_KCCW"
      },
      "outputs": [],
      "source": [
        "from sklearn.metrics import confusion_matrix\n",
        "import seaborn as sns\n",
        "def get_all_pred(model,loader,categories_names):\n",
        "    all_preds=torch.tensor([])\n",
        "    all_labels=torch.tensor([])\n",
        "    i=0\n",
        "    with torch.no_grad():\n",
        "        for batch in tqdm(loader):\n",
        "            images,label=batch\n",
        "            preds=model(images.to(device=device))\n",
        "            \n",
        "            all_preds=torch.cat((all_preds.to(device=device),preds.to(device=device)),dim=0)\n",
        "            all_labels=torch.cat((all_labels.to(device=device),label.to(device=device)),dim=0)\n",
        "            \n",
        "        fig, ax = plt.subplots(figsize=(10,10))\n",
        "        cm=confusion_matrix(all_labels.tolist(),all_preds.argmax(dim=1).tolist())\n",
        "        conf_matrix=pd.DataFrame(data=cm,columns=categories_names\n",
        "                                          ,index=categories_names)\n",
        "        sns.heatmap(conf_matrix, annot=True, fmt=\"d\",)\n",
        "        \n",
        "        plt.show()\n",
        "\n",
        "        # show per-class recall and precision\n",
        "        print(f\"Accuracy: {accuracy(cm) :.1%}\")\n",
        "        r = recalls(cm)\n",
        "        p = precisions(cm)\n",
        "        for i in range(len(categories_names)):\n",
        "            print(f\"Class {categories_names[i]} : Precision {p[i] :.1%}  Recall {r[i] :.1%}\")"
      ]
    },
    {
      "cell_type": "code",
      "execution_count": 110,
      "metadata": {
        "id": "HsODWOEDKHgM",
        "colab": {
          "base_uri": "https://localhost:8080/",
          "height": 1000
        },
        "outputId": "cdb9384a-821e-46f3-eabb-d5d6a0da80a9"
      },
      "outputs": [
        {
          "output_type": "stream",
          "name": "stderr",
          "text": [
            "\r  0%|          | 0/169 [00:00<?, ?it/s]/usr/local/lib/python3.7/dist-packages/torch/utils/data/dataloader.py:481: UserWarning: This DataLoader will create 6 worker processes in total. Our suggested max number of worker in current system is 2, which is smaller than what this DataLoader is going to create. Please be aware that excessive worker creation might get DataLoader running slow or even freeze, lower the worker number to avoid potential slowness/freeze if necessary.\n",
            "  cpuset_checked))\n",
            "100%|██████████| 169/169 [00:26<00:00,  6.41it/s]\n"
          ]
        },
        {
          "output_type": "display_data",
          "data": {
            "image/png": "[encoded data removed]",
            "text/plain": [
              "<Figure size 720x720 with 2 Axes>"
            ]
          },
          "metadata": {
            "needs_background": "light"
          }
        },
        {
          "output_type": "stream",
          "name": "stdout",
          "text": [
            "Accuracy: 71.0%\n",
            "Class baboon : Precision 52.4%  Recall 63.8%\n",
            "Class banana : Precision 55.5%  Recall 67.4%\n",
            "Class bee : Precision 63.0%  Recall 45.0%\n",
            "Class bison : Precision 81.1%  Recall 80.0%\n",
            "Class butterfly : Precision 88.3%  Recall 92.2%\n",
            "Class candle : Precision 56.7%  Recall 65.8%\n",
            "Class cardigan : Precision 78.3%  Recall 73.7%\n",
            "Class chihuahua : Precision 60.0%  Recall 67.6%\n",
            "Class elephant : Precision 81.9%  Recall 66.8%\n",
            "Class espresso : Precision 79.4%  Recall 82.7%\n",
            "Class fly : Precision 63.5%  Recall 70.8%\n",
            "Class goldfish : Precision 81.0%  Recall 80.6%\n",
            "Class goose : Precision 72.6%  Recall 73.4%\n",
            "Class grasshopper : Precision 62.6%  Recall 72.7%\n",
            "Class hourglass : Precision 61.4%  Recall 76.9%\n",
            "Class icecream : Precision 57.3%  Recall 55.0%\n",
            "Class ipod : Precision 73.7%  Recall 69.8%\n",
            "Class jellyfish : Precision 82.7%  Recall 76.4%\n",
            "Class koala : Precision 79.0%  Recall 79.3%\n",
            "Class ladybug : Precision 71.2%  Recall 75.7%\n",
            "Class lion : Precision 76.3%  Recall 72.8%\n",
            "Class mushroom : Precision 81.4%  Recall 66.4%\n",
            "Class penguin : Precision 82.1%  Recall 78.8%\n",
            "Class pig : Precision 54.8%  Recall 56.6%\n",
            "Class pizza : Precision 85.8%  Recall 81.6%\n",
            "Class pretzel : Precision 65.9%  Recall 58.9%\n",
            "Class redpanda : Precision 84.9%  Recall 85.4%\n",
            "Class refrigerator : Precision 86.4%  Recall 70.8%\n",
            "Class sombrero : Precision 63.6%  Recall 71.2%\n",
            "Class umbrella : Precision 64.8%  Recall 49.7%\n"
          ]
        }
      ],
      "source": [
        "get_all_pred(model_122e,train_loader,categories_names)"
      ]
    },
    {
      "cell_type": "markdown",
      "metadata": {
        "id": "oow5SZGw3UEG"
      },
      "source": [
        "What conclusions can be drawn from the confusion matrices?"
      ]
    },
    {
      "cell_type": "markdown",
      "metadata": {
        "id": "3DMKDJD53UEI"
      },
      "source": [
        "---> Double click to respond here"
      ]
    },
    {
      "cell_type": "markdown",
      "metadata": {
        "id": "iyfIFMYv3UEI"
      },
      "source": [
        "\n",
        "\n",
        "## 1.3 Testing on test data [18 marks]\n",
        "\n",
        "### 1.3.1 Dataset and generating predictions [6 marks]\n",
        "\n",
        "Create a PyTorch ```Dataset``` for the unlabeled test data in the test_set folder of the Kaggle competition and generate predictions using your final model. \n"
      ]
    },
    {
      "cell_type": "code",
      "execution_count": 19,
      "metadata": {
        "colab": {
          "base_uri": "https://localhost:8080/"
        },
        "id": "MwE8MlNr3UEJ",
        "outputId": "0491aff1-6d79-455c-baa5-e0575c8447ab"
      },
      "outputs": [
        {
          "output_type": "stream",
          "name": "stdout",
          "text": [
            "length of test images =  1500 image\n",
            "                                                path  class\n",
            "0  /content/drive/MyDrive/comp5623m-2022/test_set...      0\n",
            "1  /content/drive/MyDrive/comp5623m-2022/test_set...      0\n",
            "2  /content/drive/MyDrive/comp5623m-2022/test_set...      0\n",
            "3  /content/drive/MyDrive/comp5623m-2022/test_set...      0\n",
            "4  /content/drive/MyDrive/comp5623m-2022/test_set...      0\n"
          ]
        }
      ],
      "source": [
        "test_dir = ROOT + \"test_set/test_set\"\n",
        "img_paths= []\n",
        "img_name= []\n",
        "\n",
        "for entry in os.scandir(test_dir):\n",
        "    if (entry.is_file()):\n",
        "        img_paths.append(entry.path)\n",
        "        img_name.append(entry.name)\n",
        "            \n",
        "data = {'path': img_paths,'class': 0}\n",
        "\n",
        "test_df = pd.DataFrame(data, columns=['path','class'])\n",
        "\n",
        "\n",
        "print(\"length of test images = \", len(test_df), \"image\")\n",
        "print(test_df.head())\n",
        "\n",
        "transfrm = transforms.Compose([\n",
        "        transforms.ToTensor(),\n",
        "        transforms.Normalize(mean, std),\n",
        "    ])\n",
        "test_dataset = TinyImageNet30(\n",
        "    df=test_df,\n",
        "    transform=transfrm,\n",
        ")\n",
        "\n",
        "test_loader = DataLoader(\n",
        "    test_dataset,\n",
        "    batch_size=64,\n",
        "    shuffle=False,\n",
        "    num_workers=0\n",
        ")"
      ]
    },
    {
      "cell_type": "code",
      "execution_count": 20,
      "metadata": {
        "colab": {
          "base_uri": "https://localhost:8080/",
          "height": 232
        },
        "id": "JFLxG1ri3UEK",
        "outputId": "137223f3-47a4-4520-8001-767d3f3e970e",
        "scrolled": true
      },
      "outputs": [
        {
          "output_type": "stream",
          "name": "stdout",
          "text": [
            "torch.Size([64, 3, 64, 64])\n"
          ]
        },
        {
          "output_type": "error",
          "ename": "NameError",
          "evalue": "ignored",
          "traceback": [
            "\u001b[0;31m---------------------------------------------------------------------------\u001b[0m",
            "\u001b[0;31mNameError\u001b[0m                                 Traceback (most recent call last)",
            "\u001b[0;32m<ipython-input-20-4b6faa2a94bc>\u001b[0m in \u001b[0;36m<module>\u001b[0;34m()\u001b[0m\n\u001b[1;32m      5\u001b[0m \u001b[0mprint\u001b[0m\u001b[0;34m(\u001b[0m\u001b[0mimages\u001b[0m\u001b[0;34m.\u001b[0m\u001b[0msize\u001b[0m\u001b[0;34m(\u001b[0m\u001b[0;34m)\u001b[0m\u001b[0;34m)\u001b[0m\u001b[0;34m\u001b[0m\u001b[0;34m\u001b[0m\u001b[0m\n\u001b[1;32m      6\u001b[0m \u001b[0;34m\u001b[0m\u001b[0m\n\u001b[0;32m----> 7\u001b[0;31m \u001b[0mtimshow\u001b[0m\u001b[0;34m(\u001b[0m\u001b[0mutils\u001b[0m\u001b[0;34m.\u001b[0m\u001b[0mmake_grid\u001b[0m\u001b[0;34m(\u001b[0m\u001b[0mimages\u001b[0m\u001b[0;34m)\u001b[0m\u001b[0;34m)\u001b[0m\u001b[0;34m\u001b[0m\u001b[0;34m\u001b[0m\u001b[0m\n\u001b[0m\u001b[1;32m      8\u001b[0m \u001b[0mprint\u001b[0m\u001b[0;34m(\u001b[0m\u001b[0;34m*\u001b[0m\u001b[0mlabels\u001b[0m\u001b[0;34m.\u001b[0m\u001b[0mnumpy\u001b[0m\u001b[0;34m(\u001b[0m\u001b[0;34m)\u001b[0m\u001b[0;34m)\u001b[0m\u001b[0;34m\u001b[0m\u001b[0;34m\u001b[0m\u001b[0m\n",
            "\u001b[0;31mNameError\u001b[0m: name 'timshow' is not defined"
          ]
        }
      ],
      "source": [
        "\n",
        "dataiter = iter(test_loader)\n",
        "images, labels = dataiter.next()\n",
        "\n",
        "print(images.size())\n",
        "\n",
        "timshow(utils.make_grid(images))\n",
        "print(*labels.numpy())  "
      ]
    },
    {
      "cell_type": "code",
      "execution_count": 105,
      "metadata": {
        "id": "4S_9ILRG3UEM"
      },
      "outputs": [],
      "source": [
        "predicted_class = []\n",
        "for data in test_loader:\n",
        "        inputs, labels = data\n",
        "        inputs = inputs.to(device)\n",
        "        labels = labels.to(device)\n",
        "        # Forward, backward, and update parameters\n",
        "        outputs = model_122h(inputs)\n",
        "        \n",
        "        # the predicted lables / classes\n",
        "        _, predicted = torch.max(outputs.data, 1)\n",
        "        #add the predicted lables to the list\n",
        "        predicted_class.extend(predicted.tolist()) "
      ]
    },
    {
      "cell_type": "markdown",
      "metadata": {
        "id": "4Up-HKLO3UEN"
      },
      "source": [
        "\n",
        "### 1.3.2 CSV file and test set accuracy [12 marks]\n",
        "\n",
        "Save all test predictions to a CSV file and submit it to the private class Kaggle competition. **Please save your test CSV file submissions using your student username (the one with letters, ie., ``sc15jb``, not the ID with only numbers)**, for example, `sc15jb.csv`. That will help us to identify your submissions.\n",
        "\n",
        "The CSV file must contain only two columns: ‘Id’ and ‘Category’ (predicted class ID) as shown below:\n",
        "\n",
        "```txt\n",
        "Id,Category\n",
        "28d0f5e9_373c.JPEG,2\n",
        "bbe4895f_40bf.JPEG,18\n",
        "```\n",
        "\n",
        "The ‘Id’ column should include the name of the image. It is important to keep the same name as the one on the test set. Do not include any path, just the name of file (with extension). Your csv file must contain 1501 rows, one for each image on test set and 1 row for the headers.\n",
        "\n",
        "> You may submit multiple times. We will use your personal top entry for allocating marks for this [10 marks]. The class leaderboard will not affect marking (brownie points!).\n",
        "\n"
      ]
    },
    {
      "cell_type": "code",
      "execution_count": null,
      "metadata": {
        "id": "T6Er2HFI3UEP"
      },
      "outputs": [],
      "source": [
        "# TO COMPLETE"
      ]
    },
    {
      "cell_type": "code",
      "execution_count": 106,
      "metadata": {
        "id": "wBbEr13e3UEQ"
      },
      "outputs": [],
      "source": [
        "data = {'ID': img_name,'Category': predicted_class}"
      ]
    },
    {
      "cell_type": "code",
      "execution_count": 107,
      "metadata": {
        "colab": {
          "base_uri": "https://localhost:8080/",
          "height": 221
        },
        "id": "0I7pluLD3UER",
        "outputId": "d353c820-73f5-4678-aa7c-1cd34401719f"
      },
      "outputs": [
        {
          "output_type": "stream",
          "name": "stdout",
          "text": [
            "test length 13500\n"
          ]
        },
        {
          "output_type": "execute_result",
          "data": {
            "text/html": [
              "\n",
              "  <div id=\"df-851b6578-04e7-4573-8e47-3bd1ac5f8bf2\">\n",
              "    <div class=\"colab-df-container\">\n",
              "      <div>\n",
              "<style scoped>\n",
              "    .dataframe tbody tr th:only-of-type {\n",
              "        vertical-align: middle;\n",
              "    }\n",
              "\n",
              "    .dataframe tbody tr th {\n",
              "        vertical-align: top;\n",
              "    }\n",
              "\n",
              "    .dataframe thead th {\n",
              "        text-align: right;\n",
              "    }\n",
              "</style>\n",
              "<table border=\"1\" class=\"dataframe\">\n",
              "  <thead>\n",
              "    <tr style=\"text-align: right;\">\n",
              "      <th></th>\n",
              "      <th>ID</th>\n",
              "      <th>Category</th>\n",
              "    </tr>\n",
              "  </thead>\n",
              "  <tbody>\n",
              "    <tr>\n",
              "      <th>0</th>\n",
              "      <td>7f19ba4a_9471.JPEG</td>\n",
              "      <td>26</td>\n",
              "    </tr>\n",
              "    <tr>\n",
              "      <th>1</th>\n",
              "      <td>ff1e4f2b_5114.JPEG</td>\n",
              "      <td>7</td>\n",
              "    </tr>\n",
              "    <tr>\n",
              "      <th>2</th>\n",
              "      <td>b31f291a_7c51.JPEG</td>\n",
              "      <td>26</td>\n",
              "    </tr>\n",
              "    <tr>\n",
              "      <th>3</th>\n",
              "      <td>bb79ae30_cb47.JPEG</td>\n",
              "      <td>20</td>\n",
              "    </tr>\n",
              "    <tr>\n",
              "      <th>4</th>\n",
              "      <td>76978129_c38e.JPEG</td>\n",
              "      <td>22</td>\n",
              "    </tr>\n",
              "  </tbody>\n",
              "</table>\n",
              "</div>\n",
              "      <button class=\"colab-df-convert\" onclick=\"convertToInteractive('df-851b6578-04e7-4573-8e47-3bd1ac5f8bf2')\"\n",
              "              title=\"Convert this dataframe to an interactive table.\"\n",
              "              style=\"display:none;\">\n",
              "        \n",
              "  <svg xmlns=\"http://www.w3.org/2000/svg\" height=\"24px\"viewBox=\"0 0 24 24\"\n",
              "       width=\"24px\">\n",
              "    <path d=\"M0 0h24v24H0V0z\" fill=\"none\"/>\n",
              "    <path d=\"M18.56 5.44l.94 2.06.94-2.06 2.06-.94-2.06-.94-.94-2.06-.94 2.06-2.06.94zm-11 1L8.5 8.5l.94-2.06 2.06-.94-2.06-.94L8.5 2.5l-.94 2.06-2.06.94zm10 10l.94 2.06.94-2.06 2.06-.94-2.06-.94-.94-2.06-.94 2.06-2.06.94z\"/><path d=\"M17.41 7.96l-1.37-1.37c-.4-.4-.92-.59-1.43-.59-.52 0-1.04.2-1.43.59L10.3 9.45l-7.72 7.72c-.78.78-.78 2.05 0 2.83L4 21.41c.39.39.9.59 1.41.59.51 0 1.02-.2 1.41-.59l7.78-7.78 2.81-2.81c.8-.78.8-2.07 0-2.86zM5.41 20L4 18.59l7.72-7.72 1.47 1.35L5.41 20z\"/>\n",
              "  </svg>\n",
              "      </button>\n",
              "      \n",
              "  <style>\n",
              "    .colab-df-container {\n",
              "      display:flex;\n",
              "      flex-wrap:wrap;\n",
              "      gap: 12px;\n",
              "    }\n",
              "\n",
              "    .colab-df-convert {\n",
              "      background-color: #E8F0FE;\n",
              "      border: none;\n",
              "      border-radius: 50%;\n",
              "      cursor: pointer;\n",
              "      display: none;\n",
              "      fill: #1967D2;\n",
              "      height: 32px;\n",
              "      padding: 0 0 0 0;\n",
              "      width: 32px;\n",
              "    }\n",
              "\n",
              "    .colab-df-convert:hover {\n",
              "      background-color: #E2EBFA;\n",
              "      box-shadow: 0px 1px 2px rgba(60, 64, 67, 0.3), 0px 1px 3px 1px rgba(60, 64, 67, 0.15);\n",
              "      fill: #174EA6;\n",
              "    }\n",
              "\n",
              "    [theme=dark] .colab-df-convert {\n",
              "      background-color: #3B4455;\n",
              "      fill: #D2E3FC;\n",
              "    }\n",
              "\n",
              "    [theme=dark] .colab-df-convert:hover {\n",
              "      background-color: #434B5C;\n",
              "      box-shadow: 0px 1px 3px 1px rgba(0, 0, 0, 0.15);\n",
              "      filter: drop-shadow(0px 1px 2px rgba(0, 0, 0, 0.3));\n",
              "      fill: #FFFFFF;\n",
              "    }\n",
              "  </style>\n",
              "\n",
              "      <script>\n",
              "        const buttonEl =\n",
              "          document.querySelector('#df-851b6578-04e7-4573-8e47-3bd1ac5f8bf2 button.colab-df-convert');\n",
              "        buttonEl.style.display =\n",
              "          google.colab.kernel.accessAllowed ? 'block' : 'none';\n",
              "\n",
              "        async function convertToInteractive(key) {\n",
              "          const element = document.querySelector('#df-851b6578-04e7-4573-8e47-3bd1ac5f8bf2');\n",
              "          const dataTable =\n",
              "            await google.colab.kernel.invokeFunction('convertToInteractive',\n",
              "                                                     [key], {});\n",
              "          if (!dataTable) return;\n",
              "\n",
              "          const docLinkHtml = 'Like what you see? Visit the ' +\n",
              "            '<a target=\"_blank\" href=https://colab.research.google.com/notebooks/data_table.ipynb>data table notebook</a>'\n",
              "            + ' to learn more about interactive tables.';\n",
              "          element.innerHTML = '';\n",
              "          dataTable['output_type'] = 'display_data';\n",
              "          await google.colab.output.renderOutput(dataTable, element);\n",
              "          const docLink = document.createElement('div');\n",
              "          docLink.innerHTML = docLinkHtml;\n",
              "          element.appendChild(docLink);\n",
              "        }\n",
              "      </script>\n",
              "    </div>\n",
              "  </div>\n",
              "  "
            ],
            "text/plain": [
              "                   ID  Category\n",
              "0  7f19ba4a_9471.JPEG        26\n",
              "1  ff1e4f2b_5114.JPEG         7\n",
              "2  b31f291a_7c51.JPEG        26\n",
              "3  bb79ae30_cb47.JPEG        20\n",
              "4  76978129_c38e.JPEG        22"
            ]
          },
          "metadata": {},
          "execution_count": 107
        }
      ],
      "source": [
        "test_df =pd.DataFrame(data,columns=['ID','Category'])\n",
        "\n",
        "print(\"test length\", len(data_df))\n",
        "test_df.head()"
      ]
    },
    {
      "cell_type": "code",
      "execution_count": 108,
      "metadata": {
        "id": "oQ_kzjIa3UES"
      },
      "outputs": [],
      "source": [
        "test_df.to_csv(\"ml20baya.csv\", index= False, header=True)"
      ]
    },
    {
      "cell_type": "code",
      "execution_count": 109,
      "metadata": {
        "id": "gXA08-9K-A4d"
      },
      "outputs": [],
      "source": [
        "!cp ml20baya.csv \"/content/drive/MyDrive/comp5623m-2022\""
      ]
    },
    {
      "cell_type": "markdown",
      "metadata": {
        "id": "C_sR8Gc04CJ2"
      },
      "source": [
        "\n",
        "\n",
        "## QUESTION 2 [40 marks]\n",
        "\n",
        "\n",
        "\n",
        "In this question, you will visualize the filters and feature maps of a fully-trained CNN (AlexNet) on the full ImageNet 2012 dataset.\n",
        "\n",
        "> Please do not alter the name of the function or the number and type of its arguments and return values, otherwise the automatic grading function will not work correctly. You are welcome to import other modules (though the simplest solution only requires the ones below).\n"
      ]
    },
    {
      "cell_type": "markdown",
      "metadata": {
        "id": "r-HIUgQ-HK8Y"
      },
      "source": [
        "### **Overview:**\n",
        "*   **2.1.1** Extract filters from model: ``fetch_filters(layer_idx, model)``\n",
        "*   **2.2.1** Load test image\n",
        "*   **2.2.2** Extract feature maps for given test image: ``fetch_feature_maps(image, model)``\n",
        "*   **2.2.3** Display feature maps\n",
        "*   **2.3.1** Generate Grad-CAM heatmaps: ``generate_heatmap(output, class_id, model, image)``\n",
        "*   **2.3.2** Display heatmaps: add code to cell\n",
        "*   **2.3.3** Generate heatmaps for failure analysis\n"
      ]
    },
    {
      "cell_type": "markdown",
      "metadata": {
        "id": "-gYdjXng4CJ5"
      },
      "source": [
        "### Loading a pre-trained model\n",
        "\n",
        "Run the cell below to load an AlexNet model with pre-trained weights."
      ]
    },
    {
      "cell_type": "code",
      "execution_count": null,
      "metadata": {
        "id": "ik9dzD4S4CJ6"
      },
      "outputs": [],
      "source": [
        "model = torch.hub.load('pytorch/vision:v0.6.0', 'alexnet', pretrained=True)\n",
        "model.eval()"
      ]
    },
    {
      "cell_type": "code",
      "execution_count": null,
      "metadata": {
        "id": "tQH3_DyU3UEX",
        "scrolled": true
      },
      "outputs": [],
      "source": [
        "model.features"
      ]
    },
    {
      "cell_type": "code",
      "execution_count": null,
      "metadata": {
        "id": "oiK0VurK3UEZ"
      },
      "outputs": [],
      "source": [
        "model.features[0]"
      ]
    },
    {
      "cell_type": "code",
      "execution_count": null,
      "metadata": {
        "id": "5AkxJ9sU3UE0"
      },
      "outputs": [],
      "source": [
        "model.features[0].weight.shape"
      ]
    },
    {
      "cell_type": "markdown",
      "metadata": {
        "id": "GXzlLbstCE7f"
      },
      "source": [
        "\n",
        "## 2.1 Extract and visualize the filters [6 marks]\n",
        "\n",
        "In this section you will extract and visualize the filters from the pre-trained AlexNet."
      ]
    },
    {
      "cell_type": "markdown",
      "metadata": {
        "id": "_vOrqr2J4CJ7"
      },
      "source": [
        "### 2.1.1 Extract filters [4 marks]\n",
        "\n",
        "Complete the following function ```fetch_filters``` to return all the filters from the convolutional layers at the given index in ```model.features``` (see printed model above for reference). \n",
        "\n",
        "\n",
        "\n",
        "\n",
        "\n",
        "> We will not test the behaviour of your function using invalid indices.\n",
        "\n"
      ]
    },
    {
      "cell_type": "code",
      "execution_count": null,
      "metadata": {
        "id": "sdbDXckn4CJ8"
      },
      "outputs": [],
      "source": [
        "def fetch_filters(layer_idx, model):\n",
        "    \"\"\" \n",
        "        Args:\n",
        "            layer_idx (int): the index of model.features specifying which conv layer\n",
        "            model (AlexNet): PyTorch AlexNet object\n",
        "        Return:\n",
        "            filters (Tensor):      \n",
        "    \"\"\"\n",
        "    filters = model.features[layer_idx].weight.detach()\n",
        "    # TO COMPLETE\n",
        "    return filters"
      ]
    },
    {
      "cell_type": "code",
      "execution_count": null,
      "metadata": {
        "id": "HNxPI5y-4CJ8"
      },
      "outputs": [],
      "source": [
        "# all the indices of the conv layers\n",
        "conv_layer_idx = [0, 3, 6, 8, 10]\n",
        "\n",
        "filters = []\n",
        "\n",
        "for layer_idx in conv_layer_idx:\n",
        "    filters.append(fetch_filters(layer_idx, model))"
      ]
    },
    {
      "cell_type": "markdown",
      "metadata": {
        "id": "PWSpX94c4CKD"
      },
      "source": [
        "For your testing purposes, the following code blocks test the dimensions of the function output."
      ]
    },
    {
      "cell_type": "code",
      "execution_count": null,
      "metadata": {
        "id": "TXeQtKkK4CKE"
      },
      "outputs": [],
      "source": [
        "filters[0].shape"
      ]
    },
    {
      "cell_type": "code",
      "execution_count": null,
      "metadata": {
        "id": "QZnC8Eth4CKF"
      },
      "outputs": [],
      "source": [
        "assert list(filters[0].shape) == [64, 3, 11, 11]"
      ]
    },
    {
      "cell_type": "markdown",
      "metadata": {
        "id": "ECx7Ktsg4CKG"
      },
      "source": [
        "\n",
        "\n",
        "### 2.1.2 Display filters [2 marks]\n",
        "\n",
        "The following code will visualize some of the filters from each layer. Play around with viewing filters at different depths into the network. Note that ```filters[0]``` could be viewed in colour if you prefer, whereas the subsequent layers must be viewed one channel at a time in grayscale. \n",
        "\n"
      ]
    },
    {
      "cell_type": "code",
      "execution_count": null,
      "metadata": {
        "id": "7K6N3ThU4CKG",
        "scrolled": false
      },
      "outputs": [],
      "source": [
        "# limit how many filters to show\n",
        "to_show = 16\n",
        "\n",
        "# compute the dimensions of the plot\n",
        "plt_dim = int(math.sqrt(to_show))\n",
        "\n",
        "# plot the first channel of each filter in a grid\n",
        "for i, filt in enumerate(filters[0].numpy()[:to_show]):\n",
        "    plt.subplot(plt_dim, plt_dim, i+1)\n",
        "    plt.imshow(filt[0], cmap=\"gray\")\n",
        "    plt.axis('off')\n",
        "plt.show()"
      ]
    },
    {
      "cell_type": "markdown",
      "metadata": {
        "id": "yCJF9IIF4CKI"
      },
      "source": [
        "\n",
        "\n",
        "## 2.2 Extract and visualize feature maps [10 marks]\n",
        "\n",
        "In this section, you will pass a test image through the AlexNet and extract and visualize the resulting convolutional layer feature maps.\n",
        "\n",
        "Complete the following code cell to load the test image ```man_bike.JPEG```.\n",
        "\n"
      ]
    },
    {
      "cell_type": "markdown",
      "metadata": {
        "id": "bVfEgbC4I_dE"
      },
      "source": [
        "### 2.2.1 Load test image [1 mark]\n"
      ]
    },
    {
      "cell_type": "code",
      "execution_count": null,
      "metadata": {
        "id": "xypfUN7y4CKI"
      },
      "outputs": [],
      "source": [
        "# TO COMPLETE\n",
        "from PIL import Image\n",
        "\n",
        "im = Image.open('/content/drive/MyDrive/comp5623m-2022/man_bike.JPEG')\n",
        "im = im.convert('RGB')"
      ]
    },
    {
      "cell_type": "markdown",
      "metadata": {
        "id": "aF2t9uOk4CKJ"
      },
      "source": [
        "Run the code cell below to apply the image transformation expected by the model."
      ]
    },
    {
      "cell_type": "code",
      "execution_count": null,
      "metadata": {
        "id": "Jt0tJQsM4CKO"
      },
      "outputs": [],
      "source": [
        "# ImageNet normalisation values, to apply to the image transform\n",
        "norm_mean = [0.485, 0.456, 0.406]\n",
        "norm_std = [0.229, 0.224, 0.225]\n",
        "\n",
        "data_transform = transforms.Compose([\n",
        "        transforms.Resize(256),\n",
        "        transforms.CenterCrop(256),\n",
        "        transforms.ToTensor(),\n",
        "        transforms.Normalize(norm_mean, norm_std),\n",
        "    ])\n",
        "\n",
        "im = data_transform(im)"
      ]
    },
    {
      "cell_type": "markdown",
      "metadata": {
        "id": "5VQKNo384CKP"
      },
      "source": [
        "\n",
        "### 2.2.2 Extract feature maps [5 marks]\n",
        "\n",
        "Complete the function below to pass the test image through a single forward pass of the network. We are interested in the outputs of the max pool layers (outputs of conv layers at model.features indices 0, 3, and 10) for best visualization. Note that the input should pass through *every layer* of the model."
      ]
    },
    {
      "cell_type": "code",
      "execution_count": null,
      "metadata": {
        "id": "kmqQ_mJ54CKP"
      },
      "outputs": [],
      "source": [
        "def fetch_feature_maps(image, model):\n",
        "    \"\"\"\n",
        "    Args:\n",
        "        image (Tensor): a single input image with transform applied\n",
        "        model (AlexNet): PyTorch AlexNet object\n",
        "        \n",
        "    Return:\n",
        "        feature_maps (Tensor): all the feature maps from conv layers \n",
        "                    at indices 0, 3, and 10 (outputs of the MaxPool layers)\n",
        "    \"\"\"\n",
        "    \n",
        "    \n",
        "    max_pool_layer = [2,5,12]\n",
        "    \n",
        "    \n",
        "    feature_maps = []\n",
        "    model_length = len(model.features)\n",
        "    for i in range(model_length):\n",
        "        image = model.features[i].forward(image)\n",
        "        # extract the feature map in the max pool layers\n",
        "        if i in max_pool_layer:\n",
        "            feature_map = image\n",
        "            feature_maps.append(feature_map)\n",
        "\n",
        "\n",
        "    return feature_maps"
      ]
    },
    {
      "cell_type": "code",
      "execution_count": null,
      "metadata": {
        "id": "ORkRxCVo4CKQ"
      },
      "outputs": [],
      "source": [
        "feature_maps = fetch_feature_maps(im.unsqueeze(0), model)"
      ]
    },
    {
      "cell_type": "code",
      "execution_count": null,
      "metadata": {
        "id": "-4mLCXgk3UF6"
      },
      "outputs": [],
      "source": [
        "feature_maps[0][0].shape"
      ]
    },
    {
      "cell_type": "markdown",
      "metadata": {
        "id": "Pf3SZoFu4CKQ"
      },
      "source": [
        "For your testing purposes, the following code block tests the dimensions of part of the function output. Note that the first dimension is the batch size."
      ]
    },
    {
      "cell_type": "code",
      "execution_count": null,
      "metadata": {
        "id": "Ow7jGdQ94CKR"
      },
      "outputs": [],
      "source": [
        "assert len(feature_maps) == 3\n",
        "assert list(feature_maps[0].shape) == [1, 64, 31, 31]"
      ]
    },
    {
      "cell_type": "markdown",
      "metadata": {
        "id": "yDmwrp-w4CKR"
      },
      "source": [
        "\n",
        "\n",
        "### 2.2.3 Display feature maps [4 marks]\n",
        "\n",
        "Using the code for displaying filters as reference, write code in the block below to display the outputs of the first **16 feature maps from each of the 3 max-pool layers**."
      ]
    },
    {
      "cell_type": "code",
      "execution_count": null,
      "metadata": {
        "id": "Y2O8TZG74CKS"
      },
      "outputs": [],
      "source": [
        "to_show = 16\n",
        "\n",
        "plt_dim = int(math.sqrt(to_show))\n",
        "\n",
        "for j in range(len(feature_maps)):\n",
        "    print(\"max pool layer\", j)\n",
        "    for i, filt in enumerate(feature_maps[j][0].detach().numpy()[:to_show]):\n",
        "        plt.subplot(plt_dim, plt_dim, i+1)\n",
        "        plt.imshow(filt, cmap=\"gray\")\n",
        "        plt.axis('off')\n",
        "    plt.show()"
      ]
    },
    {
      "cell_type": "markdown",
      "metadata": {
        "id": "BZNGf5WQ4CKG"
      },
      "source": [
        "\n",
        "\n",
        "\n",
        "## 2.3 Understanding of filters and feature maps [7 marks]\n",
        "\n",
        "Respond in detail to the questions below. (Note that all text boxes can be formatted using Markdown if desired).\n",
        "\n",
        "### 2.3.1 [3 marks]\n",
        "Describe what the three filters at indices 0, 4, and 6 from the first convolutional layer are detecting (reference the corresponding feature maps to support your discussion).\n"
      ]
    },
    {
      "cell_type": "markdown",
      "metadata": {
        "id": "FsHVfOj_3UGC"
      },
      "source": [
        "--> Double click here to respond"
      ]
    },
    {
      "cell_type": "markdown",
      "metadata": {
        "id": "wTzxi_gG3UGE"
      },
      "source": [
        "### 2.3.2 [2 marks]\n",
        "Discuss how the filters change with depth into the network."
      ]
    },
    {
      "cell_type": "markdown",
      "metadata": {
        "id": "mC2JejOj3UGF"
      },
      "source": [
        "--> Double click here to respond"
      ]
    },
    {
      "cell_type": "markdown",
      "metadata": {
        "id": "Z0l1-2xe3UGG"
      },
      "source": [
        "### 2.3.3 [2 marks]\n",
        "Discuss how the feature maps change with depth into the network."
      ]
    },
    {
      "cell_type": "markdown",
      "metadata": {
        "id": "vTpEZxgF3UGK"
      },
      "source": [
        "--> Double click here to respond"
      ]
    },
    {
      "cell_type": "markdown",
      "metadata": {
        "id": "ZXeO_agI4CKS"
      },
      "source": [
        "\n",
        "## 2.4 Gradient-weighted Class Activation Mapping (Grad-CAM) [17 marks]\n",
        "\n",
        "In this section, we will explore using Gradient-weighted Class Activation Mapping (Grad-CAM) to generate coarse localization maps highlighting the important regions in the test images guiding the model's prediction. We will continue using the pre-trained AlexNet.\n",
        "\n",
        "#### Preparation\n",
        ">It is recommended to first read the relevant paper [Grad-CAM: Visual Explanations from Deep Networks via Gradient-based Localization](https://arxiv.org/abs/1610.02391), and refer to relevant course material.\n",
        "\n",
        "#### The AlexNet class\n",
        "\n",
        ">To implement Grad-CAM, we need to edit the AlexNet ```module``` class itself, so instead of loading the AlexNet model from ```torch.hub``` as we did above, we will use the official PyTorch AlexNet class code ([taken from here](https://pytorch.org/vision/stable/_modules/torchvision/models/alexnet.html)). In addition to the class definition, there is also a function below called ```alexnet()``` which allows you to specify whether you want the pretrained version or not, and if so, loads the weights. \n",
        "\n",
        "#### The hook\n",
        "\n",
        ">[Hooks](https://pytorch.org/tutorials/beginner/former_torchies/nnft_tutorial.html#forward-and-backward-function-hooks) in PyTorch are functions which can be registered, or attached, to a ```Module``` or ```Tensor```. Hooks can be *forward* hooks or *backward* hooks; forward hooks are called with ```forward()``` and backward hooks with ```backward()```. In the model below, we register a forward hook that saves the **gradients of the activations** to the Tensor output of ```model.features```. The gradients are saved to a class variable so we can easily access them.\n",
        "\n",
        "Carefully read the code block below. You do not need to add anything to the model."
      ]
    },
    {
      "cell_type": "code",
      "execution_count": null,
      "metadata": {
        "id": "74G4wPeG4CKS"
      },
      "outputs": [],
      "source": [
        "# defining where to load the pre-trained weights from\n",
        "model_urls = {\n",
        "    'alexnet': 'https://download.pytorch.org/models/alexnet-owt-7be5be79.pth',\n",
        "}\n",
        "\n",
        "# the class definition\n",
        "class AlexNet(nn.Module):\n",
        "\n",
        "    def __init__(self, num_classes=1000):\n",
        "        super(AlexNet, self).__init__()\n",
        "        \n",
        "        # a placeholder for storing the gradients\n",
        "        self.gradients = None\n",
        "        \n",
        "        self.features = nn.Sequential(\n",
        "            nn.Conv2d(3, 64, kernel_size=11, stride=4, padding=2),\n",
        "            nn.ReLU(inplace=True),\n",
        "            nn.MaxPool2d(kernel_size=3, stride=2),\n",
        "            nn.Conv2d(64, 192, kernel_size=5, padding=2),\n",
        "            nn.ReLU(inplace=True),\n",
        "            nn.MaxPool2d(kernel_size=3, stride=2),\n",
        "            nn.Conv2d(192, 384, kernel_size=3, padding=1),\n",
        "            nn.ReLU(inplace=True),\n",
        "            nn.Conv2d(384, 256, kernel_size=3, padding=1),\n",
        "            nn.ReLU(inplace=True),\n",
        "            nn.Conv2d(256, 256, kernel_size=3, padding=1),\n",
        "            nn.ReLU(inplace=True),\n",
        "            nn.MaxPool2d(kernel_size=3, stride=2),\n",
        "        )\n",
        "        \n",
        "        self.avgpool = nn.AdaptiveAvgPool2d((6, 6))\n",
        "        self.classifier = nn.Sequential(\n",
        "            nn.Dropout(),\n",
        "            nn.Linear(256 * 6 * 6, 4096),\n",
        "            nn.ReLU(inplace=True),\n",
        "            nn.Dropout(),\n",
        "            nn.Linear(4096, 4096),\n",
        "            nn.ReLU(inplace=True),\n",
        "            nn.Linear(4096, num_classes),\n",
        "        )\n",
        "        \n",
        "    # the hook for the gradients of the activations\n",
        "    def activations_hook(self, grad):\n",
        "        # stores the gradients of the hook's tensor to our placeholder variable\n",
        "        self.gradients = grad\n",
        "\n",
        "    # a method for extracting the activations of the last conv layer only (when we're \n",
        "    # not interested in a full forward pass)\n",
        "    def get_activations(self, x):\n",
        "        return self.features(x)\n",
        "    \n",
        "    def forward(self, x):\n",
        "        x = self.features(x)\n",
        "        \n",
        "        # we register the hook here to save the gradients of the last convolutional\n",
        "        # layer outputs\n",
        "        hook = x.register_hook(self.activations_hook)\n",
        "        \n",
        "        x = self.avgpool(x)\n",
        "        x = torch.flatten(x, 1)\n",
        "        x = self.classifier(x)\n",
        "        return x\n",
        "\n",
        "\n",
        "def alexnet(pretrained=False, progress=True, **kwargs) -> AlexNet:\n",
        "    \"\"\"AlexNet model architecture from the\n",
        "    `\"One weird trick...\" <https://arxiv.org/abs/1404.5997>`_ paper.\n",
        "\n",
        "    Args:\n",
        "        pretrained (bool): If True, returns a model pre-trained on ImageNet\n",
        "        progress (bool): If True, displays a progress bar of the download to stderr\n",
        "    \"\"\"\n",
        "    model = AlexNet(**kwargs)\n",
        "    if pretrained:\n",
        "        state_dict = load_state_dict_from_url(model_urls['alexnet'],\n",
        "                                              progress=progress)\n",
        "        model.load_state_dict(state_dict)\n",
        "    return model"
      ]
    },
    {
      "cell_type": "code",
      "execution_count": null,
      "metadata": {
        "id": "8FZEiLFv4CKT"
      },
      "outputs": [],
      "source": [
        "model = alexnet(pretrained=True)"
      ]
    },
    {
      "cell_type": "code",
      "execution_count": null,
      "metadata": {
        "id": "WiBjgrST4CKT"
      },
      "outputs": [],
      "source": [
        "# pass our test image through our new model with the hook\n",
        "output = model(im.unsqueeze(0))\n",
        "\n",
        "# save the predicted class\n",
        "_, pred_cls = output.max(dim=1, keepdim=True)"
      ]
    },
    {
      "cell_type": "markdown",
      "metadata": {
        "id": "GzCYhGyI4CKT"
      },
      "source": [
        "Examine and understand the values stored in ```output``` and ```pred_cls```. What does AlexNet classify the test image as?"
      ]
    },
    {
      "cell_type": "code",
      "execution_count": null,
      "metadata": {
        "id": "TU5QjsuP4CKU"
      },
      "outputs": [],
      "source": [
        "output"
      ]
    },
    {
      "cell_type": "code",
      "execution_count": null,
      "metadata": {
        "id": "M1BE3ZSu3UGV"
      },
      "outputs": [],
      "source": [
        "pred_cls"
      ]
    },
    {
      "cell_type": "code",
      "execution_count": null,
      "metadata": {
        "id": "1PSOO6JzSMJu"
      },
      "outputs": [],
      "source": [
        "mapping = pd.read_table('/content/drive/MyDrive/comp5623m-2022/alexaNet_mapping/imagenet1000_clsidx_to_labels.txt', header = None)"
      ]
    },
    {
      "cell_type": "code",
      "execution_count": null,
      "metadata": {
        "id": "femuQNEnSOW2"
      },
      "outputs": [],
      "source": [
        "mapping.iloc[int(pred_cls)]"
      ]
    },
    {
      "cell_type": "markdown",
      "metadata": {
        "id": "Mr4svXcg4CKU"
      },
      "source": [
        "### 2.4.1 Generate Grad-CAM heatmaps [8 marks]\n",
        "\n",
        "With the hooks in place, now implement the code to generate Grad-CAM heatmaps, by following the guiding comments in the code block below."
      ]
    },
    {
      "cell_type": "code",
      "execution_count": null,
      "metadata": {
        "id": "Rdlr69tw4CKU"
      },
      "outputs": [],
      "source": [
        "def generate_heatmap(output, class_id, model, image):\n",
        "    \n",
        "    # 1. compute the gradient of the score for the predicted class (logit)\n",
        "    # with respect to the feature map activations of the last convolutional layer\n",
        "    # Hint: calling .backward() on a Tensor computes its gradients\n",
        "    # TO COMPLETE\n",
        "    output[:,class_id].backward()\n",
        "    \n",
        "    \n",
        "    # 2. get the gradients from the model placeholder variable\n",
        "    # TO COMPLETE\n",
        "    gradients = model.gradients\n",
        "    assert list(gradients.shape) == [1, 256, 7, 7]\n",
        "    \n",
        "    # pool the gradients across the channels\n",
        "    pooled_gradients = torch.mean(gradients, dim=[0, 2, 3])\n",
        "    assert list(pooled_gradients.shape) == [256]\n",
        "    \n",
        "    # 3. get the activations of the last convolutional layer\n",
        "    # TO COMPLETE\n",
        "    activations = model.get_activations(image).detach()\n",
        "    assert list(activations.shape) == [1, 256, 7, 7]\n",
        "    \n",
        "    # 4. weight (multiply) the channels (dim=1 of activations) by the corresponding\n",
        "    # gradients (pooled_gradients)\n",
        "    # TO COMPLETE\n",
        "    for i in range(256):\n",
        "        activations[:, i, :, :] *= pooled_gradients[i]\n",
        "\n",
        "    # average the channels of the activations and squeeze out the extra dimension\n",
        "    \n",
        "    heatmap = torch.mean(activations, dim=1).squeeze()\n",
        "    \n",
        "    assert list(heatmap.shape) == [7, 7]\n",
        "    \n",
        "    # 5. apply a ReLU to the linear combination of maps because we are only \n",
        "    # interested in the features that have a positive influence on the class of \n",
        "    # interest, i.e. pixels whose intensity should be increased in order to increase y\n",
        "    # Hint: you can use np.maximum() and torch.max() to perform ReLU if you prefer.\n",
        "    \n",
        "    # TO COMPLETE\n",
        "    heatmap = np.maximum(heatmap, 0)\n",
        "    heatmap /= torch.max(heatmap) \n",
        "    \n",
        "    return heatmap"
      ]
    },
    {
      "cell_type": "code",
      "execution_count": null,
      "metadata": {
        "id": "4PEmi-aM4CKU"
      },
      "outputs": [],
      "source": [
        "heatmap = generate_heatmap(output, pred_cls, model, im.unsqueeze(0))"
      ]
    },
    {
      "cell_type": "markdown",
      "metadata": {
        "id": "eaiH3MIO4CKV"
      },
      "source": [
        "Check the dimensions of ```heatmap```. Do they make sense?"
      ]
    },
    {
      "cell_type": "code",
      "execution_count": null,
      "metadata": {
        "id": "qigb0A9F4CKV"
      },
      "outputs": [],
      "source": [
        "plt.matshow(heatmap)"
      ]
    },
    {
      "cell_type": "code",
      "execution_count": null,
      "metadata": {
        "id": "vfYnLLRsSg09"
      },
      "outputs": [],
      "source": [
        "heatmap.shape"
      ]
    },
    {
      "cell_type": "markdown",
      "metadata": {
        "id": "rvyCYUpw4CKW"
      },
      "source": [
        "### 2.4.2 Display heatmaps [4 marks]\n",
        "\n",
        "Display ```heatmap``` as a coloured heatmap super-imposed onto the original image. To get results as shown in the paper, we recommend the following steps:\n",
        "\n",
        "1. Resize the heatmap to match the size of the image.\n",
        "2. Rescale the image to a 0-255 integer range.\n",
        "3. Apply a colormap to the heatmap using ```cv2.applyColorMap(heatmap, cv2.COLORMAP_JET)```.\n",
        "4. Multiply all values of heatmap by 0.4 to reduce colour saturation.\n",
        "5. Superimpose the heatmap onto the original image (Note: please perform cv2's addition - addition of two cv2 images, not numpy addition. See [here](https://opencv24-python-tutorials.readthedocs.io/en/latest/py_tutorials/py_core/py_image_arithmetics/py_image_arithmetics.html#:~:text=addWeighted()%20etc.-,Image%20Addition,OpenCV%20addition%20and%20Numpy%20addition.) for explanation.)\n",
        "6. Normalize the image between 0-255 again.\n",
        "7. Display the resulting image."
      ]
    },
    {
      "cell_type": "code",
      "execution_count": null,
      "metadata": {
        "id": "GwTIJoh84CKX"
      },
      "outputs": [],
      "source": [
        "def display_heatmap(heatmap,image):\n",
        "#1\n",
        "\n",
        "  heatmap = cv2.resize(heatmap.numpy(), (image.shape[0], image.shape[1]))\n",
        "  \n",
        "#2 \n",
        "\n",
        "  numer = heatmap - np.min(heatmap)\n",
        "  denom = (heatmap.max() - heatmap.min()) + 1e-8\n",
        "  heatmap_norm = numer / denom\n",
        "  heatmap_norm = (heatmap_norm * 255).astype(\"uint8\")\n",
        " \n",
        "#3\n",
        "  heatmap_norm = cv2.applyColorMap(heatmap_norm, cv2.COLORMAP_JET)\n",
        "#4\n",
        "  heatmap_norm=heatmap_norm * 0.4\n",
        "#5\n",
        "  #heatmap_normalized=heatmap_normalized.reshape((256,256,1))*np.ones([256,256,3])\n",
        "  w_image= cv2.addWeighted(heatmap_norm, 0.7, image, 0.3, 0)\n",
        "#6\n",
        "  numer = w_image - np.min(w_image)\n",
        "  denom = (w_image.max() - w_image.min()) + 1e-8\n",
        "  final_image = numer / denom\n",
        "  final_image = (final_image * 255).astype(\"uint8\")\n",
        "\n",
        "  return final_image"
      ]
    },
    {
      "cell_type": "code",
      "execution_count": null,
      "metadata": {
        "id": "fXQ7BIxKS0Zx"
      },
      "outputs": [],
      "source": [
        "im_bike = cv2.imread('/content/drive/MyDrive/comp5623m-2022/man_bike.JPEG')\n",
        "im_bike=cv2.resize(im_bike,(256,256))\n",
        "im_bike = np.asarray(im_bike, np.float64)"
      ]
    },
    {
      "cell_type": "code",
      "execution_count": null,
      "metadata": {
        "id": "Xn4BnB99S1rL"
      },
      "outputs": [],
      "source": [
        "display=display_heatmap(heatmap,im_bike)\n",
        "plt.matshow(display[:, :, ::-1])"
      ]
    },
    {
      "cell_type": "markdown",
      "metadata": {
        "id": "Nf9aa-2V4CKX"
      },
      "source": [
        "Show the heatmap for class ```'seashore, coast, seacoast, sea-coast'``` (```class_id = 978```), super-imposed onto the original image."
      ]
    },
    {
      "cell_type": "code",
      "execution_count": null,
      "metadata": {
        "id": "bRPD72hD3UGc"
      },
      "outputs": [],
      "source": [
        "output_978 = model(im.unsqueeze(0))"
      ]
    },
    {
      "cell_type": "code",
      "execution_count": null,
      "metadata": {
        "id": "CnJXMaFK3UGd"
      },
      "outputs": [],
      "source": [
        "heatmap = generate_heatmap(output_978, torch.tensor(978), model, im.unsqueeze(0))\n",
        "display=display_heatmap(heatmap,im_bike)"
      ]
    },
    {
      "cell_type": "code",
      "execution_count": null,
      "metadata": {
        "id": "EnFDo08JS_ju"
      },
      "outputs": [],
      "source": [
        "plt.matshow(display[:, :, ::-1])"
      ]
    },
    {
      "cell_type": "markdown",
      "metadata": {
        "id": "0kxt3itl3UGn"
      },
      "source": [
        "### 2.4.3 Failure analysis using Grad-CAM [5 marks]\n",
        "\n",
        "Find an image (online, or from ImageNet or another dataset) which AlexNet classifies *incorrectly*. Display the image below, and show the model's predicted class. Then, generate the Grad-CAM heatmap and display it super-imposed onto the image."
      ]
    },
    {
      "cell_type": "code",
      "execution_count": null,
      "metadata": {
        "id": "pBuLl5H33UG6"
      },
      "outputs": [],
      "source": [
        "# TO COMPLETE\n",
        "from PIL import Image\n",
        "\n",
        "im_simpson = Image.open('/content/drive/MyDrive/comp5623m-2022/bart-simpson.jpg')\n",
        "im_simpson = im_simpson.convert('RGB')\n",
        "im_simpson"
      ]
    },
    {
      "cell_type": "code",
      "execution_count": null,
      "metadata": {
        "id": "sZIEGjky3UG7"
      },
      "outputs": [],
      "source": [
        "# ImageNet normalisation values, to apply to the image transform\n",
        "norm_mean = [0.485, 0.456, 0.406]\n",
        "norm_std = [0.229, 0.224, 0.225]\n",
        "\n",
        "data_transform = transforms.Compose([\n",
        "        transforms.Resize(256),\n",
        "        transforms.CenterCrop(256),\n",
        "        transforms.ToTensor(),\n",
        "        transforms.Normalize(norm_mean, norm_std),\n",
        "    ])\n",
        "\n",
        "im_simpson = data_transform(im_simpson)"
      ]
    },
    {
      "cell_type": "code",
      "execution_count": null,
      "metadata": {
        "id": "sdF51UaL3UG8"
      },
      "outputs": [],
      "source": [
        "model = alexnet(pretrained=True)"
      ]
    },
    {
      "cell_type": "code",
      "execution_count": null,
      "metadata": {
        "id": "lW8Ogzc-TNh6"
      },
      "outputs": [],
      "source": [
        "# pass our test image through our new model with the hook\n",
        "output = model(im_simpson.unsqueeze(0))\n",
        "\n",
        "# save the predicted class\n",
        "_, pred_cls = output.max(dim=1, keepdim=True)\n",
        "pred_cls"
      ]
    },
    {
      "cell_type": "code",
      "execution_count": null,
      "metadata": {
        "id": "k9plrbA0TS41"
      },
      "outputs": [],
      "source": [
        "mapping.iloc[int(pred_cls)]"
      ]
    },
    {
      "cell_type": "code",
      "execution_count": null,
      "metadata": {
        "id": "OStIwT54TUAj"
      },
      "outputs": [],
      "source": [
        "heatmap_simpson = generate_heatmap(output, pred_cls, model, im_simpson.unsqueeze(0))"
      ]
    },
    {
      "cell_type": "code",
      "execution_count": null,
      "metadata": {
        "id": "2YJKOOmBTWd4"
      },
      "outputs": [],
      "source": [
        "im_simpson = cv2.imread('/content/drive/MyDrive/comp5623m-2022/bart-simpson.jpg')\n",
        "im_simpson=cv2.resize(im_simpson,(256,256))\n",
        "im_simpson = np.asarray(im_simpson, np.float64)"
      ]
    },
    {
      "cell_type": "code",
      "execution_count": null,
      "metadata": {
        "id": "cTwGs5rbTYu6"
      },
      "outputs": [],
      "source": [
        "#heatmap\n",
        "display=display_heatmap(heatmap,im_simpson)\n",
        "plt.matshow(display[:, :, ::-1])"
      ]
    },
    {
      "cell_type": "markdown",
      "metadata": {
        "id": "8va2Ft8t3UG8"
      },
      "source": [
        "Briefly describe what explanation the Grad-CAM heatmap provides about why the model has failed to correctly classify your test image."
      ]
    },
    {
      "cell_type": "markdown",
      "metadata": {
        "id": "LclMkNe73UG9"
      },
      "source": [
        "--> Double click to respond here"
      ]
    },
    {
      "cell_type": "code",
      "execution_count": null,
      "metadata": {
        "id": "W_w5caTO3UG-"
      },
      "outputs": [],
      "source": [
        ""
      ]
    },
    {
      "cell_type": "markdown",
      "metadata": {
        "id": "pUzJViAb3UG-"
      },
      "source": [
        "### 3 Overall quality [2 marks]\n",
        "\n",
        "Marks awarded for overall degree of code readibility and omission of unnecessary messy outupts (for example, please avoid printed losses for every batch of a long training process, large numpy arrays, etc.) throughout the work."
      ]
    },
    {
      "cell_type": "markdown",
      "metadata": {
        "id": "7THDaXPw3UG_"
      },
      "source": [
        "**Please refer to the submission section at the top of this notebook to prepare your submission.**\n"
      ]
    },
    {
      "cell_type": "code",
      "execution_count": null,
      "metadata": {
        "id": "ChTGDgsJ3UHA"
      },
      "outputs": [],
      "source": [
        ""
      ]
    }
  ],
  "metadata": {
    "accelerator": "GPU",
    "colab": {
      "collapsed_sections": [
        "r-HIUgQ-HK8Y",
        "-gYdjXng4CJ5",
        "_vOrqr2J4CJ7",
        "ECx7Ktsg4CKG",
        "bVfEgbC4I_dE",
        "5VQKNo384CKP",
        "yDmwrp-w4CKR",
        "wTzxi_gG3UGE",
        "Z0l1-2xe3UGG",
        "Mr4svXcg4CKU",
        "rvyCYUpw4CKW",
        "0kxt3itl3UGn",
        "pUzJViAb3UG-"
      ],
      "name": "COMP5623M_CW1_colab.ipynb",
      "provenance": [],
      "include_colab_link": true
    },
    "kernelspec": {
      "display_name": "Python 3",
      "language": "python",
      "name": "python3"
    },
    "language_info": {
      "codemirror_mode": {
        "name": "ipython",
        "version": 3
      },
      "file_extension": ".py",
      "mimetype": "text/x-python",
      "name": "python",
      "nbconvert_exporter": "python",
      "pygments_lexer": "ipython3",
      "version": "3.7.1"
    }
  },
  "nbformat": 4,
  "nbformat_minor": 0
}