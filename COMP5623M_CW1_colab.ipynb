{
  "cells": [
    {
      "cell_type": "markdown",
      "metadata": {
        "id": "view-in-github",
        "colab_type": "text"
      },
      "source": [
        "<a href=\"https://colab.research.google.com/github/buthaina279/P4DS/blob/main/COMP5623M_CW1_colab.ipynb\" target=\"_parent\"><img src=\"https://colab.research.google.com/assets/colab-badge.svg\" alt=\"Open In Colab\"/></a>"
      ]
    },
    {
      "cell_type": "markdown",
      "metadata": {
        "id": "LR4bovYL4CJz"
      },
      "source": [
        "## COMP5623M Assessment Coursework 1 - Image Classification [100 marks]\n",
        "\n",
        "The maximum number of marks for each part are shown in the section headers. As indicated in the main heading above, the overall assessment carries a maximum of 100 marks.\n",
        "\n",
        "This summative assessment is weighted 25% of the final grade for the module.\n",
        "\n",
        "### Motivation \n",
        "\n",
        "Through this coursework, you will:\n",
        "\n",
        "> 1. Practice building, evaluating, and finetuning a convolutional neural network on an image dataset from development to testing. \n",
        "> 2. Gain a deeper understanding of feature maps and filters by visualizing some from a pre-trained network. \n",
        "\n",
        "\n",
        "### Setup and resources \n",
        "\n",
        "You must work using this provided template notebook.\n",
        "\n",
        "Having a GPU will speed up the training process, especially for Question 1.3. See the provided document on Minerva about setting up a working environment for various ways to access a GPU.\n",
        "\n",
        "Please implement the coursework using **Python and PyTorch**, and refer to the notebooks and exercises provided.\n",
        "\n",
        "This coursework will use a subset of images from Tiny ImageNet, which is a subset of the ImageNet dataset [https://image-net.org/]. Our subset of Tiny ImageNet contains 30 different categories, we will refer to it as TinyImageNet30. The training set has 450 resized images (64x64 pixels) for each category (13,500 images in total). You can download the training and test set from the Kaggle website:\n",
        "\n",
        ">[Private class Kaggle competition and data](https://www.kaggle.com/t/9b703e0d71824a658e186d5f69960e27)\n",
        "\n",
        "To access the dataset, you will need an account on the Kaggle website. Even if you have an existing Kaggle account, please carefully adhere to these instructions, or we may not be able to locate your entries:\n",
        "\n",
        "> 1. Use your **university email** to register a new account.\n",
        "> 2. Set your **Kaggle account NAME** to your university username, for example, ``sc15jb``.\n",
        "\n",
        "The class Kaggle competition also includes a blind test set, which will be used in Question 1 for evaluating your custom model's performance on a test set. The competition website will compute the test set accuracy, as well as position your model on the class leaderboard.\n",
        "\n",
        "### Submission\n",
        "\n",
        "Please submit the following:\n",
        "\n",
        "> 1. Your completed Jupyter notebook file, without removing anything in the template, in **.ipynb format.**\n",
        "> 2. The **.html version** of your notebook; File > Download as > HTML (.html). Check that all cells have been run and all outputs (including all graphs you would like to be marked) displayed in the .html for marking.\n",
        "> 3. Your selected image from section 2.4.2 \"Failure analysis\"\n",
        "\n",
        "Final note:\n",
        "\n",
        "> **Please display everything that you would like to be marked. Under each section, put the relevant code containing your solution. You may re-use functions you defined previously, but any new code must be in the relevant section.** Feel free to add as many code cells as you need under each section.\n",
        "\n",
        "Your student username (for example, ```sc15jb```):\n"
      ]
    },
    {
      "cell_type": "markdown",
      "metadata": {
        "id": "9wdgNoGN3UCx"
      },
      "source": [
        "ml20baya"
      ]
    },
    {
      "cell_type": "markdown",
      "metadata": {
        "id": "4sOaYCuf3UCy"
      },
      "source": [
        "Your full name:"
      ]
    },
    {
      "cell_type": "markdown",
      "metadata": {
        "id": "9DHDoWI63UCz"
      },
      "source": [
        "Buthaina Abdullah Alshareef"
      ]
    },
    {
      "cell_type": "markdown",
      "metadata": {
        "id": "-FLN4q-r3UC0"
      },
      "source": [
        "## Imports\n",
        "\n",
        "Feel free to add to this section as needed.\n",
        "\n",
        "You may need to download `cv2` using [pip](https://pypi.org/project/opencv-python/) or [conda](https://anaconda.org/conda-forge/opencv)."
      ]
    },
    {
      "cell_type": "code",
      "execution_count": 39,
      "metadata": {
        "id": "MPIh1yK33UC-"
      },
      "outputs": [],
      "source": [
        "import cv2\n",
        "import math\n",
        "\n",
        "import numpy as np\n",
        "import torch\n",
        "import torch.nn as nn\n",
        "from torch import optim\n",
        "import torchvision.transforms as transforms\n",
        "from torch.hub import load_state_dict_from_url\n",
        "\n",
        "# Imports\n",
        "import pandas as pd\n",
        "import os\n",
        "from PIL import Image\n",
        "from torch.utils.data import Dataset, DataLoader\n",
        "from torchvision import datasets, transforms,utils\n",
        "from torch.utils.data import Dataset\n",
        "from torchvision.datasets import ImageFolder\n",
        "from PIL import Image\n",
        "import matplotlib.pyplot as plt\n",
        "from torchsummary import summary\n",
        "import torchvision\n",
        "import torch.nn.functional as F\n",
        "from tqdm import tqdm"
      ]
    },
    {
      "cell_type": "markdown",
      "metadata": {
        "id": "kfR--uYXHdIi"
      },
      "source": [
        "## QUESTION 1 [55 marks]\n",
        "\n",
        "One challenge of building a deep learning model is to choose an architecture that can learn the features in the dataset without being unnecessarily complex. The first part of the coursework involves building a CNN and training it on TinyImageNet30. \n",
        "\n",
        "### **Overview:**\n",
        "*   **1.1.1** PyTorch ```Dataset``` and ```DataLoader``` classes\n",
        "*   **1.1.2** PyTorch ```Model``` class for simple CNN model\n",
        "*   **1.1.3** Overfitting on a single batch\n",
        "*   **1.2.1** Training on complete dataset\n",
        "*   **1.2.2** Fine-tuning model\n",
        "*   **1.2.3** Generating confusion matrices\n",
        "*   **1.3**   Testing on test set on Kaggle\n",
        "\n",
        "\n",
        "## 1.1 Single-batch training [14 marks]\n",
        "\n",
        "We will use a method of development called “single-batch training”, or \"overfitting a single batch\", in which we check that our model and the training code is working properly and can overfit a single training batch (i.e., we can drive the training loss to zero). Then we move on to training on the complete training set and adjust for any overfitting and fine-tune the model via regularisation.\n",
        "\n",
        "### 1.1.1 Dataset class [3 marks]\n",
        "\n",
        "Write a PyTorch ```Dataset``` class (an example [here](https://www.askpython.com/python-modules/pytorch-custom-datasets) for reference) which loads the TinyImage30 dataset and ```DataLoaders``` for training and validation sets.\n"
      ]
    },
    {
      "cell_type": "code",
      "execution_count": 17,
      "metadata": {
        "id": "QOr2gyWM3UDC"
      },
      "outputs": [],
      "source": [
        "device = torch.device(\"cuda:0\" if torch.cuda.is_available() else \"cpu\")"
      ]
    },
    {
      "cell_type": "code",
      "source": [
        "print(torch.cuda.get_device_name(0))"
      ],
      "metadata": {
        "colab": {
          "base_uri": "https://localhost:8080/"
        },
        "id": "pdeI_TPMaECq",
        "outputId": "754b3850-1ad4-4891-cade-c16b4d03a053"
      },
      "execution_count": 3,
      "outputs": [
        {
          "output_type": "stream",
          "name": "stdout",
          "text": [
            "Tesla P100-PCIE-16GB\n"
          ]
        }
      ]
    },
    {
      "cell_type": "code",
      "source": [
        "print(torch.cuda.device_count())"
      ],
      "metadata": {
        "colab": {
          "base_uri": "https://localhost:8080/"
        },
        "id": "HSbaz9zTZHL1",
        "outputId": "e7c8c514-ed14-43bd-de4a-7a4b8ef59718"
      },
      "execution_count": 4,
      "outputs": [
        {
          "output_type": "stream",
          "name": "stdout",
          "text": [
            "1\n"
          ]
        }
      ]
    },
    {
      "cell_type": "code",
      "source": [
        "from google.colab import drive\n",
        "drive.mount('/content/drive')"
      ],
      "metadata": {
        "colab": {
          "base_uri": "https://localhost:8080/"
        },
        "id": "zf8eLv825UXL",
        "outputId": "7634799c-7a96-496a-9c2f-7050369001ec"
      },
      "execution_count": 5,
      "outputs": [
        {
          "output_type": "stream",
          "name": "stdout",
          "text": [
            "Mounted at /content/drive\n"
          ]
        }
      ]
    },
    {
      "cell_type": "code",
      "source": [
        "ROOT_DIR = \"/content/drive/MyDrive/comp5623m-2022/train_set/train_set/\"\n",
        "ROOT = \"/content/drive/MyDrive/comp5623m-2022/\"\n"
      ],
      "metadata": {
        "id": "wvShxDMTyUjY"
      },
      "execution_count": 38,
      "outputs": []
    },
    {
      "cell_type": "code",
      "source": [
        "#!unzip \"/content/drive/MyDrive/comp5623m-2022_z.zip\" -d \"/content\""
      ],
      "metadata": {
        "id": "l49PgjDDuhw4"
      },
      "execution_count": null,
      "outputs": []
    },
    {
      "cell_type": "code",
      "execution_count": 6,
      "metadata": {
        "colab": {
          "base_uri": "https://localhost:8080/"
        },
        "id": "n-YrVNgE3UDD",
        "outputId": "cf1e9861-a87c-42c5-85be-14e62fa3f1fc"
      },
      "outputs": [
        {
          "output_type": "stream",
          "name": "stdout",
          "text": [
            "Found 13500 images.\n",
            "                                                path  class\n",
            "0  /content/drive/MyDrive/comp5623m-2022/train_se...      3\n",
            "1  /content/drive/MyDrive/comp5623m-2022/train_se...     11\n",
            "2  /content/drive/MyDrive/comp5623m-2022/train_se...     18\n",
            "3  /content/drive/MyDrive/comp5623m-2022/train_se...     28\n",
            "4  /content/drive/MyDrive/comp5623m-2022/train_se...     12\n",
            "dataset_train length 10800\n",
            "dataset_valid length 2700\n",
            "train_loader length 169\n",
            "valid_loader length 43\n"
          ]
        },
        {
          "output_type": "stream",
          "name": "stderr",
          "text": [
            "/usr/local/lib/python3.7/dist-packages/torch/utils/data/dataloader.py:481: UserWarning: This DataLoader will create 6 worker processes in total. Our suggested max number of worker in current system is 2, which is smaller than what this DataLoader is going to create. Please be aware that excessive worker creation might get DataLoader running slow or even freeze, lower the worker number to avoid potential slowness/freeze if necessary.\n",
            "  cpuset_checked))\n"
          ]
        }
      ],
      "source": [
        "#device = torch.device(\"cuda:0\" if torch.cuda.is_available() else \"cpu\")\n",
        "\n",
        "CLASS_LABELS = [\"baboon\",\n",
        "                \"banana\"\n",
        "                ,\"bee\"\n",
        "                ,\"bison\"\n",
        "                ,\"butterfly\"\n",
        "                ,\"candle\"\n",
        "                ,\"cardigan\"\n",
        "                ,\"chihuahua\"\n",
        "                ,\"elephant\"\n",
        "                ,\"espresso\"\n",
        "                ,\"fly\"\n",
        "                ,\"goldfish\"\n",
        "                ,\"goose\"\n",
        "                ,\"grasshopper\"\n",
        "                ,\"hourglass\"\n",
        "                ,\"icecream\"\n",
        "                ,\"ipod\"\n",
        "                ,\"jellyfish\"\n",
        "                ,\"koala\"\n",
        "                ,\"ladybug\"\n",
        "                ,\"lion\"\n",
        "                ,\"mushroom\"\n",
        "                ,\"penguin\"\n",
        "                ,\"pig\"\n",
        "                ,\"pizza\"\n",
        "                ,\"pretzel\"\n",
        "                ,\"redpanda\"\n",
        "                ,\"refrigerator\"\n",
        "                ,\"sombrero\"\n",
        "                ,\"umbrella\"]\n",
        "\n",
        "\n",
        "\n",
        "mean =  [0.4828, 0.4419, 0.3691]\n",
        "std = [0.2130, 0.2060, 0.2022]\n",
        "\n",
        "class TinyImageNet30(Dataset):\n",
        "    def __init__(self, df, transform = None):\n",
        "        self.df = df\n",
        "        self.transform = transform\n",
        "\n",
        "    def __len__(self):\n",
        "        return len(self.df)\n",
        "\n",
        "    def __getitem__(self, index):\n",
        "        img_x = Image.open(self.df['path'][index])\n",
        "        \n",
        "        try:\n",
        "            img_x = img_x.convert('RGB')\n",
        "            \n",
        "        except:\n",
        "            pass\n",
        "        \n",
        "        img_y = torch.tensor(int(self.df['class'][index]))\n",
        "        \n",
        "        if self.transform:\n",
        "            img_x = self.transform(img_x)\n",
        "        return img_x,img_y\n",
        "        \n",
        "\n",
        "paths, classes = [], []\n",
        "for i, dir_ in enumerate(CLASS_LABELS):\n",
        "    for entry in os.scandir(ROOT_DIR + dir_):\n",
        "        if (entry.is_file()):\n",
        "            paths.append(entry.path)\n",
        "            classes.append(i)\n",
        "            \n",
        "data = {'path': paths,'class': classes}\n",
        "\n",
        "data_df = pd.DataFrame(data, columns=['path', 'class'])\n",
        "data_df = data_df.sample(frac=1).reset_index(drop=True)\n",
        "\n",
        "\n",
        "print(\"Found\", len(data_df), \"images.\")\n",
        "print(data_df.head())\n",
        "\n",
        "trnsfrm = transforms.Compose([\n",
        "    transforms.ToTensor(),\n",
        "    transforms.Normalize(mean, std)\n",
        "])\n",
        "\n",
        "# Split the data into train and test sets\n",
        "train_split = 0.80 \n",
        "train_size = int(len(data_df)*train_split)\n",
        "\n",
        "\n",
        "train_dataset = TinyImageNet30(\n",
        "    df=data_df[:train_size],\n",
        "    transform=trnsfrm,\n",
        ")\n",
        "\n",
        "valid_dataset = TinyImageNet30(\n",
        "    df=data_df[train_size:].reset_index(drop=True),\n",
        "    transform=trnsfrm,\n",
        ")\n",
        "\n",
        "train_loader = DataLoader(train_dataset, batch_size=64,shuffle=True,num_workers=6)\n",
        "\n",
        "valid_loader = DataLoader(valid_dataset, batch_size=64,shuffle=True,num_workers=6)\n",
        "\n",
        "\n",
        "print(\"dataset_train length\", len(train_dataset))\n",
        "print(\"dataset_valid length\", len(valid_dataset))\n",
        "print(\"train_loader length\", len(train_loader))\n",
        "print(\"valid_loader length\", len(valid_loader))\n",
        "\n"
      ]
    },
    {
      "cell_type": "code",
      "execution_count": null,
      "metadata": {
        "colab": {
          "base_uri": "https://localhost:8080/",
          "height": 353
        },
        "id": "QFZKc9KJ3UDR",
        "outputId": "e2a8b4aa-562c-4523-b14c-834336da5eca"
      },
      "outputs": [
        {
          "output_type": "stream",
          "name": "stderr",
          "text": [
            "/usr/local/lib/python3.7/dist-packages/torch/utils/data/dataloader.py:481: UserWarning: This DataLoader will create 6 worker processes in total. Our suggested max number of worker in current system is 2, which is smaller than what this DataLoader is going to create. Please be aware that excessive worker creation might get DataLoader running slow or even freeze, lower the worker number to avoid potential slowness/freeze if necessary.\n",
            "  cpuset_checked))\n",
            "Clipping input data to the valid range for imshow with RGB data ([0..1] for floats or [0..255] for integers).\n"
          ]
        },
        {
          "output_type": "stream",
          "name": "stdout",
          "text": [
            "torch.Size([64, 3, 64, 64])\n"
          ]
        },
        {
          "output_type": "display_data",
          "data": {
            "image/png": "[encoded data removed]",
            "text/plain": [
              "<Figure size 432x288 with 1 Axes>"
            ]
          },
          "metadata": {
            "needs_background": "light"
          }
        },
        {
          "output_type": "stream",
          "name": "stdout",
          "text": [
            "22 25 6 26 22 28 23 17 23 11 1 2 1 4 10 5 19 15 19 2 8 2 18 23 25 24 18 28 8 5 16 29 23 22 18 15 6 15 26 0 3 16 10 18 12 26 26 19 15 26 26 24 28 4 26 15 28 21 20 23 24 20 25 16\n"
          ]
        }
      ],
      "source": [
        "def timshow(x):\n",
        "    xa = np.transpose(x.numpy(),(1,2,0))\n",
        "    plt.imshow(xa)\n",
        "    plt.axis('off')\n",
        "    plt.show()\n",
        "    return xa\n",
        "    \n",
        "# single batch\n",
        "dataiter = iter(train_loader)\n",
        "images, labels = dataiter.next()\n",
        "\n",
        "print(images.size())\n",
        "\n",
        "#disply images\n",
        "timshow(utils.make_grid(images))\n",
        "print(*labels.numpy())     # * unpack the ndarray"
      ]
    },
    {
      "cell_type": "markdown",
      "metadata": {
        "id": "22tfAqjA3UDT"
      },
      "source": [
        "### 1.1.2 Define a CNN model [3 marks]\n",
        "\n",
        "Create a new model class using a combination of convolutional and fully connected layers, ReLU, and max-pool. "
      ]
    },
    {
      "cell_type": "code",
      "source": [
        "class model112(nn.Module):\n",
        "\n",
        "  def __init__(self):\n",
        "\n",
        "\n",
        "    super(model112, self).__init__()\n",
        "\n",
        "    self.conv1 = nn.Conv2d(3, 87, kernel_size= 5, padding= 0)\n",
        "    self.mp1 = nn.MaxPool2d(kernel_size=2, stride=2)\n",
        "\n",
        "    self.conv2 = nn.Conv2d(87, 64, kernel_size= 3, padding= 0)\n",
        "    self.mp2 = nn.MaxPool2d(kernel_size=2, stride=2)\n",
        "        \n",
        "    self.fcl1 = nn.Linear(14*14*64, 1500)\n",
        "\n",
        "    self.fcl2 = nn.Linear(1500, 30)\n",
        "        \n",
        "  def forward(self, x):\n",
        "\n",
        "\n",
        "    x = F.relu(self.conv1(x))\n",
        "    x = self.mp1(x)\n",
        "\n",
        "    x = F.relu(self.conv2(x))\n",
        "    x = self.mp2(x)\n",
        "\n",
        "    x = x.reshape(-1, 14*14*64)\n",
        "\n",
        "    x = self.fcl1(x)\n",
        "    x = F.relu(x)\n",
        "\n",
        "    x = self.fcl2(x)\n",
        "\n",
        "\n",
        "    return x\n",
        "#model122 = model112()\n",
        "model112 = nn.DataParallel(model122())\n",
        "model112 = model112.to(device)   "
      ],
      "metadata": {
        "id": "w-uIBMH-TKHn"
      },
      "execution_count": 67,
      "outputs": []
    },
    {
      "cell_type": "code",
      "source": [
        "#model122 = model112()\n",
        "model112 = nn.DataParallel(model122())\n",
        "model112 = model112.to(device)"
      ],
      "metadata": {
        "id": "Lbklw3YvcmP5"
      },
      "execution_count": 68,
      "outputs": []
    },
    {
      "cell_type": "code",
      "source": [
        "model112 = nn.DataParallel(model122)"
      ],
      "metadata": {
        "id": "4jD6CBaB2JMB"
      },
      "execution_count": 70,
      "outputs": []
    },
    {
      "cell_type": "code",
      "source": [
        "model112 = model112.to(device)"
      ],
      "metadata": {
        "id": "PxQhE90s4LkV"
      },
      "execution_count": 71,
      "outputs": []
    },
    {
      "cell_type": "code",
      "source": [
        "model122"
      ],
      "metadata": {
        "colab": {
          "base_uri": "https://localhost:8080/"
        },
        "id": "6NDsfMuqd0dv",
        "outputId": "a91edc08-e336-46d2-e85c-3da5a04a785e"
      },
      "execution_count": 72,
      "outputs": [
        {
          "output_type": "execute_result",
          "data": {
            "text/plain": [
              "model112(\n",
              "  (conv1): Conv2d(3, 87, kernel_size=(5, 5), stride=(1, 1))\n",
              "  (mp1): MaxPool2d(kernel_size=2, stride=2, padding=0, dilation=1, ceil_mode=False)\n",
              "  (conv2): Conv2d(87, 64, kernel_size=(3, 3), stride=(1, 1))\n",
              "  (mp2): MaxPool2d(kernel_size=2, stride=2, padding=0, dilation=1, ceil_mode=False)\n",
              "  (fcl1): Linear(in_features=12544, out_features=1500, bias=True)\n",
              "  (fcl2): Linear(in_features=1500, out_features=30, bias=True)\n",
              ")"
            ]
          },
          "metadata": {},
          "execution_count": 72
        }
      ]
    },
    {
      "cell_type": "code",
      "execution_count": 7,
      "metadata": {
        "id": "YOLopGNZ3UDW",
        "outputId": "2dd93a95-8378-4ef3-ccc8-6632d53d223a",
        "colab": {
          "base_uri": "https://localhost:8080/"
        }
      },
      "outputs": [
        {
          "output_type": "stream",
          "name": "stdout",
          "text": [
            "----------------------------------------------------------------\n",
            "        Layer (type)               Output Shape         Param #\n",
            "================================================================\n",
            "            Conv2d-1           [-1, 87, 60, 60]           6,612\n",
            "              ReLU-2           [-1, 87, 60, 60]               0\n",
            "         MaxPool2d-3           [-1, 87, 30, 30]               0\n",
            "            Conv2d-4           [-1, 64, 28, 28]          50,176\n",
            "              ReLU-5           [-1, 64, 28, 28]               0\n",
            "         MaxPool2d-6           [-1, 64, 14, 14]               0\n",
            "           Flatten-7                [-1, 12544]               0\n",
            "            Linear-8                 [-1, 1500]      18,817,500\n",
            "              ReLU-9                 [-1, 1500]               0\n",
            "           Linear-10                   [-1, 30]          45,030\n",
            "================================================================\n",
            "Total params: 18,919,318\n",
            "Trainable params: 18,919,318\n",
            "Non-trainable params: 0\n",
            "----------------------------------------------------------------\n",
            "Input size (MB): 0.05\n",
            "Forward/backward pass size (MB): 6.36\n",
            "Params size (MB): 72.17\n",
            "Estimated Total Size (MB): 78.57\n",
            "----------------------------------------------------------------\n"
          ]
        }
      ],
      "source": [
        "# define a Model class for single and complete \n",
        "net = nn.Sequential(\n",
        "    nn.Conv2d(3, 87, kernel_size= 5, padding= 0),\n",
        "    nn.ReLU(),\n",
        "    nn.MaxPool2d(kernel_size=2, stride=2),\n",
        "    \n",
        "    nn.Conv2d(87, 64, kernel_size= 3, padding= 0),\n",
        "    nn.ReLU(),\n",
        "    nn.MaxPool2d(kernel_size=2, stride=2),\n",
        "    \n",
        "    nn.Flatten(),\n",
        "    \n",
        "    nn.Linear(14*14*64, 1500),\n",
        "    nn.ReLU(),\n",
        "    \n",
        "    nn.Linear(1500, 30)\n",
        ")\n",
        "\n",
        "summary(net.to(device), input_size=(3, 64, 64))"
      ]
    },
    {
      "cell_type": "code",
      "execution_count": null,
      "metadata": {
        "id": "REIJm1413UDY"
      },
      "outputs": [],
      "source": [
        ""
      ]
    },
    {
      "cell_type": "markdown",
      "metadata": {
        "id": "ifh4o5r73UDZ"
      },
      "source": [
        "### 1.1.3 Single-batch training [8 marks]\n",
        "\n",
        "Write the foundational code which trains your network given **one single batch** of training data and computes the loss on the complete validation set for each epoch. Set ```batch_size = 64```. \n",
        "\n",
        "Display the graph of the training and validation loss over training epochs, showing as long as necessary to show you can drive the training loss to zero.\n",
        "\n",
        "> Please leave all graphs and code you would like to be marked clearly displayed without needing to run code cells or wait for training.\n"
      ]
    },
    {
      "cell_type": "code",
      "execution_count": 57,
      "metadata": {
        "id": "vvJRlnW33UDi"
      },
      "outputs": [],
      "source": [
        "#validation for all models\n",
        "def stats(loader, net):\n",
        "    correct = 0\n",
        "    total = 0\n",
        "    running_loss = 0\n",
        "    # net = net.to(device)\n",
        "    n = 0    # counter for number of minibatches\n",
        "    with torch.no_grad():\n",
        "        for data in loader:\n",
        "            images, labels = data\n",
        "            images = images.to(device)\n",
        "            labels = labels.to(device)\n",
        "            \n",
        "            outputs = net(images)\n",
        "            \n",
        "            # accumulate loss\n",
        "            running_loss += loss_fn(outputs, labels)\n",
        "            n += 1\n",
        "            \n",
        "            # accumulate data for accuracy\n",
        "            _, predicted = torch.max(outputs.data, 1)\n",
        "            total += labels.size(0)    # add in the number of labels in this minibatch\n",
        "            correct += (predicted == labels).sum().item()  # add in the number of correct labels\n",
        "            \n",
        "    return running_loss/n, correct/total "
      ]
    },
    {
      "cell_type": "code",
      "source": [
        "# instantiate your new Model class\n",
        "# model_122\n",
        "#callbacks = [EarlyStopping(monitor='val_loss', patience=5)]\n",
        "#model.set_callbacks(callbacks)\n",
        "def run_model(epoch, resultPath, learningRate, train_loader, model):\n",
        "  nepochs = epoch\n",
        "  #results_path = ROOT\n",
        "  results_path = ROOT+ resultPath\n",
        "  statsrec = np.zeros((4,nepochs))\n",
        "  loss_fn = nn.CrossEntropyLoss()\n",
        "\n",
        "  optimizer = optim.SGD(model.parameters(), lr=learningRate, momentum=0.9)\n",
        "  #optimizer = optim.Adadelta(model_122a.parameters())\n",
        "  #ADam\n",
        "\n",
        "  for epoch in range(nepochs):  # loop over the dataset multiple times\n",
        "      correct = 0          # number of examples predicted correctly (for accuracy)\n",
        "      total = 0            # number of examples\n",
        "      running_loss = 0.0   # accumulated loss (for mean loss)\n",
        "      n = 0                # number of minibatches\n",
        "      for data in tqdm(train_loader):\n",
        "          inputs, labels = data\n",
        "          inputs = inputs.to(device)\n",
        "          labels = labels.to(device)\n",
        "          # Zero the parameter gradients\n",
        "          optimizer.zero_grad()\n",
        "\n",
        "          # Forward, backward, and update parameters\n",
        "          outputs = model(inputs)\n",
        "          loss = loss_fn(outputs, labels)\n",
        "          loss.backward()\n",
        "          optimizer.step()\n",
        "      \n",
        "          # accumulate loss\n",
        "          running_loss += loss.item()\n",
        "          n += 1\n",
        "          \n",
        "          # accumulate data for accuracy\n",
        "          _, predicted = torch.max(outputs.data, 1)\n",
        "          total += labels.size(0)    # add in the number of labels in this minibatch\n",
        "          correct += (predicted == labels).sum().item()  # add in the number of correct labels\n",
        "      \n",
        "      # collect together statistics for this epoch\n",
        "      ltrn = running_loss/n\n",
        "      atrn = correct/total \n",
        "      ltst, atst = stats(valid_loader, model)\n",
        "      statsrec[:,epoch] = (ltrn, atrn, ltst.cpu(), atst)\n",
        "      print(f\"epoch: {epoch} training loss: {ltrn: .3f} training accuracy: {atrn: .1%}  validation loss: {ltst.cpu(): .3f} validation accuracy: {atst: .1%}\")\n",
        "\n",
        "      # save network parameters, losses and accuracy\n",
        "  torch.save({\"state_dict\": model.state_dict(), \"stats\": statsrec}, results_path)"
      ],
      "metadata": {
        "id": "YAiHu1unymHM"
      },
      "execution_count": 74,
      "outputs": []
    },
    {
      "cell_type": "code",
      "source": [
        "run_model(50,'results/singlebatch50epochsClass.pt',0.01, train_loader,model112)"
      ],
      "metadata": {
        "colab": {
          "base_uri": "https://localhost:8080/",
          "height": 378
        },
        "id": "z5kfTZE3079t",
        "outputId": "cd837964-ce7e-4b06-be14-3796e161cd41"
      },
      "execution_count": 75,
      "outputs": [
        {
          "output_type": "stream",
          "name": "stderr",
          "text": [
            "\r  0%|          | 0/169 [00:00<?, ?it/s]/usr/local/lib/python3.7/dist-packages/torch/utils/data/dataloader.py:481: UserWarning: This DataLoader will create 6 worker processes in total. Our suggested max number of worker in current system is 2, which is smaller than what this DataLoader is going to create. Please be aware that excessive worker creation might get DataLoader running slow or even freeze, lower the worker number to avoid potential slowness/freeze if necessary.\n",
            "  cpuset_checked))\n",
            "100%|██████████| 169/169 [00:18<00:00,  9.33it/s]\n"
          ]
        },
        {
          "output_type": "error",
          "ename": "NameError",
          "evalue": "ignored",
          "traceback": [
            "\u001b[0;31m---------------------------------------------------------------------------\u001b[0m",
            "\u001b[0;31mNameError\u001b[0m                                 Traceback (most recent call last)",
            "\u001b[0;32m<ipython-input-75-6fb813032278>\u001b[0m in \u001b[0;36m<module>\u001b[0;34m()\u001b[0m\n\u001b[0;32m----> 1\u001b[0;31m \u001b[0mrun_model\u001b[0m\u001b[0;34m(\u001b[0m\u001b[0;36m50\u001b[0m\u001b[0;34m,\u001b[0m\u001b[0;34m'results/singlebatch50epochsClass.pt'\u001b[0m\u001b[0;34m,\u001b[0m\u001b[0;36m0.01\u001b[0m\u001b[0;34m,\u001b[0m \u001b[0mtrain_loader\u001b[0m\u001b[0;34m,\u001b[0m\u001b[0mmodel112\u001b[0m\u001b[0;34m)\u001b[0m\u001b[0;34m\u001b[0m\u001b[0;34m\u001b[0m\u001b[0m\n\u001b[0m",
            "\u001b[0;32m<ipython-input-74-4e8e321eb53c>\u001b[0m in \u001b[0;36mrun_model\u001b[0;34m(epoch, resultPath, learningRate, train_loader, model)\u001b[0m\n\u001b[1;32m     44\u001b[0m       \u001b[0mltrn\u001b[0m \u001b[0;34m=\u001b[0m \u001b[0mrunning_loss\u001b[0m\u001b[0;34m/\u001b[0m\u001b[0mn\u001b[0m\u001b[0;34m\u001b[0m\u001b[0;34m\u001b[0m\u001b[0m\n\u001b[1;32m     45\u001b[0m       \u001b[0matrn\u001b[0m \u001b[0;34m=\u001b[0m \u001b[0mcorrect\u001b[0m\u001b[0;34m/\u001b[0m\u001b[0mtotal\u001b[0m\u001b[0;34m\u001b[0m\u001b[0;34m\u001b[0m\u001b[0m\n\u001b[0;32m---> 46\u001b[0;31m       \u001b[0mltst\u001b[0m\u001b[0;34m,\u001b[0m \u001b[0matst\u001b[0m \u001b[0;34m=\u001b[0m \u001b[0mstats\u001b[0m\u001b[0;34m(\u001b[0m\u001b[0mvalid_loader\u001b[0m\u001b[0;34m,\u001b[0m \u001b[0mmodel\u001b[0m\u001b[0;34m)\u001b[0m\u001b[0;34m\u001b[0m\u001b[0;34m\u001b[0m\u001b[0m\n\u001b[0m\u001b[1;32m     47\u001b[0m       \u001b[0mstatsrec\u001b[0m\u001b[0;34m[\u001b[0m\u001b[0;34m:\u001b[0m\u001b[0;34m,\u001b[0m\u001b[0mepoch\u001b[0m\u001b[0;34m]\u001b[0m \u001b[0;34m=\u001b[0m \u001b[0;34m(\u001b[0m\u001b[0mltrn\u001b[0m\u001b[0;34m,\u001b[0m \u001b[0matrn\u001b[0m\u001b[0;34m,\u001b[0m \u001b[0mltst\u001b[0m\u001b[0;34m.\u001b[0m\u001b[0mcpu\u001b[0m\u001b[0;34m(\u001b[0m\u001b[0;34m)\u001b[0m\u001b[0;34m,\u001b[0m \u001b[0matst\u001b[0m\u001b[0;34m)\u001b[0m\u001b[0;34m\u001b[0m\u001b[0;34m\u001b[0m\u001b[0m\n\u001b[1;32m     48\u001b[0m       \u001b[0mprint\u001b[0m\u001b[0;34m(\u001b[0m\u001b[0;34mf\"epoch: {epoch} training loss: {ltrn: .3f} training accuracy: {atrn: .1%}  validation loss: {ltst.cpu(): .3f} validation accuracy: {atst: .1%}\"\u001b[0m\u001b[0;34m)\u001b[0m\u001b[0;34m\u001b[0m\u001b[0;34m\u001b[0m\u001b[0m\n",
            "\u001b[0;32m<ipython-input-57-93669ba95b7d>\u001b[0m in \u001b[0;36mstats\u001b[0;34m(loader, net)\u001b[0m\n\u001b[1;32m     14\u001b[0m \u001b[0;34m\u001b[0m\u001b[0m\n\u001b[1;32m     15\u001b[0m             \u001b[0;31m# accumulate loss\u001b[0m\u001b[0;34m\u001b[0m\u001b[0;34m\u001b[0m\u001b[0;34m\u001b[0m\u001b[0m\n\u001b[0;32m---> 16\u001b[0;31m             \u001b[0mrunning_loss\u001b[0m \u001b[0;34m+=\u001b[0m \u001b[0mloss_fn\u001b[0m\u001b[0;34m(\u001b[0m\u001b[0moutputs\u001b[0m\u001b[0;34m,\u001b[0m \u001b[0mlabels\u001b[0m\u001b[0;34m)\u001b[0m\u001b[0;34m\u001b[0m\u001b[0;34m\u001b[0m\u001b[0m\n\u001b[0m\u001b[1;32m     17\u001b[0m             \u001b[0mn\u001b[0m \u001b[0;34m+=\u001b[0m \u001b[0;36m1\u001b[0m\u001b[0;34m\u001b[0m\u001b[0;34m\u001b[0m\u001b[0m\n\u001b[1;32m     18\u001b[0m \u001b[0;34m\u001b[0m\u001b[0m\n",
            "\u001b[0;31mNameError\u001b[0m: name 'loss_fn' is not defined"
          ]
        }
      ]
    },
    {
      "cell_type": "code",
      "execution_count": null,
      "metadata": {
        "scrolled": true,
        "id": "hlWv1smt3UDo",
        "outputId": "9c10c238-ba2c-408c-b0aa-896d646bd822",
        "colab": {
          "base_uri": "https://localhost:8080/"
        }
      },
      "outputs": [
        {
          "output_type": "stream",
          "name": "stderr",
          "text": [
            "/usr/local/lib/python3.7/dist-packages/torch/utils/data/dataloader.py:481: UserWarning: This DataLoader will create 6 worker processes in total. Our suggested max number of worker in current system is 2, which is smaller than what this DataLoader is going to create. Please be aware that excessive worker creation might get DataLoader running slow or even freeze, lower the worker number to avoid potential slowness/freeze if necessary.\n",
            "  cpuset_checked))\n"
          ]
        },
        {
          "output_type": "stream",
          "name": "stdout",
          "text": [
            "epoch: 0 training loss:  2.184 training accuracy:  34.4%  validation loss:  2.214 validation accuracy:  35.6%\n",
            "epoch: 1 training loss:  1.983 training accuracy:  39.1%  validation loss:  2.227 validation accuracy:  36.0%\n",
            "epoch: 2 training loss:  1.714 training accuracy:  59.4%  validation loss:  2.272 validation accuracy:  34.4%\n",
            "epoch: 3 training loss:  1.469 training accuracy:  60.9%  validation loss:  2.360 validation accuracy:  31.7%\n",
            "epoch: 4 training loss:  1.234 training accuracy:  67.2%  validation loss:  2.479 validation accuracy:  30.5%\n",
            "epoch: 5 training loss:  0.992 training accuracy:  75.0%  validation loss:  2.647 validation accuracy:  29.1%\n",
            "epoch: 6 training loss:  0.771 training accuracy:  79.7%  validation loss:  2.851 validation accuracy:  27.7%\n",
            "epoch: 7 training loss:  0.583 training accuracy:  87.5%  validation loss:  3.047 validation accuracy:  26.8%\n",
            "epoch: 8 training loss:  0.429 training accuracy:  95.3%  validation loss:  3.262 validation accuracy:  25.9%\n",
            "epoch: 9 training loss:  0.309 training accuracy:  96.9%  validation loss:  3.538 validation accuracy:  24.7%\n",
            "epoch: 10 training loss:  0.217 training accuracy:  96.9%  validation loss:  3.813 validation accuracy:  24.1%\n",
            "epoch: 11 training loss:  0.145 training accuracy:  98.4%  validation loss:  4.133 validation accuracy:  23.1%\n",
            "epoch: 12 training loss:  0.093 training accuracy:  100.0%  validation loss:  4.442 validation accuracy:  22.1%\n",
            "epoch: 13 training loss:  0.057 training accuracy:  100.0%  validation loss:  4.771 validation accuracy:  21.9%\n",
            "epoch: 14 training loss:  0.034 training accuracy:  100.0%  validation loss:  5.106 validation accuracy:  21.3%\n",
            "epoch: 15 training loss:  0.022 training accuracy:  100.0%  validation loss:  5.472 validation accuracy:  21.1%\n",
            "epoch: 16 training loss:  0.016 training accuracy:  100.0%  validation loss:  5.843 validation accuracy:  20.6%\n",
            "epoch: 17 training loss:  0.013 training accuracy:  100.0%  validation loss:  6.094 validation accuracy:  20.3%\n",
            "epoch: 18 training loss:  0.011 training accuracy:  100.0%  validation loss:  6.473 validation accuracy:  20.2%\n",
            "epoch: 19 training loss:  0.009 training accuracy:  100.0%  validation loss:  6.736 validation accuracy:  20.1%\n",
            "epoch: 20 training loss:  0.007 training accuracy:  100.0%  validation loss:  6.987 validation accuracy:  19.7%\n",
            "epoch: 21 training loss:  0.006 training accuracy:  100.0%  validation loss:  7.216 validation accuracy:  19.6%\n",
            "epoch: 22 training loss:  0.004 training accuracy:  100.0%  validation loss:  7.453 validation accuracy:  19.4%\n",
            "epoch: 23 training loss:  0.003 training accuracy:  100.0%  validation loss:  7.687 validation accuracy:  19.1%\n",
            "epoch: 24 training loss:  0.003 training accuracy:  100.0%  validation loss:  7.901 validation accuracy:  19.0%\n",
            "epoch: 25 training loss:  0.002 training accuracy:  100.0%  validation loss:  7.993 validation accuracy:  19.1%\n",
            "epoch: 26 training loss:  0.002 training accuracy:  100.0%  validation loss:  8.165 validation accuracy:  18.9%\n",
            "epoch: 27 training loss:  0.002 training accuracy:  100.0%  validation loss:  8.341 validation accuracy:  18.8%\n",
            "epoch: 28 training loss:  0.002 training accuracy:  100.0%  validation loss:  8.478 validation accuracy:  18.9%\n",
            "epoch: 29 training loss:  0.001 training accuracy:  100.0%  validation loss:  8.592 validation accuracy:  18.7%\n",
            "epoch: 30 training loss:  0.001 training accuracy:  100.0%  validation loss:  8.673 validation accuracy:  18.5%\n",
            "epoch: 31 training loss:  0.001 training accuracy:  100.0%  validation loss:  8.773 validation accuracy:  18.5%\n",
            "epoch: 32 training loss:  0.001 training accuracy:  100.0%  validation loss:  8.877 validation accuracy:  18.4%\n",
            "epoch: 33 training loss:  0.001 training accuracy:  100.0%  validation loss:  9.025 validation accuracy:  18.4%\n",
            "epoch: 34 training loss:  0.001 training accuracy:  100.0%  validation loss:  9.011 validation accuracy:  18.5%\n",
            "epoch: 35 training loss:  0.001 training accuracy:  100.0%  validation loss:  9.040 validation accuracy:  18.4%\n",
            "epoch: 36 training loss:  0.001 training accuracy:  100.0%  validation loss:  9.146 validation accuracy:  18.4%\n",
            "epoch: 37 training loss:  0.000 training accuracy:  100.0%  validation loss:  9.178 validation accuracy:  18.4%\n",
            "epoch: 38 training loss:  0.000 training accuracy:  100.0%  validation loss:  9.256 validation accuracy:  18.4%\n"
          ]
        }
      ],
      "source": [
        "nepochs = 50\n",
        "#results_path = ROOT\n",
        "results_path = ROOT+'results/singlebatch50epochsClass.pt'\n",
        "\n",
        "statsrec = np.zeros((4,nepochs))\n",
        "\n",
        "data = next(iter(train_loader))\n",
        "\n",
        "loss_fn = nn.CrossEntropyLoss()\n",
        "optimizer = optim.SGD(model112.parameters(), lr=0.01, momentum=0.9)\n",
        "\n",
        "for epoch in range(nepochs):  # loop over the dataset multiple times\n",
        "    correct = 0          # number of examples predicted correctly (for accuracy)\n",
        "    total = 0            # number of examples\n",
        "    running_loss = 0.0   # accumulated loss (for mean loss)\n",
        "    n = 0                # number of minibatches\n",
        "    \n",
        "    # get a batch of random training examples (images and corresponding labels)\n",
        "    \n",
        "    inputs, labels = data\n",
        "    inputs = inputs.to(device)\n",
        "    labels = labels.to(device)\n",
        "        \n",
        "         # Zero the parameter gradients\n",
        "    optimizer.zero_grad()\n",
        "\n",
        "        # Forward, backward, and update parameters\n",
        "    outputs = model112(inputs)\n",
        "    loss = loss_fn(outputs, labels)\n",
        "    loss.backward()\n",
        "    optimizer.step()\n",
        "    \n",
        "        # accumulate loss\n",
        "    running_loss += loss.item()\n",
        "    n += 1\n",
        "        \n",
        "        # accumulate data for accuracy\n",
        "    _, predicted = torch.max(outputs.data, 1)\n",
        "    total += labels.size(0)    # add in the number of labels in this minibatch\n",
        "    correct += (predicted == labels).sum().item()  # add in the number of correct labels\n",
        "    \n",
        "    # collect together statistics for this epoch\n",
        "    ltrn = running_loss/n\n",
        "    atrn = correct/total \n",
        "    ltst, atst = stats(valid_loader, model112)\n",
        "    statsrec[:,epoch] = (ltrn, atrn, ltst.cpu(), atst)\n",
        "    print(f\"epoch: {epoch} training loss: {ltrn: .3f} training accuracy: {atrn: .1%}  validation loss: {ltst: .3f} validation accuracy: {atst: .1%}\")\n",
        "\n",
        "# save network parameters, losses and accuracy\n",
        "torch.save({\"state_dict\": model112.state_dict(), \"stats\": statsrec}, results_path)\n",
        "\n",
        "# save network parameters and losses\n",
        "#torch.save({\"state_dict\": net.state_dict(), \"losses\": losses}, results_path)\n",
        "\n"
      ]
    },
    {
      "cell_type": "code",
      "execution_count": null,
      "metadata": {
        "id": "XM7maQ_b3UDp",
        "outputId": "a1c7bd69-20c2-42fd-f997-f3db425d9db0"
      },
      "outputs": [
        {
          "data": {
            "image/png": "[encoded data removed]",
            "text/plain": [
              "<Figure size 432x288 with 2 Axes>"
            ]
          },
          "metadata": {
            "needs_background": "light"
          },
          "output_type": "display_data"
        }
      ],
      "source": [
        "results_path = ROOT+'results/singlebatch50epochs.pt'\n",
        "data = torch.load(results_path)\n",
        "\n",
        "\n",
        "statsrec = data[\"stats\"]\n",
        "fig, ax1 = plt.subplots()\n",
        "plt.plot(statsrec[0], 'r', label = 'training loss', )\n",
        "plt.plot(statsrec[2], 'g', label = 'validation loss' )\n",
        "plt.legend(loc='lower right')\n",
        "plt.xlabel('epoch')\n",
        "plt.ylabel('loss')\n",
        "plt.title('Training and validation loss, and validation accuracy')\n",
        "ax2=ax1.twinx()\n",
        "ax2.plot(statsrec[1], 'm', label = 'training accuracy')\n",
        "ax2.plot(statsrec[3], 'b', label = 'validation accuracy')\n",
        "ax2.set_ylabel('accuracy')\n",
        "plt.legend(loc='upper right')\n",
        "fig.savefig(\"roc.svg\")\n",
        "plt.show()"
      ]
    },
    {
      "cell_type": "markdown",
      "metadata": {
        "id": "nPw3duuI3UDx"
      },
      "source": [
        "\n",
        "\n",
        "## 1.2 Training on complete dataset [23 marks]\n",
        "\n",
        "### 1.2.1 Train CNN and show loss graph [6 marks]\n",
        "\n",
        "Train your model on the complete training dataset, and use the validation set to determine when to stop training.\n",
        "\n",
        "Display the graph of training and validation loss over epochs to show how you determined the optimal number of training epochs.\n",
        "\n",
        "> As in previous sections, please leave the graph clearly displayed.\n"
      ]
    },
    {
      "cell_type": "code",
      "source": [
        "# instantiate your new Model class\n",
        "# model_122\n",
        "#callbacks = [EarlyStopping(monitor='val_loss', patience=5)]\n",
        "#model.set_callbacks(callbacks)\n",
        "def run_model(epoch, resultPath, learningRate, train_loader, model):\n",
        "  nepochs = epoch\n",
        "  #results_path = ROOT\n",
        "  results_path = ROOT+ resultPath\n",
        "  statsrec = np.zeros((4,nepochs))\n",
        "  loss_fn = nn.CrossEntropyLoss()\n",
        "\n",
        "  optimizer = optim.SGD(model.parameters(), lr=learningRate, momentum=0.9)\n",
        "  #optimizer = optim.Adadelta(model_122a.parameters())\n",
        "  #ADam\n",
        "\n",
        "  for epoch in range(nepochs):  # loop over the dataset multiple times\n",
        "      correct = 0          # number of examples predicted correctly (for accuracy)\n",
        "      total = 0            # number of examples\n",
        "      running_loss = 0.0   # accumulated loss (for mean loss)\n",
        "      n = 0                # number of minibatches\n",
        "      for data in tqdm(train_loader):\n",
        "          inputs, labels = data\n",
        "          inputs = inputs.to(device)\n",
        "          labels = labels.to(device)\n",
        "          # Zero the parameter gradients\n",
        "          optimizer.zero_grad()\n",
        "\n",
        "          # Forward, backward, and update parameters\n",
        "          outputs = model(inputs)\n",
        "          loss = loss_fn(outputs, labels)\n",
        "          loss.backward()\n",
        "          optimizer.step()\n",
        "      \n",
        "          # accumulate loss\n",
        "          running_loss += loss.item()\n",
        "          n += 1\n",
        "          \n",
        "          # accumulate data for accuracy\n",
        "          _, predicted = torch.max(outputs.data, 1)\n",
        "          total += labels.size(0)    # add in the number of labels in this minibatch\n",
        "          correct += (predicted == labels).sum().item()  # add in the number of correct labels\n",
        "      \n",
        "      # collect together statistics for this epoch\n",
        "      ltrn = running_loss/n\n",
        "      atrn = correct/total \n",
        "      ltst, atst = stats(valid_loader, model)\n",
        "      statsrec[:,epoch] = (ltrn, atrn, ltst.cpu(), atst)\n",
        "      print(f\"epoch: {epoch} training loss: {ltrn: .3f} training accuracy: {atrn: .1%}  validation loss: {ltst.cpu(): .3f} validation accuracy: {atst: .1%}\")\n",
        "\n",
        "      # save network parameters, losses and accuracy\n",
        "  torch.save({\"state_dict\": model.state_dict(), \"stats\": statsrec}, results_path)"
      ],
      "metadata": {
        "id": "_jacB3li8Tbi"
      },
      "execution_count": null,
      "outputs": []
    },
    {
      "cell_type": "code",
      "source": [
        "run_model(epoch, resultPath, learningRate, train_loader, model)"
      ],
      "metadata": {
        "id": "2cjmJir48eaJ"
      },
      "execution_count": null,
      "outputs": []
    },
    {
      "cell_type": "code",
      "execution_count": null,
      "metadata": {
        "id": "Gef_LOSF3UDy",
        "outputId": "90663650-30e1-4ec6-c537-34a575524dd5"
      },
      "outputs": [
        {
          "name": "stdout",
          "output_type": "stream",
          "text": [
            "epoch: 0 training loss:  2.887 training accuracy:  18.3%  validation loss:  2.688 validation accuracy:  24.0%\n",
            "epoch: 1 training loss:  2.322 training accuracy:  32.5%  validation loss:  2.304 validation accuracy:  34.2%\n",
            "epoch: 2 training loss:  1.917 training accuracy:  44.9%  validation loss:  2.213 validation accuracy:  37.7%\n",
            "epoch: 3 training loss:  1.428 training accuracy:  57.7%  validation loss:  2.243 validation accuracy:  38.7%\n",
            "epoch: 4 training loss:  0.816 training accuracy:  75.1%  validation loss:  2.655 validation accuracy:  35.3%\n",
            "epoch: 5 training loss:  0.358 training accuracy:  89.0%  validation loss:  3.194 validation accuracy:  37.0%\n",
            "epoch: 6 training loss:  0.167 training accuracy:  95.1%  validation loss:  3.589 validation accuracy:  37.0%\n",
            "epoch: 7 training loss:  0.107 training accuracy:  97.0%  validation loss:  3.884 validation accuracy:  36.8%\n",
            "epoch: 8 training loss:  0.081 training accuracy:  97.8%  validation loss:  3.657 validation accuracy:  40.7%\n",
            "epoch: 9 training loss:  0.031 training accuracy:  99.2%  validation loss:  4.392 validation accuracy:  39.2%\n",
            "epoch: 10 training loss:  0.032 training accuracy:  99.2%  validation loss:  4.091 validation accuracy:  38.6%\n",
            "epoch: 11 training loss:  0.029 training accuracy:  99.2%  validation loss:  4.390 validation accuracy:  38.9%\n",
            "epoch: 12 training loss:  0.013 training accuracy:  99.6%  validation loss:  4.620 validation accuracy:  38.3%\n",
            "epoch: 13 training loss:  0.019 training accuracy:  99.6%  validation loss:  4.453 validation accuracy:  39.9%\n",
            "epoch: 14 training loss:  0.002 training accuracy:  100.0%  validation loss:  4.610 validation accuracy:  40.4%\n",
            "epoch: 15 training loss:  0.005 training accuracy:  99.9%  validation loss:  4.679 validation accuracy:  40.2%\n",
            "epoch: 16 training loss:  0.000 training accuracy:  100.0%  validation loss:  4.723 validation accuracy:  40.4%\n",
            "epoch: 17 training loss:  0.000 training accuracy:  100.0%  validation loss:  4.746 validation accuracy:  40.6%\n",
            "epoch: 18 training loss:  0.000 training accuracy:  100.0%  validation loss:  4.796 validation accuracy:  40.6%\n",
            "epoch: 19 training loss:  0.000 training accuracy:  100.0%  validation loss:  4.861 validation accuracy:  40.6%\n",
            "epoch: 20 training loss:  0.000 training accuracy:  100.0%  validation loss:  4.895 validation accuracy:  40.6%\n",
            "epoch: 21 training loss:  0.000 training accuracy:  100.0%  validation loss:  4.950 validation accuracy:  40.8%\n",
            "epoch: 22 training loss:  0.000 training accuracy:  100.0%  validation loss:  4.995 validation accuracy:  40.9%\n",
            "epoch: 23 training loss:  0.000 training accuracy:  100.0%  validation loss:  5.001 validation accuracy:  40.9%\n",
            "epoch: 24 training loss:  0.000 training accuracy:  100.0%  validation loss:  4.985 validation accuracy:  40.9%\n",
            "epoch: 25 training loss:  0.000 training accuracy:  100.0%  validation loss:  5.021 validation accuracy:  40.9%\n",
            "epoch: 26 training loss:  0.000 training accuracy:  100.0%  validation loss:  5.036 validation accuracy:  40.9%\n",
            "epoch: 27 training loss:  0.000 training accuracy:  100.0%  validation loss:  5.055 validation accuracy:  40.9%\n",
            "epoch: 28 training loss:  0.000 training accuracy:  100.0%  validation loss:  5.149 validation accuracy:  40.8%\n"
          ]
        }
      ],
      "source": [
        "nepochs = 50\n",
        "\n",
        "#results_path = ROOT\n",
        "results_path = ROOT+'results/completedataset50epochs.pt'\n",
        "\n",
        "statsrec = np.zeros((4,nepochs))\n",
        "\n",
        "loss_fn = nn.CrossEntropyLoss()\n",
        "optimizer = optim.SGD(net.parameters(), lr=0.01, momentum=0.9)\n",
        "\n",
        "for epoch in range(nepochs):  # loop over the dataset multiple times\n",
        "    correct = 0          # number of examples predicted correctly (for accuracy)\n",
        "    total = 0            # number of examples\n",
        "    running_loss = 0.0   # accumulated loss (for mean loss)\n",
        "    n = 0                # number of minibatches\n",
        "    for data in train_loader:\n",
        "        inputs, labels = data\n",
        "        \n",
        "         # Zero the parameter gradients\n",
        "        optimizer.zero_grad()\n",
        "\n",
        "        # Forward, backward, and update parameters\n",
        "        outputs = net(inputs)\n",
        "        loss = loss_fn(outputs, labels)\n",
        "        loss.backward()\n",
        "        optimizer.step()\n",
        "    \n",
        "        # accumulate loss\n",
        "        running_loss += loss.item()\n",
        "        n += 1\n",
        "        \n",
        "        # accumulate data for accuracy\n",
        "        _, predicted = torch.max(outputs.data, 1)\n",
        "        total += labels.size(0)    # add in the number of labels in this minibatch\n",
        "        correct += (predicted == labels).sum().item()  # add in the number of correct labels\n",
        "    \n",
        "    # collect together statistics for this epoch\n",
        "    ltrn = running_loss/n\n",
        "    atrn = correct/total \n",
        "    ltst, atst = stats(valid_loader, net)\n",
        "    statsrec[:,epoch] = (ltrn, atrn, ltst, atst)\n",
        "    print(f\"epoch: {epoch} training loss: {ltrn: .3f} training accuracy: {atrn: .1%}  validation loss: {ltst: .3f} validation accuracy: {atst: .1%}\")\n",
        "\n",
        "    \n",
        "\n",
        "# save network parameters, losses and accuracy\n",
        "torch.save({\"state_dict\": net.state_dict(), \"stats\": statsrec}, results_path)\n"
      ]
    },
    {
      "cell_type": "code",
      "execution_count": null,
      "metadata": {
        "id": "unk1zxcg3UDz"
      },
      "outputs": [],
      "source": [
        "results_path = ROOT+'results/completedataset50epochs.pt'\n",
        "data = torch.load(results_path)\n",
        "\n",
        "\n",
        "statsrec = data[\"stats\"]\n",
        "fig, ax1 = plt.subplots()\n",
        "plt.plot(statsrec[0], 'r', label = 'training loss', )\n",
        "plt.plot(statsrec[2], 'g', label = 'validation loss' )\n",
        "plt.legend(loc='lower right')\n",
        "plt.xlabel('epoch')\n",
        "plt.ylabel('loss')\n",
        "plt.title('Training and validation loss, and validation accuracy')\n",
        "ax2=ax1.twinx()\n",
        "ax2.plot(statsrec[1], 'm', label = 'training accuracy')\n",
        "ax2.plot(statsrec[3], 'b', label = 'validation accuracy')\n",
        "ax2.set_ylabel('accuracy')\n",
        "plt.legend(loc='upper right')\n",
        "fig.savefig(\"roc.svg\")\n",
        "plt.show()"
      ]
    },
    {
      "cell_type": "code",
      "execution_count": null,
      "metadata": {
        "id": "eHMcVcgl3UD0"
      },
      "outputs": [],
      "source": [
        ""
      ]
    },
    {
      "cell_type": "markdown",
      "metadata": {
        "id": "sbmm72ok3UD0"
      },
      "source": [
        "\n",
        "### 1.2.2 Finetuning [6 marks]\n",
        "\n",
        "Now finetune your architecture by implementing at least 2 methods of reducing overfitting and increasing the model's ability to generalise. You are encouraged to further adjust the model after you have done the minimum requirement, to increase your model performance. Please do not use any pre-trained weights from a model trained on ImageNet.\n"
      ]
    },
    {
      "cell_type": "markdown",
      "metadata": {
        "id": "nGrGDjhh3UD1"
      },
      "source": [
        "**Method 1:** Data augmentation of your choice"
      ]
    },
    {
      "cell_type": "markdown",
      "metadata": {
        "id": "JsDYhhEH3UD1"
      },
      "source": [
        "**Method 2:** Adding dropout and/or batch normalisation to the model"
      ]
    },
    {
      "cell_type": "markdown",
      "metadata": {
        "id": "uc_y0jud3UD2"
      },
      "source": [
        "If you adjust the Model class, redefine it below and instantiate it as ```model_122a```, ```model_122b```, and so on.\n",
        "\n"
      ]
    },
    {
      "cell_type": "code",
      "execution_count": null,
      "metadata": {
        "id": "lO6Y3WCo3UD2"
      },
      "outputs": [],
      "source": [
        "# TO COMPLETE"
      ]
    },
    {
      "cell_type": "code",
      "execution_count": null,
      "metadata": {
        "id": "o45dZgeh3UD3"
      },
      "outputs": [],
      "source": [
        "#method 1\n",
        "trnsfrm_augmentation = transforms.Compose([\n",
        "    transforms.ToTensor(),\n",
        "    transforms.ColorJitter(hue=0.2, saturation=0.2, brightness=0.2),\n",
        "    transforms.RandomAffine(degrees=10, translate=(0.1,0.1), scale=(0.9,1.1)),\n",
        "    transforms.RandomHorizontalFlip(p=0.5),\n",
        "    transforms.Normalize(mean, std)\n",
        "])\n",
        "\n",
        "trnsfrm = transforms.Compose([\n",
        "    transforms.ToTensor(),\n",
        "    transforms.Normalize(mean, std)\n",
        "])\n"
      ]
    },
    {
      "cell_type": "code",
      "execution_count": null,
      "metadata": {
        "colab": {
          "base_uri": "https://localhost:8080/"
        },
        "id": "AJtsMg4o3UD4",
        "outputId": "c67822c6-50ac-48f2-dd93-840489628d34"
      },
      "outputs": [
        {
          "output_type": "stream",
          "name": "stdout",
          "text": [
            "len(dataset_train) 10800\n",
            "len(dataset_valid) 2700\n",
            "len(train_loader) 169\n",
            "len(valid_loader) 22\n"
          ]
        },
        {
          "output_type": "stream",
          "name": "stderr",
          "text": [
            "/usr/local/lib/python3.7/dist-packages/torch/utils/data/dataloader.py:481: UserWarning: This DataLoader will create 6 worker processes in total. Our suggested max number of worker in current system is 2, which is smaller than what this DataLoader is going to create. Please be aware that excessive worker creation might get DataLoader running slow or even freeze, lower the worker number to avoid potential slowness/freeze if necessary.\n",
            "  cpuset_checked))\n"
          ]
        }
      ],
      "source": [
        "train_dataset_fine = TinyImageNet30(\n",
        "    df=data_df[:train_size],\n",
        "    transform=trnsfrm_augmentation,\n",
        ")\n",
        "\n",
        "valid_dataset = TinyImageNet30(\n",
        "    df=data_df[train_size:].reset_index(drop=True),\n",
        "    transform=trnsfrm,\n",
        ")\n",
        "\n",
        "train_loader = DataLoader(train_dataset_fine, batch_size=64,shuffle=True,num_workers=6)\n",
        "\n",
        "valid_loader = DataLoader(valid_dataset, batch_size=128,shuffle=True,num_workers=6)\n",
        "\n",
        "\n",
        "print(\"len(dataset_train)\", len(train_dataset))\n",
        "print(\"len(dataset_valid)\", len(valid_dataset))\n",
        "\n",
        "print(\"len(train_loader)\", len(train_loader))\n",
        "print(\"len(valid_loader)\", len(valid_loader))"
      ]
    },
    {
      "cell_type": "code",
      "source": [
        "#yes 53%\n",
        "model_122a = nn.Sequential(\n",
        "    nn.Conv2d(3, 128, kernel_size= 3, padding= 1),\n",
        "    nn.BatchNorm2d(128),\n",
        "    nn.ReLU(),\n",
        "    nn.MaxPool2d(kernel_size=2, stride=2),\n",
        "\n",
        "    nn.Conv2d(128, 260, kernel_size= 3, padding= 1),\n",
        "    nn.BatchNorm2d(260),\n",
        "    nn.ReLU(),\n",
        "    nn.MaxPool2d(kernel_size=2, stride=2),\n",
        "\n",
        "    nn.Conv2d(260, 320, kernel_size= 3, padding= 1),\n",
        "    nn.BatchNorm2d(320),\n",
        "    nn.ReLU(),\n",
        "    nn.MaxPool2d(kernel_size=2, stride=2),\n",
        "\n",
        "    nn.Flatten(),\n",
        "    nn.Linear(320*8*8, 1500),\n",
        "    nn.Dropout(0.5),\n",
        "    nn.ReLU(),\n",
        "\n",
        "    nn.Linear(1500, 700),\n",
        "    nn.ReLU(),\n",
        "\n",
        "    nn.Linear(700, 30)\n",
        ")\n",
        "\n",
        "summary(model_122a.to(device), input_size=(3, 64, 64))\n",
        "model_122a = model_122a.to(device)"
      ],
      "metadata": {
        "id": "Y-JMe-8EBHfY",
        "colab": {
          "base_uri": "https://localhost:8080/"
        },
        "outputId": "cd5e234b-deda-4f47-e012-a02d49870835"
      },
      "execution_count": null,
      "outputs": [
        {
          "output_type": "stream",
          "name": "stdout",
          "text": [
            "----------------------------------------------------------------\n",
            "        Layer (type)               Output Shape         Param #\n",
            "================================================================\n",
            "            Conv2d-1          [-1, 128, 64, 64]           3,584\n",
            "       BatchNorm2d-2          [-1, 128, 64, 64]             256\n",
            "              ReLU-3          [-1, 128, 64, 64]               0\n",
            "         MaxPool2d-4          [-1, 128, 32, 32]               0\n",
            "            Conv2d-5          [-1, 260, 32, 32]         299,780\n",
            "       BatchNorm2d-6          [-1, 260, 32, 32]             520\n",
            "              ReLU-7          [-1, 260, 32, 32]               0\n",
            "         MaxPool2d-8          [-1, 260, 16, 16]               0\n",
            "            Conv2d-9          [-1, 320, 16, 16]         749,120\n",
            "      BatchNorm2d-10          [-1, 320, 16, 16]             640\n",
            "             ReLU-11          [-1, 320, 16, 16]               0\n",
            "        MaxPool2d-12            [-1, 320, 8, 8]               0\n",
            "          Flatten-13                [-1, 20480]               0\n",
            "           Linear-14                 [-1, 1500]      30,721,500\n",
            "          Dropout-15                 [-1, 1500]               0\n",
            "             ReLU-16                 [-1, 1500]               0\n",
            "           Linear-17                  [-1, 700]       1,050,700\n",
            "             ReLU-18                  [-1, 700]               0\n",
            "           Linear-19                   [-1, 30]          21,030\n",
            "================================================================\n",
            "Total params: 32,847,130\n",
            "Trainable params: 32,847,130\n",
            "Non-trainable params: 0\n",
            "----------------------------------------------------------------\n",
            "Input size (MB): 0.05\n",
            "Forward/backward pass size (MB): 21.83\n",
            "Params size (MB): 125.30\n",
            "Estimated Total Size (MB): 147.18\n",
            "----------------------------------------------------------------\n"
          ]
        }
      ]
    },
    {
      "cell_type": "code",
      "source": [
        "#try 54%\n",
        "\n",
        "#callbacks = [EarlyStopping(monitor='val_loss', patience=5)]\n",
        "#model.set_callbacks(callbacks)\n",
        "\n",
        "model_122a = nn.Sequential(\n",
        "    nn.Conv2d(3, 128, kernel_size= 3, padding= 1),\n",
        "    nn.BatchNorm2d(128),\n",
        "    nn.ReLU(),\n",
        "    nn.MaxPool2d(kernel_size=2, stride=2),\n",
        "\n",
        "    nn.Conv2d(128, 260, kernel_size= 3, padding= 1),\n",
        "    nn.BatchNorm2d(260),\n",
        "    nn.ReLU(),\n",
        "    nn.MaxPool2d(kernel_size=2, stride=2),\n",
        "\n",
        "    nn.Conv2d(260, 320, kernel_size= 3, padding= 1),\n",
        "    nn.BatchNorm2d(320),\n",
        "    nn.ReLU(),\n",
        "    nn.MaxPool2d(kernel_size=2, stride=2),\n",
        "\n",
        "    nn.Flatten(),\n",
        "    nn.Linear(320*8*8, 1500),\n",
        "    nn.Dropout(0.5),\n",
        "    nn.ReLU(),\n",
        "\n",
        "    nn.Linear(1500, 700),\n",
        "    nn.Dropout(0.2),\n",
        "    nn.ReLU(),\n",
        "\n",
        "    nn.Linear(700, 30)\n",
        ")\n",
        "\n",
        "summary(model_122a.to(device), input_size=(3, 64, 64))\n",
        "model_122a = model_122a.to(device)"
      ],
      "metadata": {
        "id": "uO-9kyqRvXPa",
        "colab": {
          "base_uri": "https://localhost:8080/"
        },
        "outputId": "fc3a7798-41ec-40f5-c0fe-1ae9a437b9a3"
      },
      "execution_count": null,
      "outputs": [
        {
          "output_type": "stream",
          "name": "stdout",
          "text": [
            "----------------------------------------------------------------\n",
            "        Layer (type)               Output Shape         Param #\n",
            "================================================================\n",
            "            Conv2d-1          [-1, 128, 64, 64]           3,584\n",
            "       BatchNorm2d-2          [-1, 128, 64, 64]             256\n",
            "              ReLU-3          [-1, 128, 64, 64]               0\n",
            "         MaxPool2d-4          [-1, 128, 32, 32]               0\n",
            "            Conv2d-5          [-1, 260, 32, 32]         299,780\n",
            "       BatchNorm2d-6          [-1, 260, 32, 32]             520\n",
            "              ReLU-7          [-1, 260, 32, 32]               0\n",
            "         MaxPool2d-8          [-1, 260, 16, 16]               0\n",
            "            Conv2d-9          [-1, 320, 16, 16]         749,120\n",
            "      BatchNorm2d-10          [-1, 320, 16, 16]             640\n",
            "             ReLU-11          [-1, 320, 16, 16]               0\n",
            "        MaxPool2d-12            [-1, 320, 8, 8]               0\n",
            "          Flatten-13                [-1, 20480]               0\n",
            "           Linear-14                 [-1, 1500]      30,721,500\n",
            "          Dropout-15                 [-1, 1500]               0\n",
            "             ReLU-16                 [-1, 1500]               0\n",
            "           Linear-17                  [-1, 700]       1,050,700\n",
            "          Dropout-18                  [-1, 700]               0\n",
            "             ReLU-19                  [-1, 700]               0\n",
            "           Linear-20                   [-1, 30]          21,030\n",
            "================================================================\n",
            "Total params: 32,847,130\n",
            "Trainable params: 32,847,130\n",
            "Non-trainable params: 0\n",
            "----------------------------------------------------------------\n",
            "Input size (MB): 0.05\n",
            "Forward/backward pass size (MB): 21.84\n",
            "Params size (MB): 125.30\n",
            "Estimated Total Size (MB): 147.19\n",
            "----------------------------------------------------------------\n"
          ]
        }
      ]
    },
    {
      "cell_type": "code",
      "source": [
        "#try2\n",
        "\n",
        "#callbacks = [EarlyStopping(monitor='val_loss', patience=5)]\n",
        "#model.set_callbacks(callbacks)\n",
        "\n",
        "model_122a = nn.Sequential(\n",
        "    nn.Conv2d(3, 128, kernel_size= 3, padding= 1),\n",
        "    nn.BatchNorm2d(128),\n",
        "    nn.ReLU(),\n",
        "    nn.MaxPool2d(kernel_size=2, stride=2),\n",
        "\n",
        "    nn.Conv2d(128, 260, kernel_size= 3, padding= 1),\n",
        "    nn.BatchNorm2d(260),\n",
        "    nn.ReLU(),\n",
        "    nn.MaxPool2d(kernel_size=2, stride=2),\n",
        "\n",
        "    nn.Conv2d(260, 320, kernel_size= 3, padding= 1),\n",
        "    nn.BatchNorm2d(320),\n",
        "    nn.ReLU(),\n",
        "    nn.MaxPool2d(kernel_size=2, stride=2),\n",
        "\n",
        "    nn.Conv2d(320, 450, kernel_size= 3, padding= 1),\n",
        "    nn.BatchNorm2d(450),\n",
        "    nn.ReLU(),\n",
        "    nn.MaxPool2d(kernel_size=2, stride=2),\n",
        "\n",
        "    nn.Flatten(),\n",
        "    nn.Linear(450*4*4, 1500),\n",
        "    nn.Dropout(0.5),\n",
        "    nn.ReLU(),\n",
        "\n",
        "    nn.Linear(1500, 700),\n",
        "    nn.Dropout(0.2),\n",
        "    nn.ReLU(),\n",
        "\n",
        "    nn.Linear(700, 30)\n",
        ")\n",
        "\n",
        "summary(model_122a.to(device), input_size=(3, 64, 64))\n",
        "model_122a = model_122a.to(device)"
      ],
      "metadata": {
        "colab": {
          "base_uri": "https://localhost:8080/"
        },
        "id": "rurblCsOUEj4",
        "outputId": "9238bc16-6ed1-49da-eeb7-7ad54c64bc22"
      },
      "execution_count": null,
      "outputs": [
        {
          "output_type": "stream",
          "name": "stdout",
          "text": [
            "----------------------------------------------------------------\n",
            "        Layer (type)               Output Shape         Param #\n",
            "================================================================\n",
            "            Conv2d-1          [-1, 128, 64, 64]           3,584\n",
            "       BatchNorm2d-2          [-1, 128, 64, 64]             256\n",
            "              ReLU-3          [-1, 128, 64, 64]               0\n",
            "         MaxPool2d-4          [-1, 128, 32, 32]               0\n",
            "            Conv2d-5          [-1, 260, 32, 32]         299,780\n",
            "       BatchNorm2d-6          [-1, 260, 32, 32]             520\n",
            "              ReLU-7          [-1, 260, 32, 32]               0\n",
            "         MaxPool2d-8          [-1, 260, 16, 16]               0\n",
            "            Conv2d-9          [-1, 320, 16, 16]         749,120\n",
            "      BatchNorm2d-10          [-1, 320, 16, 16]             640\n",
            "             ReLU-11          [-1, 320, 16, 16]               0\n",
            "        MaxPool2d-12            [-1, 320, 8, 8]               0\n",
            "           Conv2d-13            [-1, 450, 8, 8]       1,296,450\n",
            "      BatchNorm2d-14            [-1, 450, 8, 8]             900\n",
            "             ReLU-15            [-1, 450, 8, 8]               0\n",
            "        MaxPool2d-16            [-1, 450, 4, 4]               0\n",
            "          Flatten-17                 [-1, 7200]               0\n",
            "           Linear-18                 [-1, 1500]      10,801,500\n",
            "          Dropout-19                 [-1, 1500]               0\n",
            "             ReLU-20                 [-1, 1500]               0\n",
            "           Linear-21                  [-1, 700]       1,050,700\n",
            "          Dropout-22                  [-1, 700]               0\n",
            "             ReLU-23                  [-1, 700]               0\n",
            "           Linear-24                   [-1, 30]          21,030\n",
            "================================================================\n",
            "Total params: 14,224,480\n",
            "Trainable params: 14,224,480\n",
            "Non-trainable params: 0\n",
            "----------------------------------------------------------------\n",
            "Input size (MB): 0.05\n",
            "Forward/backward pass size (MB): 22.45\n",
            "Params size (MB): 54.26\n",
            "Estimated Total Size (MB): 76.76\n",
            "----------------------------------------------------------------\n"
          ]
        }
      ]
    },
    {
      "cell_type": "code",
      "source": [
        ""
      ],
      "metadata": {
        "id": "bzIuebOOm1Ap"
      },
      "execution_count": null,
      "outputs": []
    },
    {
      "cell_type": "code",
      "source": [
        "torch.cuda.is_available()"
      ],
      "metadata": {
        "colab": {
          "base_uri": "https://localhost:8080/"
        },
        "id": "r9Xa8Efqjx_1",
        "outputId": "739a4a53-ef89-4f28-a542-fc512e66bda3"
      },
      "execution_count": null,
      "outputs": [
        {
          "output_type": "execute_result",
          "data": {
            "text/plain": [
              "True"
            ]
          },
          "metadata": {},
          "execution_count": 32
        }
      ]
    },
    {
      "cell_type": "code",
      "source": [
        "device"
      ],
      "metadata": {
        "colab": {
          "base_uri": "https://localhost:8080/"
        },
        "id": "w3DfFRv-chs0",
        "outputId": "ae649e0b-7798-429e-fb6d-8da705147b63"
      },
      "execution_count": null,
      "outputs": [
        {
          "output_type": "execute_result",
          "data": {
            "text/plain": [
              "device(type='cuda', index=0)"
            ]
          },
          "metadata": {},
          "execution_count": 64
        }
      ]
    },
    {
      "cell_type": "code",
      "source": [
        "model_122a = model_122a.to(device)"
      ],
      "metadata": {
        "id": "RHfU4f-rdlDP"
      },
      "execution_count": null,
      "outputs": []
    },
    {
      "cell_type": "code",
      "source": [
        "from tqdm import tqdm"
      ],
      "metadata": {
        "id": "qEWmQHLDcnFM"
      },
      "execution_count": null,
      "outputs": []
    },
    {
      "cell_type": "code",
      "source": [
        ""
      ],
      "metadata": {
        "id": "ftDRyt6Z0B80"
      },
      "execution_count": null,
      "outputs": []
    },
    {
      "cell_type": "code",
      "source": [
        "ROOT = \"/content/drive/MyDrive/comp5623m-2022/\""
      ],
      "metadata": {
        "id": "ZZt-JbPtTUA_"
      },
      "execution_count": null,
      "outputs": []
    },
    {
      "cell_type": "code",
      "source": [
        "from tqdm import tqdm\n",
        "def stats(loader, net):\n",
        "    correct = 0\n",
        "    total = 0\n",
        "    running_loss = 0\n",
        "    # net = net.to(device)\n",
        "    n = 0    # counter for number of minibatches\n",
        "    with torch.no_grad():\n",
        "        for data in loader:\n",
        "            images, labels = data\n",
        "            images = images.to(device)\n",
        "            labels = labels.to(device)\n",
        "            \n",
        "            outputs = net(images)\n",
        "            \n",
        "            # accumulate loss\n",
        "            running_loss += loss_fn(outputs, labels)\n",
        "            n += 1\n",
        "            \n",
        "            # accumulate data for accuracy\n",
        "            _, predicted = torch.max(outputs.data, 1)\n",
        "            total += labels.size(0)    # add in the number of labels in this minibatch\n",
        "            correct += (predicted == labels).sum().item()  # add in the number of correct labels\n",
        "            \n",
        "    return running_loss/n, correct/total "
      ],
      "metadata": {
        "id": "xNTtXCa7fbJk"
      },
      "execution_count": null,
      "outputs": []
    },
    {
      "cell_type": "code",
      "execution_count": 18,
      "metadata": {
        "colab": {
          "base_uri": "https://localhost:8080/"
        },
        "id": "4X7SEN1V3UD7",
        "outputId": "fb3ecae5-49cf-447b-af61-161909a6bb43"
      },
      "outputs": [
        {
          "metadata": {
            "tags": null
          },
          "name": "stderr",
          "output_type": "stream",
          "text": [
            "  0%|          | 0/169 [00:00<?, ?it/s]/usr/local/lib/python3.7/dist-packages/torch/utils/data/dataloader.py:481: UserWarning: This DataLoader will create 6 worker processes in total. Our suggested max number of worker in current system is 2, which is smaller than what this DataLoader is going to create. Please be aware that excessive worker creation might get DataLoader running slow or even freeze, lower the worker number to avoid potential slowness/freeze if necessary.\n",
            "  cpuset_checked))\n",
            "100%|██████████| 169/169 [00:43<00:00,  3.91it/s]\n"
          ]
        },
        {
          "metadata": {
            "tags": null
          },
          "name": "stdout",
          "output_type": "stream",
          "text": [
            "epoch: 0 training loss:  3.134 training accuracy:  11.5%  validation loss:  2.785 validation accuracy:  19.4%\n"
          ]
        },
        {
          "metadata": {
            "tags": null
          },
          "name": "stderr",
          "output_type": "stream",
          "text": [
            "100%|██████████| 169/169 [00:42<00:00,  3.94it/s]\n"
          ]
        },
        {
          "metadata": {
            "tags": null
          },
          "name": "stdout",
          "output_type": "stream",
          "text": [
            "epoch: 1 training loss:  2.749 training accuracy:  19.8%  validation loss:  2.629 validation accuracy:  25.1%\n"
          ]
        },
        {
          "metadata": {
            "tags": null
          },
          "name": "stderr",
          "output_type": "stream",
          "text": [
            "100%|██████████| 169/169 [00:42<00:00,  3.95it/s]\n"
          ]
        },
        {
          "metadata": {
            "tags": null
          },
          "name": "stdout",
          "output_type": "stream",
          "text": [
            "epoch: 2 training loss:  2.605 training accuracy:  23.8%  validation loss:  2.524 validation accuracy:  26.9%\n"
          ]
        },
        {
          "metadata": {
            "tags": null
          },
          "name": "stderr",
          "output_type": "stream",
          "text": [
            "100%|██████████| 169/169 [00:42<00:00,  4.01it/s]\n"
          ]
        },
        {
          "metadata": {
            "tags": null
          },
          "name": "stdout",
          "output_type": "stream",
          "text": [
            "epoch: 3 training loss:  2.496 training accuracy:  27.4%  validation loss:  2.369 validation accuracy:  31.6%\n"
          ]
        },
        {
          "metadata": {
            "tags": null
          },
          "name": "stderr",
          "output_type": "stream",
          "text": [
            "100%|██████████| 169/169 [00:42<00:00,  4.01it/s]\n"
          ]
        },
        {
          "metadata": {
            "tags": null
          },
          "name": "stdout",
          "output_type": "stream",
          "text": [
            "epoch: 4 training loss:  2.399 training accuracy:  29.9%  validation loss:  2.234 validation accuracy:  33.2%\n"
          ]
        },
        {
          "metadata": {
            "tags": null
          },
          "name": "stderr",
          "output_type": "stream",
          "text": [
            "100%|██████████| 169/169 [00:42<00:00,  4.02it/s]\n"
          ]
        },
        {
          "metadata": {
            "tags": null
          },
          "name": "stdout",
          "output_type": "stream",
          "text": [
            "epoch: 5 training loss:  2.310 training accuracy:  32.3%  validation loss:  2.212 validation accuracy:  35.3%\n"
          ]
        },
        {
          "output_type": "stream",
          "name": "stderr",
          "text": [
            "100%|██████████| 169/169 [00:42<00:00,  3.95it/s]\n"
          ]
        },
        {
          "output_type": "stream",
          "name": "stdout",
          "text": [
            "epoch: 6 training loss:  2.244 training accuracy:  34.0%  validation loss:  2.133 validation accuracy:  38.3%\n"
          ]
        },
        {
          "output_type": "stream",
          "name": "stderr",
          "text": [
            "100%|██████████| 169/169 [00:42<00:00,  4.00it/s]\n"
          ]
        },
        {
          "output_type": "stream",
          "name": "stdout",
          "text": [
            "epoch: 7 training loss:  2.170 training accuracy:  36.4%  validation loss:  2.039 validation accuracy:  40.8%\n"
          ]
        },
        {
          "output_type": "stream",
          "name": "stderr",
          "text": [
            "100%|██████████| 169/169 [00:42<00:00,  3.95it/s]\n"
          ]
        },
        {
          "output_type": "stream",
          "name": "stdout",
          "text": [
            "epoch: 8 training loss:  2.086 training accuracy:  38.4%  validation loss:  2.024 validation accuracy:  40.1%\n"
          ]
        },
        {
          "output_type": "stream",
          "name": "stderr",
          "text": [
            "100%|██████████| 169/169 [00:42<00:00,  3.95it/s]\n"
          ]
        },
        {
          "output_type": "stream",
          "name": "stdout",
          "text": [
            "epoch: 9 training loss:  2.033 training accuracy:  39.9%  validation loss:  1.923 validation accuracy:  44.0%\n"
          ]
        },
        {
          "output_type": "stream",
          "name": "stderr",
          "text": [
            "100%|██████████| 169/169 [00:42<00:00,  3.96it/s]\n"
          ]
        },
        {
          "output_type": "stream",
          "name": "stdout",
          "text": [
            "epoch: 10 training loss:  1.988 training accuracy:  41.3%  validation loss:  1.930 validation accuracy:  42.7%\n"
          ]
        },
        {
          "output_type": "stream",
          "name": "stderr",
          "text": [
            "100%|██████████| 169/169 [00:42<00:00,  3.95it/s]\n"
          ]
        },
        {
          "output_type": "stream",
          "name": "stdout",
          "text": [
            "epoch: 11 training loss:  1.919 training accuracy:  43.7%  validation loss:  1.950 validation accuracy:  43.0%\n"
          ]
        },
        {
          "output_type": "stream",
          "name": "stderr",
          "text": [
            "100%|██████████| 169/169 [00:42<00:00,  3.95it/s]\n"
          ]
        },
        {
          "output_type": "stream",
          "name": "stdout",
          "text": [
            "epoch: 12 training loss:  1.899 training accuracy:  43.8%  validation loss:  1.844 validation accuracy:  45.4%\n"
          ]
        },
        {
          "output_type": "stream",
          "name": "stderr",
          "text": [
            "100%|██████████| 169/169 [00:42<00:00,  3.98it/s]\n"
          ]
        },
        {
          "output_type": "stream",
          "name": "stdout",
          "text": [
            "epoch: 13 training loss:  1.858 training accuracy:  45.1%  validation loss:  1.848 validation accuracy:  45.6%\n"
          ]
        },
        {
          "output_type": "stream",
          "name": "stderr",
          "text": [
            "100%|██████████| 169/169 [00:42<00:00,  3.99it/s]\n"
          ]
        },
        {
          "output_type": "stream",
          "name": "stdout",
          "text": [
            "epoch: 14 training loss:  1.814 training accuracy:  46.3%  validation loss:  1.791 validation accuracy:  47.6%\n"
          ]
        },
        {
          "output_type": "stream",
          "name": "stderr",
          "text": [
            "100%|██████████| 169/169 [00:42<00:00,  3.98it/s]\n"
          ]
        },
        {
          "output_type": "stream",
          "name": "stdout",
          "text": [
            "epoch: 15 training loss:  1.772 training accuracy:  47.5%  validation loss:  1.792 validation accuracy:  47.6%\n"
          ]
        },
        {
          "output_type": "stream",
          "name": "stderr",
          "text": [
            "100%|██████████| 169/169 [00:42<00:00,  3.95it/s]\n"
          ]
        },
        {
          "output_type": "stream",
          "name": "stdout",
          "text": [
            "epoch: 16 training loss:  1.738 training accuracy:  48.5%  validation loss:  1.789 validation accuracy:  49.0%\n"
          ]
        },
        {
          "output_type": "stream",
          "name": "stderr",
          "text": [
            "100%|██████████| 169/169 [00:42<00:00,  3.97it/s]\n"
          ]
        },
        {
          "output_type": "stream",
          "name": "stdout",
          "text": [
            "epoch: 17 training loss:  1.698 training accuracy:  49.7%  validation loss:  1.785 validation accuracy:  49.8%\n"
          ]
        },
        {
          "output_type": "stream",
          "name": "stderr",
          "text": [
            "100%|██████████| 169/169 [00:42<00:00,  3.95it/s]\n"
          ]
        },
        {
          "output_type": "stream",
          "name": "stdout",
          "text": [
            "epoch: 18 training loss:  1.684 training accuracy:  50.2%  validation loss:  1.699 validation accuracy:  51.1%\n"
          ]
        },
        {
          "output_type": "stream",
          "name": "stderr",
          "text": [
            "100%|██████████| 169/169 [00:42<00:00,  3.94it/s]\n"
          ]
        },
        {
          "output_type": "stream",
          "name": "stdout",
          "text": [
            "epoch: 19 training loss:  1.638 training accuracy:  51.2%  validation loss:  1.758 validation accuracy:  49.6%\n"
          ]
        },
        {
          "output_type": "stream",
          "name": "stderr",
          "text": [
            "100%|██████████| 169/169 [00:42<00:00,  4.00it/s]\n"
          ]
        },
        {
          "output_type": "stream",
          "name": "stdout",
          "text": [
            "epoch: 20 training loss:  1.587 training accuracy:  52.2%  validation loss:  1.682 validation accuracy:  51.8%\n"
          ]
        },
        {
          "output_type": "stream",
          "name": "stderr",
          "text": [
            "100%|██████████| 169/169 [00:42<00:00,  3.95it/s]\n"
          ]
        },
        {
          "output_type": "stream",
          "name": "stdout",
          "text": [
            "epoch: 21 training loss:  1.576 training accuracy:  52.8%  validation loss:  1.709 validation accuracy:  51.1%\n"
          ]
        },
        {
          "output_type": "stream",
          "name": "stderr",
          "text": [
            "100%|██████████| 169/169 [00:43<00:00,  3.93it/s]\n"
          ]
        },
        {
          "output_type": "stream",
          "name": "stdout",
          "text": [
            "epoch: 22 training loss:  1.555 training accuracy:  53.2%  validation loss:  1.726 validation accuracy:  51.6%\n"
          ]
        },
        {
          "output_type": "stream",
          "name": "stderr",
          "text": [
            "100%|██████████| 169/169 [00:42<00:00,  3.95it/s]\n"
          ]
        },
        {
          "output_type": "stream",
          "name": "stdout",
          "text": [
            "epoch: 23 training loss:  1.524 training accuracy:  54.2%  validation loss:  1.682 validation accuracy:  51.2%\n"
          ]
        },
        {
          "output_type": "stream",
          "name": "stderr",
          "text": [
            "100%|██████████| 169/169 [00:42<00:00,  3.98it/s]\n"
          ]
        },
        {
          "output_type": "stream",
          "name": "stdout",
          "text": [
            "epoch: 24 training loss:  1.499 training accuracy:  54.9%  validation loss:  1.622 validation accuracy:  53.7%\n"
          ]
        },
        {
          "output_type": "stream",
          "name": "stderr",
          "text": [
            "100%|██████████| 169/169 [00:42<00:00,  4.00it/s]\n"
          ]
        },
        {
          "output_type": "stream",
          "name": "stdout",
          "text": [
            "epoch: 25 training loss:  1.483 training accuracy:  55.6%  validation loss:  1.663 validation accuracy:  52.4%\n"
          ]
        },
        {
          "output_type": "stream",
          "name": "stderr",
          "text": [
            "100%|██████████| 169/169 [00:42<00:00,  3.96it/s]\n"
          ]
        },
        {
          "output_type": "stream",
          "name": "stdout",
          "text": [
            "epoch: 26 training loss:  1.441 training accuracy:  56.5%  validation loss:  1.642 validation accuracy:  54.6%\n"
          ]
        },
        {
          "output_type": "stream",
          "name": "stderr",
          "text": [
            "100%|██████████| 169/169 [00:42<00:00,  3.96it/s]\n"
          ]
        },
        {
          "output_type": "stream",
          "name": "stdout",
          "text": [
            "epoch: 27 training loss:  1.409 training accuracy:  57.8%  validation loss:  1.611 validation accuracy:  53.5%\n"
          ]
        },
        {
          "output_type": "stream",
          "name": "stderr",
          "text": [
            "100%|██████████| 169/169 [00:42<00:00,  4.01it/s]\n"
          ]
        },
        {
          "output_type": "stream",
          "name": "stdout",
          "text": [
            "epoch: 28 training loss:  1.393 training accuracy:  58.0%  validation loss:  1.597 validation accuracy:  54.3%\n"
          ]
        },
        {
          "output_type": "stream",
          "name": "stderr",
          "text": [
            "100%|██████████| 169/169 [00:42<00:00,  3.93it/s]\n"
          ]
        },
        {
          "output_type": "stream",
          "name": "stdout",
          "text": [
            "epoch: 29 training loss:  1.379 training accuracy:  58.8%  validation loss:  1.574 validation accuracy:  55.6%\n"
          ]
        },
        {
          "output_type": "stream",
          "name": "stderr",
          "text": [
            "100%|██████████| 169/169 [00:42<00:00,  3.95it/s]\n"
          ]
        },
        {
          "output_type": "stream",
          "name": "stdout",
          "text": [
            "epoch: 30 training loss:  1.336 training accuracy:  59.9%  validation loss:  1.677 validation accuracy:  52.8%\n"
          ]
        },
        {
          "output_type": "stream",
          "name": "stderr",
          "text": [
            "100%|██████████| 169/169 [00:42<00:00,  3.98it/s]\n"
          ]
        },
        {
          "output_type": "stream",
          "name": "stdout",
          "text": [
            "epoch: 31 training loss:  1.340 training accuracy:  59.4%  validation loss:  1.597 validation accuracy:  54.2%\n"
          ]
        },
        {
          "output_type": "stream",
          "name": "stderr",
          "text": [
            "100%|██████████| 169/169 [00:42<00:00,  4.01it/s]\n"
          ]
        },
        {
          "output_type": "stream",
          "name": "stdout",
          "text": [
            "epoch: 32 training loss:  1.302 training accuracy:  60.5%  validation loss:  1.640 validation accuracy:  54.3%\n"
          ]
        },
        {
          "output_type": "stream",
          "name": "stderr",
          "text": [
            "100%|██████████| 169/169 [00:40<00:00,  4.17it/s]\n"
          ]
        },
        {
          "output_type": "stream",
          "name": "stdout",
          "text": [
            "epoch: 33 training loss:  1.301 training accuracy:  60.1%  validation loss:  1.609 validation accuracy:  55.2%\n"
          ]
        },
        {
          "output_type": "stream",
          "name": "stderr",
          "text": [
            "100%|██████████| 169/169 [00:40<00:00,  4.19it/s]\n"
          ]
        },
        {
          "output_type": "stream",
          "name": "stdout",
          "text": [
            "epoch: 34 training loss:  1.262 training accuracy:  61.7%  validation loss:  1.575 validation accuracy:  55.6%\n"
          ]
        },
        {
          "output_type": "stream",
          "name": "stderr",
          "text": [
            "100%|██████████| 169/169 [00:40<00:00,  4.21it/s]\n"
          ]
        },
        {
          "output_type": "stream",
          "name": "stdout",
          "text": [
            "epoch: 35 training loss:  1.236 training accuracy:  61.8%  validation loss:  1.576 validation accuracy:  56.5%\n"
          ]
        },
        {
          "output_type": "stream",
          "name": "stderr",
          "text": [
            "100%|██████████| 169/169 [00:39<00:00,  4.23it/s]\n"
          ]
        },
        {
          "output_type": "stream",
          "name": "stdout",
          "text": [
            "epoch: 36 training loss:  1.216 training accuracy:  63.0%  validation loss:  1.586 validation accuracy:  56.2%\n"
          ]
        },
        {
          "output_type": "stream",
          "name": "stderr",
          "text": [
            "100%|██████████| 169/169 [00:40<00:00,  4.21it/s]\n"
          ]
        },
        {
          "output_type": "stream",
          "name": "stdout",
          "text": [
            "epoch: 37 training loss:  1.202 training accuracy:  62.7%  validation loss:  1.623 validation accuracy:  55.3%\n"
          ]
        },
        {
          "output_type": "stream",
          "name": "stderr",
          "text": [
            "100%|██████████| 169/169 [00:39<00:00,  4.28it/s]\n"
          ]
        },
        {
          "output_type": "stream",
          "name": "stdout",
          "text": [
            "epoch: 38 training loss:  1.185 training accuracy:  63.4%  validation loss:  1.570 validation accuracy:  56.7%\n"
          ]
        },
        {
          "output_type": "stream",
          "name": "stderr",
          "text": [
            "100%|██████████| 169/169 [00:39<00:00,  4.29it/s]\n"
          ]
        },
        {
          "output_type": "stream",
          "name": "stdout",
          "text": [
            "epoch: 39 training loss:  1.148 training accuracy:  64.6%  validation loss:  1.551 validation accuracy:  57.0%\n"
          ]
        },
        {
          "output_type": "stream",
          "name": "stderr",
          "text": [
            "100%|██████████| 169/169 [00:39<00:00,  4.27it/s]\n"
          ]
        },
        {
          "output_type": "stream",
          "name": "stdout",
          "text": [
            "epoch: 40 training loss:  1.142 training accuracy:  64.8%  validation loss:  1.606 validation accuracy:  56.1%\n"
          ]
        },
        {
          "output_type": "stream",
          "name": "stderr",
          "text": [
            "100%|██████████| 169/169 [00:39<00:00,  4.25it/s]\n"
          ]
        },
        {
          "output_type": "stream",
          "name": "stdout",
          "text": [
            "epoch: 41 training loss:  1.116 training accuracy:  65.4%  validation loss:  1.555 validation accuracy:  56.5%\n"
          ]
        },
        {
          "output_type": "stream",
          "name": "stderr",
          "text": [
            "100%|██████████| 169/169 [00:39<00:00,  4.25it/s]\n"
          ]
        },
        {
          "output_type": "stream",
          "name": "stdout",
          "text": [
            "epoch: 42 training loss:  1.113 training accuracy:  65.7%  validation loss:  1.587 validation accuracy:  57.9%\n"
          ]
        },
        {
          "output_type": "stream",
          "name": "stderr",
          "text": [
            "100%|██████████| 169/169 [00:39<00:00,  4.26it/s]\n"
          ]
        },
        {
          "output_type": "stream",
          "name": "stdout",
          "text": [
            "epoch: 43 training loss:  1.073 training accuracy:  66.8%  validation loss:  1.520 validation accuracy:  58.3%\n"
          ]
        },
        {
          "output_type": "stream",
          "name": "stderr",
          "text": [
            "100%|██████████| 169/169 [00:39<00:00,  4.28it/s]\n"
          ]
        },
        {
          "output_type": "stream",
          "name": "stdout",
          "text": [
            "epoch: 44 training loss:  1.055 training accuracy:  67.1%  validation loss:  1.495 validation accuracy:  58.7%\n"
          ]
        },
        {
          "output_type": "stream",
          "name": "stderr",
          "text": [
            "100%|██████████| 169/169 [00:39<00:00,  4.28it/s]\n"
          ]
        },
        {
          "output_type": "stream",
          "name": "stdout",
          "text": [
            "epoch: 45 training loss:  1.055 training accuracy:  67.1%  validation loss:  1.524 validation accuracy:  58.4%\n"
          ]
        },
        {
          "output_type": "stream",
          "name": "stderr",
          "text": [
            "100%|██████████| 169/169 [00:39<00:00,  4.27it/s]\n"
          ]
        },
        {
          "output_type": "stream",
          "name": "stdout",
          "text": [
            "epoch: 46 training loss:  1.027 training accuracy:  67.8%  validation loss:  1.644 validation accuracy:  57.3%\n"
          ]
        },
        {
          "output_type": "stream",
          "name": "stderr",
          "text": [
            "100%|██████████| 169/169 [00:39<00:00,  4.25it/s]\n"
          ]
        },
        {
          "output_type": "stream",
          "name": "stdout",
          "text": [
            "epoch: 47 training loss:  1.008 training accuracy:  68.5%  validation loss:  1.503 validation accuracy:  58.0%\n"
          ]
        },
        {
          "output_type": "stream",
          "name": "stderr",
          "text": [
            "100%|██████████| 169/169 [00:39<00:00,  4.25it/s]\n"
          ]
        },
        {
          "output_type": "stream",
          "name": "stdout",
          "text": [
            "epoch: 48 training loss:  1.007 training accuracy:  68.6%  validation loss:  1.567 validation accuracy:  58.2%\n"
          ]
        },
        {
          "output_type": "stream",
          "name": "stderr",
          "text": [
            "100%|██████████| 169/169 [00:39<00:00,  4.25it/s]\n"
          ]
        },
        {
          "output_type": "stream",
          "name": "stdout",
          "text": [
            "epoch: 49 training loss:  0.966 training accuracy:  70.1%  validation loss:  1.590 validation accuracy:  57.4%\n"
          ]
        }
      ],
      "source": [
        "# instantiate your new Model class\n",
        "# model_122\n",
        "#callbacks = [EarlyStopping(monitor='val_loss', patience=5)]\n",
        "#model.set_callbacks(callbacks)\n",
        "\n",
        "nepochs = 50\n",
        "#results_path = ROOT\n",
        "results_path = ROOT+'results/Finecompletedataset50epochsAdam.pt'\n",
        "statsrec = np.zeros((4,nepochs))\n",
        "\n",
        "loss_fn = nn.CrossEntropyLoss()\n",
        "optimizer = optim.SGD(model_122a.parameters(), lr=0.009, momentum=0.9)\n",
        "#optimizer = optim.Adadelta(model_122a.parameters())\n",
        "#ADam\n",
        "\n",
        "for epoch in range(nepochs):  # loop over the dataset multiple times\n",
        "    correct = 0          # number of examples predicted correctly (for accuracy)\n",
        "    total = 0            # number of examples\n",
        "    running_loss = 0.0   # accumulated loss (for mean loss)\n",
        "    n = 0                # number of minibatches\n",
        "    for data in tqdm(train_loader):\n",
        "        inputs, labels = data\n",
        "        inputs = inputs.to(device)\n",
        "        labels = labels.to(device)\n",
        "         # Zero the parameter gradients\n",
        "        optimizer.zero_grad()\n",
        "\n",
        "        # Forward, backward, and update parameters\n",
        "        outputs = model_122a(inputs)\n",
        "        loss = loss_fn(outputs, labels)\n",
        "        loss.backward()\n",
        "        optimizer.step()\n",
        "    \n",
        "        # accumulate loss\n",
        "        running_loss += loss.item()\n",
        "        n += 1\n",
        "        \n",
        "        # accumulate data for accuracy\n",
        "        _, predicted = torch.max(outputs.data, 1)\n",
        "        total += labels.size(0)    # add in the number of labels in this minibatch\n",
        "        correct += (predicted == labels).sum().item()  # add in the number of correct labels\n",
        "    \n",
        "    # collect together statistics for this epoch\n",
        "    ltrn = running_loss/n\n",
        "    atrn = correct/total \n",
        "    ltst, atst = stats(valid_loader, model_122a)\n",
        "    statsrec[:,epoch] = (ltrn, atrn, ltst.cpu(), atst)\n",
        "    print(f\"epoch: {epoch} training loss: {ltrn: .3f} training accuracy: {atrn: .1%}  validation loss: {ltst.cpu(): .3f} validation accuracy: {atst: .1%}\")\n",
        "\n",
        "    # save network parameters, losses and accuracy\n",
        "torch.save({\"state_dict\": model_122a.state_dict(), \"stats\": statsrec}, results_path)"
      ]
    },
    {
      "cell_type": "code",
      "source": [
        "results_path = ROOT+'results/Finecompletedataset50epochsAdam.pt'\n",
        "data = torch.load(results_path)\n",
        "\n",
        "\n",
        "statsrec = data[\"stats\"]\n",
        "fig, ax1 = plt.subplots()\n",
        "plt.plot(statsrec[0], 'r', label = 'training loss', )\n",
        "plt.plot(statsrec[2], 'g', label = 'validation loss' )\n",
        "plt.legend(loc='lower right')\n",
        "plt.xlabel('epoch')\n",
        "plt.ylabel('loss')\n",
        "plt.title('Training and validation loss, and validation accuracy')\n",
        "ax2=ax1.twinx()\n",
        "ax2.plot(statsrec[1], 'm', label = 'training accuracy')\n",
        "ax2.plot(statsrec[3], 'b', label = 'validation accuracy')\n",
        "ax2.set_ylabel('accuracy')\n",
        "plt.legend(loc='upper right')\n",
        "fig.savefig(\"roc.svg\")\n",
        "plt.show()"
      ],
      "metadata": {
        "id": "gyUNhe0rSUi-",
        "colab": {
          "base_uri": "https://localhost:8080/",
          "height": 295
        },
        "outputId": "5e12797c-e42d-4c10-c59f-dd775de6f33e"
      },
      "execution_count": 20,
      "outputs": [
        {
          "output_type": "display_data",
          "data": {
            "image/png": "[encoded data removed]",
            "text/plain": [
              "<Figure size 432x288 with 2 Axes>"
            ]
          },
          "metadata": {
            "needs_background": "light"
          }
        }
      ]
    },
    {
      "cell_type": "markdown",
      "metadata": {
        "id": "NlZlnGig3UD8"
      },
      "source": [
        "\n",
        "### 1.2.3 Training comparison [4 marks]\n",
        "\n",
        "Display, side-by-side or on one single graph, the training and validation loss graphs for the single-batch training (section 1.1.3), on the full training set (1.2.1) and your final fine-tuned model (1.2.2). "
      ]
    },
    {
      "cell_type": "code",
      "execution_count": null,
      "metadata": {
        "id": "fTPO8yk13UD8",
        "colab": {
          "base_uri": "https://localhost:8080/",
          "height": 295
        },
        "outputId": "545b323d-1de3-46ac-9122-a012ebd02b30"
      },
      "outputs": [
        {
          "output_type": "display_data",
          "data": {
            "image/png": "[encoded data removed]",
            "text/plain": [
              "<Figure size 432x288 with 2 Axes>"
            ]
          },
          "metadata": {
            "needs_background": "light"
          }
        }
      ],
      "source": [
        "#single batch\n",
        "#single batch\n",
        "\n",
        "results_path = ROOT+'results/singlebatch50epochs.pt'\n",
        "data = torch.load(results_path)\n",
        "\n",
        "\n",
        "statsrec = data[\"stats\"]\n",
        "fig, ax1 = plt.subplots()\n",
        "plt.plot(statsrec[0], 'r', label = 'training loss', )\n",
        "plt.plot(statsrec[2], 'g', label = 'validation loss' )\n",
        "plt.legend(loc='lower right')\n",
        "plt.xlabel('epoch')\n",
        "plt.ylabel('loss')\n",
        "plt.title('Training and validation loss, and validation accuracy')\n",
        "ax2=ax1.twinx()\n",
        "ax2.plot(statsrec[1], 'm', label = 'training accuracy')\n",
        "ax2.plot(statsrec[3], 'b', label = 'validation accuracy')\n",
        "ax2.set_ylabel('accuracy')\n",
        "plt.legend(loc='upper right')\n",
        "fig.savefig(\"roc.svg\")\n",
        "plt.show()\n",
        "\n"
      ]
    },
    {
      "cell_type": "code",
      "execution_count": null,
      "metadata": {
        "id": "CK9JVtgS3UD9",
        "colab": {
          "base_uri": "https://localhost:8080/",
          "height": 295
        },
        "outputId": "65a5759e-1de1-420d-d065-504907b9b63a"
      },
      "outputs": [
        {
          "output_type": "display_data",
          "data": {
            "image/png": "[encoded data removed]",
            "text/plain": [
              "<Figure size 432x288 with 2 Axes>"
            ]
          },
          "metadata": {
            "needs_background": "light"
          }
        }
      ],
      "source": [
        "#full training \n",
        "\n",
        "#full training \n",
        "results_path = ROOT+'results/completedataset50epochs.pt'\n",
        "data = torch.load(results_path)\n",
        "\n",
        "\n",
        "statsrec = data[\"stats\"]\n",
        "fig, ax1 = plt.subplots()\n",
        "plt.plot(statsrec[0], 'r', label = 'training loss', )\n",
        "plt.plot(statsrec[2], 'g', label = 'validation loss' )\n",
        "plt.legend(loc='lower right')\n",
        "plt.xlabel('epoch')\n",
        "plt.ylabel('loss')\n",
        "plt.title('Training and validation loss, and validation accuracy')\n",
        "ax2=ax1.twinx()\n",
        "ax2.plot(statsrec[1], 'm', label = 'training accuracy')\n",
        "ax2.plot(statsrec[3], 'b', label = 'validation accuracy')\n",
        "ax2.set_ylabel('accuracy')\n",
        "plt.legend(loc='upper right')\n",
        "fig.savefig(\"roc.svg\")\n",
        "plt.show()"
      ]
    },
    {
      "cell_type": "code",
      "execution_count": null,
      "metadata": {
        "id": "U8ChEV483UD9",
        "colab": {
          "base_uri": "https://localhost:8080/",
          "height": 295
        },
        "outputId": "a8fae094-7488-4c1b-8537-7913bc1b5e22"
      },
      "outputs": [
        {
          "output_type": "display_data",
          "data": {
            "image/png": "[encoded data removed]",
            "text/plain": [
              "<Figure size 432x288 with 2 Axes>"
            ]
          },
          "metadata": {
            "needs_background": "light"
          }
        }
      ],
      "source": [
        "#fine-tuned\n",
        "results_path = ROOT+'results/Finecompletedataset50epochs700.pt'\n",
        "data = torch.load(results_path)\n",
        "\n",
        "\n",
        "statsrec = data[\"stats\"]\n",
        "fig, ax1 = plt.subplots()\n",
        "plt.plot(statsrec[0], 'r', label = 'training loss', )\n",
        "plt.plot(statsrec[2], 'g', label = 'validation loss' )\n",
        "plt.legend(loc='lower right')\n",
        "plt.xlabel('epoch')\n",
        "plt.ylabel('loss')\n",
        "plt.title('Training and validation loss, and validation accuracy')\n",
        "ax2=ax1.twinx()\n",
        "ax2.plot(statsrec[1], 'm', label = 'training accuracy')\n",
        "ax2.plot(statsrec[3], 'b', label = 'validation accuracy')\n",
        "ax2.set_ylabel('accuracy')\n",
        "plt.legend(loc='upper right')\n",
        "fig.savefig(\"roc.svg\")\n",
        "plt.show()\n"
      ]
    },
    {
      "cell_type": "markdown",
      "metadata": {
        "id": "NZ5txF7u3UD-"
      },
      "source": [
        "Explain what can be seen in the graphs.\n",
        "\n",
        "--> Double click here to respond"
      ]
    },
    {
      "cell_type": "markdown",
      "metadata": {
        "id": "gyPnWqK73UEA"
      },
      "source": [
        "\n",
        "### 1.2.4 Confusion matrices [7 marks]\n",
        "\n",
        "Use your architecture with best accuracy to generate two confusion matrices, one for the training set and one for the validation set. Remember to use the whole validation and training sets, and to include all your relevant code. Display the confusion matrices in a meaningful way which clearly indicates what percentage of the data is represented in each position.\n",
        "\n"
      ]
    },
    {
      "cell_type": "code",
      "source": [
        "def accuracy(cnfm):\n",
        "    return cnfm.trace()/cnfm.sum((0,1))\n",
        "\n",
        "def recalls(cnfm):\n",
        "    return np.diag(cnfm)/cnfm.sum(1)\n",
        "\n",
        "def precisions(cnfm):\n",
        "    return np.diag(cnfm)/cnfm.sum(0)  "
      ],
      "metadata": {
        "id": "GKZBjlPN2wT-"
      },
      "execution_count": null,
      "outputs": []
    },
    {
      "cell_type": "code",
      "execution_count": null,
      "metadata": {
        "id": "tHWOuyUl3UED",
        "colab": {
          "base_uri": "https://localhost:8080/",
          "height": 1000
        },
        "outputId": "7570c973-5666-4777-a29a-6029909d07ca"
      },
      "outputs": [
        {
          "output_type": "stream",
          "name": "stderr",
          "text": [
            "/usr/local/lib/python3.7/dist-packages/torch/utils/data/dataloader.py:481: UserWarning: This DataLoader will create 6 worker processes in total. Our suggested max number of worker in current system is 2, which is smaller than what this DataLoader is going to create. Please be aware that excessive worker creation might get DataLoader running slow or even freeze, lower the worker number to avoid potential slowness/freeze if necessary.\n",
            "  cpuset_checked))\n"
          ]
        },
        {
          "output_type": "stream",
          "name": "stdout",
          "text": [
            "Confusion matrix\n",
            "[[154   0   0  22   1   4   4   8  32   0   2   1   8   2   2   1   2   1\n",
            "   18   0  37   3   3  31   0   2   7   1   2   0]\n",
            " [  3 177  10   2   2  21   4   8   0   2   2  11   1   6  11  10   8   2\n",
            "    3   8   1   6   2   0   2  19   2   3  13  10]\n",
            " [  4   3 185   3   6   3   2  10   2   0  59   6   2   9   1   6   1   3\n",
            "    4  12   2   9   0   1   0   5   7   0   8   3]\n",
            " [  9   0   0 304   0   1   7   0  20   0   0   0   0   0   0   1   0   2\n",
            "    4   1   4   0   0   8   0   0   4   0   1   9]\n",
            " [  0   0  15   1 308   1   0   1   0   0   6   1   0  11   0   2   2   0\n",
            "    1   1   0   4   1   0   0   2   2   0   2   6]\n",
            " [  0  12   3   1   1 225   6   9   1   3   0   6   2   5   9  17   8   2\n",
            "    0   3   4   2   1   2   0  16   2   2  10  10]\n",
            " [  1   0   3   3   1   4 266   2   8   0   0   1   2   2   4   3   3   6\n",
            "    5   1   7   2   6   9   3   2   2   4   8   4]\n",
            " [  4   2   7   4   0  13   2 181   1   2   2   2   4   5   3  20   4   4\n",
            "   12   2  23   6   6  11   1   9   5   0  14   5]\n",
            " [  7   2   0  25   0   0  13   3 256   0   0   0   7   2   0   1   3   0\n",
            "    2   2   8   2   2   6   0   0   3   0   2   0]\n",
            " [  0   8   0   1   0   5   0   3   0 248   0   1   2   2   8  35  21   1\n",
            "    0   1   0   2   1   0   0  11   1   2   2   4]\n",
            " [  4   6  36   3   2   1   2   2   1   0 234   1   5  30   4   4   3   1\n",
            "    2   8   3   3   0   1   1   2   3   0   4   3]\n",
            " [  0  12   2   0   0  14   4   1   0   0   1 256   0   1   0   4   1   6\n",
            "    1  10   5  10   1   2   4   6   6   0   4   8]\n",
            " [  7   0   2   8   0   4   1   8   5   0   3   0 264   6   0   2   3   1\n",
            "    3   3   7   0  12  11   0   0   1   0   0   9]\n",
            " [  2   5  16   0   9   3   6   3   0   1  31   2   6 223   7   2   0   3\n",
            "    2  16   3   3   0   3   0   4   2   1   3   2]\n",
            " [  0   9   2   0   1  26   8   7   2   1   2   3   4   5 222   5  17   5\n",
            "    0   0   4   3   4   1   0   4   0  10   6  13]\n",
            " [  0   9   5   1   0  13   1  13   1   8   1   5   1   4   1 199   6   1\n",
            "    0   8   7   5   0   2   7  24   4   7  12   5]\n",
            " [  0   8   0   1   1   8   5   2   3   9   2   1   6   0  13   5 244   2\n",
            "    3   3   1   3   4   3   0   2   0  12   2  24]\n",
            " [  2   4   3   1   0   7   5   0   0   0   2   8   1   1   3   6   3 271\n",
            "    1   2   3   3   0   3   1   0   1   1   9  13]\n",
            " [ 15   0   1   4   0   0   9   6   5   0   0   1   4   0   1   2   1   0\n",
            "  256   0  14   5   0  22   0   3   8   1   4   6]\n",
            " [  0   5  26   1   5   7   3   5   2   0  20   4   3  15   2   5   2   1\n",
            "    1 210   7   2   5   0   1   4   4   0   1   5]\n",
            " [ 15   2   0  10   0   5   7   6   8   0   1   2   2   2   1   1   0   1\n",
            "    4   1 256   3   1   9   2   3   4   0   1   2]\n",
            " [  1   4   6   2   3   1   6   3   5   1   3   5   5   3   3   7   1   0\n",
            "    1   8   8 229   1  11   3   6   4   0  15  10]\n",
            " [  0   3   0   2   0   6  10   3   6   0   4   1  15   1   5   1   4   3\n",
            "    5   2   2   1 265   2   0   1   1   0   3  15]\n",
            " [ 24   1   0  30   0   2  12   9  24   2   2   2   6   1   1   8   2   2\n",
            "    8   0  24  11   0 166   0   5   5   3   5   8]\n",
            " [  0   5   4   0   0   3   7   2   0   2   1   0   0   4   1  13   0   0\n",
            "    1   1   3   1   0   1 266  41   1   4   9   2]\n",
            " [  3  13   8   0   2  10   4   6   1   3   1   5   1   6   0  41   0   1\n",
            "    7   5  12   5   2   2  12 191   5   6  13   1]\n",
            " [  8   0   2  11   2   1   1   7   4   0   1   1   3   0   1   2   1   0\n",
            "   13   1   6   8   1   2   0   2 272   1   0   2]\n",
            " [  1   3   0   0   0  14   3   3   3   0   0   0   3   2  12   3  17   1\n",
            "    0   0   2   0   0   7   0   1   0 259   9  18]\n",
            " [  1   8   0   1   1   7   5   7   4   0   1   1   5   4   6   8   6   0\n",
            "    1   0   2   5   1   6   1   9   5   0 250  32]\n",
            " [  2   5   3   6   1   6   9   9   3   0   4   5   5   4   9   1  13   8\n",
            "    3   6   5   5   5   6   1   1   3   6  18 218]]\n",
            "Accuracy: 65.3%\n",
            "Class 0 : Precision 57.7%  Recall 44.3%\n",
            "Class 0 : Precision 57.8%  Recall 50.7%\n",
            "Class 0 : Precision 54.6%  Recall 52.0%\n",
            "Class 0 : Precision 68.0%  Recall 81.1%\n",
            "Class 0 : Precision 89.0%  Recall 83.9%\n",
            "Class 0 : Precision 54.2%  Recall 62.2%\n",
            "Class 0 : Precision 64.6%  Recall 73.5%\n",
            "Class 0 : Precision 55.4%  Recall 51.1%\n",
            "Class 0 : Precision 64.5%  Recall 74.0%\n",
            "Class 0 : Precision 87.9%  Recall 69.1%\n",
            "Class 0 : Precision 60.8%  Recall 63.4%\n",
            "Class 0 : Precision 77.1%  Recall 71.3%\n",
            "Class 0 : Precision 71.9%  Recall 73.3%\n",
            "Class 0 : Precision 62.6%  Recall 62.3%\n",
            "Class 0 : Precision 67.3%  Recall 61.0%\n",
            "Class 0 : Precision 48.0%  Recall 56.9%\n",
            "Class 0 : Precision 64.9%  Recall 66.5%\n",
            "Class 0 : Precision 82.6%  Recall 76.6%\n",
            "Class 0 : Precision 70.9%  Recall 69.6%\n",
            "Class 0 : Precision 66.7%  Recall 60.7%\n",
            "Class 0 : Precision 55.7%  Recall 73.4%\n",
            "Class 0 : Precision 67.2%  Recall 64.5%\n",
            "Class 0 : Precision 81.8%  Recall 73.4%\n",
            "Class 0 : Precision 50.6%  Recall 45.7%\n",
            "Class 0 : Precision 87.2%  Recall 71.5%\n",
            "Class 0 : Precision 50.9%  Recall 52.2%\n",
            "Class 0 : Precision 74.7%  Recall 77.1%\n",
            "Class 0 : Precision 80.2%  Recall 71.7%\n",
            "Class 0 : Precision 58.1%  Recall 66.3%\n",
            "Class 0 : Precision 48.8%  Recall 58.9%\n"
          ]
        },
        {
          "output_type": "display_data",
          "data": {
            "image/png": "[encoded data removed]",
            "text/plain": [
              "<Figure size 432x288 with 1 Axes>"
            ]
          },
          "metadata": {
            "needs_background": "light"
          }
        }
      ],
      "source": [
        "# TO COMPLETE\n",
        "\n",
        "nclasses = 30\n",
        "cnfm = np.zeros((nclasses,nclasses),dtype=int)\n",
        "\n",
        "# work without gradient computation since we are testing (i.e. no optimisation)\n",
        "with torch.no_grad():\n",
        "    for data in train_loader:\n",
        "        images, labels = data\n",
        "        images = images.to(device)\n",
        "        labels = labels.to(device)\n",
        "        outputs = model_122a(images)\n",
        "        \n",
        "        # find the class with the highest output.\n",
        "        # note that the outputs are confidence values since we didn't need to apply softmax in our network\n",
        "        # (nn.crossentropyloss takes raw condifence values and does its own softmax)   \n",
        "        _, predicted = torch.max(outputs, 1)    \n",
        "       \n",
        "        \n",
        "        # accumulate into confusion matrix\n",
        "        for i in range(labels.size(0)):\n",
        "            cnfm[labels[i].item(),predicted[i].item()] += 1\n",
        "              \n",
        "print(\"Confusion matrix\")\n",
        "print(cnfm)\n",
        "\n",
        "# show confusion matrix as a grey-level image\n",
        "plt.imshow(cnfm, cmap='gray')\n",
        "\n",
        "# show per-class recall and precision\n",
        "print(f\"Accuracy: {accuracy(cnfm) :.1%}\")\n",
        "r = recalls(cnfm)\n",
        "p = precisions(cnfm)\n",
        "for i in range(nclasses):\n",
        "    print(f\"Class {classes[i]} : Precision {p[i] :.1%}  Recall {r[i] :.1%}\")\n",
        "\n",
        "\n"
      ]
    },
    {
      "cell_type": "code",
      "execution_count": null,
      "metadata": {
        "id": "GAV2tL923UEE"
      },
      "outputs": [],
      "source": [
        "#confusion matrix for validation set\n",
        "\n",
        "\n",
        "# initialise confusion matrix\n",
        "nclasses = classes.shape[0]\n",
        "cnfm = np.zeros((nclasses,nclasses),dtype=int)\n",
        "\n",
        "# work without gradient computation since we are testing (i.e. no optimisation)\n",
        "with torch.no_grad():\n",
        "    for data in train_loader:\n",
        "        images, labels = data\n",
        "        outputs = net(images)\n",
        "        \n",
        "        # find the class with the highest output.\n",
        "        # note that the outputs are confidence values since we didn't need to apply softmax in our network\n",
        "        # (nn.crossentropyloss takes raw condifence values and does its own softmax)   \n",
        "        _, predicted = torch.max(outputs, 1)    \n",
        "       \n",
        "        \n",
        "        # accumulate into confusion matrix\n",
        "        for i in range(labels.size(0)):\n",
        "            cnfm[labels[i].item(),predicted[i].item()] += 1\n",
        "              \n",
        "print(\"Confusion matrix\")\n",
        "print(cnfm)\n",
        "\n",
        "# show confusion matrix as a grey-level image\n",
        "plt.imshow(cnfm, cmap='gray')\n",
        "\n",
        "# show per-class recall and precision\n",
        "print(f\"Accuracy: {accuracy(cnfm) :.1%}\")\n",
        "r = recalls(cnfm)\n",
        "p = precisions(cnfm)\n",
        "for i in range(nclasses):\n",
        "    print(f\"Class {classes[i]} : Precision {p[i] :.1%}  Recall {r[i] :.1%}\")\n",
        "\n",
        "\n"
      ]
    },
    {
      "cell_type": "markdown",
      "metadata": {
        "id": "oow5SZGw3UEG"
      },
      "source": [
        "What conclusions can be drawn from the confusion matrices?"
      ]
    },
    {
      "cell_type": "markdown",
      "metadata": {
        "id": "3DMKDJD53UEI"
      },
      "source": [
        "---> Double click to respond here"
      ]
    },
    {
      "cell_type": "markdown",
      "metadata": {
        "id": "iyfIFMYv3UEI"
      },
      "source": [
        "\n",
        "\n",
        "## 1.3 Testing on test data [18 marks]\n",
        "\n",
        "### 1.3.1 Dataset and generating predictions [6 marks]\n",
        "\n",
        "Create a PyTorch ```Dataset``` for the unlabeled test data in the test_set folder of the Kaggle competition and generate predictions using your final model. \n"
      ]
    },
    {
      "cell_type": "code",
      "execution_count": 21,
      "metadata": {
        "id": "MwE8MlNr3UEJ",
        "colab": {
          "base_uri": "https://localhost:8080/"
        },
        "outputId": "b1d902ca-aa9a-4393-c133-5544a56b58bd"
      },
      "outputs": [
        {
          "output_type": "stream",
          "name": "stdout",
          "text": [
            "Found 1500 images.\n",
            "                                                path  class\n",
            "0  /content/drive/MyDrive/comp5623m-2022/test_set...      0\n",
            "1  /content/drive/MyDrive/comp5623m-2022/test_set...      0\n",
            "2  /content/drive/MyDrive/comp5623m-2022/test_set...      0\n",
            "3  /content/drive/MyDrive/comp5623m-2022/test_set...      0\n",
            "4  /content/drive/MyDrive/comp5623m-2022/test_set...      0\n"
          ]
        }
      ],
      "source": [
        "test_dir = ROOT + \"test_set/test_set\"\n",
        "img_paths= []\n",
        "img_name= []\n",
        "\n",
        "for entry in os.scandir(test_dir):\n",
        "    if (entry.is_file()):\n",
        "        img_paths.append(entry.path)\n",
        "        img_name.append(entry.name)\n",
        "            \n",
        "data = {'path': img_paths,'class': 0}\n",
        "\n",
        "data_df = pd.DataFrame(data, columns=['path','class'])\n",
        "\n",
        "# See what the dataframe now contains\n",
        "print(\"Found\", len(data_df), \"images.\")\n",
        "# If you want to see the image meta data\n",
        "print(data_df.head())\n",
        "\n",
        "transfrm = transforms.Compose([\n",
        "        transforms.ToTensor(),\n",
        "        transforms.Normalize(mean, std),\n",
        "    ])\n",
        "test_dataset = TinyImageNet30(\n",
        "    df=data_df,\n",
        "    transform=transfrm,\n",
        ")\n",
        "\n",
        "test_loader = DataLoader(\n",
        "    test_dataset,\n",
        "    batch_size=64,\n",
        "    shuffle=False,\n",
        "    num_workers=0\n",
        ")"
      ]
    },
    {
      "cell_type": "code",
      "execution_count": 22,
      "metadata": {
        "scrolled": true,
        "id": "JFLxG1ri3UEK",
        "colab": {
          "base_uri": "https://localhost:8080/",
          "height": 299
        },
        "outputId": "282bbcb6-85f2-441c-abb8-0cfbd179014b"
      },
      "outputs": [
        {
          "output_type": "stream",
          "name": "stderr",
          "text": [
            "Clipping input data to the valid range for imshow with RGB data ([0..1] for floats or [0..255] for integers).\n"
          ]
        },
        {
          "output_type": "stream",
          "name": "stdout",
          "text": [
            "torch.Size([64, 3, 64, 64])\n"
          ]
        },
        {
          "output_type": "display_data",
          "data": {
            "image/png": "[encoded data removed]",
            "text/plain": [
              "<Figure size 432x288 with 1 Axes>"
            ]
          },
          "metadata": {
            "needs_background": "light"
          }
        },
        {
          "output_type": "stream",
          "name": "stdout",
          "text": [
            "0 0 0 0 0 0 0 0 0 0 0 0 0 0 0 0 0 0 0 0 0 0 0 0 0 0 0 0 0 0 0 0 0 0 0 0 0 0 0 0 0 0 0 0 0 0 0 0 0 0 0 0 0 0 0 0 0 0 0 0 0 0 0 0\n"
          ]
        }
      ],
      "source": [
        "\n",
        "dataiter = iter(test_loader)\n",
        "images, labels = dataiter.next()\n",
        "\n",
        "print(images.size())\n",
        "\n",
        "timshow(utils.make_grid(images))\n",
        "print(*labels.numpy())  \n",
        "\n",
        "\n"
      ]
    },
    {
      "cell_type": "code",
      "execution_count": 23,
      "metadata": {
        "id": "4S_9ILRG3UEM"
      },
      "outputs": [],
      "source": [
        "predicted_class = []\n",
        "for data in test_loader:\n",
        "        inputs, labels = data\n",
        "        inputs = inputs.to(device)\n",
        "        labels = labels.to(device)\n",
        "        # Forward, backward, and update parameters\n",
        "        outputs = model_122a(inputs)\n",
        "        \n",
        "        # the predicted lables / classes\n",
        "        _, predicted = torch.max(outputs.data, 1)\n",
        "        #add the predicted lables to the list\n",
        "        predicted_class.extend(predicted.tolist()) "
      ]
    },
    {
      "cell_type": "markdown",
      "metadata": {
        "id": "4Up-HKLO3UEN"
      },
      "source": [
        "\n",
        "### 1.3.2 CSV file and test set accuracy [12 marks]\n",
        "\n",
        "Save all test predictions to a CSV file and submit it to the private class Kaggle competition. **Please save your test CSV file submissions using your student username (the one with letters, ie., ``sc15jb``, not the ID with only numbers)**, for example, `sc15jb.csv`. That will help us to identify your submissions.\n",
        "\n",
        "The CSV file must contain only two columns: ‘Id’ and ‘Category’ (predicted class ID) as shown below:\n",
        "\n",
        "```txt\n",
        "Id,Category\n",
        "28d0f5e9_373c.JPEG,2\n",
        "bbe4895f_40bf.JPEG,18\n",
        "```\n",
        "\n",
        "The ‘Id’ column should include the name of the image. It is important to keep the same name as the one on the test set. Do not include any path, just the name of file (with extension). Your csv file must contain 1501 rows, one for each image on test set and 1 row for the headers.\n",
        "\n",
        "> You may submit multiple times. We will use your personal top entry for allocating marks for this [10 marks]. The class leaderboard will not affect marking (brownie points!).\n",
        "\n"
      ]
    },
    {
      "cell_type": "code",
      "execution_count": null,
      "metadata": {
        "id": "T6Er2HFI3UEP"
      },
      "outputs": [],
      "source": [
        "# TO COMPLETE"
      ]
    },
    {
      "cell_type": "code",
      "execution_count": 24,
      "metadata": {
        "id": "wBbEr13e3UEQ"
      },
      "outputs": [],
      "source": [
        "data = {'ID': img_name,'Category': predicted_class}"
      ]
    },
    {
      "cell_type": "code",
      "execution_count": 25,
      "metadata": {
        "id": "0I7pluLD3UER",
        "colab": {
          "base_uri": "https://localhost:8080/",
          "height": 221
        },
        "outputId": "434d3b87-cf1c-4d32-e313-bdc06601adf2"
      },
      "outputs": [
        {
          "output_type": "stream",
          "name": "stdout",
          "text": [
            "test length 1500\n"
          ]
        },
        {
          "output_type": "execute_result",
          "data": {
            "text/html": [
              "\n",
              "  <div id=\"df-b459b234-a130-44dc-aab5-2b3f6e59b515\">\n",
              "    <div class=\"colab-df-container\">\n",
              "      <div>\n",
              "<style scoped>\n",
              "    .dataframe tbody tr th:only-of-type {\n",
              "        vertical-align: middle;\n",
              "    }\n",
              "\n",
              "    .dataframe tbody tr th {\n",
              "        vertical-align: top;\n",
              "    }\n",
              "\n",
              "    .dataframe thead th {\n",
              "        text-align: right;\n",
              "    }\n",
              "</style>\n",
              "<table border=\"1\" class=\"dataframe\">\n",
              "  <thead>\n",
              "    <tr style=\"text-align: right;\">\n",
              "      <th></th>\n",
              "      <th>ID</th>\n",
              "      <th>Category</th>\n",
              "    </tr>\n",
              "  </thead>\n",
              "  <tbody>\n",
              "    <tr>\n",
              "      <th>0</th>\n",
              "      <td>7f19ba4a_9471.JPEG</td>\n",
              "      <td>26</td>\n",
              "    </tr>\n",
              "    <tr>\n",
              "      <th>1</th>\n",
              "      <td>ff1e4f2b_5114.JPEG</td>\n",
              "      <td>0</td>\n",
              "    </tr>\n",
              "    <tr>\n",
              "      <th>2</th>\n",
              "      <td>b31f291a_7c51.JPEG</td>\n",
              "      <td>10</td>\n",
              "    </tr>\n",
              "    <tr>\n",
              "      <th>3</th>\n",
              "      <td>bb79ae30_cb47.JPEG</td>\n",
              "      <td>20</td>\n",
              "    </tr>\n",
              "    <tr>\n",
              "      <th>4</th>\n",
              "      <td>76978129_c38e.JPEG</td>\n",
              "      <td>22</td>\n",
              "    </tr>\n",
              "  </tbody>\n",
              "</table>\n",
              "</div>\n",
              "      <button class=\"colab-df-convert\" onclick=\"convertToInteractive('df-b459b234-a130-44dc-aab5-2b3f6e59b515')\"\n",
              "              title=\"Convert this dataframe to an interactive table.\"\n",
              "              style=\"display:none;\">\n",
              "        \n",
              "  <svg xmlns=\"http://www.w3.org/2000/svg\" height=\"24px\"viewBox=\"0 0 24 24\"\n",
              "       width=\"24px\">\n",
              "    <path d=\"M0 0h24v24H0V0z\" fill=\"none\"/>\n",
              "    <path d=\"M18.56 5.44l.94 2.06.94-2.06 2.06-.94-2.06-.94-.94-2.06-.94 2.06-2.06.94zm-11 1L8.5 8.5l.94-2.06 2.06-.94-2.06-.94L8.5 2.5l-.94 2.06-2.06.94zm10 10l.94 2.06.94-2.06 2.06-.94-2.06-.94-.94-2.06-.94 2.06-2.06.94z\"/><path d=\"M17.41 7.96l-1.37-1.37c-.4-.4-.92-.59-1.43-.59-.52 0-1.04.2-1.43.59L10.3 9.45l-7.72 7.72c-.78.78-.78 2.05 0 2.83L4 21.41c.39.39.9.59 1.41.59.51 0 1.02-.2 1.41-.59l7.78-7.78 2.81-2.81c.8-.78.8-2.07 0-2.86zM5.41 20L4 18.59l7.72-7.72 1.47 1.35L5.41 20z\"/>\n",
              "  </svg>\n",
              "      </button>\n",
              "      \n",
              "  <style>\n",
              "    .colab-df-container {\n",
              "      display:flex;\n",
              "      flex-wrap:wrap;\n",
              "      gap: 12px;\n",
              "    }\n",
              "\n",
              "    .colab-df-convert {\n",
              "      background-color: #E8F0FE;\n",
              "      border: none;\n",
              "      border-radius: 50%;\n",
              "      cursor: pointer;\n",
              "      display: none;\n",
              "      fill: #1967D2;\n",
              "      height: 32px;\n",
              "      padding: 0 0 0 0;\n",
              "      width: 32px;\n",
              "    }\n",
              "\n",
              "    .colab-df-convert:hover {\n",
              "      background-color: #E2EBFA;\n",
              "      box-shadow: 0px 1px 2px rgba(60, 64, 67, 0.3), 0px 1px 3px 1px rgba(60, 64, 67, 0.15);\n",
              "      fill: #174EA6;\n",
              "    }\n",
              "\n",
              "    [theme=dark] .colab-df-convert {\n",
              "      background-color: #3B4455;\n",
              "      fill: #D2E3FC;\n",
              "    }\n",
              "\n",
              "    [theme=dark] .colab-df-convert:hover {\n",
              "      background-color: #434B5C;\n",
              "      box-shadow: 0px 1px 3px 1px rgba(0, 0, 0, 0.15);\n",
              "      filter: drop-shadow(0px 1px 2px rgba(0, 0, 0, 0.3));\n",
              "      fill: #FFFFFF;\n",
              "    }\n",
              "  </style>\n",
              "\n",
              "      <script>\n",
              "        const buttonEl =\n",
              "          document.querySelector('#df-b459b234-a130-44dc-aab5-2b3f6e59b515 button.colab-df-convert');\n",
              "        buttonEl.style.display =\n",
              "          google.colab.kernel.accessAllowed ? 'block' : 'none';\n",
              "\n",
              "        async function convertToInteractive(key) {\n",
              "          const element = document.querySelector('#df-b459b234-a130-44dc-aab5-2b3f6e59b515');\n",
              "          const dataTable =\n",
              "            await google.colab.kernel.invokeFunction('convertToInteractive',\n",
              "                                                     [key], {});\n",
              "          if (!dataTable) return;\n",
              "\n",
              "          const docLinkHtml = 'Like what you see? Visit the ' +\n",
              "            '<a target=\"_blank\" href=https://colab.research.google.com/notebooks/data_table.ipynb>data table notebook</a>'\n",
              "            + ' to learn more about interactive tables.';\n",
              "          element.innerHTML = '';\n",
              "          dataTable['output_type'] = 'display_data';\n",
              "          await google.colab.output.renderOutput(dataTable, element);\n",
              "          const docLink = document.createElement('div');\n",
              "          docLink.innerHTML = docLinkHtml;\n",
              "          element.appendChild(docLink);\n",
              "        }\n",
              "      </script>\n",
              "    </div>\n",
              "  </div>\n",
              "  "
            ],
            "text/plain": [
              "                   ID  Category\n",
              "0  7f19ba4a_9471.JPEG        26\n",
              "1  ff1e4f2b_5114.JPEG         0\n",
              "2  b31f291a_7c51.JPEG        10\n",
              "3  bb79ae30_cb47.JPEG        20\n",
              "4  76978129_c38e.JPEG        22"
            ]
          },
          "metadata": {},
          "execution_count": 25
        }
      ],
      "source": [
        "test_df =pd.DataFrame(data,columns=['ID','Category'])\n",
        "\n",
        "print(\"test length\", len(data_df))\n",
        "test_df.head()"
      ]
    },
    {
      "cell_type": "code",
      "execution_count": 26,
      "metadata": {
        "id": "oQ_kzjIa3UES"
      },
      "outputs": [],
      "source": [
        "test_df.to_csv(\"ml20baya.csv\", index= False, header=True)"
      ]
    },
    {
      "cell_type": "code",
      "source": [
        "!cp ml20baya.csv \"/content/drive/MyDrive/comp5623m-2022\""
      ],
      "metadata": {
        "id": "gXA08-9K-A4d"
      },
      "execution_count": 27,
      "outputs": []
    },
    {
      "cell_type": "markdown",
      "metadata": {
        "id": "C_sR8Gc04CJ2"
      },
      "source": [
        "\n",
        "\n",
        "## QUESTION 2 [40 marks]\n",
        "\n",
        "\n",
        "\n",
        "In this question, you will visualize the filters and feature maps of a fully-trained CNN (AlexNet) on the full ImageNet 2012 dataset.\n",
        "\n",
        "> Please do not alter the name of the function or the number and type of its arguments and return values, otherwise the automatic grading function will not work correctly. You are welcome to import other modules (though the simplest solution only requires the ones below).\n"
      ]
    },
    {
      "cell_type": "markdown",
      "metadata": {
        "id": "r-HIUgQ-HK8Y"
      },
      "source": [
        "### **Overview:**\n",
        "*   **2.1.1** Extract filters from model: ``fetch_filters(layer_idx, model)``\n",
        "*   **2.2.1** Load test image\n",
        "*   **2.2.2** Extract feature maps for given test image: ``fetch_feature_maps(image, model)``\n",
        "*   **2.2.3** Display feature maps\n",
        "*   **2.3.1** Generate Grad-CAM heatmaps: ``generate_heatmap(output, class_id, model, image)``\n",
        "*   **2.3.2** Display heatmaps: add code to cell\n",
        "*   **2.3.3** Generate heatmaps for failure analysis\n"
      ]
    },
    {
      "cell_type": "markdown",
      "metadata": {
        "id": "-gYdjXng4CJ5"
      },
      "source": [
        "### Loading a pre-trained model\n",
        "\n",
        "Run the cell below to load an AlexNet model with pre-trained weights."
      ]
    },
    {
      "cell_type": "code",
      "execution_count": null,
      "metadata": {
        "id": "ik9dzD4S4CJ6"
      },
      "outputs": [],
      "source": [
        "model = torch.hub.load('pytorch/vision:v0.6.0', 'alexnet', pretrained=True)\n",
        "model.eval()"
      ]
    },
    {
      "cell_type": "code",
      "execution_count": null,
      "metadata": {
        "scrolled": true,
        "id": "tQH3_DyU3UEX"
      },
      "outputs": [],
      "source": [
        "model.features"
      ]
    },
    {
      "cell_type": "code",
      "execution_count": null,
      "metadata": {
        "id": "oiK0VurK3UEZ"
      },
      "outputs": [],
      "source": [
        "model.features[0]"
      ]
    },
    {
      "cell_type": "code",
      "execution_count": null,
      "metadata": {
        "id": "5AkxJ9sU3UE0"
      },
      "outputs": [],
      "source": [
        "model.features[0].weight.shape"
      ]
    },
    {
      "cell_type": "markdown",
      "metadata": {
        "id": "GXzlLbstCE7f"
      },
      "source": [
        "\n",
        "## 2.1 Extract and visualize the filters [6 marks]\n",
        "\n",
        "In this section you will extract and visualize the filters from the pre-trained AlexNet."
      ]
    },
    {
      "cell_type": "markdown",
      "metadata": {
        "id": "_vOrqr2J4CJ7"
      },
      "source": [
        "### 2.1.1 Extract filters [4 marks]\n",
        "\n",
        "Complete the following function ```fetch_filters``` to return all the filters from the convolutional layers at the given index in ```model.features``` (see printed model above for reference). \n",
        "\n",
        "\n",
        "\n",
        "\n",
        "\n",
        "> We will not test the behaviour of your function using invalid indices.\n",
        "\n"
      ]
    },
    {
      "cell_type": "code",
      "execution_count": null,
      "metadata": {
        "id": "sdbDXckn4CJ8"
      },
      "outputs": [],
      "source": [
        "def fetch_filters(layer_idx, model):\n",
        "    \"\"\" \n",
        "        Args:\n",
        "            layer_idx (int): the index of model.features specifying which conv layer\n",
        "            model (AlexNet): PyTorch AlexNet object\n",
        "        Return:\n",
        "            filters (Tensor):      \n",
        "    \"\"\"\n",
        "    filters = model.features[layer_idx].weight.detach()\n",
        "    # TO COMPLETE\n",
        "    return filters"
      ]
    },
    {
      "cell_type": "code",
      "execution_count": null,
      "metadata": {
        "id": "HNxPI5y-4CJ8"
      },
      "outputs": [],
      "source": [
        "# all the indices of the conv layers\n",
        "conv_layer_idx = [0, 3, 6, 8, 10]\n",
        "\n",
        "filters = []\n",
        "\n",
        "for layer_idx in conv_layer_idx:\n",
        "    filters.append(fetch_filters(layer_idx, model))"
      ]
    },
    {
      "cell_type": "markdown",
      "metadata": {
        "id": "PWSpX94c4CKD"
      },
      "source": [
        "For your testing purposes, the following code blocks test the dimensions of the function output."
      ]
    },
    {
      "cell_type": "code",
      "execution_count": null,
      "metadata": {
        "id": "TXeQtKkK4CKE"
      },
      "outputs": [],
      "source": [
        "filters[0].shape"
      ]
    },
    {
      "cell_type": "code",
      "execution_count": null,
      "metadata": {
        "id": "QZnC8Eth4CKF"
      },
      "outputs": [],
      "source": [
        "assert list(filters[0].shape) == [64, 3, 11, 11]"
      ]
    },
    {
      "cell_type": "markdown",
      "metadata": {
        "id": "ECx7Ktsg4CKG"
      },
      "source": [
        "\n",
        "\n",
        "### 2.1.2 Display filters [2 marks]\n",
        "\n",
        "The following code will visualize some of the filters from each layer. Play around with viewing filters at different depths into the network. Note that ```filters[0]``` could be viewed in colour if you prefer, whereas the subsequent layers must be viewed one channel at a time in grayscale. \n",
        "\n"
      ]
    },
    {
      "cell_type": "code",
      "execution_count": null,
      "metadata": {
        "id": "7K6N3ThU4CKG",
        "scrolled": false
      },
      "outputs": [],
      "source": [
        "# limit how many filters to show\n",
        "to_show = 16\n",
        "\n",
        "# compute the dimensions of the plot\n",
        "plt_dim = int(math.sqrt(to_show))\n",
        "\n",
        "# plot the first channel of each filter in a grid\n",
        "for i, filt in enumerate(filters[0].numpy()[:to_show]):\n",
        "    plt.subplot(plt_dim, plt_dim, i+1)\n",
        "    plt.imshow(filt[0], cmap=\"gray\")\n",
        "    plt.axis('off')\n",
        "plt.show()"
      ]
    },
    {
      "cell_type": "markdown",
      "metadata": {
        "id": "yCJF9IIF4CKI"
      },
      "source": [
        "\n",
        "\n",
        "## 2.2 Extract and visualize feature maps [10 marks]\n",
        "\n",
        "In this section, you will pass a test image through the AlexNet and extract and visualize the resulting convolutional layer feature maps.\n",
        "\n",
        "Complete the following code cell to load the test image ```man_bike.JPEG```.\n",
        "\n"
      ]
    },
    {
      "cell_type": "markdown",
      "metadata": {
        "id": "bVfEgbC4I_dE"
      },
      "source": [
        "### 2.2.1 Load test image [1 mark]\n"
      ]
    },
    {
      "cell_type": "code",
      "execution_count": null,
      "metadata": {
        "id": "xypfUN7y4CKI"
      },
      "outputs": [],
      "source": [
        "# TO COMPLETE\n",
        "from PIL import Image\n",
        "\n",
        "im = Image.open('/Users/macbookpro/Desktop/Semester 2/AI/CW1/comp5623m-2022/man_bike.JPEG')"
      ]
    },
    {
      "cell_type": "code",
      "execution_count": null,
      "metadata": {
        "id": "t9shdiJ-3UF0"
      },
      "outputs": [],
      "source": [
        "im = im.convert('RGB')"
      ]
    },
    {
      "cell_type": "markdown",
      "metadata": {
        "id": "aF2t9uOk4CKJ"
      },
      "source": [
        "Run the code cell below to apply the image transformation expected by the model."
      ]
    },
    {
      "cell_type": "code",
      "execution_count": null,
      "metadata": {
        "id": "Jt0tJQsM4CKO"
      },
      "outputs": [],
      "source": [
        "# ImageNet normalisation values, to apply to the image transform\n",
        "norm_mean = [0.485, 0.456, 0.406]\n",
        "norm_std = [0.229, 0.224, 0.225]\n",
        "\n",
        "data_transform = transforms.Compose([\n",
        "        transforms.Resize(256),\n",
        "        transforms.CenterCrop(256),\n",
        "        transforms.ToTensor(),\n",
        "        transforms.Normalize(norm_mean, norm_std),\n",
        "    ])\n",
        "\n",
        "im = data_transform(im)"
      ]
    },
    {
      "cell_type": "markdown",
      "metadata": {
        "id": "5VQKNo384CKP"
      },
      "source": [
        "\n",
        "### 2.2.2 Extract feature maps [5 marks]\n",
        "\n",
        "Complete the function below to pass the test image through a single forward pass of the network. We are interested in the outputs of the max pool layers (outputs of conv layers at model.features indices 0, 3, and 10) for best visualization. Note that the input should pass through *every layer* of the model."
      ]
    },
    {
      "cell_type": "code",
      "execution_count": null,
      "metadata": {
        "id": "kmqQ_mJ54CKP"
      },
      "outputs": [],
      "source": [
        "def fetch_feature_maps(image, model):\n",
        "    \"\"\"\n",
        "    Args:\n",
        "        image (Tensor): a single input image with transform applied\n",
        "        model (AlexNet): PyTorch AlexNet object\n",
        "        \n",
        "    Return:\n",
        "        feature_maps (Tensor): all the feature maps from conv layers \n",
        "                    at indices 0, 3, and 10 (outputs of the MaxPool layers)\n",
        "    \"\"\"\n",
        "    \n",
        "    \n",
        "    max_pool_layer = [2,5,12]\n",
        "    \n",
        "    # all the indices of the conv layers\n",
        "    conv_layer_idx = [0, 3,10]\n",
        "\n",
        "    #filters = []\n",
        "\n",
        "    #for layer_idx in max_pool_layer:\n",
        "    #    filters.append(fetch_filters(layer_idx, model))\n",
        "    \n",
        "    \n",
        "    feature_maps = []\n",
        "    model_length = len(model.features)\n",
        "    for i in range(model_length):\n",
        "        image = model.features[i].forward(image)\n",
        "        # extract the feature map in the max pool layers\n",
        "        if i in max_pool_layer:\n",
        "            feature_map = image\n",
        "            feature_maps.append(feature_map)\n",
        "\n",
        "    # TO COMPLETE\n",
        "    return feature_maps"
      ]
    },
    {
      "cell_type": "code",
      "execution_count": null,
      "metadata": {
        "id": "2jsu-KsO3UF5"
      },
      "outputs": [],
      "source": [
        "def fetch_feature_maps(image, model):   \n",
        "    # pass the image through all the layers\n",
        "    results = [conv_layers[0](image)]\n",
        "    for i in range(1, len(conv_layers)):\n",
        "        # pass the result from the last layer to the next layer\n",
        "        if i in max_pool_layer:\n",
        "            results.append(conv_layers[i](results[-1]))\n",
        "    # make a copy of the `results`\n",
        "    feature_maps = results\n",
        "    return feature_maps"
      ]
    },
    {
      "cell_type": "code",
      "execution_count": null,
      "metadata": {
        "id": "ORkRxCVo4CKQ"
      },
      "outputs": [],
      "source": [
        "feature_maps = fetch_feature_maps(im.unsqueeze(0), model)"
      ]
    },
    {
      "cell_type": "code",
      "execution_count": null,
      "metadata": {
        "id": "-4mLCXgk3UF6"
      },
      "outputs": [],
      "source": [
        "feature_maps[0][0].shape"
      ]
    },
    {
      "cell_type": "markdown",
      "metadata": {
        "id": "Pf3SZoFu4CKQ"
      },
      "source": [
        "For your testing purposes, the following code block tests the dimensions of part of the function output. Note that the first dimension is the batch size."
      ]
    },
    {
      "cell_type": "code",
      "execution_count": null,
      "metadata": {
        "id": "Ow7jGdQ94CKR"
      },
      "outputs": [],
      "source": [
        "assert len(feature_maps) == 3\n",
        "assert list(feature_maps[0].shape) == [1, 64, 31, 31]"
      ]
    },
    {
      "cell_type": "markdown",
      "metadata": {
        "id": "yDmwrp-w4CKR"
      },
      "source": [
        "\n",
        "\n",
        "### 2.2.3 Display feature maps [4 marks]\n",
        "\n",
        "Using the code for displaying filters as reference, write code in the block below to display the outputs of the first **16 feature maps from each of the 3 max-pool layers**."
      ]
    },
    {
      "cell_type": "code",
      "execution_count": null,
      "metadata": {
        "id": "Y2O8TZG74CKS"
      },
      "outputs": [],
      "source": [
        "# TO COMPLETE\n",
        "\n",
        "# limit how many filters to show\n",
        "to_show = 16\n",
        "max_pool_layer = [2,5,12]\n",
        "# compute the dimensions of the plot\n",
        "plt_dim = int(math.sqrt(to_show))\n",
        "for j, filt in enumerate(max_pool_layer):\n",
        "    # plot the first channel of each filter in a grid\n",
        "    for i, feature in enumerate(feature_maps[j].detach().numpy()[:to_show]):\n",
        "        plt.subplot(plt_dim, plt_dim, i+1)\n",
        "        plt.imshow(feature[0], cmap=\"gray\")\n",
        "        plt.axis('off')\n",
        "    plt.show()"
      ]
    },
    {
      "cell_type": "code",
      "execution_count": null,
      "metadata": {
        "id": "m1qgzwPR3UF9"
      },
      "outputs": [],
      "source": [
        "# visualize 64 features from each layer \n",
        "# (although there are more feature maps in the upper layers)\n",
        "for num_layer in range(len(feature_maps)):\n",
        "    plt.figure(figsize=(30, 30))\n",
        "    layer_viz = feature_map[num_layer][0, :]\n",
        "    layer_viz = layer_viz.data\n",
        "    print(layer_viz.size())\n",
        "    for i, filter in enumerate(layer_viz):\n",
        "        if i == 16: # we will visualize only 8x8 blocks from each layer\n",
        "            break\n",
        "        plt.subplot(plt_dim, plt_dim, i + 1)\n",
        "        plt.imshow(filter, cmap='gray')\n",
        "        plt.axis(\"off\")"
      ]
    },
    {
      "cell_type": "code",
      "execution_count": null,
      "metadata": {
        "id": "V59iuyK23UF-"
      },
      "outputs": [],
      "source": [
        "processed = []\n",
        "for feature_map in feature_maps:\n",
        "    feature_map = feature_map.squeeze(0)\n",
        "    gray_scale = torch.sum(feature_map,0)\n",
        "    gray_scale = gray_scale / feature_map.shape[0]\n",
        "    processed.append(gray_scale.data.numpy())\n",
        "for fm in processed:\n",
        "    print(fm.shape)"
      ]
    },
    {
      "cell_type": "code",
      "execution_count": null,
      "metadata": {
        "id": "_oXl3RWs3UF-"
      },
      "outputs": [],
      "source": [
        "fig = plt.figure(figsize=(30, 50))\n",
        "for i in range(len(processed)):\n",
        "    a = fig.add_subplot(5, 4, i+1)\n",
        "    imgplot = plt.imshow(processed[i])\n",
        "    a.axis(\"off\")\n",
        "    #a.set_title(names[i].split('(')[0], fontsize=30)\n",
        "#plt.savefig(str('feature_maps.jpg'), bbox_inches='tight')"
      ]
    },
    {
      "cell_type": "code",
      "execution_count": null,
      "metadata": {
        "id": "hyNAjRuW3UF_"
      },
      "outputs": [],
      "source": [
        "# TO COMPLETE\n",
        "\n",
        "# limit how many filters to show\n",
        "to_show = 16\n",
        "max_pool_layer = [2,5,12]\n",
        "# compute the dimensions of the plot\n",
        "plt_dim = int(math.sqrt(to_show))\n",
        "for j, filt in enumerate(max_pool_layer):\n",
        "    feature_test = feature_maps[j][0]\n",
        "    # plot the first channel of each filter in a grid\n",
        "    for i, feature in enumerate(feature_test.detach().numpy()[:to_show]):\n",
        "        plt.subplot(plt_dim, plt_dim, i+1)\n",
        "        plt.imshow(feature[0], cmap=\"gray\")\n",
        "        plt.axis('off')\n",
        "    plt.show()"
      ]
    },
    {
      "cell_type": "code",
      "execution_count": null,
      "metadata": {
        "id": "VA7N6hof3UF_"
      },
      "outputs": [],
      "source": [
        "for i, layer in enumerate(conv_layer_indices):\n",
        "    #display the layer filter\n",
        "    layer_filter = fetch_filter(layer, model)\n",
        "    layer_feature_maps = feature_maps[i][0]"
      ]
    },
    {
      "cell_type": "code",
      "execution_count": null,
      "metadata": {
        "id": "icb9O1A63UGA"
      },
      "outputs": [],
      "source": [
        "for j, filt in enumerate(max_pool_layer):\n",
        "    feature_test = feature_maps[j][0]\n",
        "    print(j, \"here\",feature_test)"
      ]
    },
    {
      "cell_type": "markdown",
      "metadata": {
        "id": "BZNGf5WQ4CKG"
      },
      "source": [
        "\n",
        "\n",
        "\n",
        "## 2.3 Understanding of filters and feature maps [7 marks]\n",
        "\n",
        "Respond in detail to the questions below. (Note that all text boxes can be formatted using Markdown if desired).\n",
        "\n",
        "### 2.3.1 [3 marks]\n",
        "Describe what the three filters at indices 0, 4, and 6 from the first convolutional layer are detecting (reference the corresponding feature maps to support your discussion).\n"
      ]
    },
    {
      "cell_type": "markdown",
      "metadata": {
        "id": "FsHVfOj_3UGC"
      },
      "source": [
        "--> Double click here to respond"
      ]
    },
    {
      "cell_type": "markdown",
      "metadata": {
        "id": "wTzxi_gG3UGE"
      },
      "source": [
        "### 2.3.2 [2 marks]\n",
        "Discuss how the filters change with depth into the network."
      ]
    },
    {
      "cell_type": "markdown",
      "metadata": {
        "id": "mC2JejOj3UGF"
      },
      "source": [
        "--> Double click here to respond"
      ]
    },
    {
      "cell_type": "markdown",
      "metadata": {
        "id": "Z0l1-2xe3UGG"
      },
      "source": [
        "### 2.3.3 [2 marks]\n",
        "Discuss how the feature maps change with depth into the network."
      ]
    },
    {
      "cell_type": "markdown",
      "metadata": {
        "id": "vTpEZxgF3UGK"
      },
      "source": [
        "--> Double click here to respond"
      ]
    },
    {
      "cell_type": "markdown",
      "metadata": {
        "id": "ZXeO_agI4CKS"
      },
      "source": [
        "\n",
        "## 2.4 Gradient-weighted Class Activation Mapping (Grad-CAM) [17 marks]\n",
        "\n",
        "In this section, we will explore using Gradient-weighted Class Activation Mapping (Grad-CAM) to generate coarse localization maps highlighting the important regions in the test images guiding the model's prediction. We will continue using the pre-trained AlexNet.\n",
        "\n",
        "#### Preparation\n",
        ">It is recommended to first read the relevant paper [Grad-CAM: Visual Explanations from Deep Networks via Gradient-based Localization](https://arxiv.org/abs/1610.02391), and refer to relevant course material.\n",
        "\n",
        "#### The AlexNet class\n",
        "\n",
        ">To implement Grad-CAM, we need to edit the AlexNet ```module``` class itself, so instead of loading the AlexNet model from ```torch.hub``` as we did above, we will use the official PyTorch AlexNet class code ([taken from here](https://pytorch.org/vision/stable/_modules/torchvision/models/alexnet.html)). In addition to the class definition, there is also a function below called ```alexnet()``` which allows you to specify whether you want the pretrained version or not, and if so, loads the weights. \n",
        "\n",
        "#### The hook\n",
        "\n",
        ">[Hooks](https://pytorch.org/tutorials/beginner/former_torchies/nnft_tutorial.html#forward-and-backward-function-hooks) in PyTorch are functions which can be registered, or attached, to a ```Module``` or ```Tensor```. Hooks can be *forward* hooks or *backward* hooks; forward hooks are called with ```forward()``` and backward hooks with ```backward()```. In the model below, we register a forward hook that saves the **gradients of the activations** to the Tensor output of ```model.features```. The gradients are saved to a class variable so we can easily access them.\n",
        "\n",
        "Carefully read the code block below. You do not need to add anything to the model."
      ]
    },
    {
      "cell_type": "code",
      "execution_count": null,
      "metadata": {
        "id": "74G4wPeG4CKS"
      },
      "outputs": [],
      "source": [
        "# defining where to load the pre-trained weights from\n",
        "model_urls = {\n",
        "    'alexnet': 'https://download.pytorch.org/models/alexnet-owt-7be5be79.pth',\n",
        "}\n",
        "\n",
        "# the class definition\n",
        "class AlexNet(nn.Module):\n",
        "\n",
        "    def __init__(self, num_classes=1000):\n",
        "        super(AlexNet, self).__init__()\n",
        "        \n",
        "        # a placeholder for storing the gradients\n",
        "        self.gradients = None\n",
        "        \n",
        "        self.features = nn.Sequential(\n",
        "            nn.Conv2d(3, 64, kernel_size=11, stride=4, padding=2),\n",
        "            nn.ReLU(inplace=True),\n",
        "            nn.MaxPool2d(kernel_size=3, stride=2),\n",
        "            nn.Conv2d(64, 192, kernel_size=5, padding=2),\n",
        "            nn.ReLU(inplace=True),\n",
        "            nn.MaxPool2d(kernel_size=3, stride=2),\n",
        "            nn.Conv2d(192, 384, kernel_size=3, padding=1),\n",
        "            nn.ReLU(inplace=True),\n",
        "            nn.Conv2d(384, 256, kernel_size=3, padding=1),\n",
        "            nn.ReLU(inplace=True),\n",
        "            nn.Conv2d(256, 256, kernel_size=3, padding=1),\n",
        "            nn.ReLU(inplace=True),\n",
        "            nn.MaxPool2d(kernel_size=3, stride=2),\n",
        "        )\n",
        "        \n",
        "        self.avgpool = nn.AdaptiveAvgPool2d((6, 6))\n",
        "        self.classifier = nn.Sequential(\n",
        "            nn.Dropout(),\n",
        "            nn.Linear(256 * 6 * 6, 4096),\n",
        "            nn.ReLU(inplace=True),\n",
        "            nn.Dropout(),\n",
        "            nn.Linear(4096, 4096),\n",
        "            nn.ReLU(inplace=True),\n",
        "            nn.Linear(4096, num_classes),\n",
        "        )\n",
        "        \n",
        "    # the hook for the gradients of the activations\n",
        "    def activations_hook(self, grad):\n",
        "        # stores the gradients of the hook's tensor to our placeholder variable\n",
        "        self.gradients = grad\n",
        "\n",
        "    # a method for extracting the activations of the last conv layer only (when we're \n",
        "    # not interested in a full forward pass)\n",
        "    def get_activations(self, x):\n",
        "        return self.features(x)\n",
        "    \n",
        "    def forward(self, x):\n",
        "        x = self.features(x)\n",
        "        \n",
        "        # we register the hook here to save the gradients of the last convolutional\n",
        "        # layer outputs\n",
        "        hook = x.register_hook(self.activations_hook)\n",
        "        \n",
        "        x = self.avgpool(x)\n",
        "        x = torch.flatten(x, 1)\n",
        "        x = self.classifier(x)\n",
        "        return x\n",
        "\n",
        "\n",
        "def alexnet(pretrained=False, progress=True, **kwargs) -> AlexNet:\n",
        "    \"\"\"AlexNet model architecture from the\n",
        "    `\"One weird trick...\" <https://arxiv.org/abs/1404.5997>`_ paper.\n",
        "\n",
        "    Args:\n",
        "        pretrained (bool): If True, returns a model pre-trained on ImageNet\n",
        "        progress (bool): If True, displays a progress bar of the download to stderr\n",
        "    \"\"\"\n",
        "    model = AlexNet(**kwargs)\n",
        "    if pretrained:\n",
        "        state_dict = load_state_dict_from_url(model_urls['alexnet'],\n",
        "                                              progress=progress)\n",
        "        model.load_state_dict(state_dict)\n",
        "    return model"
      ]
    },
    {
      "cell_type": "code",
      "execution_count": null,
      "metadata": {
        "id": "8FZEiLFv4CKT"
      },
      "outputs": [],
      "source": [
        "model = alexnet(pretrained=True)"
      ]
    },
    {
      "cell_type": "code",
      "execution_count": null,
      "metadata": {
        "id": "WiBjgrST4CKT"
      },
      "outputs": [],
      "source": [
        "# pass our test image through our new model with the hook\n",
        "output = model(im.unsqueeze(0))\n",
        "\n",
        "# save the predicted class\n",
        "_, pred_cls = output.max(dim=1, keepdim=True)"
      ]
    },
    {
      "cell_type": "markdown",
      "metadata": {
        "id": "GzCYhGyI4CKT"
      },
      "source": [
        "Examine and understand the values stored in ```output``` and ```pred_cls```. What does AlexNet classify the test image as?"
      ]
    },
    {
      "cell_type": "code",
      "execution_count": null,
      "metadata": {
        "id": "TU5QjsuP4CKU"
      },
      "outputs": [],
      "source": [
        "output"
      ]
    },
    {
      "cell_type": "code",
      "execution_count": null,
      "metadata": {
        "id": "M1BE3ZSu3UGV"
      },
      "outputs": [],
      "source": [
        "pred_cls"
      ]
    },
    {
      "cell_type": "markdown",
      "metadata": {
        "id": "Mr4svXcg4CKU"
      },
      "source": [
        "### 2.4.1 Generate Grad-CAM heatmaps [8 marks]\n",
        "\n",
        "With the hooks in place, now implement the code to generate Grad-CAM heatmaps, by following the guiding comments in the code block below."
      ]
    },
    {
      "cell_type": "code",
      "execution_count": null,
      "metadata": {
        "id": "Rdlr69tw4CKU"
      },
      "outputs": [],
      "source": [
        "def generate_heatmap(output, class_id, model, image):\n",
        "    \n",
        "    # 1. compute the gradient of the score for the predicted class (logit)\n",
        "    # with respect to the feature map activations of the last convolutional layer\n",
        "    # Hint: calling .backward() on a Tensor computes its gradients\n",
        "    # TO COMPLETE\n",
        "    \n",
        "    # 2. get the gradients from the model placeholder variable\n",
        "    # TO COMPLETE\n",
        "    assert list(gradients.shape) == [1, 256, 7, 7]\n",
        "    \n",
        "    # pool the gradients across the channels\n",
        "    pooled_gradients = torch.mean(gradients, dim=[0, 2, 3])\n",
        "    assert list(pooled_gradients.shape) == [256]\n",
        "    \n",
        "    # 3. get the activations of the last convolutional layer\n",
        "    # TO COMPLETE\n",
        "    assert list(activations.shape) == [1, 256, 7, 7]\n",
        "    \n",
        "    # 4. weight (multiply) the channels (dim=1 of activations) by the corresponding\n",
        "    # gradients (pooled_gradients)\n",
        "    # TO COMPLETE\n",
        "\n",
        "    # average the channels of the activations and squeeze out the extra dimension\n",
        "    heatmap = torch.mean(activations, dim=1).squeeze()\n",
        "    assert list(heatmap.shape) == [7, 7]\n",
        "    \n",
        "    # 5. apply a ReLU to the linear combination of maps because we are only \n",
        "    # interested in the features that have a positive influence on the class of \n",
        "    # interest, i.e. pixels whose intensity should be increased in order to increase y\n",
        "    # Hint: you can use np.maximum() and torch.max() to perform ReLU if you prefer.\n",
        "    \n",
        "    # TO COMPLETE\n",
        "    # return heatmap"
      ]
    },
    {
      "cell_type": "code",
      "execution_count": null,
      "metadata": {
        "id": "4PEmi-aM4CKU"
      },
      "outputs": [],
      "source": [
        "heatmap = generate_heatmap(output, pred_cls, model, im.unsqueeze(0))"
      ]
    },
    {
      "cell_type": "markdown",
      "metadata": {
        "id": "eaiH3MIO4CKV"
      },
      "source": [
        "Check the dimensions of ```heatmap```. Do they make sense?"
      ]
    },
    {
      "cell_type": "code",
      "execution_count": null,
      "metadata": {
        "id": "qigb0A9F4CKV"
      },
      "outputs": [],
      "source": [
        ""
      ]
    },
    {
      "cell_type": "markdown",
      "metadata": {
        "id": "rvyCYUpw4CKW"
      },
      "source": [
        "### 2.4.2 Display heatmaps [4 marks]\n",
        "\n",
        "Display ```heatmap``` as a coloured heatmap super-imposed onto the original image. To get results as shown in the paper, we recommend the following steps:\n",
        "\n",
        "1. Resize the heatmap to match the size of the image.\n",
        "2. Rescale the image to a 0-255 integer range.\n",
        "3. Apply a colormap to the heatmap using ```cv2.applyColorMap(heatmap, cv2.COLORMAP_JET)```.\n",
        "4. Multiply all values of heatmap by 0.4 to reduce colour saturation.\n",
        "5. Superimpose the heatmap onto the original image (Note: please perform cv2's addition - addition of two cv2 images, not numpy addition. See [here](https://opencv24-python-tutorials.readthedocs.io/en/latest/py_tutorials/py_core/py_image_arithmetics/py_image_arithmetics.html#:~:text=addWeighted()%20etc.-,Image%20Addition,OpenCV%20addition%20and%20Numpy%20addition.) for explanation.)\n",
        "6. Normalize the image between 0-255 again.\n",
        "7. Display the resulting image."
      ]
    },
    {
      "cell_type": "code",
      "execution_count": null,
      "metadata": {
        "id": "GwTIJoh84CKX"
      },
      "outputs": [],
      "source": [
        "# TO COMPLETE"
      ]
    },
    {
      "cell_type": "markdown",
      "metadata": {
        "id": "Nf9aa-2V4CKX"
      },
      "source": [
        "Show the heatmap for class ```'seashore, coast, seacoast, sea-coast'``` (```class_id = 978```), super-imposed onto the original image."
      ]
    },
    {
      "cell_type": "code",
      "execution_count": null,
      "metadata": {
        "id": "bRPD72hD3UGc"
      },
      "outputs": [],
      "source": [
        "# TO COMPLETE"
      ]
    },
    {
      "cell_type": "code",
      "execution_count": null,
      "metadata": {
        "id": "CnJXMaFK3UGd"
      },
      "outputs": [],
      "source": [
        ""
      ]
    },
    {
      "cell_type": "markdown",
      "metadata": {
        "id": "0kxt3itl3UGn"
      },
      "source": [
        "### 2.4.3 Failure analysis using Grad-CAM [5 marks]\n",
        "\n",
        "Find an image (online, or from ImageNet or another dataset) which AlexNet classifies *incorrectly*. Display the image below, and show the model's predicted class. Then, generate the Grad-CAM heatmap and display it super-imposed onto the image."
      ]
    },
    {
      "cell_type": "code",
      "execution_count": null,
      "metadata": {
        "id": "pBuLl5H33UG6"
      },
      "outputs": [],
      "source": [
        "# TO COMPLETE"
      ]
    },
    {
      "cell_type": "code",
      "execution_count": null,
      "metadata": {
        "id": "sZIEGjky3UG7"
      },
      "outputs": [],
      "source": [
        ""
      ]
    },
    {
      "cell_type": "code",
      "execution_count": null,
      "metadata": {
        "id": "sdF51UaL3UG8"
      },
      "outputs": [],
      "source": [
        ""
      ]
    },
    {
      "cell_type": "markdown",
      "metadata": {
        "id": "8va2Ft8t3UG8"
      },
      "source": [
        "Briefly describe what explanation the Grad-CAM heatmap provides about why the model has failed to correctly classify your test image."
      ]
    },
    {
      "cell_type": "markdown",
      "metadata": {
        "id": "LclMkNe73UG9"
      },
      "source": [
        "--> Double click to respond here"
      ]
    },
    {
      "cell_type": "code",
      "execution_count": null,
      "metadata": {
        "id": "W_w5caTO3UG-"
      },
      "outputs": [],
      "source": [
        ""
      ]
    },
    {
      "cell_type": "markdown",
      "metadata": {
        "id": "pUzJViAb3UG-"
      },
      "source": [
        "### 3 Overall quality [2 marks]\n",
        "\n",
        "Marks awarded for overall degree of code readibility and omission of unnecessary messy outupts (for example, please avoid printed losses for every batch of a long training process, large numpy arrays, etc.) throughout the work."
      ]
    },
    {
      "cell_type": "markdown",
      "metadata": {
        "id": "7THDaXPw3UG_"
      },
      "source": [
        "**Please refer to the submission section at the top of this notebook to prepare your submission.**\n"
      ]
    },
    {
      "cell_type": "code",
      "execution_count": null,
      "metadata": {
        "id": "ChTGDgsJ3UHA"
      },
      "outputs": [],
      "source": [
        ""
      ]
    }
  ],
  "metadata": {
    "colab": {
      "name": "COMP5623M_CW1_colab.ipynb",
      "provenance": [],
      "collapsed_sections": [
        "ifh4o5r73UDZ",
        "NlZlnGig3UD8",
        "gyPnWqK73UEA",
        "r-HIUgQ-HK8Y",
        "-gYdjXng4CJ5",
        "_vOrqr2J4CJ7",
        "ECx7Ktsg4CKG",
        "bVfEgbC4I_dE",
        "5VQKNo384CKP",
        "yDmwrp-w4CKR",
        "wTzxi_gG3UGE",
        "Z0l1-2xe3UGG",
        "Mr4svXcg4CKU",
        "rvyCYUpw4CKW",
        "0kxt3itl3UGn",
        "pUzJViAb3UG-"
      ],
      "include_colab_link": true
    },
    "kernelspec": {
      "display_name": "Python 3",
      "language": "python",
      "name": "python3"
    },
    "language_info": {
      "codemirror_mode": {
        "name": "ipython",
        "version": 3
      },
      "file_extension": ".py",
      "mimetype": "text/x-python",
      "name": "python",
      "nbconvert_exporter": "python",
      "pygments_lexer": "ipython3",
      "version": "3.7.1"
    },
    "accelerator": "GPU"
  },
  "nbformat": 4,
  "nbformat_minor": 0
}